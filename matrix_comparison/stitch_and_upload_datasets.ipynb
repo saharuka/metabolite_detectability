{
 "cells": [
  {
   "cell_type": "markdown",
   "id": "virtual-harvey",
   "metadata": {},
   "source": [
    "# Concatenate low mass range and high mass range datasets"
   ]
  },
  {
   "cell_type": "code",
   "execution_count": null,
   "id": "arabic-block",
   "metadata": {},
   "outputs": [],
   "source": [
    "from pathlib import Path\n",
    "from concatenate_imzml_files import concat_imzml_files\n",
    "from definitions import ROOT_DIR\n",
    "import numpy as np"
   ]
  },
  {
   "cell_type": "markdown",
   "id": "pretty-conversation",
   "metadata": {},
   "source": [
    "- Folder where imzmls for all matrices are located"
   ]
  },
  {
   "cell_type": "code",
   "execution_count": null,
   "id": "fleet-madison",
   "metadata": {},
   "outputs": [],
   "source": [
    "p = Path(ROOT_DIR) / \"1_stitch_and_upload_datasets\""
   ]
  },
  {
   "cell_type": "markdown",
   "id": "portuguese-steering",
   "metadata": {},
   "source": [
    "- Iterate over files to find pairs that will be stitched (m/z 70-350 and m/z 300-1510, separately per matrix and per polarity)"
   ]
  },
  {
   "cell_type": "code",
   "execution_count": null,
   "id": "innocent-duncan",
   "metadata": {},
   "outputs": [],
   "source": [
    "all_args = []\n",
    "\n",
    "for mpath in p.iterdir():\n",
    "    if mpath.is_dir():\n",
    "        \n",
    "        fname_pos = mpath / f\"{mpath.name}_pos_mz70-1510.imzML\"\n",
    "        lo_pos = list(mpath.rglob('*pos*mz70*.imzML'))[0]\n",
    "        hi_pos = list(mpath.rglob('*pos*mz300*.imzML'))[0]\n",
    "        \n",
    "        fname_neg = mpath / f\"{mpath.name}_neg_mz70-1510.imzML\" \n",
    "        lo_neg = list(mpath.rglob('*neg*mz70*.imzML'))[0]\n",
    "        hi_neg = list(mpath.rglob('*neg*mz300*.imzML'))[0]\n",
    "        \n",
    "        all_args.append([[lo_pos, hi_pos], fname_pos])\n",
    "        all_args.append([[lo_neg, hi_neg], fname_neg])"
   ]
  },
  {
   "cell_type": "markdown",
   "id": "quantitative-marble",
   "metadata": {},
   "source": [
    "- Concatenate each pair of files"
   ]
  },
  {
   "cell_type": "code",
   "execution_count": null,
   "id": "worst-shuttle",
   "metadata": {},
   "outputs": [],
   "source": [
    "for input_paths, output_path in all_args:\n",
    "    offsets = [(0,0), (0,0)] # (x,y) tuple for each imzML file if you want to offset either file's coordinates\n",
    "    mz_ranges = [('auto','auto'), ('auto','auto')] # (min_mz, max_mz) tuples. Replace 'auto' with a non-string number if you want to explicitly specify the m/z range for each file\n",
    "    concat_imzml_files(input_paths, offsets, mz_ranges, output_path)"
   ]
  },
  {
   "cell_type": "markdown",
   "id": "powered-tractor",
   "metadata": {},
   "source": [
    "# Upload stitched datasets to METASPACE"
   ]
  },
  {
   "cell_type": "code",
   "execution_count": null,
   "id": "sustained-underground",
   "metadata": {},
   "outputs": [],
   "source": [
    "from pathlib import Path\n",
    "import json, getpass\n",
    "from metaspace import SMInstance\n",
    "import pandas as pd\n",
    "from definitions import ROOT_DIR"
   ]
  },
  {
   "cell_type": "code",
   "execution_count": null,
   "id": "instrumental-canyon",
   "metadata": {},
   "outputs": [],
   "source": [
    "sm = SMInstance(host='https://metaspace2020.eu')\n",
    "\n",
    "if not sm.logged_in():\n",
    "    api_key = getpass.getpass(prompt='API key: ', stream=None)\n",
    "    sm.login(api_key=api_key)"
   ]
  },
  {
   "cell_type": "markdown",
   "id": "activated-commitment",
   "metadata": {},
   "source": [
    "Provide inputs, for each pair:\n",
    "\n",
    "matrix full name, additional neutral gain just for this matrix (matrix molecule), solvent"
   ]
  },
  {
   "cell_type": "code",
   "execution_count": null,
   "id": "mobile-manufacturer",
   "metadata": {},
   "outputs": [],
   "source": [
    "matrix_fullname = dict({\n",
    "    'DHB':['2,5-dihydroxybenzoic acid', ['+C7H6O4'], 'ACN (70% v/v, aq.)'],\n",
    "    'DAN':['1,5-diaminonaphthalene', ['+C10H10N2', '+C10H8N2'], 'ACN (70% v/v, aq.)'],\n",
    "    'norharmane':['norharmane', ['+C11H8N2'], 'CHCl3:MeOH (1:1 v/v)'],\n",
    "    '9AA':['9-aminoacridine', ['+C13H10N2'], 'MeOH (70% v/v, aq.)'],\n",
    "    'CHCA':['alpha-cyano-4-hydroxycinnamic acid', ['+C10H7NO3'], 'ACN (50% v/v, aq.)'],\n",
    "    'ClCCA':['4-chloro-alpha-cyanocinnamic acid', ['+C10H6ClNO2'], 'ACN (50% v/v, aq.)'],\n",
    "    'NEDC':['N-(1-naphthyl)ethylenediamine dihydrochloride', ['+C12H14N2', '+HCl'], 'ACN (70% v/v, aq.)'],\n",
    "    'PNDIT2':['PNDI-T2', [], 'Toluene'],\n",
    "    'MAPS':['Maleic anhydride proton sponge', ['+C18H18N2O3'], 'Toluene'],\n",
    "    'DHAP': ['2,5-dihydroxyacetophenone', ['+C8H8O3'], 'ACN (70% v/v, aq.)'],\n",
    "    'pNA' : ['4-Nitroaniline', ['+C6H6N2O2'], 'MeOH (85% v/v, aq.)'],\n",
    "    'CMBT': ['5-Chloro-2-mercaptobenzothiazole', ['+C7H4ClNS2'], 'ACN (90% v/v, aq.)'],\n",
    "})"
   ]
  },
  {
   "cell_type": "markdown",
   "id": "outer-tuning",
   "metadata": {},
   "source": [
    "- Define neutral losses in the function below\n",
    "\n",
    "Might be of interest for interpreting neutral losses http://www.colby.edu/chemistry/PChem/StableLoss.html"
   ]
  },
  {
   "cell_type": "code",
   "execution_count": null,
   "id": "electronic-raising",
   "metadata": {},
   "outputs": [],
   "source": [
    "def submit_dataset(dataset_name, matrix, solvent, polarity, adducts, extra_neutral_losses = [], \n",
    "                   databases = [('Spotting_project_compounds-v9', 'feb2021')], is_public = False):\n",
    "\n",
    "    metadata = {\n",
    "        'Data_Type': 'Imaging MS',  # shouldn't be changed\n",
    "        'Sample_Information': {\n",
    "            'Organism': 'None',\n",
    "            'Organism_Part': 'None',\n",
    "            'Condition': 'None',\n",
    "            'Sample_Growth_Conditions': 'None'\n",
    "        },\n",
    "        'Sample_Preparation': {\n",
    "            'Sample_Stabilisation': 'None',\n",
    "            'Tissue_Modification': 'None',\n",
    "            'MALDI_Matrix': matrix,\n",
    "            'MALDI_Matrix_Application': 'TM-Sprayer',\n",
    "            'Solvent': solvent,\n",
    "        },\n",
    "        'MS_Analysis': {\n",
    "            'Polarity': polarity,\n",
    "            'Ionisation_Source': 'AP-SMALDI5',\n",
    "            'Analyzer': 'Orbitrap',\n",
    "            'Detector_Resolving_Power': {\n",
    "                'mz': 200,\n",
    "                'Resolving_Power': 140000\n",
    "            },\n",
    "            'Pixel_Size': {\n",
    "                'Xaxis': 150,\n",
    "                'Yaxis': 150\n",
    "            }\n",
    "        }\n",
    "    }\n",
    "    \n",
    "    ds_id  = sm.submit_dataset(\n",
    "    imzml_fn, ibd_fn, dataset_name,\n",
    "    json.dumps(metadata), is_public, databases,\n",
    "    project_ids=['59c259d8-7036-11eb-96db-9bed61e6254b'],\n",
    "    adducts=adducts,\n",
    "    neutral_losses = ['-H2O', '-H2', '+H2', # redox\n",
    "                      '-CO2', '-CH2O3', '-CH2O2', # CO2+H2O, formic acid\n",
    "                      '-HPO3', '-H3PO4', # phosphate\n",
    "                      '-NH3',\n",
    "                     ] + extra_neutral_losses\n",
    "        \n",
    "    )\n",
    "    \n",
    "    return ds_id"
   ]
  },
  {
   "cell_type": "markdown",
   "id": "requested-consolidation",
   "metadata": {},
   "source": [
    "- Upload datasets"
   ]
  },
  {
   "cell_type": "code",
   "execution_count": null,
   "id": "maritime-experience",
   "metadata": {},
   "outputs": [],
   "source": [
    "p = Path(ROOT_DIR) / \"1_stitch_and_upload_datasets\"\n",
    "\n",
    "matrices = []\n",
    "modes = []\n",
    "ds_names = []\n",
    "ids = []\n",
    "losses = []\n",
    "\n",
    "for mpath in p.iterdir():\n",
    "    if mpath.is_dir():\n",
    "        \n",
    "        for pol in ['pos', 'neg']:\n",
    "            imzml_fn = list(mpath.rglob(f\"*{pol}*mz70-1510*.imzML\"))[0]\n",
    "            ibd_fn = list(mpath.rglob(f\"*{pol}*mz70-1510*.ibd\"))[0]\n",
    "            dataset_name = imzml_fn.stem\n",
    "            matrix = matrix_fullname[mpath.name][0]\n",
    "            extra_neutral_losses = matrix_fullname[mpath.name][1]\n",
    "            solvent = matrix_fullname[mpath.name][2]\n",
    "            \n",
    "            if pol == 'pos':\n",
    "                polarity = 'Positive'\n",
    "                adducts = ['[M]+', '+H', '+Na', '+K']\n",
    "            else: \n",
    "                polarity = 'Negative'\n",
    "                adducts = ['[M]-', '-H', '+Cl']\n",
    "            \n",
    "            ds_id = submit_dataset(dataset_name, matrix, solvent, polarity, adducts, extra_neutral_losses)\n",
    "\n",
    "            matrices.append(matrix)\n",
    "            modes.append(polarity)\n",
    "            ds_names.append(dataset_name)\n",
    "            ids.append(ds_id)\n",
    "            losses.append(extra_neutral_losses)\n",
    "            \n",
    "df = pd.DataFrame({\n",
    "    'matrix':matrices,\n",
    "    'polarity':modes,\n",
    "    'ds_name':ds_names,\n",
    "    'ds_id':ids,\n",
    "    'extra_neutral_losses':losses\n",
    "})"
   ]
  },
  {
   "cell_type": "markdown",
   "id": "constitutional-consequence",
   "metadata": {},
   "source": [
    "- Save information about uploaded dataset including dataset id on staging"
   ]
  },
  {
   "cell_type": "code",
   "execution_count": null,
   "id": "floppy-suspension",
   "metadata": {},
   "outputs": [],
   "source": [
    "# df.to_csv(p / 'uploaded_datasets.csv')"
   ]
  }
 ],
 "metadata": {
  "kernelspec": {
   "display_name": "Python [conda env:.conda-zimmerman] *",
   "language": "python",
   "name": "conda-env-.conda-zimmerman-py"
  },
  "language_info": {
   "codemirror_mode": {
    "name": "ipython",
    "version": 3
   },
   "file_extension": ".py",
   "mimetype": "text/x-python",
   "name": "python",
   "nbconvert_exporter": "python",
   "pygments_lexer": "ipython3",
   "version": "3.8.5"
  }
 },
 "nbformat": 4,
 "nbformat_minor": 5
}
