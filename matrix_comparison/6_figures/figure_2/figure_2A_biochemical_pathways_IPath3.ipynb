{
 "cells": [
  {
   "cell_type": "markdown",
   "id": "acceptable-census",
   "metadata": {},
   "source": [
    "## This notebook prepares input for IPath3 visualisation"
   ]
  },
  {
   "cell_type": "code",
   "execution_count": 2,
   "id": "level-finish",
   "metadata": {},
   "outputs": [],
   "source": [
    "from pathlib import Path\n",
    "import pandas as pd\n",
    "import numpy as np"
   ]
  },
  {
   "cell_type": "markdown",
   "id": "tracked-stopping",
   "metadata": {},
   "source": [
    "- Inputs"
   ]
  },
  {
   "cell_type": "code",
   "execution_count": 2,
   "id": "saved-softball",
   "metadata": {},
   "outputs": [],
   "source": [
    "p_root_dir = Path.cwd().parents[1]\n",
    "p_analysis = p_root_dir / r\"6_figures/figure_2/IPath3\"\n",
    "\n",
    "# Compunds used in the study\n",
    "p_compounds = p_root_dir / r\"5_data/metadata/compounds_ids.csv\"\n",
    "\n",
    "# HMDB ID to KEGG ID mapping\n",
    "p_kegg = p_analysis / \"hmdb_kegg_2020-09-09.csv\"\n",
    "\n",
    "# Chemical classification\n",
    "p_chem_class = p_root_dir / r\"5_data/custom_classification/custom_classification.csv\""
   ]
  },
  {
   "cell_type": "markdown",
   "id": "bigger-tower",
   "metadata": {},
   "source": [
    "- Load data"
   ]
  },
  {
   "cell_type": "code",
   "execution_count": 3,
   "id": "changing-anniversary",
   "metadata": {},
   "outputs": [],
   "source": [
    "compounds = pd.read_csv(p_compounds)\n",
    "# Remove entries for thermometer ions and fiducials\n",
    "compounds = compounds[compounds.hmdb_primary != 'custom'][['name_short', 'hmdb_primary', 'internal_id']]\n",
    "\n",
    "kegg = pd.read_csv(p_kegg)"
   ]
  },
  {
   "cell_type": "markdown",
   "id": "sensitive-settle",
   "metadata": {},
   "source": [
    "- Map KEGG IDs to the compounds\n",
    "- Note which compounds have no mapping"
   ]
  },
  {
   "cell_type": "code",
   "execution_count": 4,
   "id": "civic-bibliography",
   "metadata": {},
   "outputs": [],
   "source": [
    "df = pd.merge(compounds, kegg, how='left', on='hmdb_primary')"
   ]
  },
  {
   "cell_type": "code",
   "execution_count": 5,
   "id": "entitled-benefit",
   "metadata": {},
   "outputs": [
    {
     "name": "stderr",
     "output_type": "stream",
     "text": [
      "<ipython-input-5-a30736fc61d5>:2: FutureWarning: The default dtype for empty Series will be 'object' instead of 'float64' in a future version. Specify a dtype explicitly to silence this warning.\n",
      "  pd.Series(pd.Series(),index=unmapped_compounds).to_dict()\n"
     ]
    },
    {
     "data": {
      "text/plain": [
       "{'N-Acetylgalactosamine 6-phosphate': nan,\n",
       " 'Cholesteryl acetate': nan,\n",
       " 'TG 15:0-18:1-15:0': nan,\n",
       " 'MG 18:1': nan,\n",
       " 'Cardiolipin 18:1': nan,\n",
       " 'DG 18:0-22:6': nan,\n",
       " 'PS (POPS) 16:0-18:1': nan,\n",
       " 'PG 16:0-18:1': nan,\n",
       " 'Lyso PI 17:1': nan,\n",
       " 'PI 16:0-18:1': nan,\n",
       " 'PE 18:0-20:4': nan,\n",
       " 'Lyso PE 18:0': nan,\n",
       " 'Lyso PA 18:1': nan,\n",
       " 'Lyso PG 16:0': nan,\n",
       " 'Lyso PS 17:1': nan,\n",
       " 'SM d18:1-16:0': nan,\n",
       " 'PC (O) C16-18:1': nan,\n",
       " 'Cholesteryl ester 17:0': nan}"
      ]
     },
     "execution_count": 5,
     "metadata": {},
     "output_type": "execute_result"
    }
   ],
   "source": [
    "unmapped_compounds = df.loc[df.kegg_id != df.kegg_id, 'name_short']\n",
    "pd.Series(pd.Series(),index=unmapped_compounds).to_dict()"
   ]
  },
  {
   "cell_type": "markdown",
   "id": "valuable-deployment",
   "metadata": {},
   "source": [
    "- Complete the mapping manually"
   ]
  },
  {
   "cell_type": "code",
   "execution_count": 6,
   "id": "annoying-quarter",
   "metadata": {},
   "outputs": [],
   "source": [
    "mapping = {'N-Acetylgalactosamine 6-phosphate': 'C06376',\n",
    " 'Cholesteryl acetate': 'C02530',\n",
    " 'TG 15:0-18:1-15:0': 'C00422',\n",
    " 'MG 18:1': 'C01885',\n",
    " 'Cardiolipin 18:1': 'C05980',\n",
    " 'DG 18:0-22:6': 'C00165',\n",
    " 'PS (POPS) 16:0-18:1': 'C02737',\n",
    " 'PG 16:0-18:1': 'C00344',\n",
    " 'Lyso PI 17:1': 'C03819',\n",
    " 'PI 16:0-18:1': 'C01194',\n",
    " 'PE 18:0-20:4': 'C00350',\n",
    " 'Lyso PE 18:0': 'C04438',\n",
    " 'Lyso PA 18:1': 'C00681',\n",
    " 'Lyso PG 16:0': 'C18126',\n",
    " 'Lyso PS 17:1': 'C18125',\n",
    " 'SM d18:1-16:0': 'C00550',\n",
    " 'PC (O) C16-18:1': 'C05212',\n",
    " 'Cholesteryl ester 17:0': 'C02530'}"
   ]
  },
  {
   "cell_type": "code",
   "execution_count": 7,
   "id": "bored-venezuela",
   "metadata": {},
   "outputs": [],
   "source": [
    "for x in mapping.keys():\n",
    "    df.loc[df.name_short == x, 'kegg_id'] = mapping[x]"
   ]
  },
  {
   "cell_type": "markdown",
   "id": "emotional-oasis",
   "metadata": {},
   "source": [
    "- Add chemical class information and assign colour to each class"
   ]
  },
  {
   "cell_type": "code",
   "execution_count": 8,
   "id": "endangered-belief",
   "metadata": {},
   "outputs": [],
   "source": [
    "chem_class = pd.read_csv(p_chem_class)[['internal_id', 'coarse_class']]\n",
    "df = df.merge(chem_class, on='internal_id', how='left')"
   ]
  },
  {
   "cell_type": "code",
   "execution_count": 9,
   "id": "military-liability",
   "metadata": {},
   "outputs": [],
   "source": [
    "palette = dict({ #Paul Tol palette for colour blindness\n",
    "     \"Amines\":'#DDCC77', #yellow\n",
    "     \"Amino acids, peptides, and analogues\":'#332288', #blue\n",
    "     \"Carbohydrates\":'#117733', #green\n",
    "     \"Carboxylic acids\":'#44AA99', #emerald\n",
    "     \"Lipids and lipid-like molecules\":'#AA4499', #magenta\n",
    "     \"Nucleosides, nucleotides, and analogues\":'#CC6677', #light red\n",
    "     \"Vitamins and cofactors\":'#88CCEE', #lightblue\n",
    "    })"
   ]
  },
  {
   "cell_type": "markdown",
   "id": "amazing-sheep",
   "metadata": {},
   "source": [
    "- Print and copy KEGG IDs to IPath3 website [https://pathways.embl.de/ipath3.cgi?map=metabolic](https://pathways.embl.de/ipath3.cgi?map=metabolic)"
   ]
  },
  {
   "cell_type": "code",
   "execution_count": 10,
   "id": "chubby-beatles",
   "metadata": {},
   "outputs": [
    {
     "name": "stdout",
     "output_type": "stream",
     "text": [
      "C00221 #117733 W16\n",
      "C00092 #117733 W16\n",
      "C05378 #117733 W16\n",
      "C00111 #117733 W16\n",
      "C00597 #44AA99 W16\n",
      "C00597 #44AA99 W16\n",
      "C00074 #44AA99 W16\n",
      "C00022 #44AA99 W16\n",
      "C00024 #88CCEE W16\n",
      "C00024 #CC6677 W16\n",
      "C00186 #44AA99 W16\n",
      "C00345 #117733 W16\n",
      "C00345 #44AA99 W16\n",
      "C00199 #117733 W16\n",
      "C03736 #117733 W16\n",
      "C00184 #117733 W16\n",
      "C00257 #117733 W16\n",
      "C00257 #44AA99 W16\n",
      "C00508 #117733 W16\n",
      "C00158 #44AA99 W16\n",
      "C00158 #44AA99 W16\n",
      "C00417 #44AA99 W16\n",
      "C00026 #44AA99 W16\n",
      "C00042 #44AA99 W16\n",
      "C00122 #44AA99 W16\n",
      "C00149 #44AA99 W16\n",
      "C00036 #44AA99 W16\n",
      "C00029 #CC6677 W16\n",
      "C00167 #CC6677 W16\n",
      "C00352 #117733 W16\n",
      "C00352 #117733 W16\n",
      "C06376 #117733 W16\n",
      "C06376 #117733 W16\n",
      "C00043 #CC6677 W16\n",
      "C00140 #117733 W16\n",
      "C00137 #117733 W16\n",
      "C01041 #44AA99 W16\n",
      "C01177 #117733 W16\n",
      "C00249 #AA4499 W16\n",
      "C00418 #44AA99 W16\n",
      "C00187 #AA4499 W16\n",
      "C04025 #44AA99 W16\n",
      "C03761 #44AA99 W16\n",
      "C00154 #88CCEE W16\n",
      "C00154 #AA4499 W16\n",
      "C00154 #CC6677 W16\n",
      "C00318 #332288 W16\n",
      "C00318 #DDCC77 W16\n",
      "C00695 #AA4499 W16\n",
      "C00037 #332288 W16\n",
      "C05122 #AA4499 W16\n",
      "C00951 #AA4499 W16\n",
      "C00152 #332288 W16\n",
      "C00049 #332288 W16\n",
      "C01042 #332288 W16\n",
      "C00064 #332288 W16\n",
      "C00025 #332288 W16\n",
      "C12270 #332288 W16\n",
      "C00334 #332288 W16\n",
      "C00079 #332288 W16\n",
      "C00082 #332288 W16\n",
      "C00355 #332288 W16\n",
      "C03758 #332288 W16\n",
      "C00788 #332288 W16\n",
      "C00164 #44AA99 W16\n",
      "C00135 #332288 W16\n",
      "C00386 #332288 W16\n",
      "C00785 #332288 W16\n",
      "C00388 #332288 W16\n",
      "C00388 #DDCC77 W16\n",
      "C00062 #332288 W16\n",
      "C00327 #332288 W16\n",
      "C03406 #332288 W16\n",
      "C00077 #332288 W16\n",
      "C00169 #DDCC77 W16\n",
      "C00148 #332288 W16\n",
      "C01157 #332288 W16\n",
      "C00134 #DDCC77 W16\n",
      "C00315 #DDCC77 W16\n",
      "C00750 #DDCC77 W16\n",
      "C00300 #332288 W16\n",
      "C00791 #332288 W16\n",
      "C00179 #332288 W16\n",
      "C00179 #DDCC77 W16\n",
      "C00504 #88CCEE W16\n",
      "C00101 #88CCEE W16\n",
      "C00073 #332288 W16\n",
      "C00491 #332288 W16\n",
      "C00127 #332288 W16\n",
      "C00051 #332288 W16\n",
      "C00245 #332288 W16\n",
      "C00019 #CC6677 W16\n",
      "C00019 #332288 W16\n",
      "C00021 #CC6677 W16\n",
      "C00021 #332288 W16\n",
      "C00155 #332288 W16\n",
      "C00097 #332288 W16\n",
      "C03793 #332288 W16\n",
      "C03793 #DDCC77 W16\n",
      "C00183 #332288 W16\n",
      "C00864 #332288 W16\n",
      "C00864 #88CCEE W16\n",
      "C00831 #332288 W16\n",
      "C00010 #88CCEE W16\n",
      "C00010 #CC6677 W16\n",
      "C00065 #332288 W16\n",
      "C00078 #332288 W16\n",
      "C00328 #332288 W16\n",
      "C01717 #44AA99 W16\n",
      "C00632 #332288 W16\n",
      "C03722 #44AA99 W16\n",
      "C00003 #CC6677 W16\n",
      "C00004 #CC6677 W16\n",
      "C00153 #88CCEE W16\n",
      "C00253 #44AA99 W16\n",
      "C00253 #88CCEE W16\n",
      "C00780 #332288 W16\n",
      "C05635 #332288 W16\n",
      "C01598 #332288 W16\n",
      "C03150 #CC6677 W16\n",
      "C00455 #CC6677 W16\n",
      "C00262 #CC6677 W16\n",
      "C00020 #CC6677 W16\n",
      "C00147 #CC6677 W16\n",
      "C00385 #CC6677 W16\n",
      "C00242 #CC6677 W16\n",
      "C00008 #CC6677 W16\n",
      "C00002 #CC6677 W16\n",
      "C00575 #CC6677 W16\n",
      "C00438 #332288 W16\n",
      "C00337 #CC6677 W16\n",
      "C00295 #CC6677 W16\n",
      "C00299 #CC6677 W16\n",
      "C00106 #CC6677 W16\n",
      "C00178 #CC6677 W16\n",
      "C00055 #CC6677 W16\n",
      "C00475 #CC6677 W16\n",
      "C00380 #CC6677 W16\n",
      "C00015 #CC6677 W16\n",
      "C00114 #DDCC77 W16\n",
      "C01996 #DDCC77 W16\n",
      "C00378 #88CCEE W16\n",
      "C00255 #88CCEE W16\n",
      "C00314 #88CCEE W16\n",
      "C00120 #88CCEE W16\n",
      "C05443 #AA4499 W16\n",
      "C02477 #AA4499 W16\n",
      "C02477 #88CCEE W16\n",
      "C05850 #AA4499 W16\n",
      "C05850 #88CCEE W16\n",
      "C00061 #88CCEE W16\n",
      "C00061 #CC6677 W16\n",
      "C00016 #88CCEE W16\n",
      "C00016 #CC6677 W16\n",
      "C02305 #332288 W16\n",
      "C02305 #332288 W16\n",
      "C00670 #DDCC77 W16\n",
      "C03017 #DDCC77 W16\n",
      "C02571 #DDCC77 W16\n",
      "C01005 #332288 W16\n",
      "C00366 #CC6677 W16\n",
      "C02530 #AA4499 W16\n",
      "C00463 #332288 W16\n",
      "C00329 #117733 W16\n",
      "C00246 #44AA99 W16\n",
      "C00093 #117733 W16\n",
      "C00777 #AA4499 W16\n",
      "C00777 #88CCEE W16\n",
      "C00219 #AA4499 W16\n",
      "C00157 #AA4499 W16\n",
      "C00422 #AA4499 W16\n",
      "C01885 #AA4499 W16\n",
      "C03033 #AA4499 W16\n",
      "C05980 #AA4499 W16\n",
      "C00165 #AA4499 W16\n",
      "C02737 #AA4499 W16\n",
      "C00344 #AA4499 W16\n",
      "C00416 #AA4499 W16\n",
      "C03819 #AA4499 W16\n",
      "C01194 #AA4499 W16\n",
      "C00626 #AA4499 W16\n",
      "C00350 #AA4499 W16\n",
      "C04230 #AA4499 W16\n",
      "C04438 #AA4499 W16\n",
      "C00681 #AA4499 W16\n",
      "C18126 #AA4499 W16\n",
      "C18125 #AA4499 W16\n",
      "C04730 #AA4499 W16\n",
      "C00195 #AA4499 W16\n",
      "C01190 #AA4499 W16\n",
      "C00550 #AA4499 W16\n",
      "C06125 #AA4499 W16\n",
      "C02990 #AA4499 W16\n",
      "C02990 #DDCC77 W16\n",
      "C05212 #AA4499 W16\n",
      "C04741 #AA4499 W16\n",
      "C02530 #AA4499 W16\n"
     ]
    }
   ],
   "source": [
    "ids = [print(f\"{x.kegg_id} {palette[x.coarse_class]} W16\") for x in df.itertuples()]\n",
    "# ids = [print(f\"{x.kegg_id} #000000 W16\") for x in df.itertuples()]"
   ]
  },
  {
   "cell_type": "markdown",
   "id": "figured-smell",
   "metadata": {},
   "source": [
    "- Save results"
   ]
  },
  {
   "cell_type": "code",
   "execution_count": 11,
   "id": "republican-strategy",
   "metadata": {},
   "outputs": [],
   "source": [
    "df.to_csv(p_analysis / 'compound_kegg_mapping_2.csv')"
   ]
  }
 ],
 "metadata": {
  "kernelspec": {
   "display_name": "Python [conda env:.conda-zimmerman] *",
   "language": "python",
   "name": "conda-env-.conda-zimmerman-py"
  },
  "language_info": {
   "codemirror_mode": {
    "name": "ipython",
    "version": 3
   },
   "file_extension": ".py",
   "mimetype": "text/x-python",
   "name": "python",
   "nbconvert_exporter": "python",
   "pygments_lexer": "ipython3",
   "version": "3.8.5"
  }
 },
 "nbformat": 4,
 "nbformat_minor": 5
}
