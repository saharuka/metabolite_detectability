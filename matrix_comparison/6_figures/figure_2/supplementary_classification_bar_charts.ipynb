{
 "cells": [
  {
   "cell_type": "markdown",
   "id": "acceptable-census",
   "metadata": {},
   "source": [
    "## This notebook breaks down classification systems by number of molecules in each group"
   ]
  },
  {
   "cell_type": "code",
   "execution_count": 1,
   "id": "level-finish",
   "metadata": {},
   "outputs": [],
   "source": [
    "from pathlib import Path\n",
    "import pandas as pd\n",
    "import numpy as np\n",
    "import seaborn as sns\n",
    "from plotnine import *\n",
    "import matplotlib.pyplot as plt\n",
    "from matplotlib import rc\n",
    "\n",
    "rc('font',**{'family':'sans-serif',\n",
    "             'sans-serif':['Arial'],\n",
    "             'size':16})\n",
    "rc('pdf', fonttype=42)\n",
    "rc('ps', fonttype=42)"
   ]
  },
  {
   "cell_type": "markdown",
   "id": "tracked-stopping",
   "metadata": {},
   "source": [
    "- Inputs"
   ]
  },
  {
   "cell_type": "code",
   "execution_count": 2,
   "id": "saved-softball",
   "metadata": {},
   "outputs": [],
   "source": [
    "p_root_dir = Path.cwd().parents[1]\n",
    "p_analysis = p_root_dir / \"6_figures\\figure_2\\classification_bar_charts\"\n",
    "\n",
    "# Compound metadata\n",
    "p_compounds = p_root_dir / \"5_data/compounds_ids.csv\"\n",
    "p_chem_class = p_root_dir / \"5_data/custom_classification_v2.csv\"\n",
    "p_pathways = p_root_dir / \"5_data/pathways_v2.csv\""
   ]
  },
  {
   "cell_type": "markdown",
   "id": "bigger-tower",
   "metadata": {},
   "source": [
    "- Load and merge class data"
   ]
  },
  {
   "cell_type": "code",
   "execution_count": 3,
   "id": "civic-bibliography",
   "metadata": {},
   "outputs": [],
   "source": [
    "compounds = pd.read_csv(p_compounds, index_col='internal_id')\n",
    "compounds = compounds[compounds.hmdb_primary != 'custom'][['name_short']]\n",
    "\n",
    "chem_class = pd.read_csv(p_chem_class, index_col='internal_id')\n",
    "pathways = pd.read_csv(p_pathways, index_col='internal_id')\n",
    "\n",
    "class_data = pd.merge(compounds, chem_class.drop('name_short', axis=1), how='left', left_index=True, right_index=True)\n",
    "pathway_data = pd.merge(compounds, pathways.drop('name_short', axis=1), how='left', left_index=True, right_index=True)"
   ]
  },
  {
   "cell_type": "markdown",
   "id": "olympic-theology",
   "metadata": {},
   "source": [
    "- Sort rows so that they organise correctly in the plot:\n",
    "\n",
    "Coarse classes alphabetically, fine classes by number of molecule they contain"
   ]
  },
  {
   "cell_type": "code",
   "execution_count": 4,
   "id": "educated-british",
   "metadata": {},
   "outputs": [],
   "source": [
    "class_data['n_molecules'] = 1\n",
    "\n",
    "grouped_df = class_data.groupby(['fine_class']).agg({\n",
    "    'coarse_class':'first',\n",
    "    'n_molecules':'count'\n",
    "})\n",
    "\n",
    "# Sort coarse classes in alphabetical order\n",
    "coarse_classes = np.sort(class_data.coarse_class.unique())\n",
    "\n",
    "# Fine classes by number of molecules\n",
    "custom_order = [grouped_df[grouped_df.coarse_class == x].sort_values('n_molecules', ascending=False).index.values for x in coarse_classes]\n",
    "custom_order = list(np.concatenate(custom_order)) #convert to list\n",
    "\n",
    "# Get the correct row order for ungrouped dataframe\n",
    "order_column = [custom_order.index(x) for x in class_data.fine_class]\n",
    "class_data['order'] = order_column\n",
    "\n",
    "# Reorder rows of dataframe\n",
    "df_sorted = class_data.sort_values('order', ascending = False)\n",
    "\n",
    "# Convert class column values to categorical\n",
    "# Without this step plotnine will ignore row order in the dataframe\n",
    "df_sorted['fine_class'] = pd.Categorical(df_sorted.fine_class, categories=pd.unique(df_sorted.fine_class))"
   ]
  },
  {
   "cell_type": "markdown",
   "id": "silent-kelly",
   "metadata": {},
   "source": [
    "- Plot "
   ]
  },
  {
   "cell_type": "code",
   "execution_count": 5,
   "id": "enormous-syndrome",
   "metadata": {},
   "outputs": [],
   "source": [
    "colours = dict({ #Paul Tol palette for colour blindness\n",
    "     \"Amines\":'#DDCC77', #yellow\n",
    "     \"Amino acids, peptides, and analogues\":'#332288', #blue\n",
    "     \"Carbohydrates\":'#117733', #green\n",
    "     \"Carboxylic acids\":'#44AA99', #emerald\n",
    "     \"Lipids and lipid-like molecules\":'#AA4499', #magenta\n",
    "     \"Nucleosides, nucleotides, and analogues\":'#CC6677', #light red\n",
    "     \"Vitamins and cofactors\":'#88CCEE', #lightblue\n",
    "    })"
   ]
  },
  {
   "cell_type": "code",
   "execution_count": 6,
   "id": "worst-advocate",
   "metadata": {},
   "outputs": [
    {
     "name": "stderr",
     "output_type": "stream",
     "text": [
      "C:\\Users\\saharuka\\.conda\\envs\\zimmerman\\lib\\site-packages\\plotnine\\ggplot.py:719: PlotnineWarning: Saving 6.4 x 4.8 in image.\n",
      "C:\\Users\\saharuka\\.conda\\envs\\zimmerman\\lib\\site-packages\\plotnine\\ggplot.py:722: PlotnineWarning: Filename: d:\\saharuka\\spotting\\spotting_git\\matrix_comparison\\6_plots\\q1_plots\\molecules_per_chemical_class.png\n",
      "C:\\Users\\saharuka\\.conda\\envs\\zimmerman\\lib\\site-packages\\plotnine\\ggplot.py:820: PlotnineWarning: Filename: d:\\saharuka\\spotting\\spotting_git\\matrix_comparison\\6_plots\\q1_plots\\molecules_per_chemical_class.pdf\n"
     ]
    }
   ],
   "source": [
    "p = (ggplot(df_sorted)    # defining what data to use\n",
    " + aes(x='fine_class')    # defining what variable to use\n",
    " + geom_bar(aes(fill = 'coarse_class')) # defining the type of plot to use\n",
    " + coord_flip()\n",
    " + labs(x = \"Chemical subclass\", y = \"Number of compounds\", fill = \"Chemical class\")\n",
    "#  + scale_fill_brewer(type=\"qual\", palette=\"Dark2\") # choose a palette\n",
    " + scale_fill_manual(colours) #define your own palette\n",
    " + theme_classic()\n",
    " + theme(aspect_ratio=1.7,\n",
    "         text=element_text(family = 'sans-serif', size=16),\n",
    "         title=element_text(family = 'sans-serif', size=18),\n",
    "         legend_position=(0.22, -0.02))\n",
    " + guides(fill=guide_legend(ncol = 2))\n",
    ")\n",
    "\n",
    "p.save(p_analysis / \"molecules_per_chemical_class.png\")\n",
    "save_as_pdf_pages([p], p_analysis / \"molecules_per_chemical_class.pdf\")"
   ]
  },
  {
   "cell_type": "markdown",
   "id": "failing-halloween",
   "metadata": {},
   "source": [
    "- Repeat for pathway plot"
   ]
  },
  {
   "cell_type": "code",
   "execution_count": 7,
   "id": "eligible-transmission",
   "metadata": {},
   "outputs": [
    {
     "name": "stderr",
     "output_type": "stream",
     "text": [
      "C:\\Users\\saharuka\\.conda\\envs\\zimmerman\\lib\\site-packages\\plotnine\\ggplot.py:719: PlotnineWarning: Saving 6.4 x 4.8 in image.\n",
      "C:\\Users\\saharuka\\.conda\\envs\\zimmerman\\lib\\site-packages\\plotnine\\ggplot.py:722: PlotnineWarning: Filename: d:\\saharuka\\spotting\\spotting_git\\matrix_comparison\\6_plots\\q1_plots\\molecules_per_pathway.png\n",
      "C:\\Users\\saharuka\\.conda\\envs\\zimmerman\\lib\\site-packages\\plotnine\\ggplot.py:820: PlotnineWarning: Filename: d:\\saharuka\\spotting\\spotting_git\\matrix_comparison\\6_plots\\q1_plots\\molecules_per_pathway.pdf\n"
     ]
    }
   ],
   "source": [
    "pathway_data['n_molecules'] = 1\n",
    "\n",
    "grouped_df = pathway_data.groupby(['fine_path']).agg({\n",
    "    'coarse_path':'first',\n",
    "    'n_molecules':'count'\n",
    "})\n",
    "\n",
    "# Sort coarse pathways in alphabetical order\n",
    "coarse_paths = np.sort(pathway_data.coarse_path.unique())\n",
    "\n",
    "# Fine pathways by number of molecules\n",
    "custom_order = [grouped_df[grouped_df.coarse_path == x].sort_values('n_molecules', ascending=False).index.values for x in coarse_paths]\n",
    "custom_order = list(np.concatenate(custom_order)) #convert to list\n",
    "\n",
    "# Get the correct row order for ungrouped dataframe\n",
    "order_column = [custom_order.index(x) for x in pathway_data.fine_path]\n",
    "pathway_data['order'] = order_column\n",
    "\n",
    "# Reorder rows of dataframe\n",
    "df_sorted = pathway_data.sort_values('order', ascending = False)\n",
    "\n",
    "# Convert path column values to categorical\n",
    "df_sorted['fine_path'] = pd.Categorical(df_sorted.fine_path, categories=pd.unique(df_sorted.fine_path))\n",
    "\n",
    "# Plot\n",
    "p = (ggplot(df_sorted)        \n",
    " + aes(x='fine_path')   \n",
    " + geom_bar(aes(fill = 'coarse_path')) \n",
    " + coord_flip()\n",
    " + labs(x = \"Metabolic pathway\", y = \"Number of compounds\", fill = \" \")\n",
    " + scale_fill_brewer(type=\"seq\", palette=\"Greys\", direction=-1) #RdPu\n",
    " + theme_classic()\n",
    " + theme(aspect_ratio=1.96,\n",
    "         text=element_text(family = 'sans-serif', size=16),\n",
    "         title=element_text(family = 'sans-serif', size=18),\n",
    "         legend_position=(0.12, 0.01))\n",
    " + guides(fill=guide_legend(ncol = 2))\n",
    ")\n",
    "\n",
    "p.save(p_analysis / \"molecules_per_pathway.png\")\n",
    "save_as_pdf_pages([p], p_analysis / \"molecules_per_pathway.pdf\")"
   ]
  }
 ],
 "metadata": {
  "kernelspec": {
   "display_name": "Python [conda env:.conda-zimmerman] *",
   "language": "python",
   "name": "conda-env-.conda-zimmerman-py"
  },
  "language_info": {
   "codemirror_mode": {
    "name": "ipython",
    "version": 3
   },
   "file_extension": ".py",
   "mimetype": "text/x-python",
   "name": "python",
   "nbconvert_exporter": "python",
   "pygments_lexer": "ipython3",
   "version": "3.8.5"
  }
 },
 "nbformat": 4,
 "nbformat_minor": 5
}
