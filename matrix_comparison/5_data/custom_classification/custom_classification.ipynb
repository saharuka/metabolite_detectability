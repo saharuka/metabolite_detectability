{
 "cells": [
  {
   "cell_type": "markdown",
   "id": "accurate-prize",
   "metadata": {},
   "source": [
    "### The aim of this analysis is to assign a chemical class to each spotted standard\n",
    "\n",
    "First, we mapped Classyfire classification onto the standards using compound HMDB IDs. In few cases there was no entry for the compound in HMDB4 (version 2020-09-09), so the closest possible substitute was found (this is recorded).\n",
    "\n",
    "Then, we manually went through all compounds and manually selected best class for each compound based on our chemistry knowledge. The coarse classification scheme includes 7 categories, while the fine classivication has 30+ categories that we believe are important."
   ]
  },
  {
   "cell_type": "markdown",
   "id": "external-rouge",
   "metadata": {},
   "source": [
    "### Map Classyfire classification"
   ]
  },
  {
   "cell_type": "code",
   "execution_count": 1,
   "id": "greatest-evaluation",
   "metadata": {},
   "outputs": [],
   "source": [
    "from pathlib import Path\n",
    "import pandas as pd\n",
    "import numpy as np"
   ]
  },
  {
   "cell_type": "code",
   "execution_count": 4,
   "id": "mobile-atmosphere",
   "metadata": {},
   "outputs": [],
   "source": [
    "p_root_dir = Path.cwd().parent\n",
    "p_analysis = p_root_dir / \"custom_classification\"\n",
    "p_compounds = p_root_dir / r\"metadata/compounds_ids.csv\"\n",
    "p_classyfire = p_analysis / \"hmdb_classyfire_2020-09-09.csv\""
   ]
  },
  {
   "cell_type": "code",
   "execution_count": 3,
   "id": "special-focus",
   "metadata": {},
   "outputs": [],
   "source": [
    "compounds = pd.read_csv(p_compounds)\n",
    "classyfire = pd.read_csv(p_classyfire)\n",
    "\n",
    "comp_class = pd.merge(compounds[['internal_id', 'name_short', 'hmdb_primary',\n",
    "       'is_hmdbid_matching']], classyfire, on='hmdb_primary', how='left')\n",
    "comp_class.to_csv(p_analysis / 'compounds_classyfire.csv', index=False)"
   ]
  },
  {
   "cell_type": "markdown",
   "id": "informed-traffic",
   "metadata": {},
   "source": [
    "### View resulting custom classification"
   ]
  },
  {
   "cell_type": "code",
   "execution_count": 11,
   "id": "intensive-thong",
   "metadata": {},
   "outputs": [],
   "source": [
    "p_our_clas = p_analysis / \"custom_classification.csv\""
   ]
  },
  {
   "cell_type": "code",
   "execution_count": 15,
   "id": "arranged-marble",
   "metadata": {},
   "outputs": [
    {
     "name": "stdout",
     "output_type": "stream",
     "text": [
      "Amino acids, peptides, and analogues, 52\n",
      "\tAcidic amino acids, 9\n",
      "\tArginine derivatives (guanidines), 5\n",
      "\tAromatic amino acids, 6\n",
      "\tHistidine derivatives (imidazoles), 4\n",
      "\tNonpolar amino acids, 3\n",
      "\tPolar amino acids, 10\n",
      "\tSulphur-containing amino acids, 10\n",
      "\tTryptophan derivatives (indoles), 5\n",
      "\n",
      "\n",
      "Carboxylic acids, 24\n",
      "\tAromatic acids, 3\n",
      "\tCarboxylic acid phosphate, 2\n",
      "\tCarboxylic acids, 6\n",
      "\tHydroxy acids, 9\n",
      "\tKeto acid, 4\n",
      "\n",
      "\n",
      "Carbohydrates, 19\n",
      "\tCarbohydrate amines, 4\n",
      "\tCarbohydrate phosphates, 10\n",
      "\tCarbohydrates, 5\n",
      "\n",
      "\n",
      "Vitamins and cofactors, 17\n",
      "\tCoA and derivatives, 3\n",
      "\tFlavins, 3\n",
      "\tFolates, 2\n",
      "\tVitamins and cofactors, 9\n",
      "\n",
      "\n",
      "Lipids and lipid-like molecules, 39\n",
      "\tFatty acyl, 5\n",
      "\tGlycerolipids, 3\n",
      "\tGlycerophospholipids, 15\n",
      "\tPrenol lipids, 3\n",
      "\tSphingolipids, 5\n",
      "\tSteroids and steroid derivatives, 8\n",
      "\n",
      "\n",
      "Nucleosides, nucleotides, and analogues, 32\n",
      "\tNicotinamide derivatives, 4\n",
      "\tNucleobases and analogs, 10\n",
      "\tNucleosides, 4\n",
      "\tNucleotides, 14\n",
      "\n",
      "\n",
      "Amines, 14\n",
      "\tOther amines, 6\n",
      "\tQuarternary ammonium amines, 8\n",
      "\n",
      "\n",
      "Thermometers, 5\n",
      "\tThermometers, 5\n",
      "\n",
      "\n"
     ]
    }
   ],
   "source": [
    "our_clas = pd.read_csv(p_our_clas)\n",
    "\n",
    "tab = '\\t'\n",
    "line = '\\n'\n",
    "\n",
    "for x in our_clas.coarse_class.unique():\n",
    "    \n",
    "    count = sum(our_clas.coarse_class == x)\n",
    "    fine = our_clas[our_clas.coarse_class == x].fine_class.unique() \n",
    "    print(f\"{x}, {count}\")\n",
    "    \n",
    "    for y in fine:\n",
    "        count_fine = sum((our_clas.coarse_class == x) & (our_clas.fine_class == y))\n",
    "    \n",
    "        print(f\"{tab}{y}, {count_fine}\")\n",
    "    print(line)"
   ]
  }
 ],
 "metadata": {
  "kernelspec": {
   "display_name": "Python 3",
   "language": "python",
   "name": "python3"
  },
  "language_info": {
   "codemirror_mode": {
    "name": "ipython",
    "version": 3
   },
   "file_extension": ".py",
   "mimetype": "text/x-python",
   "name": "python",
   "nbconvert_exporter": "python",
   "pygments_lexer": "ipython3",
   "version": "3.8.5"
  }
 },
 "nbformat": 4,
 "nbformat_minor": 5
}
