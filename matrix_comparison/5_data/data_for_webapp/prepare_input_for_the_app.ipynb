{
 "cells": [
  {
   "cell_type": "code",
   "execution_count": 1,
   "id": "willing-north",
   "metadata": {},
   "outputs": [],
   "source": [
    "import pandas as pd\n",
    "from pathlib import Path"
   ]
  },
  {
   "cell_type": "code",
   "execution_count": 2,
   "id": "patient-jungle",
   "metadata": {},
   "outputs": [],
   "source": [
    "p_root_dir = Path.cwd().parents[1]\n",
    "p_data = p_root_dir / \"5_data\"\n",
    "\n",
    "# Metrics and Catboost predictions for all ions in their target wells\n",
    "p_predictions = p_data / \"all_predictions_curated_11-Dec-2021.csv\"\n",
    "\n",
    "# Dataset info (lab, matrix, polarity, m/z range, ids, etc.)\n",
    "p_datasets = p_data / r\"metadata/Datasets_18Apr2023.csv\"\n",
    "\n",
    "p_out = p_data / \"data_for_webapp\""
   ]
  },
  {
   "cell_type": "code",
   "execution_count": 3,
   "id": "unexpected-scholar",
   "metadata": {},
   "outputs": [
    {
     "name": "stderr",
     "output_type": "stream",
     "text": [
      "<ipython-input-3-8ba655c402c6>:8: SettingWithCopyWarning: \n",
      "A value is trying to be set on a copy of a slice from a DataFrame\n",
      "\n",
      "See the caveats in the documentation: https://pandas.pydata.org/pandas-docs/stable/user_guide/indexing.html#returning-a-view-versus-a-copy\n",
      "  metadata.drop(columns=cols_to_drop, inplace=True)\n",
      "<ipython-input-3-8ba655c402c6>:9: SettingWithCopyWarning: \n",
      "A value is trying to be set on a copy of a slice from a DataFrame\n",
      "\n",
      "See the caveats in the documentation: https://pandas.pydata.org/pandas-docs/stable/user_guide/indexing.html#returning-a-view-versus-a-copy\n",
      "  metadata.drop_duplicates(inplace=True)\n"
     ]
    }
   ],
   "source": [
    "# Load metadata file and select only 3ppm EMBL metadata\n",
    "datasets = pd.read_csv(p_datasets, index_col=0)\n",
    "metadata = datasets[datasets.EMBL]\n",
    "\n",
    "# Drop some columns that are not needed and make sure there is only one row per dataset\n",
    "cols_to_drop = ['Dataset name', 'm/z range', 'Pixel size', 'Original Dataset ID (3ppm)', 'Original link',\n",
    "       'Dataset link', 'EMBL', 'Interlab', 'All']\n",
    "metadata.drop(columns=cols_to_drop, inplace=True)\n",
    "metadata.drop_duplicates(inplace=True)"
   ]
  },
  {
   "cell_type": "code",
   "execution_count": 4,
   "id": "supposed-lloyd",
   "metadata": {},
   "outputs": [],
   "source": [
    "# Load predictions, format neutral loss column\n",
    "predictions = pd.read_csv(p_predictions, index_col=0)\n",
    "predictions.neutral_loss.fillna('', inplace=True)\n",
    "predictions.score.fillna(\"\", inplace=True)\n",
    "\n",
    "# Merge metadata_df with concatenated_df on dataset_id\n",
    "final_df = pd.merge(metadata, predictions, right_on=\"dataset_id\", left_on=\"Dataset ID\").drop(columns=['Dataset ID'])\n",
    "\n",
    "# Save input for EMBL data tab\n",
    "final_df.to_csv(p_out / \"EMBL_data_22May2023.csv\", index=False)"
   ]
  }
 ],
 "metadata": {
  "kernelspec": {
   "display_name": "Python [conda env:.conda-zimmerman] *",
   "language": "python",
   "name": "conda-env-.conda-zimmerman-py"
  },
  "language_info": {
   "codemirror_mode": {
    "name": "ipython",
    "version": 3
   },
   "file_extension": ".py",
   "mimetype": "text/x-python",
   "name": "python",
   "nbconvert_exporter": "python",
   "pygments_lexer": "ipython3",
   "version": "3.8.5"
  }
 },
 "nbformat": 4,
 "nbformat_minor": 5
}
