{
 "cells": [
  {
   "cell_type": "markdown",
   "id": "acceptable-census",
   "metadata": {},
   "source": [
    "## This notebook prepares input for IPath3 visualisation"
   ]
  },
  {
   "cell_type": "code",
   "execution_count": 1,
   "id": "level-finish",
   "metadata": {},
   "outputs": [],
   "source": [
    "from pathlib import Path\n",
    "from definitions import ROOT_DIR\n",
    "import pandas as pd\n",
    "import numpy as np"
   ]
  },
  {
   "cell_type": "markdown",
   "id": "tracked-stopping",
   "metadata": {},
   "source": [
    "- Inputs"
   ]
  },
  {
   "cell_type": "code",
   "execution_count": 2,
   "id": "saved-softball",
   "metadata": {},
   "outputs": [],
   "source": [
    "p_root_dir = Path(ROOT_DIR).parent\n",
    "p_analysis = p_root_dir / \"6_plots\\q1_plots\"\n",
    "\n",
    "# Compunds used in the study\n",
    "p_compounds = p_root_dir / \"5_data_analysis/compounds_ids.csv\"\n",
    "\n",
    "# HMDB ID to KEGG ID mapping\n",
    "p_kegg = p_analysis / \"hmdb_kegg_2020-09-09.csv\"\n",
    "\n",
    "# Chemical classification\n",
    "p_chem_class = p_root_dir / \"5_data_analysis/custom_classification.csv\""
   ]
  },
  {
   "cell_type": "markdown",
   "id": "bigger-tower",
   "metadata": {},
   "source": [
    "- Load data"
   ]
  },
  {
   "cell_type": "code",
   "execution_count": 3,
   "id": "changing-anniversary",
   "metadata": {},
   "outputs": [],
   "source": [
    "compounds = pd.read_csv(p_compounds)\n",
    "# Remove entries for thermometer ions and fiducials\n",
    "compounds = compounds[compounds.hmdb_primary != 'custom'][['name_short', 'hmdb_primary', 'internal_id']]\n",
    "\n",
    "kegg = pd.read_csv(p_kegg)"
   ]
  },
  {
   "cell_type": "markdown",
   "id": "sensitive-settle",
   "metadata": {},
   "source": [
    "- Map KEGG IDs to the compounds\n",
    "- Note which compounds have no mapping"
   ]
  },
  {
   "cell_type": "code",
   "execution_count": 4,
   "id": "civic-bibliography",
   "metadata": {},
   "outputs": [],
   "source": [
    "df = pd.merge(compounds, kegg, how='left', on='hmdb_primary')"
   ]
  },
  {
   "cell_type": "code",
   "execution_count": 5,
   "id": "entitled-benefit",
   "metadata": {},
   "outputs": [
    {
     "name": "stderr",
     "output_type": "stream",
     "text": [
      "<ipython-input-5-a30736fc61d5>:2: DeprecationWarning: The default dtype for empty Series will be 'object' instead of 'float64' in a future version. Specify a dtype explicitly to silence this warning.\n",
      "  pd.Series(pd.Series(),index=unmapped_compounds).to_dict()\n"
     ]
    },
    {
     "data": {
      "text/plain": [
       "{'N-Acetylgalactosamine 6-phosphate': nan,\n",
       " 'Cholesteryl acetate': nan,\n",
       " 'TG 15:0-18:1-15:0': nan,\n",
       " 'MG 18:1': nan,\n",
       " 'Cardiolipin 18:1': nan,\n",
       " 'DG 18:0-22:6': nan,\n",
       " 'PS (POPS) 16:0-18:1': nan,\n",
       " 'PG 16:0-18:1': nan,\n",
       " 'Lyso PI 17:1': nan,\n",
       " 'PI 16:0-18:1': nan,\n",
       " 'PE 18:0-20:4': nan,\n",
       " 'Lyso PE 18:0': nan,\n",
       " 'Lyso PA 18:1': nan,\n",
       " 'Lyso PG 16:0': nan,\n",
       " 'Lyso PS 17:1': nan,\n",
       " 'SM d18:1-16:0': nan,\n",
       " 'PC (O) C16-18:1': nan,\n",
       " 'Cholesteryl ester 17:0': nan}"
      ]
     },
     "execution_count": 5,
     "metadata": {},
     "output_type": "execute_result"
    }
   ],
   "source": [
    "unmapped_compounds = df.loc[df.kegg_id != df.kegg_id, 'name_short']\n",
    "pd.Series(pd.Series(),index=unmapped_compounds).to_dict()"
   ]
  },
  {
   "cell_type": "markdown",
   "id": "valuable-deployment",
   "metadata": {},
   "source": [
    "- Complete the mapping manually"
   ]
  },
  {
   "cell_type": "code",
   "execution_count": 6,
   "id": "annoying-quarter",
   "metadata": {},
   "outputs": [],
   "source": [
    "mapping = {'N-Acetylgalactosamine 6-phosphate': 'C06376',\n",
    " 'Cholesteryl acetate': 'C02530',\n",
    " 'TG 15:0-18:1-15:0': 'C00422',\n",
    " 'MG 18:1': 'C01885',\n",
    " 'Cardiolipin 18:1': 'C05980',\n",
    " 'DG 18:0-22:6': 'C00165',\n",
    " 'PS (POPS) 16:0-18:1': 'C02737',\n",
    " 'PG 16:0-18:1': 'C00344',\n",
    " 'Lyso PI 17:1': 'C03819',\n",
    " 'PI 16:0-18:1': 'C01194',\n",
    " 'PE 18:0-20:4': 'C00350',\n",
    " 'Lyso PE 18:0': 'C04438',\n",
    " 'Lyso PA 18:1': 'C00681',\n",
    " 'Lyso PG 16:0': 'C18126',\n",
    " 'Lyso PS 17:1': 'C18125',\n",
    " 'SM d18:1-16:0': 'C00550',\n",
    " 'PC (O) C16-18:1': 'C05212',\n",
    " 'Cholesteryl ester 17:0': 'C02530'}"
   ]
  },
  {
   "cell_type": "code",
   "execution_count": 7,
   "id": "bored-venezuela",
   "metadata": {},
   "outputs": [],
   "source": [
    "for x in mapping.keys():\n",
    "    df.loc[df.name_short == x, 'kegg_id'] = mapping[x]"
   ]
  },
  {
   "cell_type": "markdown",
   "id": "emotional-oasis",
   "metadata": {},
   "source": [
    "- Add chemical class information and assign colour to each class"
   ]
  },
  {
   "cell_type": "code",
   "execution_count": 8,
   "id": "endangered-belief",
   "metadata": {},
   "outputs": [],
   "source": [
    "chem_class = pd.read_csv(p_chem_class)[['internal_id', 'coarse_class']]\n",
    "df = df.merge(chem_class, on='internal_id', how='left')"
   ]
  },
  {
   "cell_type": "code",
   "execution_count": 9,
   "id": "military-liability",
   "metadata": {},
   "outputs": [],
   "source": [
    "palette = dict({\n",
    " 'Carbohydrates':'#7570b3',\n",
    " 'Carboxylic acids':'#e7298a',\n",
    " 'Vitamins and cofactors':'#a6761d',\n",
    " 'Nucleosides, nucleotides, and analogues':'#e6ab02',\n",
    " 'Lipids and lipid-like molecules':'#66a61e',\n",
    " 'Amino acids, peptides, and analogues':'#d95f02',\n",
    " 'Amines':'#1b9e77'\n",
    "})"
   ]
  },
  {
   "cell_type": "markdown",
   "id": "amazing-sheep",
   "metadata": {},
   "source": [
    "- Print and copy KEGG IDs to IPath3 website [https://pathways.embl.de/ipath3.cgi?map=metabolic](https://pathways.embl.de/ipath3.cgi?map=metabolic)"
   ]
  },
  {
   "cell_type": "code",
   "execution_count": 12,
   "id": "chubby-beatles",
   "metadata": {},
   "outputs": [
    {
     "name": "stdout",
     "output_type": "stream",
     "text": [
      "C00221 #7570b3 W16\n",
      "C00092 #7570b3 W16\n",
      "C05378 #7570b3 W16\n",
      "C00111 #7570b3 W16\n",
      "C00597 #e7298a W16\n",
      "C00597 #e7298a W16\n",
      "C00074 #e7298a W16\n",
      "C00022 #e7298a W16\n",
      "C00024 #a6761d W16\n",
      "C00024 #e6ab02 W16\n",
      "C00186 #e7298a W16\n",
      "C00345 #7570b3 W16\n",
      "C00345 #e7298a W16\n",
      "C00199 #7570b3 W16\n",
      "C03736 #7570b3 W16\n",
      "C00184 #7570b3 W16\n",
      "C00257 #7570b3 W16\n",
      "C00257 #e7298a W16\n",
      "C00508 #7570b3 W16\n",
      "C00158 #e7298a W16\n",
      "C00158 #e7298a W16\n",
      "C00417 #e7298a W16\n",
      "C00026 #e7298a W16\n",
      "C00042 #e7298a W16\n",
      "C00122 #e7298a W16\n",
      "C00149 #e7298a W16\n",
      "C00036 #e7298a W16\n",
      "C00029 #e6ab02 W16\n",
      "C00167 #e6ab02 W16\n",
      "C00352 #7570b3 W16\n",
      "C00352 #7570b3 W16\n",
      "C06376 #7570b3 W16\n",
      "C06376 #7570b3 W16\n",
      "C00043 #e6ab02 W16\n",
      "C00140 #7570b3 W16\n",
      "C00137 #7570b3 W16\n",
      "C01041 #e7298a W16\n",
      "C01177 #7570b3 W16\n",
      "C00249 #66a61e W16\n",
      "C00418 #e7298a W16\n",
      "C00187 #66a61e W16\n",
      "C04025 #e7298a W16\n",
      "C03761 #e7298a W16\n",
      "C00154 #a6761d W16\n",
      "C00154 #66a61e W16\n",
      "C00154 #e6ab02 W16\n",
      "C00318 #d95f02 W16\n",
      "C00318 #1b9e77 W16\n",
      "C00695 #66a61e W16\n",
      "C00037 #d95f02 W16\n",
      "C05122 #66a61e W16\n",
      "C00951 #66a61e W16\n",
      "C00152 #d95f02 W16\n",
      "C00049 #d95f02 W16\n",
      "C01042 #d95f02 W16\n",
      "C00064 #d95f02 W16\n",
      "C00025 #d95f02 W16\n",
      "C12270 #d95f02 W16\n",
      "C00334 #d95f02 W16\n",
      "C00079 #d95f02 W16\n",
      "C00082 #d95f02 W16\n",
      "C00355 #d95f02 W16\n",
      "C03758 #d95f02 W16\n",
      "C00788 #d95f02 W16\n",
      "C00164 #e7298a W16\n",
      "C00135 #d95f02 W16\n",
      "C00386 #d95f02 W16\n",
      "C00785 #d95f02 W16\n",
      "C00388 #d95f02 W16\n",
      "C00388 #1b9e77 W16\n",
      "C00062 #d95f02 W16\n",
      "C00327 #d95f02 W16\n",
      "C03406 #d95f02 W16\n",
      "C00077 #d95f02 W16\n",
      "C00169 #1b9e77 W16\n",
      "C00148 #d95f02 W16\n",
      "C01157 #d95f02 W16\n",
      "C00134 #1b9e77 W16\n",
      "C00315 #1b9e77 W16\n",
      "C00750 #1b9e77 W16\n",
      "C00300 #d95f02 W16\n",
      "C00791 #d95f02 W16\n",
      "C00179 #d95f02 W16\n",
      "C00179 #1b9e77 W16\n",
      "C00504 #a6761d W16\n",
      "C00101 #a6761d W16\n",
      "C00073 #d95f02 W16\n",
      "C00491 #d95f02 W16\n",
      "C00127 #d95f02 W16\n",
      "C00051 #d95f02 W16\n",
      "C00245 #d95f02 W16\n",
      "C00019 #e6ab02 W16\n",
      "C00019 #d95f02 W16\n",
      "C00021 #e6ab02 W16\n",
      "C00021 #d95f02 W16\n",
      "C00155 #d95f02 W16\n",
      "C00097 #d95f02 W16\n",
      "C03793 #d95f02 W16\n",
      "C03793 #1b9e77 W16\n",
      "C00183 #d95f02 W16\n",
      "C00864 #d95f02 W16\n",
      "C00864 #a6761d W16\n",
      "C00831 #d95f02 W16\n",
      "C00010 #a6761d W16\n",
      "C00010 #e6ab02 W16\n",
      "C00065 #d95f02 W16\n",
      "C00078 #d95f02 W16\n",
      "C00328 #d95f02 W16\n",
      "C01717 #e7298a W16\n",
      "C00632 #d95f02 W16\n",
      "C03722 #e7298a W16\n",
      "C00003 #e6ab02 W16\n",
      "C00004 #e6ab02 W16\n",
      "C00153 #a6761d W16\n",
      "C00253 #e7298a W16\n",
      "C00253 #a6761d W16\n",
      "C00780 #d95f02 W16\n",
      "C05635 #d95f02 W16\n",
      "C01598 #d95f02 W16\n",
      "C03150 #e6ab02 W16\n",
      "C00455 #e6ab02 W16\n",
      "C00262 #e6ab02 W16\n",
      "C00020 #e6ab02 W16\n",
      "C00147 #e6ab02 W16\n",
      "C00385 #e6ab02 W16\n",
      "C00242 #e6ab02 W16\n",
      "C00008 #e6ab02 W16\n",
      "C00002 #e6ab02 W16\n",
      "C00575 #e6ab02 W16\n",
      "C00438 #d95f02 W16\n",
      "C00337 #e6ab02 W16\n",
      "C00295 #e6ab02 W16\n",
      "C00299 #e6ab02 W16\n",
      "C00106 #e6ab02 W16\n",
      "C00178 #e6ab02 W16\n",
      "C00055 #e6ab02 W16\n",
      "C00475 #e6ab02 W16\n",
      "C00380 #e6ab02 W16\n",
      "C00015 #e6ab02 W16\n",
      "C00114 #1b9e77 W16\n",
      "C01996 #1b9e77 W16\n",
      "C00378 #a6761d W16\n",
      "C00255 #a6761d W16\n",
      "C00314 #a6761d W16\n",
      "C00120 #a6761d W16\n",
      "C05443 #66a61e W16\n",
      "C02477 #66a61e W16\n",
      "C02477 #a6761d W16\n",
      "C05850 #66a61e W16\n",
      "C05850 #a6761d W16\n",
      "C00061 #a6761d W16\n",
      "C00061 #e6ab02 W16\n",
      "C00016 #a6761d W16\n",
      "C00016 #e6ab02 W16\n",
      "C02305 #d95f02 W16\n",
      "C02305 #d95f02 W16\n",
      "C00670 #1b9e77 W16\n",
      "C03017 #1b9e77 W16\n",
      "C02571 #1b9e77 W16\n",
      "C01005 #d95f02 W16\n",
      "C00366 #e6ab02 W16\n",
      "C02530 #66a61e W16\n",
      "C00463 #d95f02 W16\n",
      "C00329 #7570b3 W16\n",
      "C00246 #e7298a W16\n",
      "C00093 #7570b3 W16\n",
      "C00777 #66a61e W16\n",
      "C00777 #a6761d W16\n",
      "C00219 #66a61e W16\n",
      "C00157 #66a61e W16\n",
      "C00422 #66a61e W16\n",
      "C01885 #66a61e W16\n",
      "C03033 #66a61e W16\n",
      "C05980 #66a61e W16\n",
      "C00165 #66a61e W16\n",
      "C02737 #66a61e W16\n",
      "C00344 #66a61e W16\n",
      "C00416 #66a61e W16\n",
      "C03819 #66a61e W16\n",
      "C01194 #66a61e W16\n",
      "C00626 #66a61e W16\n",
      "C00350 #66a61e W16\n",
      "C04230 #66a61e W16\n",
      "C04438 #66a61e W16\n",
      "C00681 #66a61e W16\n",
      "C18126 #66a61e W16\n",
      "C18125 #66a61e W16\n",
      "C04730 #66a61e W16\n",
      "C00195 #66a61e W16\n",
      "C01190 #66a61e W16\n",
      "C00550 #66a61e W16\n",
      "C06125 #66a61e W16\n",
      "C02990 #66a61e W16\n",
      "C02990 #1b9e77 W16\n",
      "C05212 #66a61e W16\n",
      "C04741 #66a61e W16\n",
      "C02530 #66a61e W16\n"
     ]
    }
   ],
   "source": [
    "ids = [print(f\"{x.kegg_id} {palette[x.coarse_class]} W16\") for x in df.itertuples()]\n",
    "# ids = [print(f\"{x.kegg_id} #000000 W16\") for x in df.itertuples()]"
   ]
  },
  {
   "cell_type": "markdown",
   "id": "figured-smell",
   "metadata": {},
   "source": [
    "- Save results"
   ]
  },
  {
   "cell_type": "code",
   "execution_count": 58,
   "id": "republican-strategy",
   "metadata": {},
   "outputs": [],
   "source": [
    "df.to_csv(p_analysis / 'compound_kegg_mapping_2.csv')"
   ]
  }
 ],
 "metadata": {
  "kernelspec": {
   "display_name": "Python [conda env:.conda-zimmerman] *",
   "language": "python",
   "name": "conda-env-.conda-zimmerman-py"
  },
  "language_info": {
   "codemirror_mode": {
    "name": "ipython",
    "version": 3
   },
   "file_extension": ".py",
   "mimetype": "text/x-python",
   "name": "python",
   "nbconvert_exporter": "python",
   "pygments_lexer": "ipython3",
   "version": "3.8.5"
  }
 },
 "nbformat": 4,
 "nbformat_minor": 5
}
