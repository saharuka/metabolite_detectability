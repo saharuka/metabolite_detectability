{
 "cells": [
  {
   "cell_type": "code",
   "execution_count": 1,
   "id": "rubber-essay",
   "metadata": {},
   "outputs": [],
   "source": [
    "from pathlib import Path\n",
    "from definitions import ROOT_DIR\n",
    "import pandas as pd\n",
    "import numpy as np\n",
    "\n",
    "import scanpy as sc\n",
    "from anndata import AnnData\n",
    "import seaborn as sns\n",
    "import matplotlib.pyplot as plt\n",
    "from matplotlib import rc, rc_context\n",
    "\n",
    "rc('font',**{'family':'sans-serif',\n",
    "             'sans-serif':['Arial'],\n",
    "             'size':16})\n",
    "rc('pdf', fonttype=42)\n",
    "rc('ps', fonttype=42)"
   ]
  },
  {
   "cell_type": "code",
   "execution_count": 2,
   "id": "collected-participant",
   "metadata": {},
   "outputs": [],
   "source": [
    "def calculate_detected_intensities(df, threshold=0.8):\n",
    "    '''\n",
    "    Make a column with background corrected intensities for detected compounds, and 0s for not detected compounds\n",
    "    Change any negative values to zero\n",
    "    Also add detectability column, where compounds with prediction value above threshold=0.8 are labelled as detected (1)\n",
    "    '''\n",
    "\n",
    "    df['detectability'] = df.pred_val >= threshold\n",
    "    vals = df.spot_intensity_bgr_corrected * df.detectability\n",
    "    df['effective_intensity'] = np.clip(vals, 0, None)\n",
    "    return df\n",
    "\n",
    "\n",
    "def get_class_size(metadata, class_column):\n",
    "    sizes = metadata[class_column].value_counts()\n",
    "    metadata['class_size'] = [sizes[k] for k in metadata[class_column]]\n",
    "    return metadata\n",
    "\n",
    "\n",
    "def filter_neutral_losses(df, neutral_losses=['']):\n",
    "    '''\n",
    "    Filter out entries for ions with neutral losses that are not in the list provided\n",
    "    If neutral_loss value us \"only_nl\", than consider only ions that have neutral losses\n",
    "    '''\n",
    "    \n",
    "    if neutral_losses == \"only_nl\":\n",
    "        df = df[df.neutral_loss != \"\"]\n",
    "    elif neutral_losses != None:\n",
    "        df = df[df.neutral_loss.isin(neutral_losses)]\n",
    "    return df\n",
    "\n",
    "\n",
    "def filter_adducts(df, adducts=['']):\n",
    "    '''\n",
    "    Filter out entries for ions with adducts that are not in the list provided\n",
    "    '''\n",
    "    if adducts != None:\n",
    "        df = df[df.adduct.isin(adducts)]\n",
    "    return df\n",
    "\n",
    "\n",
    "def filter_polarity(df, polarity=None):\n",
    "    '''\n",
    "    Filter out entries based on polarity pol ['positive', 'negative']\n",
    "    '''\n",
    "    if polarity != None:\n",
    "        df = df[df.Polarity == polarity]\n",
    "    return df\n",
    "\n",
    "\n",
    "def filter_data(data, polarity=None, adducts=None, neutral_losses=None):\n",
    "    '''\n",
    "    Apply polarity, adduct and neutral_loss filters\n",
    "    '''\n",
    "    data = filter_polarity(data, polarity)\n",
    "    data = filter_adducts(data, adducts)\n",
    "    data = filter_neutral_losses(data, neutral_losses)\n",
    "    return data\n",
    "\n",
    "\n",
    "def group_by_molecule(df, groupby_columns):\n",
    "    '''\n",
    "    Aggregate intensity and detection values per groupby columns\n",
    "    '''          \n",
    "    data = df.groupby(groupby_columns).agg({\n",
    "        'effective_intensity' : 'sum', # here we sum intensity of all detected ions (because intensity of undetected one was pre-set to 0 earlier)\n",
    "        'detectability' : 'max'}).reset_index() # here detectability of metabolite is set to 1 if any of it's ions was detected\n",
    "    return data\n",
    "\n",
    "\n",
    "def summarise_per_class(df, groupby_columns):\n",
    "    \n",
    "    data = df.groupby(groupby_columns).agg({'detectability' : 'sum',\n",
    "                                            'class_size': 'first',\n",
    "                                            'effective_intensity' : 'mean'\n",
    "                                            }).reset_index()\n",
    "\n",
    "    data['fraction_detected'] = data.detectability / data['class_size'] \n",
    "    data.drop(columns=['detectability', 'class_size'], inplace=True)\n",
    "    return data\n",
    "\n",
    "\n",
    "def assemble_adata(pca):\n",
    "    observables = pca.index.to_frame(index=False)\n",
    "    for col in observables.columns:\n",
    "        observables[col] = observables[col].astype('category')  \n",
    "    variables = pca.columns.to_frame(index=False)\n",
    "    adata = AnnData(pca.values, obs=observables, var=variables)\n",
    "    return adata"
   ]
  },
  {
   "cell_type": "markdown",
   "id": "empty-bangkok",
   "metadata": {},
   "source": [
    "- Inputs"
   ]
  },
  {
   "cell_type": "code",
   "execution_count": 3,
   "id": "august-floor",
   "metadata": {},
   "outputs": [],
   "source": [
    "p_root_dir = Path(ROOT_DIR).parents[0]\n",
    "p_data = p_root_dir / \"5_data_analysis\"\n",
    "p_out = p_root_dir / \"6_plots/q2_plots/pca_plots/EMBL_3ppm\"\n",
    "\n",
    "# Metrics and Catboost predictions for all ions in their target wells\n",
    "p_predictions = p_data / \"all_predictions_curated_11-Dec-2021.csv\"\n",
    "\n",
    "# Dataset info (lab, matrix, polarity, m/z range, ids, etc.)\n",
    "p_datasets = p_data / \"Datasets_14Jul2022.csv\"\n",
    "\n",
    "# Classification\n",
    "p_chem_class = p_data / \"custom_classification_v2.csv\""
   ]
  },
  {
   "cell_type": "markdown",
   "id": "numerous-certificate",
   "metadata": {},
   "source": [
    "- Merge relevant info into one dataframe"
   ]
  },
  {
   "cell_type": "code",
   "execution_count": 4,
   "id": "novel-dispute",
   "metadata": {},
   "outputs": [],
   "source": [
    "# Load predictions, format neutral loss column\n",
    "predictions = pd.read_csv(p_predictions, index_col=0)[['dataset_id', \n",
    "                                                       'name_short', \n",
    "                                                       'adduct', \n",
    "                                                       'neutral_loss', \n",
    "                                                       'pred_val',\n",
    "                                                       'spot_intensity_bgr_corrected']]\n",
    "predictions.neutral_loss.fillna('', inplace=True)\n",
    "\n",
    "# Add dataset metadata \n",
    "datasets = pd.read_csv(p_datasets)\n",
    "datasets_info = datasets.groupby('Dataset ID').first()[['Polarity', 'Matrix short', 'Matrix long', 'Slide code', 'EMBL']]\n",
    "datasets_info['sample_name'] = datasets_info['Matrix short']\n",
    "\n",
    "# Merge with predictions\n",
    "df = pd.merge(predictions, datasets_info, left_on='dataset_id', right_on='Dataset ID', how='left')\n",
    "\n",
    "# Filter to keep only datasets chosen for plots about matrix comparison\n",
    "df = df[df.EMBL]\n",
    "\n",
    "# only consider data of detected ions\n",
    "df = calculate_detected_intensities(df, threshold=0.8)\n",
    "data = df[df.detectability]"
   ]
  },
  {
   "cell_type": "code",
   "execution_count": 5,
   "id": "spiritual-minority",
   "metadata": {},
   "outputs": [],
   "source": [
    "# Load classification, add class size info\n",
    "\n",
    "classes = pd.read_csv(p_chem_class, index_col='internal_id')\n",
    "chem_class = get_class_size(classes[['name_short', 'main_coarse_class']].drop_duplicates(), \n",
    "                            'main_coarse_class')\n",
    "chem_subclass = get_class_size(classes[['name_short', 'coarse_class', 'fine_class']],  # coarse class here is to sort rows in the plot\n",
    "                              'fine_class')"
   ]
  },
  {
   "cell_type": "markdown",
   "id": "complimentary-commercial",
   "metadata": {},
   "source": [
    "## Option 1: Build PCA based on the intenisities and detectability of all metabolites\n",
    "- Each metabolite is an average of its detected ions"
   ]
  },
  {
   "cell_type": "code",
   "execution_count": 7,
   "id": "crucial-shark",
   "metadata": {},
   "outputs": [
    {
     "name": "stderr",
     "output_type": "stream",
     "text": [
      "C:\\Users\\saharuka\\.conda\\envs\\zimmerman\\lib\\site-packages\\anndata\\_core\\anndata.py:119: ImplicitModificationWarning: Transforming to str index.\n",
      "  warnings.warn(\"Transforming to str index.\", ImplicitModificationWarning)\n"
     ]
    }
   ],
   "source": [
    "# Choose polarity, filter adducts and neutral losses\n",
    "filtered_data = filter_data(data,\n",
    "#                             polarity='negative', \n",
    "                            neutral_losses=['']\n",
    "                           )\n",
    "\n",
    "# Summarise data per metabolite and dataset (intensities of detected ions are summed)\n",
    "molecule_data = group_by_molecule(filtered_data, groupby_columns=['Matrix short', 'Polarity', 'name_short'])\n",
    "\n",
    "pca = molecule_data.pivot_table(values=['effective_intensity', 'detectability'], \n",
    "                                         index=['Matrix short', 'Polarity'], \n",
    "                                         columns='name_short',\n",
    "                                         fill_value=0)\n",
    "\n",
    "# Assemble adata\n",
    "adata = assemble_adata(pca)\n",
    "\n",
    "# Apply log10(x+1) transform and Z-score normalisation\n",
    "sc.pp.log1p(adata, base=10)\n",
    "sc.pp.scale(adata, zero_center=True)\n",
    "\n",
    "# Compute PCA\n",
    "sc.tl.pca(adata, svd_solver='arpack')"
   ]
  },
  {
   "cell_type": "code",
   "execution_count": 57,
   "id": "major-protocol",
   "metadata": {},
   "outputs": [],
   "source": [
    "palette = {\n",
    "'9AA':'#a6cee3',\n",
    "'CHCA':'#1f78b4',\n",
    "'CMBT':'#b2df8a',\n",
    "'ClCCA':'#33a02c',\n",
    "'DAN':'#fb9a99',\n",
    "'DHAP':'#e31a1c',\n",
    "'DHB':'#fdbf6f',\n",
    "'MAPS':'#ff7f00',\n",
    "'NEDC':'#cab2d6',\n",
    "'NOR':'#6a3d9a',\n",
    "'pNA':'#ffff99',\n",
    "'PNDI':'#b15928',\n",
    "    \n",
    "'positive':'#DDCC77',\n",
    "'negative':'#004488' \n",
    "}"
   ]
  },
  {
   "cell_type": "code",
   "execution_count": 61,
   "id": "approved-reservation",
   "metadata": {},
   "outputs": [
    {
     "data": {
      "image/png": "[encoded data removed]",
      "text/plain": [
       "<Figure size 950.4x288 with 2 Axes>"
      ]
     },
     "metadata": {},
     "output_type": "display_data"
    }
   ],
   "source": [
    "# fname = \"PCA_EMBL_matrices_neg\"\n",
    "# with rc_context():    \n",
    "#     ax = sc.pl.pca(adata, \n",
    "#                    components=['1, 2'], \n",
    "#                    color=['Matrix short'],\n",
    "#                    size=300, \n",
    "#                    ncols=2,\n",
    "#                    legend_loc='right margin',\n",
    "#                    show=False, \n",
    "#                    wspace=0.35,\n",
    "#                    annotate_var_explained = True)\n",
    "#     ax.set_title('MALDI matrix')\n",
    "#     plt.tight_layout()\n",
    "#     plt.savefig(p_out/ f\"{fname}.png\")\n",
    "#     plt.savefig(p_out / f\"{fname}.pdf\")\n",
    "\n",
    "\n",
    "fname = \"PCA_EMBL_matrices_both\"\n",
    "with rc_context():    \n",
    "    ax = sc.pl.pca(adata, \n",
    "                   components=['1, 2'], \n",
    "                   color=['Matrix short', 'Polarity'],\n",
    "c\n",
    "    ax[0].invert_yaxis()\n",
    "    ax[0].set_title('MALDI matrix')\n",
    "    ax[0].set_aspect(1.4)\n",
    "    ax[1].invert_yaxis()\n",
    "    ax[1].set_title('Polarity')\n",
    "    ax[1].set_aspect(1.4)\n",
    "#     plt.tight_layout()\n",
    "    plt.savefig(p_out/ f\"{fname}.png\")\n",
    "    plt.savefig(p_out / f\"{fname}.pdf\", transparent=True)"
   ]
  },
  {
   "cell_type": "markdown",
   "id": "intended-religious",
   "metadata": {},
   "source": [
    "## Option 2: PCA based on the aggregated values also used in coarse class dot plot\n",
    "- This is useful in case you want to see PCA loadings"
   ]
  },
  {
   "cell_type": "code",
   "execution_count": 20,
   "id": "registered-channel",
   "metadata": {
    "scrolled": true
   },
   "outputs": [
    {
     "name": "stderr",
     "output_type": "stream",
     "text": [
      "C:\\Users\\saharuka\\.conda\\envs\\zimmerman\\lib\\site-packages\\anndata\\_core\\anndata.py:119: ImplicitModificationWarning: Transforming to str index.\n",
      "  warnings.warn(\"Transforming to str index.\", ImplicitModificationWarning)\n"
     ]
    }
   ],
   "source": [
    "# Choose polarity, filter adducts and neutral losses\n",
    "filtered_data = filter_data(data,\n",
    "                            polarity='positive', \n",
    "                            neutral_losses=['']\n",
    "                           )\n",
    "\n",
    "# Summarise data per metabolite and dataset (intensities of detected ions are summed)\n",
    "molecule_data = group_by_molecule(filtered_data, groupby_columns=['Matrix short', 'Polarity', 'name_short'])\n",
    "\n",
    "# Map chemical classes\n",
    "mapped_data = molecule_data.merge(chem_class, on='name_short', how='left')\n",
    "\n",
    "# Summarise data per class\n",
    "class_data = summarise_per_class(mapped_data, groupby_columns=['Matrix short', 'Polarity', 'main_coarse_class'])\n",
    "\n",
    "# Reshape\n",
    "pca = class_data.pivot_table(values=['effective_intensity', 'fraction_detected'], \n",
    "                       index=['Matrix short', 'Polarity'], \n",
    "                       columns='main_coarse_class', \n",
    "                       fill_value=0)\n",
    "\n",
    "# Assemble adata\n",
    "adata = assemble_adata(pca)\n",
    "\n",
    "# Apply log10(x+1) transform and Z-score normalisation\n",
    "sc.pp.log1p(adata, base=10)\n",
    "sc.pp.scale(adata, zero_center=True)\n",
    "\n",
    "# Compute PCA\n",
    "sc.tl.pca(adata, svd_solver='arpack')"
   ]
  },
  {
   "cell_type": "code",
   "execution_count": 21,
   "id": "flexible-shore",
   "metadata": {},
   "outputs": [
    {
     "name": "stderr",
     "output_type": "stream",
     "text": [
      "... storing 0 as categorical\n",
      "... storing 'main_coarse_class' as categorical\n"
     ]
    },
    {
     "data": {
      "image/png": "[encoded data removed]",
      "text/plain": [
       "<Figure size 432x288 with 1 Axes>"
      ]
     },
     "metadata": {},
     "output_type": "display_data"
    }
   ],
   "source": [
    "fname = \"PCA_EMBL_matrices_coarse_class_pos\"\n",
    "with rc_context():    \n",
    "    ax = sc.pl.pca(adata, \n",
    "                   components=['1, 2'], \n",
    "                   color=['Matrix short'],\n",
    "                   size=300, \n",
    "                   ncols=2,\n",
    "                   legend_loc='right margin',\n",
    "                   show=False, \n",
    "                   wspace=0.35,\n",
    "                   annotate_var_explained = True)\n",
    "    ax.set_title('MALDI matrix')\n",
    "    plt.tight_layout()\n",
    "    plt.savefig(p_out/ f\"{fname}.png\")\n",
    "    plt.savefig(p_out / f\"{fname}.pdf\")\n",
    "\n",
    "\n",
    "# fname = \"PCA_EMBL_matrices_coarse_class_both\"\n",
    "# with rc_context():    \n",
    "#     ax = sc.pl.pca(adata, \n",
    "#                    components=['1, 2'], \n",
    "#                    color=['Matrix short', 'Polarity'],\n",
    "#                    size=300, \n",
    "#                    ncols=2,\n",
    "#                    legend_loc='right margin',\n",
    "#                    show=False, \n",
    "#                    wspace=0.35,\n",
    "#                    annotate_var_explained = True)\n",
    "#     ax[0].set_title('MALDI matrix')\n",
    "#     ax[1].set_title('Polarity')\n",
    "#     plt.tight_layout()\n",
    "#     plt.savefig(p_out/ f\"{fname}.png\")\n",
    "#     plt.savefig(p_out / f\"{fname}.pdf\")"
   ]
  },
  {
   "cell_type": "code",
   "execution_count": 22,
   "id": "accredited-remains",
   "metadata": {},
   "outputs": [],
   "source": [
    "# # Extras\n",
    "\n",
    "# # See how much PCA components explain variance\n",
    "# sc.pl.pca_variance_ratio(adata)\n",
    "\n",
    "# # Check loading plot\n",
    "# sc.pl.pca_loadings(adata, components='1,2')"
   ]
  },
  {
   "cell_type": "markdown",
   "id": "strategic-panel",
   "metadata": {},
   "source": [
    "## Option 3: PCA based on the aggregated values also used in fine class dot plot\n",
    "- All three opotions provide similar result, but this can be useful for the loading plot"
   ]
  },
  {
   "cell_type": "code",
   "execution_count": 23,
   "id": "verbal-region",
   "metadata": {},
   "outputs": [
    {
     "name": "stderr",
     "output_type": "stream",
     "text": [
      "C:\\Users\\saharuka\\.conda\\envs\\zimmerman\\lib\\site-packages\\anndata\\_core\\anndata.py:119: ImplicitModificationWarning: Transforming to str index.\n",
      "  warnings.warn(\"Transforming to str index.\", ImplicitModificationWarning)\n"
     ]
    }
   ],
   "source": [
    "# Choose polarity, filter adducts and neutral losses\n",
    "filtered_data = filter_data(data,\n",
    "#                             polarity='negative', \n",
    "                            neutral_losses=['']\n",
    "                           )\n",
    "\n",
    "# Summarise data per metabolite and dataset (intensities of detected ions are summed)\n",
    "molecule_data = group_by_molecule(filtered_data, groupby_columns=['Matrix short', 'Polarity', 'name_short'])\n",
    "\n",
    "# Map chemical classes\n",
    "mapped_data = molecule_data.merge(chem_subclass, on='name_short', how='left')\n",
    "\n",
    "# Summarise data per class\n",
    "class_data = summarise_per_class(mapped_data, groupby_columns=['Matrix short', 'Polarity', 'fine_class'])\n",
    "\n",
    "# Reshape\n",
    "pca = class_data.pivot_table(values=['effective_intensity', 'fraction_detected'], \n",
    "                       index=['Matrix short', 'Polarity'], \n",
    "                       columns='fine_class', \n",
    "                       fill_value=0)\n",
    "\n",
    "# Assemble adata\n",
    "adata = assemble_adata(pca)\n",
    "\n",
    "# Apply log10(x+1) transform and Z-score normalisation\n",
    "sc.pp.log1p(adata, base=10)\n",
    "sc.pp.scale(adata, zero_center=True)\n",
    "\n",
    "# Compute PCA\n",
    "sc.tl.pca(adata, svd_solver='arpack')"
   ]
  },
  {
   "cell_type": "code",
   "execution_count": 27,
   "id": "designed-deputy",
   "metadata": {},
   "outputs": [
    {
     "name": "stderr",
     "output_type": "stream",
     "text": [
      "<ipython-input-27-744c5a86891d>:33: UserWarning: This figure includes Axes that are not compatible with tight_layout, so results might be incorrect.\n",
      "  plt.tight_layout()\n"
     ]
    },
    {
     "data": {
      "image/png": "[encoded data removed]",
      "text/plain": [
       "<Figure size 993.6x288 with 2 Axes>"
      ]
     },
     "metadata": {},
     "output_type": "display_data"
    }
   ],
   "source": [
    "# fname = \"PCA_EMBL_matrices_fine_class_pos\"\n",
    "# with rc_context():    \n",
    "#     ax = sc.pl.pca(adata, \n",
    "#                    components=['1, 2'], \n",
    "#                    color=['Matrix short'],\n",
    "#                    size=300, \n",
    "#                    ncols=2,\n",
    "#                    legend_loc='right margin',\n",
    "#                    show=False, \n",
    "#                    wspace=0.35,\n",
    "#                    annotate_var_explained = True)\n",
    "#     ax.set_title('MALDI matrix')\n",
    "#     plt.tight_layout()\n",
    "#     plt.savefig(p_out/ f\"{fname}.png\")\n",
    "#     plt.savefig(p_out / f\"{fname}.pdf\")\n",
    "\n",
    "\n",
    "fname = \"PCA_EMBL_matrices_fine_class_both\"\n",
    "with rc_context():    \n",
    "    ax = sc.pl.pca(adata, \n",
    "                   components=['1, 2'], \n",
    "                   color=['Matrix short', 'Polarity'],\n",
    "                   size=300, \n",
    "                   ncols=2,\n",
    "                   legend_loc='right margin',\n",
    "                   show=False, \n",
    "                   wspace=0.15,\n",
    "                   annotate_var_explained = True)\n",
    "    ax[0].set_title('MALDI matrix')\n",
    "    ax[0].set_aspect(1.5)\n",
    "    ax[1].set_title('Polarity')\n",
    "    ax[1].set_aspect(1.5)\n",
    "    plt.tight_layout()\n",
    "    plt.savefig(p_out/ f\"{fname}.png\")\n",
    "    plt.savefig(p_out / f\"{fname}.pdf\")"
   ]
  },
  {
   "cell_type": "code",
   "execution_count": null,
   "id": "secondary-turkey",
   "metadata": {},
   "outputs": [],
   "source": []
  }
 ],
 "metadata": {
  "kernelspec": {
   "display_name": "Python 3",
   "language": "python",
   "name": "python3"
  },
  "language_info": {
   "codemirror_mode": {
    "name": "ipython",
    "version": 3
   },
   "file_extension": ".py",
   "mimetype": "text/x-python",
   "name": "python",
   "nbconvert_exporter": "python",
   "pygments_lexer": "ipython3",
   "version": "3.8.5"
  }
 },
 "nbformat": 4,
 "nbformat_minor": 5
}
