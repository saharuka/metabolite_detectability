{
 "cells": [
  {
   "cell_type": "markdown",
   "id": "acceptable-census",
   "metadata": {},
   "source": [
    "# This notebook creates several summary bar plots to describe how many metabolites were detected"
   ]
  },
  {
   "cell_type": "markdown",
   "id": "material-norway",
   "metadata": {},
   "source": [
    "## 1. Run this first section for all plots"
   ]
  },
  {
   "cell_type": "code",
   "execution_count": 1,
   "id": "level-finish",
   "metadata": {},
   "outputs": [],
   "source": [
    "from pathlib import Path\n",
    "from definitions import ROOT_DIR\n",
    "import pandas as pd\n",
    "import numpy as np\n",
    "\n",
    "import matplotlib.pyplot as plt\n",
    "from matplotlib.patches import Patch\n",
    "from matplotlib.ticker import MaxNLocator\n",
    "from textwrap import wrap\n",
    "import seaborn as sns\n",
    "from plotnine import *\n",
    "\n",
    "from matplotlib import rc\n",
    "\n",
    "rc('font',**{'family':'sans-serif',\n",
    "             'sans-serif':['Arial'],\n",
    "             'size':16})\n",
    "rc('pdf', fonttype=42)\n",
    "rc('ps', fonttype=42)"
   ]
  },
  {
   "cell_type": "code",
   "execution_count": 2,
   "id": "informational-reserve",
   "metadata": {},
   "outputs": [],
   "source": [
    "def filter_neutral_losses(df, neutral_losses=['']):\n",
    "    '''\n",
    "    Filter out entries for ions with neutral losses that are not in the list provided\n",
    "    If neutral_loss value us \"only_nl\", than consider only ions that have neutral losses\n",
    "    '''\n",
    "    \n",
    "    if neutral_losses == \"only_nl\":\n",
    "        df = df[df.neutral_loss != \"\"]\n",
    "    elif neutral_losses != None:\n",
    "        df = df[df.neutral_loss.isin(neutral_losses)]\n",
    "    return df\n",
    "\n",
    "\n",
    "def filter_adducts(df, adducts=['']):\n",
    "    '''\n",
    "    Filter out entries for ions with adducts that are not in the list provided\n",
    "    '''\n",
    "    if adducts != None:\n",
    "        df = df[df.adduct.isin(adducts)]\n",
    "    return df\n",
    "\n",
    "\n",
    "def filter_polarity(df, polarity=None):\n",
    "    '''\n",
    "    Filter out entries based on polarity pol ['positive', 'negative']\n",
    "    '''\n",
    "    if polarity != None:\n",
    "        df = df[df.Polarity == polarity]\n",
    "    return df\n",
    "\n",
    "\n",
    "def filter_data(data, polarity=None, adducts=None, neutral_losses=None):\n",
    "    '''\n",
    "    Apply polarity, adduct and neutral_loss filters\n",
    "    '''\n",
    "    data = filter_polarity(data, polarity)\n",
    "    data = filter_adducts(data, adducts)\n",
    "    data = filter_neutral_losses(data, neutral_losses)\n",
    "    return data\n",
    "\n",
    "def group_by_metabolite(df, threshold=0.8):\n",
    "    '''\n",
    "    Aggregate detection values per metabolite\n",
    "    '''\n",
    "    \n",
    "    df['detectability'] = df.pred_val >= threshold\n",
    "            \n",
    "    data = df.pivot_table(index='name_short',\n",
    "                          columns='Matrix short',\n",
    "                          values='detectability',\n",
    "                          aggfunc='max',\n",
    "                          fill_value=False)\n",
    "    return data\n",
    "\n",
    "def group_by_metabolite_w_polarity(df, threshold=0.8):\n",
    "    '''\n",
    "    Aggregate detection values per metabolite\n",
    "    '''\n",
    "    \n",
    "    df['detectability'] = df.pred_val >= threshold\n",
    "            \n",
    "    data = df.pivot_table(index='name_short',\n",
    "                          columns=['Matrix short','Polarity'],\n",
    "                          values='detectability',\n",
    "                          aggfunc='max',\n",
    "                          fill_value=False)\n",
    "    return data\n",
    "\n",
    "def sum_detections_per_metabolite(data):\n",
    "    \n",
    "    data['detected_by_n_methods'] = data.sum(axis=1)\n",
    "    data = data.reset_index()\n",
    "    data.sort_values(by='detected_by_n_methods', ascending=False, inplace=True)\n",
    "    \n",
    "    return data\n",
    "\n",
    "def prep_plot_data(data, polarity=None, neutral_losses=None):\n",
    "    '''\n",
    "    '''\n",
    "    data = filter_data(data, polarity=polarity, neutral_losses=neutral_losses)\n",
    "    data = group_by_metabolite_w_polarity(data)\n",
    "    data = sum_detections_per_metabolite(data)\n",
    "    \n",
    "    return data"
   ]
  },
  {
   "cell_type": "markdown",
   "id": "tracked-stopping",
   "metadata": {},
   "source": [
    "- Inputs"
   ]
  },
  {
   "cell_type": "code",
   "execution_count": 3,
   "id": "superb-arnold",
   "metadata": {},
   "outputs": [],
   "source": [
    "p_root_dir = Path(ROOT_DIR).parents[0]\n",
    "p_data = p_root_dir / \"5_data_analysis\"\n",
    "p_out = p_root_dir / \"6_plots/plots/maldi_protocol_comparison_barplots\"\n",
    "\n",
    "# Compounds name and ID information\n",
    "p_compounds = p_data / \"compounds_ids.csv\"\n",
    "\n",
    "# Metrics and Catboost predictions for all ions in their target wells\n",
    "p_predictions = p_data / \"all_predictions_curated_11-Dec-2021.csv\"\n",
    "\n",
    "# Dataset info (lab, matrix, polarity, m/z range, ids, etc.)\n",
    "p_datasets = p_data / \"Datasets_14Jul2022.csv\"\n",
    "\n",
    "# Classification\n",
    "p_chem_class = p_data / \"custom_classification_v2.csv\"\n",
    "p_pathways = p_data / \"pathways_v2.csv\""
   ]
  },
  {
   "cell_type": "markdown",
   "id": "bigger-tower",
   "metadata": {},
   "source": [
    "- Load and merge predictions with dataset metadata"
   ]
  },
  {
   "cell_type": "code",
   "execution_count": 4,
   "id": "formed-warner",
   "metadata": {},
   "outputs": [],
   "source": [
    "# Load predictions, format neutral loss column\n",
    "predictions = pd.read_csv(p_predictions, index_col=0)[['dataset_id', \n",
    "                                                       'name_short', \n",
    "                                                       'adduct', \n",
    "                                                       'neutral_loss', \n",
    "                                                       'pred_val',\n",
    "                                                       'spot_intensity_bgr_corrected']]\n",
    "predictions.neutral_loss.fillna('', inplace=True)\n",
    "\n",
    "# Add dataset metadata \n",
    "datasets = pd.read_csv(p_datasets)\n",
    "datasets_info = datasets.groupby('Dataset ID').first()[['Polarity', 'Matrix short', 'Matrix long', 'Slide code', 'EMBL']]\n",
    "datasets_info['sample_name'] = datasets_info['Matrix short']\n",
    "\n",
    "# Merge with predictions\n",
    "df = pd.merge(predictions, datasets_info, left_on='dataset_id', right_on='Dataset ID', how='left')"
   ]
  },
  {
   "cell_type": "markdown",
   "id": "polish-empty",
   "metadata": {},
   "source": [
    "- Load compound metadata and classification"
   ]
  },
  {
   "cell_type": "code",
   "execution_count": 5,
   "id": "single-furniture",
   "metadata": {},
   "outputs": [],
   "source": [
    "compounds = pd.read_csv(p_compounds, index_col='internal_id')\n",
    "compounds = compounds[compounds.hmdb_primary != 'custom'][['name_short']] # to exclude thermometer ions"
   ]
  },
  {
   "cell_type": "markdown",
   "id": "incredible-spectrum",
   "metadata": {},
   "source": [
    "## 2. How many methods detect each compound"
   ]
  },
  {
   "cell_type": "code",
   "execution_count": null,
   "id": "boring-buddy",
   "metadata": {},
   "outputs": [],
   "source": [
    "def make_bar_plot(plot_data, title):\n",
    "    # this figure is good for zooming in and studying trends\n",
    "    fig, ax = plt.subplots(figsize=(40,15))\n",
    "    g = sns.barplot(x='name_short', y=f'detected_by_n_methods', data=plot_data, ax=ax, color='k')\n",
    "    \n",
    "    # appearance\n",
    "    g.set_xticklabels(g.get_xticklabels(), rotation=90)\n",
    "    g.set_xlabel(None) # hide axes labels\n",
    "    \n",
    "    g.set_yticklabels(g.get_yticks(), size=30)\n",
    "    g.set_ylabel('Number of protocols detecting copmpound', fontsize=30) \n",
    "    g.set_title(title, fontsize=35)\n",
    "    plt.tight_layout()\n",
    "\n",
    "    return g\n",
    "\n",
    "def make_bar_plot_figure(plot_data, title=\"\"):\n",
    "    # this figure is good for print\n",
    "    fig, ax = plt.subplots(figsize=(7,4))\n",
    "    g = sns.barplot(x='name_short', y='detected_by_n_methods', data=plot_data, ax=ax, color='k')\n",
    "    \n",
    "    # Edit axes\n",
    "    g.set(xlabel='Metabolites', xticklabels='', ylabel = \"\\n\".join(wrap('Number of protocols detecting the metabolite', 25)), title=title)\n",
    "#     g.tick_params(left=True, bottom=False)\n",
    "#     g.yaxis.set_major_locator(MaxNLocator(integer=True))\n",
    "    # Edit plot area\n",
    "    sns.despine()\n",
    "    plt.tight_layout()\n",
    "\n",
    "    return g"
   ]
  },
  {
   "cell_type": "markdown",
   "id": "ready-spain",
   "metadata": {},
   "source": [
    "- Make a test plot"
   ]
  },
  {
   "cell_type": "code",
   "execution_count": null,
   "id": "numeric-cambridge",
   "metadata": {},
   "outputs": [],
   "source": [
    "# prepare data\n",
    "polarity=None #'positive', 'negative', None\n",
    "plot_data = prep_plot_data(data=df,\n",
    "                           polarity=polarity,\n",
    "                           neutral_losses=[''])\n",
    "\n",
    "# Print stats\n",
    "print(f\"Stats for {polarity} polarity/ies: \\n\")\n",
    "print(f\"{sum(plot_data.detected_by_n_methods > 0)} out of {sum(~plot_data.detected_by_n_methods.isna())} metabolites were detected\")\n",
    "print(f\"This is {int(100*sum(plot_data.detected_by_n_methods > 0) / sum(~plot_data.detected_by_n_methods.isna()))}%  \\n\")\n",
    "print(f\"{sum(plot_data.detected_by_n_methods == 12)} metabolites were detected by all methods\")\n",
    "print(f\"These metabolites are {plot_data.name_short[plot_data.detected_by_n_methods == 12].values} \\n\")\n",
    "print(f\"Half of the compounds were deteced by {np.floor(plot_data.detected_by_n_methods.describe()[5])} or more protocols \\n\")\n",
    "print(f\"{sum(plot_data.detected_by_n_methods == 0)} metabolites were not detected\")\n",
    "print(f\"These metabolites are {plot_data.name_short[plot_data.detected_by_n_methods == 0].values} \\n\")\n",
    "print(f\"More than half of the compounds were detected by at least {np.median(plot_data.detected_by_n_methods)} protocols\")\n",
    "\n",
    "## make plots\n",
    "make_bar_plot(plot_data, title='Test plot')\n",
    "# make_bar_plot_figure(plot_data, title='Test plot')"
   ]
  },
  {
   "cell_type": "markdown",
   "id": "brief-intensity",
   "metadata": {},
   "source": [
    "- Bulk save plots for combinations of the following parameters:\n",
    "1. Ionisation mode: positive, negative or both combined\n",
    "2. Neutral losses included of excluded"
   ]
  },
  {
   "cell_type": "code",
   "execution_count": null,
   "id": "latest-coast",
   "metadata": {},
   "outputs": [],
   "source": [
    "for neutral_losses in [[\"\"]]: #[None, [''], 'only_nl']:\n",
    "    \n",
    "    nl_label = 'with n.l.'\n",
    "    if neutral_losses == [\"\"]: \n",
    "        nl_label = 'no n.l.'  \n",
    "    elif neutral_losses == 'only_nl':\n",
    "        nl_label = 'only n.l.'     \n",
    "    \n",
    "    for polarity in ['positive', 'negative', None]:\n",
    "        \n",
    "        # Prepare data to plot      \n",
    "        plot_data = prep_plot_data(data=df,\n",
    "                           polarity=polarity,\n",
    "                           neutral_losses=neutral_losses)\n",
    "        \n",
    "        \n",
    "        # Make the plot\n",
    "        title = f\"Detailed plot - selected by n methods {nl_label} {polarity}\"\n",
    "        g = make_bar_plot(plot_data, title=title)\n",
    "\n",
    "        # Save the plot\n",
    "        g.figure.savefig(p_out / \"n_methods_detecting_metabolite\" / f\"{title}.png\")\n",
    "        g.figure.savefig(p_out / \"n_methods_detecting_metabolite\" / f\"{title}.pdf\", transparent=True)\n",
    "        plt.close()  "
   ]
  },
  {
   "cell_type": "code",
   "execution_count": null,
   "id": "literary-career",
   "metadata": {},
   "outputs": [],
   "source": [
    "for neutral_losses in [[\"\"]]:\n",
    "    \n",
    "    nl_label = 'with n.l.'\n",
    "    if neutral_losses == [\"\"]: \n",
    "        nl_label = 'no n.l.'  \n",
    "    elif neutral_losses == 'only_nl':\n",
    "        nl_label = 'only n.l.'         \n",
    "    \n",
    "    for polarity in ['positive', 'negative', None]:\n",
    "        \n",
    "        polarity_label = 'Both ionisation modes'\n",
    "        if polarity == 'positive':\n",
    "            polarity_label = 'Positive ionisation mode'\n",
    "        elif polarity == 'negative':\n",
    "            polarity_label = 'Negative ionisation mode' \n",
    "        \n",
    "        # Prepare data to plot      \n",
    "        plot_data = prep_plot_data(data=df,\n",
    "                           polarity=polarity,\n",
    "                           neutral_losses=neutral_losses)\n",
    "\n",
    "        # Make the plot\n",
    "        fname = f\"Figure - selected by n methods {nl_label} {polarity}\"\n",
    "        title = f\"{polarity_label}\"\n",
    "        g = make_bar_plot_figure(plot_data, title=title)\n",
    "\n",
    "#         Save the plot\n",
    "        g.figure.savefig(p_out / \"n_methods_detecting_metabolite\" / f\"{fname}.png\")\n",
    "        g.figure.savefig(p_out / \"n_methods_detecting_metabolite\" / f\"{fname}.pdf\", transparent=True)\n",
    "        plt.close()  "
   ]
  },
  {
   "cell_type": "markdown",
   "id": "serial-holocaust",
   "metadata": {},
   "source": [
    "## 3. Detections summarised by pathway"
   ]
  },
  {
   "cell_type": "code",
   "execution_count": 6,
   "id": "incident-carry",
   "metadata": {},
   "outputs": [],
   "source": [
    "def stacked_barplot(data, category_column, category_name, aspect_ratio=1, title=\"\"):\n",
    "    p = (ggplot(data)    # defining what data to use\n",
    "     + aes(x=category_column)    # defining what variable to use\n",
    "     + geom_bar(aes(fill = 'detected'), linetype='solid', color='black') # defining the type of plot to use\n",
    "     + coord_flip()\n",
    "     + labs(x = category_name, y = \"Number of compounds\", fill = \"Detected?\", title=title)\n",
    "     + theme_classic()\n",
    "     + theme(\n",
    "         aspect_ratio=aspect_ratio,\n",
    "             text=element_text(family = 'sans-serif', size=16, color='black'),\n",
    "             title=element_text(family = 'sans-serif', size=18))\n",
    "     + scale_fill_manual(['white', 'grey'])\n",
    "    )\n",
    "\n",
    "    return p"
   ]
  },
  {
   "cell_type": "markdown",
   "id": "solid-supervisor",
   "metadata": {},
   "source": [
    "### Plot with fine pathways"
   ]
  },
  {
   "cell_type": "code",
   "execution_count": null,
   "id": "innocent-profit",
   "metadata": {},
   "outputs": [],
   "source": [
    "# Map compounds to pathways\n",
    "pathways = pd.read_csv(p_pathways)\n",
    "fine_path_map = compounds.merge(pathways.drop(['main_coarse_path'], axis=1), how='left', on='name_short')"
   ]
  },
  {
   "cell_type": "markdown",
   "id": "latter-liechtenstein",
   "metadata": {},
   "source": [
    "- Order compounds first by coarse path (alphabetically), then by fine path (largest to smallest), so that the bars in th bar plot are arranged correctly"
   ]
  },
  {
   "cell_type": "code",
   "execution_count": null,
   "id": "arranged-belief",
   "metadata": {},
   "outputs": [],
   "source": [
    "fine_path_map['n_molecules'] = 1\n",
    "\n",
    "grouped_fine_path_map = fine_path_map.groupby(['fine_path']).agg({\n",
    "    'coarse_path':'first',\n",
    "    'n_molecules':'count'\n",
    "})\n",
    "\n",
    "# Sort coarse paths in alphabetical order\n",
    "coarse_paths = np.sort(fine_path_map.coarse_path.unique())\n",
    "\n",
    "# Fine path by number of molecules\n",
    "custom_order = [grouped_fine_path_map[grouped_fine_path_map.coarse_path == x].sort_values('n_molecules', ascending=False).index.values for x in coarse_paths]\n",
    "custom_order = list(np.concatenate(custom_order)) #convert to list\n",
    "\n",
    "# Get the correct row order for ungrouped dataframe\n",
    "order_column = [custom_order.index(x) for x in fine_path_map.fine_path]\n",
    "fine_path_map['order'] = order_column\n",
    "\n",
    "# Reorder rows of dataframe\n",
    "fine_path_map_sorted = fine_path_map.sort_values('order', ascending = False)\n",
    "\n",
    "# Convert path column values to categorical\n",
    "# Without this step plotnine will ignore row order in the dataframe\n",
    "fine_path_map_sorted['fine_path'] = pd.Categorical(fine_path_map_sorted.fine_path, categories=pd.unique(fine_path_map_sorted.fine_path))"
   ]
  },
  {
   "cell_type": "markdown",
   "id": "posted-frame",
   "metadata": {},
   "source": [
    "- Make a test plot"
   ]
  },
  {
   "cell_type": "code",
   "execution_count": null,
   "id": "knowing-casino",
   "metadata": {},
   "outputs": [],
   "source": [
    "# Prepare data\n",
    "plot_data = prep_plot_data(data=df,\n",
    "                      polarity=None,\n",
    "                      neutral_losses=[''])\n",
    "\n",
    "# Map data to classification\n",
    "detection_df = plot_data[['name_short', 'detected_by_n_methods']]\n",
    "detection_df.columns = detection_df.columns.get_level_values(0)\n",
    "detection_df['detected'] = detection_df['detected_by_n_methods'] > 0\n",
    "detection_df['detected'] = ['Yes' if x==True else 'No' for x in detection_df['detected']]\n",
    "stacked_data = fine_path_map_sorted.merge(detection_df, how='left', on='name_short')\n",
    "\n",
    "# Plot data\n",
    "stacked_barplot(stacked_data, category_column='fine_path', category_name='Biochemical pathway', aspect_ratio=1.5)"
   ]
  },
  {
   "cell_type": "code",
   "execution_count": null,
   "id": "laughing-reader",
   "metadata": {},
   "outputs": [],
   "source": [
    "for neutral_losses in [['']]: #[None, [''], 'only_nl']:\n",
    "    \n",
    "    nl_label = 'with n.l.'\n",
    "    if neutral_losses == ['']: \n",
    "        nl_label = 'no n.l.'  \n",
    "    elif neutral_losses == 'only_nl':\n",
    "        nl_label = 'only n.l.'  \n",
    "\n",
    "    for polarity in ['positive', 'negative', None]:\n",
    "        \n",
    "        polarity_label = 'Both ionisation modes'\n",
    "        if polarity == 'positive':\n",
    "            polarity_label = 'Positive ionisation mode'\n",
    "        elif polarity == 'negative':\n",
    "            polarity_label = 'Negative ionisation mode'  \n",
    "        \n",
    "\n",
    "        # Prepare data\n",
    "        plot_data = prep_plot_data(data=df,\n",
    "                              polarity=polarity,\n",
    "                              neutral_losses=neutral_losses)\n",
    "\n",
    "        # Map data to classification\n",
    "        detection_df = plot_data[['name_short', 'detected_by_n_methods']]\n",
    "        detection_df.columns = detection_df.columns.get_level_values(0)\n",
    "        detection_df['detected'] = detection_df['detected_by_n_methods'] > 0\n",
    "        detection_df['detected'] = ['Yes' if x==True else 'No' for x in detection_df['detected']]\n",
    "        stacked_data = fine_path_map_sorted.merge(detection_df, how='left', on='name_short')\n",
    "\n",
    "        # Plot data\n",
    "        fname = f\"Coverage per fine_path {polarity} {nl_label}\"\n",
    "        title = polarity_label\n",
    "        p = stacked_barplot(stacked_data, 'fine_path', 'Biochemical pathway', aspect_ratio=1.7, title=title)\n",
    "\n",
    "        # Save the plot\n",
    "        p.save(p_out / \"detection_per_pathway\" / f\"{fname}.png\")\n",
    "        save_as_pdf_pages([p], p_out / \"detection_per_pathway\" / f\"{fname}.pdf\")\n",
    "        plt.close()  "
   ]
  },
  {
   "cell_type": "markdown",
   "id": "growing-nation",
   "metadata": {},
   "source": [
    "### Plot with coarse pathways"
   ]
  },
  {
   "cell_type": "code",
   "execution_count": null,
   "id": "patent-channel",
   "metadata": {},
   "outputs": [],
   "source": [
    "# Map conpounds to pathways\n",
    "coarse_path_map = compounds.merge(pathways.drop(['coarse_path', 'fine_path'], axis=1).drop_duplicates(), how='left', on='name_short')"
   ]
  },
  {
   "cell_type": "markdown",
   "id": "weird-incidence",
   "metadata": {},
   "source": [
    "- Make a test plot"
   ]
  },
  {
   "cell_type": "code",
   "execution_count": null,
   "id": "handmade-cleaners",
   "metadata": {},
   "outputs": [],
   "source": [
    "# Prepare data\n",
    "plot_data = prep_plot_data(data=df,\n",
    "                      polarity='negative', \n",
    "                      neutral_losses=[''])\n",
    "\n",
    "# Map data to classification\n",
    "detection_df = plot_data[['name_short', 'detected_by_n_methods']]\n",
    "detection_df.columns = detection_df.columns.get_level_values(0)\n",
    "detection_df['detected'] = detection_df['detected_by_n_methods'] > 0\n",
    "detection_df['detected'] = ['Yes' if x==True else 'No' for x in detection_df['detected']]\n",
    "stacked_data = coarse_path_map.merge(detection_df, how='left', on='name_short')\n",
    "\n",
    "# Plot data\n",
    "stacked_barplot(stacked_data, 'main_coarse_path', 'Biochemical pathway', aspect_ratio=0.27)"
   ]
  },
  {
   "cell_type": "markdown",
   "id": "analyzed-statistics",
   "metadata": {},
   "source": [
    "- Save plots in a batch mode changing polarity filter settings"
   ]
  },
  {
   "cell_type": "code",
   "execution_count": null,
   "id": "desirable-signal",
   "metadata": {},
   "outputs": [],
   "source": [
    "for neutral_losses in [['']]: #[None, [''], 'only_nl']:\n",
    "    \n",
    "    nl_label = 'with n.l.'\n",
    "    if neutral_losses == ['']: \n",
    "        nl_label = 'no n.l.'  \n",
    "    elif neutral_losses == 'only_nl':\n",
    "        nl_label = 'only n.l.'  \n",
    "\n",
    "    for polarity in ['positive', 'negative', None]:\n",
    "        \n",
    "        polarity_label = 'Both ionisation modes'\n",
    "        if polarity == 'positive':\n",
    "            polarity_label = 'Positive ionisation mode'\n",
    "        elif polarity == 'negative':\n",
    "            polarity_label = 'Negative ionisation mode'  \n",
    "        \n",
    "\n",
    "        # Prepare data\n",
    "        plot_data = prep_plot_data(data=df,\n",
    "                              polarity=polarity,\n",
    "                              neutral_losses=neutral_losses)\n",
    "\n",
    "        # Map data to classification\n",
    "        detection_df = plot_data[['name_short', 'detected_by_n_methods']]\n",
    "        detection_df.columns = detection_df.columns.get_level_values(0)\n",
    "        detection_df['detected'] = detection_df['detected_by_n_methods'] > 0\n",
    "        detection_df['detected'] = ['Yes' if x==True else 'No' for x in detection_df['detected']]\n",
    "        stacked_data = coarse_path_map.merge(detection_df, how='left', on='name_short')\n",
    "\n",
    "        # Plot data\n",
    "        fname = f\"Coverage per coarse_path {polarity} {nl_label}\"\n",
    "        title = polarity_label\n",
    "        p = stacked_barplot(stacked_data, 'main_coarse_path', 'Biochemical pathway', aspect_ratio=0.3, title=title)\n",
    "        \n",
    "        # Save the plot\n",
    "        p.save(p_out / \"detection_per_pathway\" / f\"{fname}.png\")\n",
    "        save_as_pdf_pages([p], p_out / \"detection_per_pathway\" / f\"{fname}.pdf\")\n",
    "        plt.close()  "
   ]
  },
  {
   "cell_type": "markdown",
   "id": "martial-lancaster",
   "metadata": {},
   "source": [
    "## 4. Detections summarised by class"
   ]
  },
  {
   "cell_type": "markdown",
   "id": "configured-villa",
   "metadata": {},
   "source": [
    "### Plot with fine classes"
   ]
  },
  {
   "cell_type": "code",
   "execution_count": 7,
   "id": "metropolitan-inspector",
   "metadata": {},
   "outputs": [],
   "source": [
    "classes = pd.read_csv(p_chem_class, index_col='internal_id')\n",
    "\n",
    "# Map compounds to pathways\n",
    "fine_class_map = compounds.merge(classes.drop(['main_coarse_class'], axis=1), how='left', on='name_short')"
   ]
  },
  {
   "cell_type": "markdown",
   "id": "republican-confidence",
   "metadata": {},
   "source": [
    "- Order compounds first by coarse class (alphabetically), then by fine class (largest to smallest), so that the bars in th bar plot are arranged correctly"
   ]
  },
  {
   "cell_type": "code",
   "execution_count": null,
   "id": "found-punch",
   "metadata": {},
   "outputs": [],
   "source": [
    "fine_class_map['n_molecules'] = 1\n",
    "\n",
    "grouped_fine_class_map = fine_class_map.groupby(['fine_class']).agg({\n",
    "    'coarse_class':'first',\n",
    "    'n_molecules':'count'\n",
    "})\n",
    "\n",
    "# Sort coarse paths in alphabetical order\n",
    "coarse_classes = np.sort(fine_class_map.coarse_class.unique())\n",
    "\n",
    "# Fine path by number of molecules\n",
    "custom_order = [grouped_fine_class_map[grouped_fine_class_map.coarse_class == x].sort_values('n_molecules', ascending=False).index.values for x in coarse_classes]\n",
    "custom_order = list(np.concatenate(custom_order)) #convert to list\n",
    "\n",
    "# Get the correct row order for ungrouped dataframe\n",
    "order_column = [custom_order.index(x) for x in fine_class_map.fine_class]\n",
    "fine_class_map['order'] = order_column\n",
    "\n",
    "# Reorder rows of dataframe\n",
    "fine_class_map_sorted = fine_class_map.sort_values('order', ascending = False)\n",
    "\n",
    "# Convert path column values to categorical\n",
    "# Without this step plotnine will ignore row order in the dataframe\n",
    "fine_class_map_sorted['fine_class'] = pd.Categorical(fine_class_map_sorted.fine_class, categories=pd.unique(fine_class_map_sorted.fine_class))"
   ]
  },
  {
   "cell_type": "markdown",
   "id": "cheap-victory",
   "metadata": {},
   "source": [
    "- Make a test plot"
   ]
  },
  {
   "cell_type": "code",
   "execution_count": null,
   "id": "eleven-choice",
   "metadata": {},
   "outputs": [],
   "source": [
    "# Prepare data\n",
    "plot_data = prep_plot_data(data=df,\n",
    "                      polarity='negative',\n",
    "                      neutral_losses=[''])\n",
    "\n",
    "# Map data to classification\n",
    "detection_df = plot_data[['name_short', 'detected_by_n_methods']]\n",
    "detection_df.columns = detection_df.columns.get_level_values(0)\n",
    "detection_df['detected'] = detection_df['detected_by_n_methods'] > 0\n",
    "detection_df['detected'] = ['Yes' if x==True else 'No' for x in detection_df['detected']]\n",
    "stacked_data = fine_class_map_sorted.merge(detection_df, how='left', on='name_short')\n",
    "\n",
    "# Plot data\n",
    "stacked_barplot(stacked_data, 'fine_class', 'Chemical class', aspect_ratio=1.5)"
   ]
  },
  {
   "cell_type": "markdown",
   "id": "martial-healing",
   "metadata": {},
   "source": [
    "- Batch save plots"
   ]
  },
  {
   "cell_type": "code",
   "execution_count": null,
   "id": "balanced-sapphire",
   "metadata": {},
   "outputs": [],
   "source": [
    "for neutral_losses in [['']]: #[None, [''], 'only_nl']:\n",
    "    \n",
    "    nl_label = 'with n.l.'\n",
    "    if neutral_losses == ['']: \n",
    "        nl_label = 'no n.l.'  \n",
    "    elif neutral_losses == 'only_nl':\n",
    "        nl_label = 'only n.l.'  \n",
    "\n",
    "    for polarity in ['positive', 'negative', None]:\n",
    "        \n",
    "        polarity_label = 'Both ionisation modes'\n",
    "        if polarity == 'positive':\n",
    "            polarity_label = 'Positive ionisation mode'\n",
    "        elif polarity == 'negative':\n",
    "            polarity_label = 'Negative ionisation mode'  \n",
    "        \n",
    "\n",
    "        # Prepare data\n",
    "        plot_data = prep_plot_data(data=df,\n",
    "                              polarity=polarity,\n",
    "                              neutral_losses=neutral_losses)\n",
    "\n",
    "        # Map data to classification\n",
    "        detection_df = plot_data[['name_short', 'detected_by_n_methods']]\n",
    "        detection_df.columns = detection_df.columns.get_level_values(0)\n",
    "        detection_df['detected'] = detection_df['detected_by_n_methods'] > 0\n",
    "        detection_df['detected'] = ['Yes' if x==True else 'No' for x in detection_df['detected']]\n",
    "        stacked_data = fine_class_map_sorted.merge(detection_df, how='left', on='name_short')\n",
    "\n",
    "        # Plot data\n",
    "        fname = f\"Coverage per fine_class {polarity} {nl_label}\"\n",
    "        title = polarity_label\n",
    "        p = stacked_barplot(stacked_data, 'fine_class', 'Chemical subclass', aspect_ratio=1.6, title=title)\n",
    "\n",
    "        # Save the plot\n",
    "        p.save(p_out / \"detection_per_chemical_class\" / f\"{fname}.png\")\n",
    "        save_as_pdf_pages([p], p_out / \"detection_per_chemical_class\" / f\"{fname}.pdf\")\n",
    "        plt.close()  "
   ]
  },
  {
   "cell_type": "markdown",
   "id": "straight-timber",
   "metadata": {},
   "source": [
    "### Plot with coarse classes"
   ]
  },
  {
   "cell_type": "code",
   "execution_count": 8,
   "id": "regulated-membrane",
   "metadata": {},
   "outputs": [],
   "source": [
    "# Map conpounds to pathways\n",
    "coarse_class_map = compounds.merge(classes.drop(['coarse_class', 'fine_class'], axis=1).drop_duplicates(), how='left', on='name_short')\n",
    "coarse_class_map.main_coarse_class = pd.Categorical(coarse_class_map.main_coarse_class, categories=pd.unique(coarse_class_map.main_coarse_class.sort_values(ascending=False)))"
   ]
  },
  {
   "cell_type": "markdown",
   "id": "wanted-prefix",
   "metadata": {},
   "source": [
    "- Make test plot"
   ]
  },
  {
   "cell_type": "code",
   "execution_count": null,
   "id": "respective-rough",
   "metadata": {},
   "outputs": [],
   "source": [
    "# Prepare data\n",
    "plot_data = prep_plot_data(data=df,\n",
    "                      polarity=None,\n",
    "                      neutral_losses=[''])\n",
    "\n",
    "# Map data to classification\n",
    "detection_df = plot_data[['name_short', 'detected_by_n_methods']]\n",
    "detection_df.columns = detection_df.columns.get_level_values(0)\n",
    "detection_df['detected'] = detection_df['detected_by_n_methods'] > 0\n",
    "detection_df['detected'] = ['Yes' if x==True else 'No' for x in detection_df['detected']]\n",
    "plot_data = coarse_class_map.merge(detection_df, how='left', on='name_short')\n",
    "\n",
    "# Plot data\n",
    "stacked_barplot(plot_data, 'main_coarse_class', 'Chemical class', aspect_ratio=0.37)"
   ]
  },
  {
   "cell_type": "markdown",
   "id": "advisory-mirror",
   "metadata": {},
   "source": [
    "- Batch save plots"
   ]
  },
  {
   "cell_type": "code",
   "execution_count": null,
   "id": "sonic-ladder",
   "metadata": {},
   "outputs": [],
   "source": [
    "for neutral_losses in [['']]: #[None, [''], 'only_nl']:\n",
    "    \n",
    "    nl_label = 'with n.l.'\n",
    "    if neutral_losses == ['']: \n",
    "        nl_label = 'no n.l.'  \n",
    "    elif neutral_losses == 'only_nl':\n",
    "        nl_label = 'only n.l.'  \n",
    "\n",
    "    for polarity in ['positive', 'negative', None]:\n",
    "        \n",
    "        polarity_label = 'Both ionisation modes'\n",
    "        if polarity == 'positive':\n",
    "            polarity_label = 'Positive ionisation mode'\n",
    "        elif polarity == 'negative':\n",
    "            polarity_label = 'Negative ionisation mode'  \n",
    "        \n",
    "\n",
    "        # Prepare data\n",
    "        plot_data = prep_plot_data(data=df,\n",
    "                              polarity=polarity,\n",
    "                              neutral_losses=neutral_losses)\n",
    "        \n",
    "        # Map data to classification\n",
    "        detection_df = plot_data[['name_short', 'detected_by_n_methods']]\n",
    "        detection_df.columns = detection_df.columns.get_level_values(0)\n",
    "        detection_df['detected'] = detection_df['detected_by_n_methods'] > 0\n",
    "        detection_df['detected'] = ['Yes' if x==True else 'No' for x in detection_df['detected']]\n",
    "        stacked_data = coarse_class_map.merge(detection_df, how='left', on='name_short')\n",
    "\n",
    "        # Plot data\n",
    "        fname = f\"Coverage per coarse_class {polarity} {nl_label}\"\n",
    "        title = polarity_label\n",
    "        p = stacked_barplot(stacked_data, 'main_coarse_class', 'Chemical class', aspect_ratio=0.4, title=title)\n",
    "\n",
    "        # Save the plot\n",
    "        p.save(p_out / \"detection_per_chemical_class\" / f\"TEST{fname}.png\")\n",
    "        save_as_pdf_pages([p], p_out / \"detection_per_chemical_class\" / f\"{fname}.pdf\")\n",
    "        plt.close()  "
   ]
  },
  {
   "cell_type": "markdown",
   "id": "enabling-conviction",
   "metadata": {},
   "source": [
    "- Make this plot showing both polarities"
   ]
  },
  {
   "cell_type": "code",
   "execution_count": 9,
   "id": "realistic-voltage",
   "metadata": {},
   "outputs": [],
   "source": [
    "def prep_plot_data(data, polarity=None, neutral_losses=None, threshold = 0.8):\n",
    "    '''\n",
    "    '''\n",
    "    data = filter_data(data, polarity=polarity, neutral_losses=neutral_losses)\n",
    "    data['detectability'] = data.pred_val >= threshold\n",
    "    data = data.pivot_table(index=['name_short', 'Polarity'],\n",
    "                          columns='Matrix short',\n",
    "                          values='detectability',\n",
    "                          aggfunc='max',\n",
    "                          fill_value=False)\n",
    "    data = sum_detections_per_metabolite(data)\n",
    "    \n",
    "    return data"
   ]
  },
  {
   "cell_type": "code",
   "execution_count": 10,
   "id": "enclosed-destiny",
   "metadata": {},
   "outputs": [
    {
     "name": "stderr",
     "output_type": "stream",
     "text": [
      "<ipython-input-9-8d7f53437c19>:5: SettingWithCopyWarning: \n",
      "A value is trying to be set on a copy of a slice from a DataFrame.\n",
      "Try using .loc[row_indexer,col_indexer] = value instead\n",
      "\n",
      "See the caveats in the documentation: https://pandas.pydata.org/pandas-docs/stable/user_guide/indexing.html#returning-a-view-versus-a-copy\n",
      "<ipython-input-10-f774d75f03fe>:7: SettingWithCopyWarning: \n",
      "A value is trying to be set on a copy of a slice from a DataFrame.\n",
      "Try using .loc[row_indexer,col_indexer] = value instead\n",
      "\n",
      "See the caveats in the documentation: https://pandas.pydata.org/pandas-docs/stable/user_guide/indexing.html#returning-a-view-versus-a-copy\n",
      "<ipython-input-10-f774d75f03fe>:12: FutureWarning: In a future version of pandas, a length 1 tuple will be returned when iterating over a groupby with a grouper equal to a list of length 1. Don't supply a list with a single grouper to avoid this warning.\n"
     ]
    }
   ],
   "source": [
    "# Prepare data\n",
    "data = prep_plot_data(data=df,\n",
    "                      polarity=None,\n",
    "                      neutral_losses=[''])\n",
    "\n",
    "detection_df = data[['name_short', 'Polarity','detected_by_n_methods']]\n",
    "detection_df['detected'] = detection_df['detected_by_n_methods'] > 0\n",
    "grouped = detection_df.groupby(['name_short'])\n",
    "\n",
    "# Prepare labels\n",
    "record=[]\n",
    "for name, group in grouped:\n",
    "    \n",
    "    detected_in = group.loc[group.detected, \"Polarity\"]\n",
    "    if len(detected_in) == 1:\n",
    "        label=f\"Only {detected_in.values[0]}\"\n",
    "    elif len(detected_in) == 2:\n",
    "        label='Both polarities'\n",
    "    else: label='Not detected'\n",
    "    \n",
    "    record.append({'name_short':name,\n",
    "                  'Label':label})\n",
    "    \n",
    "plot_data = pd.DataFrame(record)\n",
    "\n",
    "# Map data to classification\n",
    "plot_data = coarse_class_map.merge(plot_data, how='left', on='name_short')\n",
    "\n",
    "# Define legend order\n",
    "legend_order = ['Not detected', 'Only positive', 'Only negative', 'Both polarities']\n",
    "plot_data['Label'] = pd.Categorical(plot_data['Label'], legend_order)"
   ]
  },
  {
   "cell_type": "code",
   "execution_count": 20,
   "id": "sharing-washington",
   "metadata": {},
   "outputs": [
    {
     "name": "stderr",
     "output_type": "stream",
     "text": [
      "C:\\Users\\saharuka\\.conda\\envs\\zimmerman\\lib\\site-packages\\seaborn\\distributions.py:254: FutureWarning: In a future version, `df.iloc[:, i] = newvals` will attempt to set the values inplace instead of always setting a new array. To retain the old behavior, use either `df[df.columns[i]] = newvals` or, if columns are non-unique, `df.isetitem(i, newvals)`\n"
     ]
    },
    {
     "data": {
      "image/png": "[encoded data removed]",
      "text/plain": [
       "<Figure size 720x216 with 1 Axes>"
      ]
     },
     "metadata": {
      "needs_background": "light"
     },
     "output_type": "display_data"
    }
   ],
   "source": [
    "palette={'Not detected':'white', \n",
    "        'Only negative':'#004488',\n",
    "        'Only positive':'#DDCC77',\n",
    "        'Both polarities':'#44AA99'}\n",
    "\n",
    "plt.figure(figsize = (10,3))\n",
    "m = sns.histplot(data=plot_data, \n",
    "                 y='main_coarse_class', \n",
    "                 stat='count', \n",
    "                 hue='Label', \n",
    "                 multiple='stack', \n",
    "                 palette=palette\n",
    "                )\n",
    "m.invert_yaxis()\n",
    "m.set(xlabel=\"Number of compounds\", ylabel=\"\")\n",
    "sns.move_legend(m, \"upper left\", bbox_to_anchor=(1, 1), title='', frameon=False)\n",
    "sns.despine()\n",
    "plt.tight_layout()"
   ]
  },
  {
   "cell_type": "code",
   "execution_count": 31,
   "id": "herbal-above",
   "metadata": {},
   "outputs": [],
   "source": [
    "m.figure.savefig(p_out  / \"detection_per_chemical_class\" / f\"detections_per_class_both_polarities.png\")\n",
    "m.figure.savefig(p_out  / \"detection_per_chemical_class\" / f\"detections_per_class_both_polarities.pdf\", transparent=True)"
   ]
  },
  {
   "cell_type": "markdown",
   "id": "pleasant-safety",
   "metadata": {},
   "source": [
    "## 5. Detections summarised by matrix"
   ]
  },
  {
   "cell_type": "code",
   "execution_count": null,
   "id": "herbal-coordinate",
   "metadata": {},
   "outputs": [],
   "source": [
    "def prep_plot_data(data, polarity=None, neutral_losses=None):\n",
    "    '''\n",
    "    '''\n",
    "    data = filter_data(data, polarity=polarity, neutral_losses=neutral_losses)\n",
    "    data = group_by_metabolite(data)\n",
    "    data = data.unstack(level=0).reset_index()\n",
    "    data.columns = ['Matrix short', 'name_short', 'detected']\n",
    "    \n",
    "    return data"
   ]
  },
  {
   "cell_type": "markdown",
   "id": "quantitative-witch",
   "metadata": {},
   "source": [
    "- Make a test plot"
   ]
  },
  {
   "cell_type": "code",
   "execution_count": null,
   "id": "passive-albert",
   "metadata": {},
   "outputs": [],
   "source": [
    "# Prepare data\n",
    "plot_data = prep_plot_data(data=df,\n",
    "                      polarity=None, \n",
    "                      neutral_losses=[''])\n",
    "\n",
    "# Define Y axis order\n",
    "matrices_in_order = plot_data.groupby(['Matrix short']).agg({'detected':'sum'}).sort_values(by='detected', ascending=True).index\n",
    "plot_data['Matrix short'] = pd.Categorical(plot_data['Matrix short'], categories=matrices_in_order)\n",
    "\n",
    "# Change labels\n",
    "plot_data['detected'] = ['Yes' if x==True else 'No' for x in plot_data['detected']]\n",
    "\n",
    "# Test plot\n",
    "stacked_barplot(plot_data, 'Matrix short', 'MALDI matrix', aspect_ratio=0.6, title='test')"
   ]
  },
  {
   "cell_type": "markdown",
   "id": "dominant-beijing",
   "metadata": {},
   "source": [
    "- Batch save plots"
   ]
  },
  {
   "cell_type": "code",
   "execution_count": null,
   "id": "cooked-luxury",
   "metadata": {},
   "outputs": [],
   "source": [
    "for neutral_losses in [['']]: #[None, [''], 'only_nl']:\n",
    "    \n",
    "    nl_label = 'with n.l.'\n",
    "    if neutral_losses == ['']: \n",
    "        nl_label = 'no n.l.'  \n",
    "    elif neutral_losses == 'only_nl':\n",
    "        nl_label = 'only n.l.'  \n",
    "\n",
    "    for polarity in ['positive', 'negative', None]:\n",
    "        \n",
    "        polarity_label = 'Both ionisation modes'\n",
    "        if polarity == 'positive':\n",
    "            polarity_label = 'Positive ionisation mode'\n",
    "        elif polarity == 'negative':\n",
    "            polarity_label = 'Negative ionisation mode'  \n",
    "        \n",
    "\n",
    "        # Prepare data\n",
    "        plot_data = prep_plot_data(data=df,\n",
    "                              polarity=polarity,\n",
    "                              neutral_losses=neutral_losses)\n",
    "        \n",
    "            \n",
    "        # Define Y axis order\n",
    "        matrices_in_order = plot_data.groupby(['Matrix short']).agg({'detected':'sum'}).sort_values(by='detected', ascending=True).index\n",
    "        plot_data['Matrix short'] = pd.Categorical(plot_data['Matrix short'], categories=matrices_in_order)\n",
    "\n",
    "        # Change labels\n",
    "        plot_data['detected'] = ['Yes' if x==True else 'No' for x in plot_data['detected']]\n",
    "\n",
    "        # Plot data\n",
    "        fname = f\"Coverage per matrix {polarity} {nl_label}\"\n",
    "        title = f\"{polarity_label}\"\n",
    "        p = stacked_barplot(plot_data, 'Matrix short', 'MALDI matrix', aspect_ratio=0.6, title=title)\n",
    "\n",
    "        # Save the plot\n",
    "        p.save(p_out  / \"detection_per_matrix\" / f\"{fname}.png\")\n",
    "        save_as_pdf_pages([p], p_out / \"detection_per_matrix\" / f\"{fname}.pdf\")\n",
    "        plt.close()  "
   ]
  },
  {
   "cell_type": "markdown",
   "id": "expanded-relationship",
   "metadata": {},
   "source": [
    "- Make a plot where both polarities are shown"
   ]
  },
  {
   "cell_type": "code",
   "execution_count": 6,
   "id": "demanding-clear",
   "metadata": {},
   "outputs": [],
   "source": [
    "def prep_plot_data(data, polarity=None, neutral_losses=None):\n",
    "    '''\n",
    "    '''\n",
    "    data = filter_data(data, polarity=polarity, neutral_losses=neutral_losses)\n",
    "    data = group_by_metabolite_w_polarity(data)\n",
    "    data = data.unstack(level=0).reset_index()\n",
    "    data.columns = ['Matrix short', 'Polarity', 'name_short', 'detected']\n",
    "    \n",
    "    return data"
   ]
  },
  {
   "cell_type": "code",
   "execution_count": 8,
   "id": "mature-archive",
   "metadata": {},
   "outputs": [
    {
     "name": "stdout",
     "output_type": "stream",
     "text": [
      "Per one protocol between 16 and 154 metabolites were detected\n"
     ]
    },
    {
     "name": "stderr",
     "output_type": "stream",
     "text": [
      "<ipython-input-2-a3dc756a18e6>:60: SettingWithCopyWarning: \n",
      "A value is trying to be set on a copy of a slice from a DataFrame.\n",
      "Try using .loc[row_indexer,col_indexer] = value instead\n",
      "\n",
      "See the caveats in the documentation: https://pandas.pydata.org/pandas-docs/stable/user_guide/indexing.html#returning-a-view-versus-a-copy\n"
     ]
    }
   ],
   "source": [
    "plot_data = prep_plot_data(data=df,\n",
    "                           polarity=None,\n",
    "                          neutral_losses=[''])\n",
    "plot_data = plot_data[plot_data.detected]\n",
    "\n",
    "summary = plot_data.groupby([\"Matrix short\",\"Polarity\"]).agg(\"count\")\n",
    "print(f\"Per one protocol between {summary.detected.min()} and {summary.detected.max()} metabolites were detected\")"
   ]
  },
  {
   "cell_type": "code",
   "execution_count": 9,
   "id": "eastern-springer",
   "metadata": {},
   "outputs": [],
   "source": [
    "plot_data = plot_data.groupby(['name_short', 'Matrix short']).agg({'Polarity':list})\n",
    "plot_data.reset_index(inplace=True)\n",
    "\n",
    "labels=[]\n",
    "for i in plot_data.Polarity:\n",
    "    \n",
    "    if i == ['negative', 'positive']:\n",
    "        labels.append('Both polarities')\n",
    "    else: labels.append(f'Only {i[0]}')\n",
    "plot_data['Label'] = labels\n",
    "\n",
    "legend_order = ['Only positive', 'Only negative', 'Both polarities']\n",
    "plot_data['Label'] = pd.Categorical(plot_data['Label'], legend_order)\n",
    "\n",
    "axis_order = ['DHB', 'ClCCA', 'CHCA', 'DAN', '9AA', 'NOR', 'pNA', 'DHAP', 'CMBT', 'NEDC', 'MAPS', 'PNDI']\n",
    "plot_data['Matrix short'] = pd.Categorical(plot_data['Matrix short'], axis_order)"
   ]
  },
  {
   "cell_type": "code",
   "execution_count": 18,
   "id": "known-booth",
   "metadata": {},
   "outputs": [
    {
     "name": "stderr",
     "output_type": "stream",
     "text": [
      "C:\\Users\\saharuka\\.conda\\envs\\zimmerman\\lib\\site-packages\\seaborn\\distributions.py:254: FutureWarning: In a future version, `df.iloc[:, i] = newvals` will attempt to set the values inplace instead of always setting a new array. To retain the old behavior, use either `df[df.columns[i]] = newvals` or, if columns are non-unique, `df.isetitem(i, newvals)`\n"
     ]
    },
    {
     "data": {
      "image/png": "[encoded data removed]",
      "text/plain": [
       "<Figure size 504x288 with 1 Axes>"
      ]
     },
     "metadata": {
      "needs_background": "light"
     },
     "output_type": "display_data"
    }
   ],
   "source": [
    "palette={'Only negative':'#004488',\n",
    "        'Only positive':'#DDCC77',\n",
    "        'Both polarities':'#44AA99'}\n",
    "\n",
    "plt.figure(figsize = (7,4))\n",
    "h = sns.histplot(data=plot_data, \n",
    "                 y='Matrix short', \n",
    "                 stat='count', \n",
    "                 hue='Label', \n",
    "                 multiple='stack', \n",
    "                 palette=palette)\n",
    "h.set(xlabel=\"Number of compounds\", ylabel=\"MALDI matrix\")\n",
    "sns.move_legend(h, \"upper left\", bbox_to_anchor=(1, 1), title='Detected in', frameon=False)\n",
    "sns.despine()\n",
    "plt.tight_layout()"
   ]
  },
  {
   "cell_type": "code",
   "execution_count": 19,
   "id": "experimental-binding",
   "metadata": {},
   "outputs": [],
   "source": [
    "h.figure.savefig(p_out  / \"detection_per_matrix\" / f\"detections_per_matrix_both_polarities.png\")\n",
    "h.figure.savefig(p_out  / \"detection_per_matrix\" / f\"detections_per_matrix_both_polarities.pdf\", transparent=True)"
   ]
  }
 ],
 "metadata": {
  "kernelspec": {
   "display_name": "Python [conda env:.conda-zimmerman] *",
   "language": "python",
   "name": "conda-env-.conda-zimmerman-py"
  },
  "language_info": {
   "codemirror_mode": {
    "name": "ipython",
    "version": 3
   },
   "file_extension": ".py",
   "mimetype": "text/x-python",
   "name": "python",
   "nbconvert_exporter": "python",
   "pygments_lexer": "ipython3",
   "version": "3.8.5"
  }
 },
 "nbformat": 4,
 "nbformat_minor": 5
}
