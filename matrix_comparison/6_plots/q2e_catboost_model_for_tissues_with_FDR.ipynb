{
 "cells": [
  {
   "cell_type": "markdown",
   "id": "turned-harvest",
   "metadata": {},
   "source": [
    "## This notebook is to train Catboost model to classify ion images as on-sample provided with a subset of user-labelled images\n",
    "## The images are downloaded from a joint core_metabolome3 + spotting database if their fdr is below 50%"
   ]
  },
  {
   "cell_type": "code",
   "execution_count": 1,
   "id": "appreciated-concern",
   "metadata": {},
   "outputs": [],
   "source": [
    "%matplotlib notebook\n",
    "\n",
    "from pathlib import Path\n",
    "from definitions import ROOT_DIR\n",
    "import numpy as np\n",
    "import pandas as pd\n",
    "import os\n",
    "from datetime import datetime\n",
    "import tifffile as tif\n",
    "from scipy.stats import ks_2samp\n",
    "\n",
    "from catboost import CatBoostClassifier, Pool\n",
    "from scipy.ndimage import binary_dilation\n",
    "from sklearn import clone\n",
    "from sklearn.ensemble import RandomForestClassifier, GradientBoostingClassifier, BaggingClassifier\n",
    "from sklearn.feature_selection import SequentialFeatureSelector\n",
    "from sklearn.linear_model import LogisticRegression, LogisticRegressionCV\n",
    "from sklearn.metrics import f1_score\n",
    "from sklearn.model_selection import train_test_split, StratifiedKFold, RepeatedStratifiedKFold\n",
    "from sklearn.model_selection import cross_val_score, cross_val_predict, cross_validate\n",
    "from sklearn.svm import SVC, LinearSVC\n",
    "from sklearn.tree import DecisionTreeClassifier\n",
    "\n",
    "from metaspace import SMInstance\n",
    "sm = SMInstance()\n",
    "\n",
    "from metaspace.image_processing import clip_hotspots\n",
    "import getpass\n",
    "\n",
    "import matplotlib.pyplot as plt\n",
    "import seaborn as sns\n",
    "\n",
    "import random"
   ]
  },
  {
   "cell_type": "code",
   "execution_count": 2,
   "id": "linear-lucas",
   "metadata": {},
   "outputs": [],
   "source": [
    "def get_mispredictions(model, X, y):\n",
    "    \"\"\"\n",
    "    Find which values would be mispredicted, returning two lists:\n",
    "        * indexes of items that would be falsely predicted as positives\n",
    "        * indexes of items that would be falsely predicted as negatives\n",
    "        \n",
    "    cross_val_predict uses a shuffled 5-fold test-train split so that each chunk of \n",
    "    20% of the input data gets its own model that was trained on the other 80%, \n",
    "    ensuring that the items being predicted aren't included in the training data.\n",
    "    \"\"\"\n",
    "    preds = cross_val_predict(model, X, y)\n",
    "    mispreds = preds != y\n",
    "    fpos_idxs = np.flatnonzero(mispreds & ~y)\n",
    "    fneg_idxs = np.flatnonzero(mispreds & y)\n",
    "        \n",
    "    return fpos_idxs, fneg_idxs"
   ]
  },
  {
   "cell_type": "code",
   "execution_count": 3,
   "id": "senior-feeding",
   "metadata": {},
   "outputs": [],
   "source": [
    "def get_images(ds_name, id_map, compounds):\n",
    "    \n",
    "    ds = sm.dataset(name = ds_name)\n",
    "    ds_tic_image = ds.tic_image()\n",
    "\n",
    "    images = []\n",
    "\n",
    "    for img in ds.all_annotation_images(\n",
    "        fdr=0.5, \n",
    "        database=399, #core metabolome and spotting db\n",
    "        only_first_isotope=True, \n",
    "        scale_intensity=True, \n",
    "        hotspot_clipping=False):\n",
    "        \n",
    "        # Only consider spotted metabolites\n",
    "        if img.formula in compounds.formula.unique():\n",
    "        \n",
    "            # Exclude annotations with no first-isotopic-image\n",
    "            if img[0] is not None:\n",
    "\n",
    "                ion_img = img[0]\n",
    "                tic_norm_img = np.nan_to_num(ion_img / ds_tic_image)\n",
    "\n",
    "                images.append({\n",
    "                    'dataset_name': ds_name,\n",
    "                    'formula': img.formula,\n",
    "                    'adduct': img.adduct,\n",
    "                    'neutral_loss': img.neutral_loss or '',\n",
    "                    'image': ion_img,\n",
    "                    'tic_norm_image': tic_norm_img\n",
    "                    })\n",
    "            \n",
    "    images_df = pd.DataFrame(images) \n",
    "    del(images)\n",
    "\n",
    "    # add metadata\n",
    "    results = ds.results(database = 399, include_neutral_losses=True)  \n",
    "    metadata = results[['ion', 'offSample', 'mz', 'moleculeNames', 'msm', 'fdr']].reset_index()\n",
    "    metadata.rename(columns={'neutralLoss' : 'neutral_loss'}, inplace=True)\n",
    "    images_df = images_df.merge(metadata, how='left', on=['formula', 'adduct', 'neutral_loss'])\n",
    "    images_df = images_df.merge(id_map, on='dataset_name', how='left')\n",
    "    images_df['filename'] = [f\"{x.old_id}_{x.formula}_{x.adduct}{x.neutral_loss}.png\" for x in images_df.itertuples()]\n",
    "    images_df['row_id'] = [f\"{x.old_id}_{x.formula}_{x.adduct}{x.neutral_loss}\" for x in images_df.itertuples()]\n",
    "\n",
    "    return images_df\n",
    "\n",
    "def prepare_tissue_mask(p_mask):\n",
    "    mask = tif.imread(p_mask)\n",
    "    mask = mask / 255 # scale to only 0 and 1 \n",
    "    mask = binary_dilation(mask, iterations=3)\n",
    "    return mask\n",
    "\n",
    "def calc_far_bg(mask):\n",
    "    \"\"\"Gets mask for background pixels that are away from the tissue by n=7 dilation cycles\"\"\"\n",
    "    far_bg = ~binary_dilation(mask, iterations=7)\n",
    "    return far_bg\n",
    "\n",
    "def occ(px):\n",
    "    \"\"\"Calculates non-zero % of the given array\"\"\"\n",
    "    return np.count_nonzero(px) / px.size\n",
    "\n",
    "def calculate_metrics(images_df, binary):\n",
    "\n",
    "    metrics = []\n",
    "    for row in images_df.itertuples():\n",
    "\n",
    "        mask = binary == 1\n",
    "        bg = binary == 0\n",
    "        far_bg = calc_far_bg(mask)\n",
    "\n",
    "        in_mask = row.image[mask]        \n",
    "        in_bg = row.image[bg]\n",
    "        in_far_bg = row.image[far_bg]\n",
    "        \n",
    "        in_mask_tic = row.tic_norm_image[mask]\n",
    "        in_bg_tic = row.tic_norm_image[bg]\n",
    "        in_far_bg_tic = row.tic_norm_image[far_bg]\n",
    "        \n",
    "        # Calculate KS statistic \n",
    "        d_stat, p_val = ks_2samp(in_mask, in_bg)\n",
    "        d_stat_tic, p_val_tic = ks_2samp(in_mask_tic, in_bg_tic)\n",
    "\n",
    "#       If there is more signal in off-sample area compared to the well area, make statistic negative\n",
    "        if np.mean(in_bg) > np.mean(in_mask):\n",
    "            d_stat = d_stat*-1\n",
    "        if np.mean(in_bg_tic) > np.mean(in_mask_tic):\n",
    "            d_stat_tic = d_stat_tic*-1\n",
    "\n",
    "        metrics.append({\n",
    "            'dataset_name' : row.dataset_name,\n",
    "            'formula' : row.formula,\n",
    "            'adduct' : row.adduct,\n",
    "            'neutral_loss' : row.neutral_loss,\n",
    "            'ion' : row.ion,\n",
    "            'old_id' : row.old_id,\n",
    "            'new_id' : row.new_id,\n",
    "            'row_id': row.row_id,\n",
    "            'filename': row.filename,\n",
    "            'msm': row.msm,\n",
    "            'fdr': row.fdr,\n",
    "            \n",
    "            'sample_intensity' : np.mean(in_mask),\n",
    "            'tic_sample_intensity' : np.mean(in_mask_tic),\n",
    "            'far_bgr_corrected_intensity' : np.mean(in_mask) - np.mean(in_far_bg),\n",
    "            \n",
    "            'intensity_ratio': np.mean(in_mask) / (np.mean(in_bg)+0.001),\n",
    "            'intensity_vs_far_bg_ratio': np.mean(in_mask) / (np.mean(in_far_bg) + 0.001),\n",
    "            'tic_intensity_ratio': np.mean(in_mask_tic) / (np.mean(in_bg_tic)+0.001),\n",
    "            'tic_intensity_vs_far_bg_ratio': np.mean(in_mask_tic) / (np.mean(in_far_bg) + 0.001),\n",
    "            \n",
    "            'image_occupancy' : occ(row.image),\n",
    "            'sample_occupancy' : occ(in_mask),\n",
    "            'bg_occupancy': occ(in_bg),\n",
    "            'far_bgr_occupancy':occ(in_far_bg),\n",
    "            'occupancy_ratio': occ(in_mask) / (occ(in_bg)+0.001),\n",
    "            'occupancy_vs_far_bg_ratio' : occ(in_mask) / (occ(in_far_bg) + 0.001),\n",
    "    \n",
    "            'ks_score' : d_stat, \n",
    "            'ks_score_tic' : p_val, # note that there was a typo in this block\n",
    "            'ks_pval' : p_val_tic, # also here\n",
    "            'ks_pval_tic' : p_val_tic, # also here\n",
    "        })\n",
    "\n",
    "    metrics_df = pd.DataFrame(metrics)\n",
    "    return metrics_df"
   ]
  },
  {
   "cell_type": "code",
   "execution_count": 4,
   "id": "smaller-decrease",
   "metadata": {},
   "outputs": [],
   "source": [
    "p_home = Path(ROOT_DIR) / \"spotting_vs_metaspace\"\n",
    "p_analysis = p_home / \"catboost\"\n",
    "p_masks = p_analysis / 'tissue_masks'\n",
    "p_labels = p_analysis / r\"labels_for_model_training\"\n",
    "p_id_map = p_analysis / \"id_map.csv\"\n",
    "p_compounds = Path(ROOT_DIR).parents[0] / r\"5_data_analysis/wellmap.csv\"\n",
    "\n",
    "timestamp = datetime.now().strftime(\"%d-%b-%Y\") \n",
    "\n",
    "# Paths for evaluation\n",
    "p_eval = p_analysis/ \"model_results_with_fdr\"\n",
    "p_metrics = p_eval / \"metrics.csv\"\n",
    "p_eval_preds = p_eval / 'predictions.csv'\n",
    "p_predictions = p_eval / f\"tissue_predictions_{timestamp}.csv\"\n",
    "p_predictions_curated = p_eval / f\"all_predictions_curated_{timestamp}.csv\"\n",
    "p_model = p_analysis/ \"model_results\" / \"model.json\"\n",
    "# False positives/negatives - preview output from model prediction for molecules with known labels\n",
    "# Note that all files in these directories are cleared before a prediction run\n",
    "p_eval_fpos = p_eval / 'false_positives'\n",
    "p_eval_fneg = p_eval / 'false_negatives'\n",
    "p_eval_tpos = p_eval / 'true_positives'\n",
    "p_eval_tneg = p_eval / 'true_negatives'\n",
    "# Unknown positives/negatives - preview output from model prediction for molecules with no label\n",
    "# Note that all files in these directories are cleared before a prediction run\n",
    "p_eval_upos = p_eval / 'unknown_positives'\n",
    "p_eval_uneg = p_eval / 'unknown_negatives'\n",
    "# Manually labeled positives/negatives - Move preview files from any of the above directories into \n",
    "# these directories to add to the labelled data. Make sure to re-run the appropriate steps \n",
    "# in \"Input data\" to detect the changes\n",
    "p_eval_lpos = p_eval / 'manual_label_positives'\n",
    "p_eval_lneg = p_eval / 'manual_label_negatives'\n",
    "\n",
    "# Directories for three-state positive/unsure/negative classification\n",
    "p_tri_pos = p_eval / 'three-state' / 'positive'\n",
    "p_tri_unk = p_eval / 'three-state' / 'unsure'\n",
    "p_tri_neg = p_eval / 'three-state' / 'negative'"
   ]
  },
  {
   "cell_type": "markdown",
   "id": "associate-wiring",
   "metadata": {},
   "source": [
    "- Get dataset names (from tissue mask folder)"
   ]
  },
  {
   "cell_type": "code",
   "execution_count": 5,
   "id": "considerable-shark",
   "metadata": {},
   "outputs": [],
   "source": [
    "mask_names = list(p_masks.rglob(\"*.tif\"))\n",
    "dataset_names = [x.stem + \" - extended\" for x in mask_names]"
   ]
  },
  {
   "cell_type": "markdown",
   "id": "spread-bumper",
   "metadata": {},
   "source": [
    "- Get images for each dataset\n",
    "- Download images from metaspace or load them in if they were pre-saved"
   ]
  },
  {
   "cell_type": "code",
   "execution_count": 6,
   "id": "complex-electric",
   "metadata": {},
   "outputs": [],
   "source": [
    "# Log into metaspace\n",
    "sm = SMInstance(host='https://metaspace2020.eu')\n",
    "\n",
    "if not sm.logged_in():\n",
    "    # Using getpass here prevents the API key from being accidentally saved with this notebook.\n",
    "    api_key = getpass.getpass(prompt='API key: ', stream=None)\n",
    "    sm.login(api_key=api_key)"
   ]
  },
  {
   "cell_type": "markdown",
   "id": "agreed-terminology",
   "metadata": {},
   "source": [
    "- Calculate metrics for individual datasets"
   ]
  },
  {
   "cell_type": "code",
   "execution_count": 7,
   "id": "elegant-ordering",
   "metadata": {
    "scrolled": true
   },
   "outputs": [
    {
     "name": "stdout",
     "output_type": "stream",
     "text": [
      "02112020_VS_NH1_11-2A_treatment_att29_px45_109x168_DAN_neg Cloned - extended 0\n"
     ]
    },
    {
     "name": "stderr",
     "output_type": "stream",
     "text": [
      "100%|████████████████████████████████████████| 4191/4191 [00:18<00:00, 228.27it/s]                                     \n"
     ]
    },
    {
     "name": "stdout",
     "output_type": "stream",
     "text": [
      "02112020_VS_NH1_18-1_control_att29_px45_96x91_DAN_neg Cloned - extended 1\n"
     ]
    },
    {
     "name": "stderr",
     "output_type": "stream",
     "text": [
      "100%|████████████████████████████████████████| 3160/3160 [00:15<00:00, 199.95it/s]                                     \n"
     ]
    },
    {
     "name": "stdout",
     "output_type": "stream",
     "text": [
      "071119_Opt_CBO_Brain_maldi5_168x164p50_DAN_neg Cloned - extended 2\n"
     ]
    },
    {
     "name": "stderr",
     "output_type": "stream",
     "text": [
      "100%|████████████████████████████████████████| 1297/1297 [00:06<00:00, 210.18it/s]                                     \n"
     ]
    },
    {
     "name": "stdout",
     "output_type": "stream",
     "text": [
      "20191021_Opt_Sanger_Brain_150sx75p_DANx_neg Cloned - extended 3\n"
     ]
    },
    {
     "name": "stderr",
     "output_type": "stream",
     "text": [
      "100%|████████████████████████████████████████| 1775/1775 [00:08<00:00, 197.33it/s]                                     \n"
     ]
    },
    {
     "name": "stdout",
     "output_type": "stream",
     "text": [
      "20191022_Opt_Sanger_Brain_150sx75p_DHB_pos Cloned - extended 4\n"
     ]
    },
    {
     "name": "stderr",
     "output_type": "stream",
     "text": [
      "100%|████████████████████████████████████████| 4188/4188 [00:21<00:00, 192.04it/s]                                     \n"
     ]
    },
    {
     "name": "stdout",
     "output_type": "stream",
     "text": [
      "2020-07-18_ME_Liver_Naive_DHB_Pos_120-1200_300x300_25umss Cloned - extended 5\n"
     ]
    },
    {
     "name": "stderr",
     "output_type": "stream",
     "text": [
      "100%|████████████████████████████████████████| 2050/2050 [00:11<00:00, 178.21it/s]                                     \n"
     ]
    },
    {
     "name": "stdout",
     "output_type": "stream",
     "text": [
      "2020-07-19_ME_Liver_UV_DHB_Pos_120-1200_300x275_25umss_32at Cloned - extended 6\n"
     ]
    },
    {
     "name": "stderr",
     "output_type": "stream",
     "text": [
      "100%|████████████████████████████████████████| 1786/1786 [00:10<00:00, 167.83it/s]                                     \n"
     ]
    },
    {
     "name": "stdout",
     "output_type": "stream",
     "text": [
      "2020-08-27_ME_X130L2_29at_25umss_420x240 Cloned - extended 7\n"
     ]
    },
    {
     "name": "stderr",
     "output_type": "stream",
     "text": [
      "100%|████████████████████████████████████████| 5683/5683 [00:35<00:00, 162.32it/s]                                     \n"
     ]
    },
    {
     "name": "stdout",
     "output_type": "stream",
     "text": [
      "2020-08-28_ME_X190L4_29at_25umss_240x200 Cloned - extended 8\n"
     ]
    },
    {
     "name": "stderr",
     "output_type": "stream",
     "text": [
      "100%|████████████████████████████████████████| 5479/5479 [00:30<00:00, 178.15it/s]                                     \n"
     ]
    },
    {
     "name": "stdout",
     "output_type": "stream",
     "text": [
      "2020-08-28_ME_X190L6_10um_29at_25umss_350x300 Cloned - extended 9\n"
     ]
    },
    {
     "name": "stderr",
     "output_type": "stream",
     "text": [
      "100%|████████████████████████████████████████| 6819/6819 [00:40<00:00, 169.86it/s]                                     \n"
     ]
    },
    {
     "name": "stdout",
     "output_type": "stream",
     "text": [
      "2020-09-06_ME_X190_L6_5um_25umss_CHCA_Pos_340x320_31at Cloned - extended 10\n"
     ]
    },
    {
     "name": "stderr",
     "output_type": "stream",
     "text": [
      "100%|████████████████████████████████████████| 5276/5276 [00:33<00:00, 157.93it/s]                                     \n"
     ]
    },
    {
     "name": "stdout",
     "output_type": "stream",
     "text": [
      "2020-09-17_ME_X190_L1_15um_20umss_DHB_Pos_475x220_31at Cloned - extended 11\n"
     ]
    },
    {
     "name": "stderr",
     "output_type": "stream",
     "text": [
      "100%|████████████████████████████████████████| 5268/5268 [00:34<00:00, 154.52it/s]                                     \n"
     ]
    },
    {
     "name": "stdout",
     "output_type": "stream",
     "text": [
      "2020-10-26_ME_L11_Slide9_210x360_20um_ss_31at Cloned - extended 12\n"
     ]
    },
    {
     "name": "stderr",
     "output_type": "stream",
     "text": [
      "100%|████████████████████████████████████████| 4599/4599 [00:28<00:00, 163.94it/s]                                     \n"
     ]
    },
    {
     "name": "stdout",
     "output_type": "stream",
     "text": [
      "2020-10-26_ME_L5_Slide9_330x170_20um_ss_31at Cloned - extended 13\n"
     ]
    },
    {
     "name": "stderr",
     "output_type": "stream",
     "text": [
      "100%|████████████████████████████████████████| 3956/3956 [00:23<00:00, 167.97it/s]                                     \n"
     ]
    },
    {
     "name": "stdout",
     "output_type": "stream",
     "text": [
      "2020-10-28_ME_L2_Slide9_230x300_20um_ss_31at Cloned - extended 14\n"
     ]
    },
    {
     "name": "stderr",
     "output_type": "stream",
     "text": [
      "100%|████████████████████████████████████████| 4380/4380 [00:26<00:00, 167.84it/s]                                     \n"
     ]
    },
    {
     "name": "stdout",
     "output_type": "stream",
     "text": [
      "2020-10-28_ME_VS_NHI-11-2B_DHB_Pos_40um_ss_116x182_31AT_pos Cloned - extended 15\n"
     ]
    },
    {
     "name": "stderr",
     "output_type": "stream",
     "text": [
      "100%|████████████████████████████████████████| 4934/4934 [00:26<00:00, 183.97it/s]                                     \n"
     ]
    },
    {
     "name": "stdout",
     "output_type": "stream",
     "text": [
      "2020-10-28_ME_VS_NHI-18-2_DHB_Pos_40um_ss_87x107_pos Cloned - extended 16\n"
     ]
    },
    {
     "name": "stderr",
     "output_type": "stream",
     "text": [
      "100%|████████████████████████████████████████| 3649/3649 [00:19<00:00, 187.78it/s]                                     \n"
     ]
    },
    {
     "name": "stdout",
     "output_type": "stream",
     "text": [
      "2021-04-26_ME_X190L1-9_29at_25umss_310x190 Cloned - extended 17\n"
     ]
    },
    {
     "name": "stderr",
     "output_type": "stream",
     "text": [
      "100%|████████████████████████████████████████| 3240/3240 [00:18<00:00, 176.88it/s]                                     \n"
     ]
    },
    {
     "name": "stdout",
     "output_type": "stream",
     "text": [
      "2021-04-27_ME_X190L3-9_29at_25umss_152x142 Cloned - extended 18\n"
     ]
    },
    {
     "name": "stderr",
     "output_type": "stream",
     "text": [
      "100%|████████████████████████████████████████| 3212/3212 [00:17<00:00, 182.96it/s]                                     \n"
     ]
    },
    {
     "name": "stdout",
     "output_type": "stream",
     "text": [
      "2021-04-28_ME_X190L6-9_29at_25umss_240x217 Cloned - extended 19\n"
     ]
    },
    {
     "name": "stderr",
     "output_type": "stream",
     "text": [
      "100%|████████████████████████████████████████| 3217/3217 [00:17<00:00, 179.33it/s]                                     \n"
     ]
    },
    {
     "name": "stdout",
     "output_type": "stream",
     "text": [
      "2021-04-29_ME_X190L8-8_29at_25umss_134x320_concat Cloned - extended 20\n"
     ]
    },
    {
     "name": "stderr",
     "output_type": "stream",
     "text": [
      "100%|████████████████████████████████████████| 4940/4940 [00:28<00:00, 171.97it/s]                                     \n"
     ]
    },
    {
     "name": "stdout",
     "output_type": "stream",
     "text": [
      "2021-06-30_ME_X190L5-7_29at_20umss_250x200 Cloned - extended 21\n"
     ]
    },
    {
     "name": "stderr",
     "output_type": "stream",
     "text": [
      "100%|████████████████████████████████████████| 8728/8728 [00:49<00:00, 174.78it/s]                                     \n"
     ]
    },
    {
     "name": "stdout",
     "output_type": "stream",
     "text": [
      "2021-07-03_ME_X190L6-8_29at_20umss_280x230 Cloned - extended 22\n"
     ]
    },
    {
     "name": "stderr",
     "output_type": "stream",
     "text": [
      "100%|████████████████████████████████████████| 6241/6241 [00:38<00:00, 164.09it/s]                                     \n"
     ]
    },
    {
     "name": "stdout",
     "output_type": "stream",
     "text": [
      "26102018_CBO_SHA_brainDAN_p100_s80 Cloned - extended 23\n"
     ]
    },
    {
     "name": "stderr",
     "output_type": "stream",
     "text": [
      "100%|████████████████████████████████████████| 2047/2047 [00:10<00:00, 196.79it/s]                                     \n"
     ]
    },
    {
     "name": "stdout",
     "output_type": "stream",
     "text": [
      "ZM6_long_B6female_epsilon_LI_DAN27repeat_s150 Cloned - extended 24\n"
     ]
    },
    {
     "name": "stderr",
     "output_type": "stream",
     "text": [
      "100%|████████████████████████████████████████| 6472/6472 [00:36<00:00, 178.36it/s]                                     \n",
      "TiffPage 0: TypeError: read_bytes() missing 3 required positional arguments: 'dtype', 'count', and 'offsetsize'\n"
     ]
    },
    {
     "name": "stdout",
     "output_type": "stream",
     "text": [
      "ZM6_long_B6female_epsilon_LI_DHB26repeat_s160 Cloned - extended 25\n"
     ]
    },
    {
     "name": "stderr",
     "output_type": "stream",
     "text": [
      "100%|████████████████████████████████████████| 14198/14198 [01:32<00:00, 152.78it/s]                                   \n"
     ]
    },
    {
     "name": "stdout",
     "output_type": "stream",
     "text": [
      "ZM6_long_B6female_epsilon_SI4_DHB26repeat_s150 Cloned - extended 26\n"
     ]
    },
    {
     "name": "stderr",
     "output_type": "stream",
     "text": [
      "100%|████████████████████████████████████████| 12660/12660 [01:20<00:00, 157.59it/s]                                   \n"
     ]
    },
    {
     "name": "stdout",
     "output_type": "stream",
     "text": [
      "ZM6_long_B6female_epsilon_SI5_DAN27_s150 Cloned - extended 27\n"
     ]
    },
    {
     "name": "stderr",
     "output_type": "stream",
     "text": [
      "100%|████████████████████████████████████████| 4711/4711 [00:23<00:00, 198.04it/s]                                     \n",
      "TiffPage 0: TypeError: read_bytes() missing 3 required positional arguments: 'dtype', 'count', and 'offsetsize'\n"
     ]
    },
    {
     "name": "stdout",
     "output_type": "stream",
     "text": [
      "ZM6_long_B6female_omega_LI-repeat_DHB26repeat_s150 Cloned - extended 28\n"
     ]
    },
    {
     "name": "stderr",
     "output_type": "stream",
     "text": [
      "100%|████████████████████████████████████████| 13848/13848 [01:30<00:00, 152.47it/s]                                   \n"
     ]
    },
    {
     "name": "stdout",
     "output_type": "stream",
     "text": [
      "ZM6_long_B6female_omega_LI_DAN27repeat_s150 Cloned - extended 29\n"
     ]
    },
    {
     "name": "stderr",
     "output_type": "stream",
     "text": [
      "100%|████████████████████████████████████████| 6013/6013 [00:34<00:00, 171.98it/s]                                     \n"
     ]
    },
    {
     "name": "stdout",
     "output_type": "stream",
     "text": [
      "ZM6_long_B6female_omega_SI4_DAN27_s150 Cloned - extended 30\n"
     ]
    },
    {
     "name": "stderr",
     "output_type": "stream",
     "text": [
      "100%|████████████████████████████████████████| 3569/3569 [00:19<00:00, 183.26it/s]                                     \n"
     ]
    },
    {
     "name": "stdout",
     "output_type": "stream",
     "text": [
      "ZM6_long_B6female_omega_SI5_DHB26_s150 Cloned - extended 31\n"
     ]
    },
    {
     "name": "stderr",
     "output_type": "stream",
     "text": [
      "100%|████████████████████████████████████████| 12903/12903 [01:17<00:00, 167.22it/s]                                   \n"
     ]
    },
    {
     "name": "stdout",
     "output_type": "stream",
     "text": [
      "ZM6_long_B6male_beta_LI3_DHB26_s150 Cloned - extended 32\n"
     ]
    },
    {
     "name": "stderr",
     "output_type": "stream",
     "text": [
      "100%|████████████████████████████████████████| 17355/17355 [01:56<00:00, 148.52it/s]                                   \n",
      "TiffPage 0: TypeError: read_bytes() missing 3 required positional arguments: 'dtype', 'count', and 'offsetsize'\n"
     ]
    },
    {
     "name": "stdout",
     "output_type": "stream",
     "text": [
      "ZM6_long_B6male_beta_LI5_DAN27_s150 Cloned - extended 33\n"
     ]
    },
    {
     "name": "stderr",
     "output_type": "stream",
     "text": [
      "100%|████████████████████████████████████████| 6869/6869 [00:39<00:00, 171.79it/s]                                     \n"
     ]
    },
    {
     "name": "stdout",
     "output_type": "stream",
     "text": [
      "ZM6_long_B6male_beta_SI6_DAN27_s150 Cloned - extended 34\n"
     ]
    },
    {
     "name": "stderr",
     "output_type": "stream",
     "text": [
      "100%|████████████████████████████████████████| 5485/5485 [00:33<00:00, 161.95it/s]                                     \n"
     ]
    },
    {
     "name": "stdout",
     "output_type": "stream",
     "text": [
      "ZM6_long_B6male_beta_SI7_DHB26_s85 Cloned - extended 35\n"
     ]
    },
    {
     "name": "stderr",
     "output_type": "stream",
     "text": [
      "100%|████████████████████████████████████████| 17395/17395 [01:51<00:00, 156.59it/s]                                   \n"
     ]
    },
    {
     "name": "stdout",
     "output_type": "stream",
     "text": [
      "ZM6_long_B6male_delta_LI_DAN27 Cloned - extended 36\n"
     ]
    },
    {
     "name": "stderr",
     "output_type": "stream",
     "text": [
      "100%|████████████████████████████████████████| 5833/5833 [00:44<00:00, 131.20it/s]                                     \n"
     ]
    },
    {
     "name": "stdout",
     "output_type": "stream",
     "text": [
      "ZM6_long_B6male_delta_LI_DHB26 Cloned - extended 37\n"
     ]
    },
    {
     "name": "stderr",
     "output_type": "stream",
     "text": [
      "100%|████████████████████████████████████████| 18737/18737 [02:20<00:00, 133.81it/s]                                   \n"
     ]
    },
    {
     "name": "stdout",
     "output_type": "stream",
     "text": [
      "ZM6_long_B6male_delta_SI4_DHB26_s85 Cloned - extended 38\n"
     ]
    },
    {
     "name": "stderr",
     "output_type": "stream",
     "text": [
      "100%|████████████████████████████████████████| 15952/15952 [01:55<00:00, 137.92it/s]                                   \n"
     ]
    },
    {
     "name": "stdout",
     "output_type": "stream",
     "text": [
      "ZM6_long_B6male_delta_SI6_DAN27_s85 Cloned - extended 39\n"
     ]
    },
    {
     "name": "stderr",
     "output_type": "stream",
     "text": [
      "100%|████████████████████████████████████████| 4063/4063 [00:38<00:00, 106.14it/s]                                     \n"
     ]
    }
   ],
   "source": [
    "compounds = pd.read_csv(p_compounds)\n",
    "id_map = pd.read_csv(p_id_map)\n",
    "\n",
    "metric_list = []\n",
    "k=0\n",
    "for ds_name, p_mask in list(zip(dataset_names, mask_names)):\n",
    "    print(ds_name, k)\n",
    "    k+=1    \n",
    "    \n",
    "    images_df = get_images(ds_name, id_map, compounds)\n",
    "    images_df.to_pickle(p_eval / f\"{ds_name}_images.pickle\")\n",
    "#     images_df = pd.read_pickle(p_eval / f\"{ds_name}_images.pickle\")\n",
    "    mask = prepare_tissue_mask(p_mask)\n",
    "    if images_df.image[0].shape != mask.shape:\n",
    "        print(ds_name, p_mask, \"problem\\n\")\n",
    "        break\n",
    "    metrics = calculate_metrics(images_df, mask)\n",
    "    metric_list.append(metrics)\n",
    "    del(images_df)\n",
    "\n",
    "metrics_df = pd.concat(metric_list)\n",
    "metrics_df.set_index(\"row_id\", inplace=True)\n",
    "metrics_df.to_csv(p_metrics)"
   ]
  },
  {
   "cell_type": "code",
   "execution_count": 9,
   "id": "boolean-stomach",
   "metadata": {},
   "outputs": [],
   "source": [
    "# or load pre-saved\n",
    "metrics_df = pd.read_csv(p_metrics, index_col=0)\n",
    "metrics_df.neutral_loss = metrics_df.neutral_loss.fillna(\"\")"
   ]
  },
  {
   "cell_type": "markdown",
   "id": "digital-asbestos",
   "metadata": {},
   "source": [
    "## Apply model"
   ]
  },
  {
   "cell_type": "code",
   "execution_count": 10,
   "id": "local-realtor",
   "metadata": {},
   "outputs": [],
   "source": [
    "model = CatBoostClassifier(verbose=False)\n",
    "model.load_model(p_model, format='json')\n",
    "features = [\n",
    "            'intensity_vs_far_bg_ratio', \n",
    "            'occupancy_ratio', \n",
    "            'ks_score', \n",
    "            'ks_pval',\n",
    "            'image_occupancy',\n",
    "            'tic_intensity_vs_far_bg_ratio']"
   ]
  },
  {
   "cell_type": "code",
   "execution_count": 11,
   "id": "general-concord",
   "metadata": {},
   "outputs": [],
   "source": [
    "# Make predictions for all data\n",
    "predictions_df = pd.DataFrame({\n",
    "    'pred_val': model.predict_proba(metrics_df[features].values)[:, 1]\n",
    "}, index=metrics_df.index)"
   ]
  },
  {
   "cell_type": "code",
   "execution_count": 12,
   "id": "exterior-representative",
   "metadata": {},
   "outputs": [],
   "source": [
    "output_df = metrics_df.join(predictions_df)\n",
    "\n",
    "# Add two-state and three-state classes\n",
    "output_df['prediction'] = np.where(output_df.pred_val < 0.75, 0, 1)\n",
    "\n",
    "# write predicitons csv file\n",
    "output_df.to_csv(p_predictions)"
   ]
  },
  {
   "cell_type": "code",
   "execution_count": 13,
   "id": "absolute-flesh",
   "metadata": {},
   "outputs": [
    {
     "data": {
      "application/javascript": [
       "/* Put everything inside the global mpl namespace */\n",
       "/* global mpl */\n",
       "window.mpl = {};\n",
       "\n",
       "mpl.get_websocket_type = function () {\n",
       "    if (typeof WebSocket !== 'undefined') {\n",
       "        return WebSocket;\n",
       "    } else if (typeof MozWebSocket !== 'undefined') {\n",
       "        return MozWebSocket;\n",
       "    } else {\n",
       "        alert(\n",
       "            'Your browser does not have WebSocket support. ' +\n",
       "                'Please try Chrome, Safari or Firefox ≥ 6. ' +\n",
       "                'Firefox 4 and 5 are also supported but you ' +\n",
       "                'have to enable WebSockets in about:config.'\n",
       "        );\n",
       "    }\n",
       "};\n",
       "\n",
       "mpl.figure = function (figure_id, websocket, ondownload, parent_element) {\n",
       "    this.id = figure_id;\n",
       "\n",
       "    this.ws = websocket;\n",
       "\n",
       "    this.supports_binary = this.ws.binaryType !== undefined;\n",
       "\n",
       "    if (!this.supports_binary) {\n",
       "        var warnings = document.getElementById('mpl-warnings');\n",
       "        if (warnings) {\n",
       "            warnings.style.display = 'block';\n",
       "            warnings.textContent =\n",
       "                'This browser does not support binary websocket messages. ' +\n",
       "                'Performance may be slow.';\n",
       "        }\n",
       "    }\n",
       "\n",
       "    this.imageObj = new Image();\n",
       "\n",
       "    this.context = undefined;\n",
       "    this.message = undefined;\n",
       "    this.canvas = undefined;\n",
       "    this.rubberband_canvas = undefined;\n",
       "    this.rubberband_context = undefined;\n",
       "    this.format_dropdown = undefined;\n",
       "\n",
       "    this.image_mode = 'full';\n",
       "\n",
       "    this.root = document.createElement('div');\n",
       "    this.root.setAttribute('style', 'display: inline-block');\n",
       "    this._root_extra_style(this.root);\n",
       "\n",
       "    parent_element.appendChild(this.root);\n",
       "\n",
       "    this._init_header(this);\n",
       "    this._init_canvas(this);\n",
       "    this._init_toolbar(this);\n",
       "\n",
       "    var fig = this;\n",
       "\n",
       "    this.waiting = false;\n",
       "\n",
       "    this.ws.onopen = function () {\n",
       "        fig.send_message('supports_binary', { value: fig.supports_binary });\n",
       "        fig.send_message('send_image_mode', {});\n",
       "        if (fig.ratio !== 1) {\n",
       "            fig.send_message('set_dpi_ratio', { dpi_ratio: fig.ratio });\n",
       "        }\n",
       "        fig.send_message('refresh', {});\n",
       "    };\n",
       "\n",
       "    this.imageObj.onload = function () {\n",
       "        if (fig.image_mode === 'full') {\n",
       "            // Full images could contain transparency (where diff images\n",
       "            // almost always do), so we need to clear the canvas so that\n",
       "            // there is no ghosting.\n",
       "            fig.context.clearRect(0, 0, fig.canvas.width, fig.canvas.height);\n",
       "        }\n",
       "        fig.context.drawImage(fig.imageObj, 0, 0);\n",
       "    };\n",
       "\n",
       "    this.imageObj.onunload = function () {\n",
       "        fig.ws.close();\n",
       "    };\n",
       "\n",
       "    this.ws.onmessage = this._make_on_message_function(this);\n",
       "\n",
       "    this.ondownload = ondownload;\n",
       "};\n",
       "\n",
       "mpl.figure.prototype._init_header = function () {\n",
       "    var titlebar = document.createElement('div');\n",
       "    titlebar.classList =\n",
       "        'ui-dialog-titlebar ui-widget-header ui-corner-all ui-helper-clearfix';\n",
       "    var titletext = document.createElement('div');\n",
       "    titletext.classList = 'ui-dialog-title';\n",
       "    titletext.setAttribute(\n",
       "        'style',\n",
       "        'width: 100%; text-align: center; padding: 3px;'\n",
       "    );\n",
       "    titlebar.appendChild(titletext);\n",
       "    this.root.appendChild(titlebar);\n",
       "    this.header = titletext;\n",
       "};\n",
       "\n",
       "mpl.figure.prototype._canvas_extra_style = function (_canvas_div) {};\n",
       "\n",
       "mpl.figure.prototype._root_extra_style = function (_canvas_div) {};\n",
       "\n",
       "mpl.figure.prototype._init_canvas = function () {\n",
       "    var fig = this;\n",
       "\n",
       "    var canvas_div = (this.canvas_div = document.createElement('div'));\n",
       "    canvas_div.setAttribute(\n",
       "        'style',\n",
       "        'border: 1px solid #ddd;' +\n",
       "            'box-sizing: content-box;' +\n",
       "            'clear: both;' +\n",
       "            'min-height: 1px;' +\n",
       "            'min-width: 1px;' +\n",
       "            'outline: 0;' +\n",
       "            'overflow: hidden;' +\n",
       "            'position: relative;' +\n",
       "            'resize: both;'\n",
       "    );\n",
       "\n",
       "    function on_keyboard_event_closure(name) {\n",
       "        return function (event) {\n",
       "            return fig.key_event(event, name);\n",
       "        };\n",
       "    }\n",
       "\n",
       "    canvas_div.addEventListener(\n",
       "        'keydown',\n",
       "        on_keyboard_event_closure('key_press')\n",
       "    );\n",
       "    canvas_div.addEventListener(\n",
       "        'keyup',\n",
       "        on_keyboard_event_closure('key_release')\n",
       "    );\n",
       "\n",
       "    this._canvas_extra_style(canvas_div);\n",
       "    this.root.appendChild(canvas_div);\n",
       "\n",
       "    var canvas = (this.canvas = document.createElement('canvas'));\n",
       "    canvas.classList.add('mpl-canvas');\n",
       "    canvas.setAttribute('style', 'box-sizing: content-box;');\n",
       "\n",
       "    this.context = canvas.getContext('2d');\n",
       "\n",
       "    var backingStore =\n",
       "        this.context.backingStorePixelRatio ||\n",
       "        this.context.webkitBackingStorePixelRatio ||\n",
       "        this.context.mozBackingStorePixelRatio ||\n",
       "        this.context.msBackingStorePixelRatio ||\n",
       "        this.context.oBackingStorePixelRatio ||\n",
       "        this.context.backingStorePixelRatio ||\n",
       "        1;\n",
       "\n",
       "    this.ratio = (window.devicePixelRatio || 1) / backingStore;\n",
       "\n",
       "    var rubberband_canvas = (this.rubberband_canvas = document.createElement(\n",
       "        'canvas'\n",
       "    ));\n",
       "    rubberband_canvas.setAttribute(\n",
       "        'style',\n",
       "        'box-sizing: content-box; position: absolute; left: 0; top: 0; z-index: 1;'\n",
       "    );\n",
       "\n",
       "    // Apply a ponyfill if ResizeObserver is not implemented by browser.\n",
       "    if (this.ResizeObserver === undefined) {\n",
       "        if (window.ResizeObserver !== undefined) {\n",
       "            this.ResizeObserver = window.ResizeObserver;\n",
       "        } else {\n",
       "            var obs = _JSXTOOLS_RESIZE_OBSERVER({});\n",
       "            this.ResizeObserver = obs.ResizeObserver;\n",
       "        }\n",
       "    }\n",
       "\n",
       "    this.resizeObserverInstance = new this.ResizeObserver(function (entries) {\n",
       "        var nentries = entries.length;\n",
       "        for (var i = 0; i < nentries; i++) {\n",
       "            var entry = entries[i];\n",
       "            var width, height;\n",
       "            if (entry.contentBoxSize) {\n",
       "                if (entry.contentBoxSize instanceof Array) {\n",
       "                    // Chrome 84 implements new version of spec.\n",
       "                    width = entry.contentBoxSize[0].inlineSize;\n",
       "                    height = entry.contentBoxSize[0].blockSize;\n",
       "                } else {\n",
       "                    // Firefox implements old version of spec.\n",
       "                    width = entry.contentBoxSize.inlineSize;\n",
       "                    height = entry.contentBoxSize.blockSize;\n",
       "                }\n",
       "            } else {\n",
       "                // Chrome <84 implements even older version of spec.\n",
       "                width = entry.contentRect.width;\n",
       "                height = entry.contentRect.height;\n",
       "            }\n",
       "\n",
       "            // Keep the size of the canvas and rubber band canvas in sync with\n",
       "            // the canvas container.\n",
       "            if (entry.devicePixelContentBoxSize) {\n",
       "                // Chrome 84 implements new version of spec.\n",
       "                canvas.setAttribute(\n",
       "                    'width',\n",
       "                    entry.devicePixelContentBoxSize[0].inlineSize\n",
       "                );\n",
       "                canvas.setAttribute(\n",
       "                    'height',\n",
       "                    entry.devicePixelContentBoxSize[0].blockSize\n",
       "                );\n",
       "            } else {\n",
       "                canvas.setAttribute('width', width * fig.ratio);\n",
       "                canvas.setAttribute('height', height * fig.ratio);\n",
       "            }\n",
       "            canvas.setAttribute(\n",
       "                'style',\n",
       "                'width: ' + width + 'px; height: ' + height + 'px;'\n",
       "            );\n",
       "\n",
       "            rubberband_canvas.setAttribute('width', width);\n",
       "            rubberband_canvas.setAttribute('height', height);\n",
       "\n",
       "            // And update the size in Python. We ignore the initial 0/0 size\n",
       "            // that occurs as the element is placed into the DOM, which should\n",
       "            // otherwise not happen due to the minimum size styling.\n",
       "            if (fig.ws.readyState == 1 && width != 0 && height != 0) {\n",
       "                fig.request_resize(width, height);\n",
       "            }\n",
       "        }\n",
       "    });\n",
       "    this.resizeObserverInstance.observe(canvas_div);\n",
       "\n",
       "    function on_mouse_event_closure(name) {\n",
       "        return function (event) {\n",
       "            return fig.mouse_event(event, name);\n",
       "        };\n",
       "    }\n",
       "\n",
       "    rubberband_canvas.addEventListener(\n",
       "        'mousedown',\n",
       "        on_mouse_event_closure('button_press')\n",
       "    );\n",
       "    rubberband_canvas.addEventListener(\n",
       "        'mouseup',\n",
       "        on_mouse_event_closure('button_release')\n",
       "    );\n",
       "    rubberband_canvas.addEventListener(\n",
       "        'dblclick',\n",
       "        on_mouse_event_closure('dblclick')\n",
       "    );\n",
       "    // Throttle sequential mouse events to 1 every 20ms.\n",
       "    rubberband_canvas.addEventListener(\n",
       "        'mousemove',\n",
       "        on_mouse_event_closure('motion_notify')\n",
       "    );\n",
       "\n",
       "    rubberband_canvas.addEventListener(\n",
       "        'mouseenter',\n",
       "        on_mouse_event_closure('figure_enter')\n",
       "    );\n",
       "    rubberband_canvas.addEventListener(\n",
       "        'mouseleave',\n",
       "        on_mouse_event_closure('figure_leave')\n",
       "    );\n",
       "\n",
       "    canvas_div.addEventListener('wheel', function (event) {\n",
       "        if (event.deltaY < 0) {\n",
       "            event.step = 1;\n",
       "        } else {\n",
       "            event.step = -1;\n",
       "        }\n",
       "        on_mouse_event_closure('scroll')(event);\n",
       "    });\n",
       "\n",
       "    canvas_div.appendChild(canvas);\n",
       "    canvas_div.appendChild(rubberband_canvas);\n",
       "\n",
       "    this.rubberband_context = rubberband_canvas.getContext('2d');\n",
       "    this.rubberband_context.strokeStyle = '#000000';\n",
       "\n",
       "    this._resize_canvas = function (width, height, forward) {\n",
       "        if (forward) {\n",
       "            canvas_div.style.width = width + 'px';\n",
       "            canvas_div.style.height = height + 'px';\n",
       "        }\n",
       "    };\n",
       "\n",
       "    // Disable right mouse context menu.\n",
       "    this.rubberband_canvas.addEventListener('contextmenu', function (_e) {\n",
       "        event.preventDefault();\n",
       "        return false;\n",
       "    });\n",
       "\n",
       "    function set_focus() {\n",
       "        canvas.focus();\n",
       "        canvas_div.focus();\n",
       "    }\n",
       "\n",
       "    window.setTimeout(set_focus, 100);\n",
       "};\n",
       "\n",
       "mpl.figure.prototype._init_toolbar = function () {\n",
       "    var fig = this;\n",
       "\n",
       "    var toolbar = document.createElement('div');\n",
       "    toolbar.classList = 'mpl-toolbar';\n",
       "    this.root.appendChild(toolbar);\n",
       "\n",
       "    function on_click_closure(name) {\n",
       "        return function (_event) {\n",
       "            return fig.toolbar_button_onclick(name);\n",
       "        };\n",
       "    }\n",
       "\n",
       "    function on_mouseover_closure(tooltip) {\n",
       "        return function (event) {\n",
       "            if (!event.currentTarget.disabled) {\n",
       "                return fig.toolbar_button_onmouseover(tooltip);\n",
       "            }\n",
       "        };\n",
       "    }\n",
       "\n",
       "    fig.buttons = {};\n",
       "    var buttonGroup = document.createElement('div');\n",
       "    buttonGroup.classList = 'mpl-button-group';\n",
       "    for (var toolbar_ind in mpl.toolbar_items) {\n",
       "        var name = mpl.toolbar_items[toolbar_ind][0];\n",
       "        var tooltip = mpl.toolbar_items[toolbar_ind][1];\n",
       "        var image = mpl.toolbar_items[toolbar_ind][2];\n",
       "        var method_name = mpl.toolbar_items[toolbar_ind][3];\n",
       "\n",
       "        if (!name) {\n",
       "            /* Instead of a spacer, we start a new button group. */\n",
       "            if (buttonGroup.hasChildNodes()) {\n",
       "                toolbar.appendChild(buttonGroup);\n",
       "            }\n",
       "            buttonGroup = document.createElement('div');\n",
       "            buttonGroup.classList = 'mpl-button-group';\n",
       "            continue;\n",
       "        }\n",
       "\n",
       "        var button = (fig.buttons[name] = document.createElement('button'));\n",
       "        button.classList = 'mpl-widget';\n",
       "        button.setAttribute('role', 'button');\n",
       "        button.setAttribute('aria-disabled', 'false');\n",
       "        button.addEventListener('click', on_click_closure(method_name));\n",
       "        button.addEventListener('mouseover', on_mouseover_closure(tooltip));\n",
       "\n",
       "        var icon_img = document.createElement('img');\n",
       "        icon_img.src = '_images/' + image + '.png';\n",
       "        icon_img.srcset = '_images/' + image + '_large.png 2x';\n",
       "        icon_img.alt = tooltip;\n",
       "        button.appendChild(icon_img);\n",
       "\n",
       "        buttonGroup.appendChild(button);\n",
       "    }\n",
       "\n",
       "    if (buttonGroup.hasChildNodes()) {\n",
       "        toolbar.appendChild(buttonGroup);\n",
       "    }\n",
       "\n",
       "    var fmt_picker = document.createElement('select');\n",
       "    fmt_picker.classList = 'mpl-widget';\n",
       "    toolbar.appendChild(fmt_picker);\n",
       "    this.format_dropdown = fmt_picker;\n",
       "\n",
       "    for (var ind in mpl.extensions) {\n",
       "        var fmt = mpl.extensions[ind];\n",
       "        var option = document.createElement('option');\n",
       "        option.selected = fmt === mpl.default_extension;\n",
       "        option.innerHTML = fmt;\n",
       "        fmt_picker.appendChild(option);\n",
       "    }\n",
       "\n",
       "    var status_bar = document.createElement('span');\n",
       "    status_bar.classList = 'mpl-message';\n",
       "    toolbar.appendChild(status_bar);\n",
       "    this.message = status_bar;\n",
       "};\n",
       "\n",
       "mpl.figure.prototype.request_resize = function (x_pixels, y_pixels) {\n",
       "    // Request matplotlib to resize the figure. Matplotlib will then trigger a resize in the client,\n",
       "    // which will in turn request a refresh of the image.\n",
       "    this.send_message('resize', { width: x_pixels, height: y_pixels });\n",
       "};\n",
       "\n",
       "mpl.figure.prototype.send_message = function (type, properties) {\n",
       "    properties['type'] = type;\n",
       "    properties['figure_id'] = this.id;\n",
       "    this.ws.send(JSON.stringify(properties));\n",
       "};\n",
       "\n",
       "mpl.figure.prototype.send_draw_message = function () {\n",
       "    if (!this.waiting) {\n",
       "        this.waiting = true;\n",
       "        this.ws.send(JSON.stringify({ type: 'draw', figure_id: this.id }));\n",
       "    }\n",
       "};\n",
       "\n",
       "mpl.figure.prototype.handle_save = function (fig, _msg) {\n",
       "    var format_dropdown = fig.format_dropdown;\n",
       "    var format = format_dropdown.options[format_dropdown.selectedIndex].value;\n",
       "    fig.ondownload(fig, format);\n",
       "};\n",
       "\n",
       "mpl.figure.prototype.handle_resize = function (fig, msg) {\n",
       "    var size = msg['size'];\n",
       "    if (size[0] !== fig.canvas.width || size[1] !== fig.canvas.height) {\n",
       "        fig._resize_canvas(size[0], size[1], msg['forward']);\n",
       "        fig.send_message('refresh', {});\n",
       "    }\n",
       "};\n",
       "\n",
       "mpl.figure.prototype.handle_rubberband = function (fig, msg) {\n",
       "    var x0 = msg['x0'] / fig.ratio;\n",
       "    var y0 = (fig.canvas.height - msg['y0']) / fig.ratio;\n",
       "    var x1 = msg['x1'] / fig.ratio;\n",
       "    var y1 = (fig.canvas.height - msg['y1']) / fig.ratio;\n",
       "    x0 = Math.floor(x0) + 0.5;\n",
       "    y0 = Math.floor(y0) + 0.5;\n",
       "    x1 = Math.floor(x1) + 0.5;\n",
       "    y1 = Math.floor(y1) + 0.5;\n",
       "    var min_x = Math.min(x0, x1);\n",
       "    var min_y = Math.min(y0, y1);\n",
       "    var width = Math.abs(x1 - x0);\n",
       "    var height = Math.abs(y1 - y0);\n",
       "\n",
       "    fig.rubberband_context.clearRect(\n",
       "        0,\n",
       "        0,\n",
       "        fig.canvas.width / fig.ratio,\n",
       "        fig.canvas.height / fig.ratio\n",
       "    );\n",
       "\n",
       "    fig.rubberband_context.strokeRect(min_x, min_y, width, height);\n",
       "};\n",
       "\n",
       "mpl.figure.prototype.handle_figure_label = function (fig, msg) {\n",
       "    // Updates the figure title.\n",
       "    fig.header.textContent = msg['label'];\n",
       "};\n",
       "\n",
       "mpl.figure.prototype.handle_cursor = function (fig, msg) {\n",
       "    var cursor = msg['cursor'];\n",
       "    switch (cursor) {\n",
       "        case 0:\n",
       "            cursor = 'pointer';\n",
       "            break;\n",
       "        case 1:\n",
       "            cursor = 'default';\n",
       "            break;\n",
       "        case 2:\n",
       "            cursor = 'crosshair';\n",
       "            break;\n",
       "        case 3:\n",
       "            cursor = 'move';\n",
       "            break;\n",
       "    }\n",
       "    fig.rubberband_canvas.style.cursor = cursor;\n",
       "};\n",
       "\n",
       "mpl.figure.prototype.handle_message = function (fig, msg) {\n",
       "    fig.message.textContent = msg['message'];\n",
       "};\n",
       "\n",
       "mpl.figure.prototype.handle_draw = function (fig, _msg) {\n",
       "    // Request the server to send over a new figure.\n",
       "    fig.send_draw_message();\n",
       "};\n",
       "\n",
       "mpl.figure.prototype.handle_image_mode = function (fig, msg) {\n",
       "    fig.image_mode = msg['mode'];\n",
       "};\n",
       "\n",
       "mpl.figure.prototype.handle_history_buttons = function (fig, msg) {\n",
       "    for (var key in msg) {\n",
       "        if (!(key in fig.buttons)) {\n",
       "            continue;\n",
       "        }\n",
       "        fig.buttons[key].disabled = !msg[key];\n",
       "        fig.buttons[key].setAttribute('aria-disabled', !msg[key]);\n",
       "    }\n",
       "};\n",
       "\n",
       "mpl.figure.prototype.handle_navigate_mode = function (fig, msg) {\n",
       "    if (msg['mode'] === 'PAN') {\n",
       "        fig.buttons['Pan'].classList.add('active');\n",
       "        fig.buttons['Zoom'].classList.remove('active');\n",
       "    } else if (msg['mode'] === 'ZOOM') {\n",
       "        fig.buttons['Pan'].classList.remove('active');\n",
       "        fig.buttons['Zoom'].classList.add('active');\n",
       "    } else {\n",
       "        fig.buttons['Pan'].classList.remove('active');\n",
       "        fig.buttons['Zoom'].classList.remove('active');\n",
       "    }\n",
       "};\n",
       "\n",
       "mpl.figure.prototype.updated_canvas_event = function () {\n",
       "    // Called whenever the canvas gets updated.\n",
       "    this.send_message('ack', {});\n",
       "};\n",
       "\n",
       "// A function to construct a web socket function for onmessage handling.\n",
       "// Called in the figure constructor.\n",
       "mpl.figure.prototype._make_on_message_function = function (fig) {\n",
       "    return function socket_on_message(evt) {\n",
       "        if (evt.data instanceof Blob) {\n",
       "            var img = evt.data;\n",
       "            if (img.type !== 'image/png') {\n",
       "                /* FIXME: We get \"Resource interpreted as Image but\n",
       "                 * transferred with MIME type text/plain:\" errors on\n",
       "                 * Chrome.  But how to set the MIME type?  It doesn't seem\n",
       "                 * to be part of the websocket stream */\n",
       "                img.type = 'image/png';\n",
       "            }\n",
       "\n",
       "            /* Free the memory for the previous frames */\n",
       "            if (fig.imageObj.src) {\n",
       "                (window.URL || window.webkitURL).revokeObjectURL(\n",
       "                    fig.imageObj.src\n",
       "                );\n",
       "            }\n",
       "\n",
       "            fig.imageObj.src = (window.URL || window.webkitURL).createObjectURL(\n",
       "                img\n",
       "            );\n",
       "            fig.updated_canvas_event();\n",
       "            fig.waiting = false;\n",
       "            return;\n",
       "        } else if (\n",
       "            typeof evt.data === 'string' &&\n",
       "            evt.data.slice(0, 21) === 'data:image/png;base64'\n",
       "        ) {\n",
       "            fig.imageObj.src = evt.data;\n",
       "            fig.updated_canvas_event();\n",
       "            fig.waiting = false;\n",
       "            return;\n",
       "        }\n",
       "\n",
       "        var msg = JSON.parse(evt.data);\n",
       "        var msg_type = msg['type'];\n",
       "\n",
       "        // Call the  \"handle_{type}\" callback, which takes\n",
       "        // the figure and JSON message as its only arguments.\n",
       "        try {\n",
       "            var callback = fig['handle_' + msg_type];\n",
       "        } catch (e) {\n",
       "            console.log(\n",
       "                \"No handler for the '\" + msg_type + \"' message type: \",\n",
       "                msg\n",
       "            );\n",
       "            return;\n",
       "        }\n",
       "\n",
       "        if (callback) {\n",
       "            try {\n",
       "                // console.log(\"Handling '\" + msg_type + \"' message: \", msg);\n",
       "                callback(fig, msg);\n",
       "            } catch (e) {\n",
       "                console.log(\n",
       "                    \"Exception inside the 'handler_\" + msg_type + \"' callback:\",\n",
       "                    e,\n",
       "                    e.stack,\n",
       "                    msg\n",
       "                );\n",
       "            }\n",
       "        }\n",
       "    };\n",
       "};\n",
       "\n",
       "// from http://stackoverflow.com/questions/1114465/getting-mouse-location-in-canvas\n",
       "mpl.findpos = function (e) {\n",
       "    //this section is from http://www.quirksmode.org/js/events_properties.html\n",
       "    var targ;\n",
       "    if (!e) {\n",
       "        e = window.event;\n",
       "    }\n",
       "    if (e.target) {\n",
       "        targ = e.target;\n",
       "    } else if (e.srcElement) {\n",
       "        targ = e.srcElement;\n",
       "    }\n",
       "    if (targ.nodeType === 3) {\n",
       "        // defeat Safari bug\n",
       "        targ = targ.parentNode;\n",
       "    }\n",
       "\n",
       "    // pageX,Y are the mouse positions relative to the document\n",
       "    var boundingRect = targ.getBoundingClientRect();\n",
       "    var x = e.pageX - (boundingRect.left + document.body.scrollLeft);\n",
       "    var y = e.pageY - (boundingRect.top + document.body.scrollTop);\n",
       "\n",
       "    return { x: x, y: y };\n",
       "};\n",
       "\n",
       "/*\n",
       " * return a copy of an object with only non-object keys\n",
       " * we need this to avoid circular references\n",
       " * http://stackoverflow.com/a/24161582/3208463\n",
       " */\n",
       "function simpleKeys(original) {\n",
       "    return Object.keys(original).reduce(function (obj, key) {\n",
       "        if (typeof original[key] !== 'object') {\n",
       "            obj[key] = original[key];\n",
       "        }\n",
       "        return obj;\n",
       "    }, {});\n",
       "}\n",
       "\n",
       "mpl.figure.prototype.mouse_event = function (event, name) {\n",
       "    var canvas_pos = mpl.findpos(event);\n",
       "\n",
       "    if (name === 'button_press') {\n",
       "        this.canvas.focus();\n",
       "        this.canvas_div.focus();\n",
       "    }\n",
       "\n",
       "    var x = canvas_pos.x * this.ratio;\n",
       "    var y = canvas_pos.y * this.ratio;\n",
       "\n",
       "    this.send_message(name, {\n",
       "        x: x,\n",
       "        y: y,\n",
       "        button: event.button,\n",
       "        step: event.step,\n",
       "        guiEvent: simpleKeys(event),\n",
       "    });\n",
       "\n",
       "    /* This prevents the web browser from automatically changing to\n",
       "     * the text insertion cursor when the button is pressed.  We want\n",
       "     * to control all of the cursor setting manually through the\n",
       "     * 'cursor' event from matplotlib */\n",
       "    event.preventDefault();\n",
       "    return false;\n",
       "};\n",
       "\n",
       "mpl.figure.prototype._key_event_extra = function (_event, _name) {\n",
       "    // Handle any extra behaviour associated with a key event\n",
       "};\n",
       "\n",
       "mpl.figure.prototype.key_event = function (event, name) {\n",
       "    // Prevent repeat events\n",
       "    if (name === 'key_press') {\n",
       "        if (event.key === this._key) {\n",
       "            return;\n",
       "        } else {\n",
       "            this._key = event.key;\n",
       "        }\n",
       "    }\n",
       "    if (name === 'key_release') {\n",
       "        this._key = null;\n",
       "    }\n",
       "\n",
       "    var value = '';\n",
       "    if (event.ctrlKey && event.key !== 'Control') {\n",
       "        value += 'ctrl+';\n",
       "    }\n",
       "    else if (event.altKey && event.key !== 'Alt') {\n",
       "        value += 'alt+';\n",
       "    }\n",
       "    else if (event.shiftKey && event.key !== 'Shift') {\n",
       "        value += 'shift+';\n",
       "    }\n",
       "\n",
       "    value += 'k' + event.key;\n",
       "\n",
       "    this._key_event_extra(event, name);\n",
       "\n",
       "    this.send_message(name, { key: value, guiEvent: simpleKeys(event) });\n",
       "    return false;\n",
       "};\n",
       "\n",
       "mpl.figure.prototype.toolbar_button_onclick = function (name) {\n",
       "    if (name === 'download') {\n",
       "        this.handle_save(this, null);\n",
       "    } else {\n",
       "        this.send_message('toolbar_button', { name: name });\n",
       "    }\n",
       "};\n",
       "\n",
       "mpl.figure.prototype.toolbar_button_onmouseover = function (tooltip) {\n",
       "    this.message.textContent = tooltip;\n",
       "};\n",
       "\n",
       "///////////////// REMAINING CONTENT GENERATED BY embed_js.py /////////////////\n",
       "// prettier-ignore\n",
       "var _JSXTOOLS_RESIZE_OBSERVER=function(A){var t,i=new WeakMap,n=new WeakMap,a=new WeakMap,r=new WeakMap,o=new Set;function s(e){if(!(this instanceof s))throw new TypeError(\"Constructor requires 'new' operator\");i.set(this,e)}function h(){throw new TypeError(\"Function is not a constructor\")}function c(e,t,i,n){e=0 in arguments?Number(arguments[0]):0,t=1 in arguments?Number(arguments[1]):0,i=2 in arguments?Number(arguments[2]):0,n=3 in arguments?Number(arguments[3]):0,this.right=(this.x=this.left=e)+(this.width=i),this.bottom=(this.y=this.top=t)+(this.height=n),Object.freeze(this)}function d(){t=requestAnimationFrame(d);var s=new WeakMap,p=new Set;o.forEach((function(t){r.get(t).forEach((function(i){var r=t instanceof window.SVGElement,o=a.get(t),d=r?0:parseFloat(o.paddingTop),f=r?0:parseFloat(o.paddingRight),l=r?0:parseFloat(o.paddingBottom),u=r?0:parseFloat(o.paddingLeft),g=r?0:parseFloat(o.borderTopWidth),m=r?0:parseFloat(o.borderRightWidth),w=r?0:parseFloat(o.borderBottomWidth),b=u+f,F=d+l,v=(r?0:parseFloat(o.borderLeftWidth))+m,W=g+w,y=r?0:t.offsetHeight-W-t.clientHeight,E=r?0:t.offsetWidth-v-t.clientWidth,R=b+v,z=F+W,M=r?t.width:parseFloat(o.width)-R-E,O=r?t.height:parseFloat(o.height)-z-y;if(n.has(t)){var k=n.get(t);if(k[0]===M&&k[1]===O)return}n.set(t,[M,O]);var S=Object.create(h.prototype);S.target=t,S.contentRect=new c(u,d,M,O),s.has(i)||(s.set(i,[]),p.add(i)),s.get(i).push(S)}))})),p.forEach((function(e){i.get(e).call(e,s.get(e),e)}))}return s.prototype.observe=function(i){if(i instanceof window.Element){r.has(i)||(r.set(i,new Set),o.add(i),a.set(i,window.getComputedStyle(i)));var n=r.get(i);n.has(this)||n.add(this),cancelAnimationFrame(t),t=requestAnimationFrame(d)}},s.prototype.unobserve=function(i){if(i instanceof window.Element&&r.has(i)){var n=r.get(i);n.has(this)&&(n.delete(this),n.size||(r.delete(i),o.delete(i))),n.size||r.delete(i),o.size||cancelAnimationFrame(t)}},A.DOMRectReadOnly=c,A.ResizeObserver=s,A.ResizeObserverEntry=h,A}; // eslint-disable-line\n",
       "mpl.toolbar_items = [[\"Home\", \"Reset original view\", \"fa fa-home icon-home\", \"home\"], [\"Back\", \"Back to previous view\", \"fa fa-arrow-left icon-arrow-left\", \"back\"], [\"Forward\", \"Forward to next view\", \"fa fa-arrow-right icon-arrow-right\", \"forward\"], [\"\", \"\", \"\", \"\"], [\"Pan\", \"Left button pans, Right button zooms\\nx/y fixes axis, CTRL fixes aspect\", \"fa fa-arrows icon-move\", \"pan\"], [\"Zoom\", \"Zoom to rectangle\\nx/y fixes axis, CTRL fixes aspect\", \"fa fa-square-o icon-check-empty\", \"zoom\"], [\"\", \"\", \"\", \"\"], [\"Download\", \"Download plot\", \"fa fa-floppy-o icon-save\", \"download\"]];\n",
       "\n",
       "mpl.extensions = [\"eps\", \"jpeg\", \"pgf\", \"pdf\", \"png\", \"ps\", \"raw\", \"svg\", \"tif\"];\n",
       "\n",
       "mpl.default_extension = \"png\";/* global mpl */\n",
       "\n",
       "var comm_websocket_adapter = function (comm) {\n",
       "    // Create a \"websocket\"-like object which calls the given IPython comm\n",
       "    // object with the appropriate methods. Currently this is a non binary\n",
       "    // socket, so there is still some room for performance tuning.\n",
       "    var ws = {};\n",
       "\n",
       "    ws.binaryType = comm.kernel.ws.binaryType;\n",
       "    ws.readyState = comm.kernel.ws.readyState;\n",
       "    function updateReadyState(_event) {\n",
       "        if (comm.kernel.ws) {\n",
       "            ws.readyState = comm.kernel.ws.readyState;\n",
       "        } else {\n",
       "            ws.readyState = 3; // Closed state.\n",
       "        }\n",
       "    }\n",
       "    comm.kernel.ws.addEventListener('open', updateReadyState);\n",
       "    comm.kernel.ws.addEventListener('close', updateReadyState);\n",
       "    comm.kernel.ws.addEventListener('error', updateReadyState);\n",
       "\n",
       "    ws.close = function () {\n",
       "        comm.close();\n",
       "    };\n",
       "    ws.send = function (m) {\n",
       "        //console.log('sending', m);\n",
       "        comm.send(m);\n",
       "    };\n",
       "    // Register the callback with on_msg.\n",
       "    comm.on_msg(function (msg) {\n",
       "        //console.log('receiving', msg['content']['data'], msg);\n",
       "        var data = msg['content']['data'];\n",
       "        if (data['blob'] !== undefined) {\n",
       "            data = {\n",
       "                data: new Blob(msg['buffers'], { type: data['blob'] }),\n",
       "            };\n",
       "        }\n",
       "        // Pass the mpl event to the overridden (by mpl) onmessage function.\n",
       "        ws.onmessage(data);\n",
       "    });\n",
       "    return ws;\n",
       "};\n",
       "\n",
       "mpl.mpl_figure_comm = function (comm, msg) {\n",
       "    // This is the function which gets called when the mpl process\n",
       "    // starts-up an IPython Comm through the \"matplotlib\" channel.\n",
       "\n",
       "    var id = msg.content.data.id;\n",
       "    // Get hold of the div created by the display call when the Comm\n",
       "    // socket was opened in Python.\n",
       "    var element = document.getElementById(id);\n",
       "    var ws_proxy = comm_websocket_adapter(comm);\n",
       "\n",
       "    function ondownload(figure, _format) {\n",
       "        window.open(figure.canvas.toDataURL());\n",
       "    }\n",
       "\n",
       "    var fig = new mpl.figure(id, ws_proxy, ondownload, element);\n",
       "\n",
       "    // Call onopen now - mpl needs it, as it is assuming we've passed it a real\n",
       "    // web socket which is closed, not our websocket->open comm proxy.\n",
       "    ws_proxy.onopen();\n",
       "\n",
       "    fig.parent_element = element;\n",
       "    fig.cell_info = mpl.find_output_cell(\"<div id='\" + id + \"'></div>\");\n",
       "    if (!fig.cell_info) {\n",
       "        console.error('Failed to find cell for figure', id, fig);\n",
       "        return;\n",
       "    }\n",
       "    fig.cell_info[0].output_area.element.on(\n",
       "        'cleared',\n",
       "        { fig: fig },\n",
       "        fig._remove_fig_handler\n",
       "    );\n",
       "};\n",
       "\n",
       "mpl.figure.prototype.handle_close = function (fig, msg) {\n",
       "    var width = fig.canvas.width / fig.ratio;\n",
       "    fig.cell_info[0].output_area.element.off(\n",
       "        'cleared',\n",
       "        fig._remove_fig_handler\n",
       "    );\n",
       "    fig.resizeObserverInstance.unobserve(fig.canvas_div);\n",
       "\n",
       "    // Update the output cell to use the data from the current canvas.\n",
       "    fig.push_to_output();\n",
       "    var dataURL = fig.canvas.toDataURL();\n",
       "    // Re-enable the keyboard manager in IPython - without this line, in FF,\n",
       "    // the notebook keyboard shortcuts fail.\n",
       "    IPython.keyboard_manager.enable();\n",
       "    fig.parent_element.innerHTML =\n",
       "        '<img src=\"' + dataURL + '\" width=\"' + width + '\">';\n",
       "    fig.close_ws(fig, msg);\n",
       "};\n",
       "\n",
       "mpl.figure.prototype.close_ws = function (fig, msg) {\n",
       "    fig.send_message('closing', msg);\n",
       "    // fig.ws.close()\n",
       "};\n",
       "\n",
       "mpl.figure.prototype.push_to_output = function (_remove_interactive) {\n",
       "    // Turn the data on the canvas into data in the output cell.\n",
       "    var width = this.canvas.width / this.ratio;\n",
       "    var dataURL = this.canvas.toDataURL();\n",
       "    this.cell_info[1]['text/html'] =\n",
       "        '<img src=\"' + dataURL + '\" width=\"' + width + '\">';\n",
       "};\n",
       "\n",
       "mpl.figure.prototype.updated_canvas_event = function () {\n",
       "    // Tell IPython that the notebook contents must change.\n",
       "    IPython.notebook.set_dirty(true);\n",
       "    this.send_message('ack', {});\n",
       "    var fig = this;\n",
       "    // Wait a second, then push the new image to the DOM so\n",
       "    // that it is saved nicely (might be nice to debounce this).\n",
       "    setTimeout(function () {\n",
       "        fig.push_to_output();\n",
       "    }, 1000);\n",
       "};\n",
       "\n",
       "mpl.figure.prototype._init_toolbar = function () {\n",
       "    var fig = this;\n",
       "\n",
       "    var toolbar = document.createElement('div');\n",
       "    toolbar.classList = 'btn-toolbar';\n",
       "    this.root.appendChild(toolbar);\n",
       "\n",
       "    function on_click_closure(name) {\n",
       "        return function (_event) {\n",
       "            return fig.toolbar_button_onclick(name);\n",
       "        };\n",
       "    }\n",
       "\n",
       "    function on_mouseover_closure(tooltip) {\n",
       "        return function (event) {\n",
       "            if (!event.currentTarget.disabled) {\n",
       "                return fig.toolbar_button_onmouseover(tooltip);\n",
       "            }\n",
       "        };\n",
       "    }\n",
       "\n",
       "    fig.buttons = {};\n",
       "    var buttonGroup = document.createElement('div');\n",
       "    buttonGroup.classList = 'btn-group';\n",
       "    var button;\n",
       "    for (var toolbar_ind in mpl.toolbar_items) {\n",
       "        var name = mpl.toolbar_items[toolbar_ind][0];\n",
       "        var tooltip = mpl.toolbar_items[toolbar_ind][1];\n",
       "        var image = mpl.toolbar_items[toolbar_ind][2];\n",
       "        var method_name = mpl.toolbar_items[toolbar_ind][3];\n",
       "\n",
       "        if (!name) {\n",
       "            /* Instead of a spacer, we start a new button group. */\n",
       "            if (buttonGroup.hasChildNodes()) {\n",
       "                toolbar.appendChild(buttonGroup);\n",
       "            }\n",
       "            buttonGroup = document.createElement('div');\n",
       "            buttonGroup.classList = 'btn-group';\n",
       "            continue;\n",
       "        }\n",
       "\n",
       "        button = fig.buttons[name] = document.createElement('button');\n",
       "        button.classList = 'btn btn-default';\n",
       "        button.href = '#';\n",
       "        button.title = name;\n",
       "        button.innerHTML = '<i class=\"fa ' + image + ' fa-lg\"></i>';\n",
       "        button.addEventListener('click', on_click_closure(method_name));\n",
       "        button.addEventListener('mouseover', on_mouseover_closure(tooltip));\n",
       "        buttonGroup.appendChild(button);\n",
       "    }\n",
       "\n",
       "    if (buttonGroup.hasChildNodes()) {\n",
       "        toolbar.appendChild(buttonGroup);\n",
       "    }\n",
       "\n",
       "    // Add the status bar.\n",
       "    var status_bar = document.createElement('span');\n",
       "    status_bar.classList = 'mpl-message pull-right';\n",
       "    toolbar.appendChild(status_bar);\n",
       "    this.message = status_bar;\n",
       "\n",
       "    // Add the close button to the window.\n",
       "    var buttongrp = document.createElement('div');\n",
       "    buttongrp.classList = 'btn-group inline pull-right';\n",
       "    button = document.createElement('button');\n",
       "    button.classList = 'btn btn-mini btn-primary';\n",
       "    button.href = '#';\n",
       "    button.title = 'Stop Interaction';\n",
       "    button.innerHTML = '<i class=\"fa fa-power-off icon-remove icon-large\"></i>';\n",
       "    button.addEventListener('click', function (_evt) {\n",
       "        fig.handle_close(fig, {});\n",
       "    });\n",
       "    button.addEventListener(\n",
       "        'mouseover',\n",
       "        on_mouseover_closure('Stop Interaction')\n",
       "    );\n",
       "    buttongrp.appendChild(button);\n",
       "    var titlebar = this.root.querySelector('.ui-dialog-titlebar');\n",
       "    titlebar.insertBefore(buttongrp, titlebar.firstChild);\n",
       "};\n",
       "\n",
       "mpl.figure.prototype._remove_fig_handler = function (event) {\n",
       "    var fig = event.data.fig;\n",
       "    if (event.target !== this) {\n",
       "        // Ignore bubbled events from children.\n",
       "        return;\n",
       "    }\n",
       "    fig.close_ws(fig, {});\n",
       "};\n",
       "\n",
       "mpl.figure.prototype._root_extra_style = function (el) {\n",
       "    el.style.boxSizing = 'content-box'; // override notebook setting of border-box.\n",
       "};\n",
       "\n",
       "mpl.figure.prototype._canvas_extra_style = function (el) {\n",
       "    // this is important to make the div 'focusable\n",
       "    el.setAttribute('tabindex', 0);\n",
       "    // reach out to IPython and tell the keyboard manager to turn it's self\n",
       "    // off when our div gets focus\n",
       "\n",
       "    // location in version 3\n",
       "    if (IPython.notebook.keyboard_manager) {\n",
       "        IPython.notebook.keyboard_manager.register_events(el);\n",
       "    } else {\n",
       "        // location in version 2\n",
       "        IPython.keyboard_manager.register_events(el);\n",
       "    }\n",
       "};\n",
       "\n",
       "mpl.figure.prototype._key_event_extra = function (event, _name) {\n",
       "    var manager = IPython.notebook.keyboard_manager;\n",
       "    if (!manager) {\n",
       "        manager = IPython.keyboard_manager;\n",
       "    }\n",
       "\n",
       "    // Check for shift+enter\n",
       "    if (event.shiftKey && event.which === 13) {\n",
       "        this.canvas_div.blur();\n",
       "        // select the cell after this one\n",
       "        var index = IPython.notebook.find_cell_index(this.cell_info[0]);\n",
       "        IPython.notebook.select(index + 1);\n",
       "    }\n",
       "};\n",
       "\n",
       "mpl.figure.prototype.handle_save = function (fig, _msg) {\n",
       "    fig.ondownload(fig, null);\n",
       "};\n",
       "\n",
       "mpl.find_output_cell = function (html_output) {\n",
       "    // Return the cell and output element which can be found *uniquely* in the notebook.\n",
       "    // Note - this is a bit hacky, but it is done because the \"notebook_saving.Notebook\"\n",
       "    // IPython event is triggered only after the cells have been serialised, which for\n",
       "    // our purposes (turning an active figure into a static one), is too late.\n",
       "    var cells = IPython.notebook.get_cells();\n",
       "    var ncells = cells.length;\n",
       "    for (var i = 0; i < ncells; i++) {\n",
       "        var cell = cells[i];\n",
       "        if (cell.cell_type === 'code') {\n",
       "            for (var j = 0; j < cell.output_area.outputs.length; j++) {\n",
       "                var data = cell.output_area.outputs[j];\n",
       "                if (data.data) {\n",
       "                    // IPython >= 3 moved mimebundle to data attribute of output\n",
       "                    data = data.data;\n",
       "                }\n",
       "                if (data['text/html'] === html_output) {\n",
       "                    return [cell, data, j];\n",
       "                }\n",
       "            }\n",
       "        }\n",
       "    }\n",
       "};\n",
       "\n",
       "// Register the function which deals with the matplotlib target/channel.\n",
       "// The kernel may be null if the page has been refreshed.\n",
       "if (IPython.notebook.kernel !== null) {\n",
       "    IPython.notebook.kernel.comm_manager.register_target(\n",
       "        'matplotlib',\n",
       "        mpl.mpl_figure_comm\n",
       "    );\n",
       "}\n"
      ],
      "text/plain": [
       "<IPython.core.display.Javascript object>"
      ]
     },
     "metadata": {},
     "output_type": "display_data"
    },
    {
     "data": {
      "text/html": [
       "<img src=\"data:image/png;base64,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\" width=\"640\">"
      ],
      "text/plain": [
       "<IPython.core.display.HTML object>"
      ]
     },
     "metadata": {},
     "output_type": "display_data"
    }
   ],
   "source": [
    "plt.figure()\n",
    "plt.title(\"Histogram of pred_val\")\n",
    "plt.hist(output_df.pred_val.ravel(), 25)\n",
    "plt.show()"
   ]
  },
  {
   "cell_type": "markdown",
   "id": "integrated-combine",
   "metadata": {},
   "source": [
    "### Write image files into false positives, false negatives, etc."
   ]
  },
  {
   "cell_type": "code",
   "execution_count": 14,
   "id": "raising-string",
   "metadata": {},
   "outputs": [],
   "source": [
    "def colorize_image_with_mask(image, mask):\n",
    "    \"\"\"Plotting function for combining a colorized ion image with a spot mask\"\"\"\n",
    "    image = clip_hotspots(image)\n",
    "    on_spot_colorized = plt.cm.cividis(image)\n",
    "    off_spot_colorized = plt.cm.magma(image)\n",
    "    return np.where(mask[:,:,np.newaxis], on_spot_colorized, off_spot_colorized)\n",
    "    \n",
    "def save_image_with_mask(image, mask, fname):\n",
    "    plt.imsave(fname, colorize_image_with_mask(image, mask))\n",
    "    \n",
    "    \n",
    "def save_image(image, fname):\n",
    "    plt.imsave(fname, clip_hotspots(image))"
   ]
  },
  {
   "cell_type": "code",
   "execution_count": 15,
   "id": "available-episode",
   "metadata": {},
   "outputs": [],
   "source": [
    "# Clean output directories\n",
    "for output_path in [\n",
    "    p_eval_upos, p_eval_uneg, \n",
    "]:\n",
    "    output_path.mkdir(parents=True, exist_ok=True)\n",
    "    for f in output_path.glob('*.png'):\n",
    "        f.unlink()  # Delete existing files\n",
    "\n",
    "for dataset_name in output_df.dataset_name.unique():\n",
    "    \n",
    "    #load inages\n",
    "    images_df = pd.read_pickle(p_eval / f\"{dataset_name}_images.pickle\")\n",
    "    images_df.set_index('row_id', inplace=True)\n",
    "    \n",
    "    subset = output_df[output_df.dataset_name == dataset_name]\n",
    "    \n",
    "    # Write images with two-state classification\n",
    "    for row in subset.itertuples():\n",
    "        \n",
    "        image_to_write = images_df.loc[row[0], 'image']\n",
    "\n",
    "        # Figure out which directory to use\n",
    "        twostate_path = [p_eval_uneg, p_eval_upos][row.prediction]\n",
    "\n",
    "        save_image(image_to_write, twostate_path / row.filename)"
   ]
  }
 ],
 "metadata": {
  "kernelspec": {
   "display_name": "Python [conda env:.conda-zimmerman] *",
   "language": "python",
   "name": "conda-env-.conda-zimmerman-py"
  },
  "language_info": {
   "codemirror_mode": {
    "name": "ipython",
    "version": 3
   },
   "file_extension": ".py",
   "mimetype": "text/x-python",
   "name": "python",
   "nbconvert_exporter": "python",
   "pygments_lexer": "ipython3",
   "version": "3.8.5"
  }
 },
 "nbformat": 4,
 "nbformat_minor": 5
}
