{
 "cells": [
  {
   "cell_type": "code",
   "execution_count": 1,
   "id": "honest-guarantee",
   "metadata": {},
   "outputs": [
    {
     "name": "stderr",
     "output_type": "stream",
     "text": [
      "<frozen importlib._bootstrap>:219: RuntimeWarning: scipy._lib.messagestream.MessageStream size changed, may indicate binary incompatibility. Expected 56 from C header, got 64 from PyObject\n"
     ]
    }
   ],
   "source": [
    "import pandas as pd\n",
    "import numpy as np\n",
    "from pathlib import Path\n",
    "import seaborn as sns\n",
    "from matplotlib.colors import to_rgba\n",
    "import matplotlib.pyplot as plt\n",
    "from matplotlib import rc\n",
    "\n",
    "rc('font',**{'family':'sans-serif',\n",
    "             'sans-serif':['Arial'],\n",
    "             'size':12})\n",
    "rc('pdf', fonttype=42)\n",
    "rc('ps', fonttype=42)"
   ]
  },
  {
   "cell_type": "code",
   "execution_count": 2,
   "id": "working-providence",
   "metadata": {},
   "outputs": [],
   "source": [
    "p_root_dir = Path.cwd().parents[1]\n",
    "p_data = p_root_dir / \"5_data\"\n",
    "\n",
    "# Predictions\n",
    "p_predictions = p_data / \"Interlab_data_19Apr2023.csv\"\n",
    "source = p_predictions.stem"
   ]
  },
  {
   "cell_type": "code",
   "execution_count": 3,
   "id": "modified-cleaners",
   "metadata": {},
   "outputs": [],
   "source": [
    "# Load predictions and format neutral loss column\n",
    "df = pd.read_csv(p_predictions)\n",
    "df.neutral_loss.fillna('', inplace=True)\n",
    "\n",
    "# Only consider data of detected ions\n",
    "threshold = 0.8\n",
    "df['detectability'] = df.pred_val >= threshold\n",
    "data = df[df.detectability]"
   ]
  },
  {
   "cell_type": "code",
   "execution_count": 4,
   "id": "latin-emphasis",
   "metadata": {},
   "outputs": [
    {
     "name": "stderr",
     "output_type": "stream",
     "text": [
      "<ipython-input-4-52d6c918a8ad>:2: SettingWithCopyWarning: \n",
      "A value is trying to be set on a copy of a slice from a DataFrame.\n",
      "Try using .loc[row_indexer,col_indexer] = value instead\n",
      "\n",
      "See the caveats in the documentation: https://pandas.pydata.org/pandas-docs/stable/user_guide/indexing.html#returning-a-view-versus-a-copy\n",
      "  data['sum_intensity_per_metabolite'] = data.groupby([\"Sample name\", \"name_short\"])[\"spot_intensity_bgr_corrected\"].transform('sum')\n",
      "<ipython-input-4-52d6c918a8ad>:5: SettingWithCopyWarning: \n",
      "A value is trying to be set on a copy of a slice from a DataFrame.\n",
      "Try using .loc[row_indexer,col_indexer] = value instead\n",
      "\n",
      "See the caveats in the documentation: https://pandas.pydata.org/pandas-docs/stable/user_guide/indexing.html#returning-a-view-versus-a-copy\n",
      "  data['fraction_per_ion'] = data.spot_intensity_bgr_corrected / data.sum_intensity_per_metabolite\n"
     ]
    }
   ],
   "source": [
    "# Sum intensities of detected ions per metabolite in each sample\n",
    "data['sum_intensity_per_metabolite'] = data.groupby([\"Sample name\", \"name_short\"])[\"spot_intensity_bgr_corrected\"].transform('sum')\n",
    "\n",
    "# Calculate the fractions of detected ion intensities per metabolite in each sample\n",
    "data['fraction_per_ion'] = data.spot_intensity_bgr_corrected / data.sum_intensity_per_metabolite"
   ]
  },
  {
   "cell_type": "markdown",
   "id": "mysterious-method",
   "metadata": {},
   "source": [
    "### Average effect of signal dilution for detected metabolites"
   ]
  },
  {
   "cell_type": "code",
   "execution_count": null,
   "id": "dated-twist",
   "metadata": {},
   "outputs": [],
   "source": [
    "p_out = p_root_dir / r\"6_figures\\figure_5\\signal_dilution\\violin\""
   ]
  },
  {
   "cell_type": "code",
   "execution_count": 6,
   "id": "amino-messaging",
   "metadata": {},
   "outputs": [],
   "source": [
    "# Find what fraction is the most intense detected ion per metabolite in each sample\n",
    "max_fraction_data = data.pivot_table(index=['Sample name', 'Technology', 'Polarity', 'name_short'],\n",
    "                                     values=['fraction_per_ion'],\n",
    "                                     aggfunc=\n",
    "                                            {'fraction_per_ion':max}).reset_index()"
   ]
  },
  {
   "cell_type": "code",
   "execution_count": 13,
   "id": "banned-target",
   "metadata": {},
   "outputs": [
    {
     "data": {
      "image/png": "[encoded data removed]",
      "text/plain": [
       "<Figure size 252x288 with 1 Axes>"
      ]
     },
     "metadata": {
      "needs_background": "light"
     },
     "output_type": "display_data"
    }
   ],
   "source": [
    "title = \"extent_of_signal_dilution_pos\"\n",
    "\n",
    "custom_order = ['MALDI2-Orbitrap',\n",
    "                'MALDI-FTICR',\n",
    "                'IR-MALDESI-Orbitrap',\n",
    "                'AP-MALDI-Orbitrap',\n",
    "                'MALDI-qTOF',  \n",
    "                'DESI-Orbitrap'\n",
    "]\n",
    "\n",
    "plt.figure(figsize=(3.5,4))\n",
    "g = sns.violinplot(data = max_fraction_data[max_fraction_data.Polarity=='positive'], \n",
    "                   x='Technology', y='fraction_per_ion',\n",
    "                   scale='count', cut=0, inner = \"box\",\n",
    "                   order=custom_order,\n",
    "                   # to plot half of the violin\n",
    "                   hue=True, hue_order=[True, False], split=True)\n",
    "\n",
    "g.legend_ = None\n",
    "g.set(xlabel=\"Technology\", \n",
    "      ylabel = \"Relative abundance of \\n largest peak per metabolite\",\n",
    "      title = \"Positive mode\")\n",
    "\n",
    "# Make violins white\n",
    "for violin in g.collections:\n",
    "    violin.set_facecolor(to_rgba('lightgrey'))\n",
    "\n",
    "g.set_xticklabels(labels=g.get_xticklabels(), rotation=90)\n",
    "g.set_yticks([0.0, 0.2, 0.4, 0.6, 0.8, 1.0])\n",
    "sns.despine()\n",
    "plt.tight_layout()\n",
    "\n",
    "g.figure.savefig(p_out / f\"{title}.png\")\n",
    "g.figure.savefig(p_out / f\"{title}.pdf\", transparent=True)"
   ]
  },
  {
   "cell_type": "code",
   "execution_count": 38,
   "id": "coordinated-christianity",
   "metadata": {},
   "outputs": [
    {
     "name": "stdout",
     "output_type": "stream",
     "text": [
      "Median range 0.62-      0.9\n"
     ]
    },
    {
     "name": "stderr",
     "output_type": "stream",
     "text": [
      "<ipython-input-38-67ab88fa7020>:1: FutureWarning: The default value of numeric_only in DataFrameGroupBy.median is deprecated. In a future version, numeric_only will default to False. Either specify numeric_only or select only columns which should be valid for the function.\n",
      "  print(f\"Median range {np.around(max_fraction_data[max_fraction_data.Polarity=='positive'].groupby('Technology').agg('median').min()[0],2)}-\\\n",
      "<ipython-input-38-67ab88fa7020>:2: FutureWarning: The default value of numeric_only in DataFrameGroupBy.median is deprecated. In a future version, numeric_only will default to False. Either specify numeric_only or select only columns which should be valid for the function.\n",
      "  {np.around(max_fraction_data[max_fraction_data.Polarity=='positive'].groupby('Technology').agg('median').max()[0], 2)}\")\n"
     ]
    }
   ],
   "source": [
    "print(f\"Median range {np.around(max_fraction_data[max_fraction_data.Polarity=='positive'].groupby('Technology').agg('median').min()[0],2)}-\\\n",
    "      {np.around(max_fraction_data[max_fraction_data.Polarity=='positive'].groupby('Technology').agg('median').max()[0], 2)}\")"
   ]
  },
  {
   "cell_type": "code",
   "execution_count": 12,
   "id": "architectural-diamond",
   "metadata": {},
   "outputs": [
    {
     "data": {
      "image/png": "[encoded data removed]",
      "text/plain": [
       "<Figure size 252x288 with 1 Axes>"
      ]
     },
     "metadata": {
      "needs_background": "light"
     },
     "output_type": "display_data"
    }
   ],
   "source": [
    "title = \"extent_of_signal_dilution_neg\"\n",
    "\n",
    "custom_order = [\n",
    "                'MALDI-FTICR',\n",
    "                'IR-MALDESI-Orbitrap',\n",
    "                'AP-MALDI-Orbitrap',\n",
    "                'MALDI-qTOF', \n",
    "                'MALDI2-Orbitrap',\n",
    "                'DESI-Orbitrap'\n",
    "]\n",
    "\n",
    "plt.figure(figsize=(3.5,4))\n",
    "g = sns.violinplot(data = max_fraction_data[max_fraction_data.Polarity=='negative'], \n",
    "                   x='Technology', y='fraction_per_ion',\n",
    "                   scale='count', cut=0, inner = \"box\",\n",
    "                   order=custom_order,\n",
    "                   # to plot half of the violin\n",
    "                   hue=True, hue_order=[True, False], split=True)\n",
    "\n",
    "\n",
    "g.legend_ = None\n",
    "g.set(xlabel=\"Technology\", \n",
    "      ylabel = \"Relative abundance of \\n largest peak per metabolite\",\n",
    "      title = \"Negative mode\")\n",
    "\n",
    "# Make violins white\n",
    "for violin in g.collections:\n",
    "    violin.set_facecolor(to_rgba('lightgrey'))\n",
    "\n",
    "g.set_xticklabels(labels=g.get_xticklabels(), rotation=90)\n",
    "g.set_yticks([0.0, 0.2, 0.4, 0.6, 0.8, 1.0])\n",
    "sns.despine()\n",
    "plt.tight_layout()\n",
    "\n",
    "g.figure.savefig(p_out / f\"{title}.png\")\n",
    "g.figure.savefig(p_out / f\"{title}.pdf\", transparent=True)"
   ]
  },
  {
   "cell_type": "code",
   "execution_count": 35,
   "id": "german-norfolk",
   "metadata": {},
   "outputs": [
    {
     "name": "stdout",
     "output_type": "stream",
     "text": [
      "Median range 0.83-      0.97\n"
     ]
    },
    {
     "name": "stderr",
     "output_type": "stream",
     "text": [
      "<ipython-input-35-f5b865da7ff2>:1: FutureWarning: The default value of numeric_only in DataFrameGroupBy.median is deprecated. In a future version, numeric_only will default to False. Either specify numeric_only or select only columns which should be valid for the function.\n",
      "  print(f\"Median range {np.around(max_fraction_data[max_fraction_data.Polarity=='negative'].groupby('Technology').agg('median').min()[0],2)}-\\\n",
      "<ipython-input-35-f5b865da7ff2>:2: FutureWarning: The default value of numeric_only in DataFrameGroupBy.median is deprecated. In a future version, numeric_only will default to False. Either specify numeric_only or select only columns which should be valid for the function.\n",
      "  {np.around(max_fraction_data[max_fraction_data.Polarity=='negative'].groupby('Technology').agg('median').max()[0], 2)}\")\n"
     ]
    }
   ],
   "source": [
    "print(f\"Median range {np.around(max_fraction_data[max_fraction_data.Polarity=='negative'].groupby('Technology').agg('median').min()[0],2)}-\\\n",
    "      {np.around(max_fraction_data[max_fraction_data.Polarity=='negative'].groupby('Technology').agg('median').max()[0], 2)}\")"
   ]
  }
 ],
 "metadata": {
  "kernelspec": {
   "display_name": "Python 3",
   "language": "python",
   "name": "python3"
  },
  "language_info": {
   "codemirror_mode": {
    "name": "ipython",
    "version": 3
   },
   "file_extension": ".py",
   "mimetype": "text/x-python",
   "name": "python",
   "nbconvert_exporter": "python",
   "pygments_lexer": "ipython3",
   "version": "3.8.5"
  }
 },
 "nbformat": 4,
 "nbformat_minor": 5
}
