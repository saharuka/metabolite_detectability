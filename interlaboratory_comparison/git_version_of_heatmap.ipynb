{
 "cells": [
  {
   "cell_type": "code",
   "execution_count": 1,
   "id": "2c220117",
   "metadata": {},
   "outputs": [
    {
     "name": "stderr",
     "output_type": "stream",
     "text": [
      "<frozen importlib._bootstrap>:219: RuntimeWarning: scipy._lib.messagestream.MessageStream size changed, may indicate binary incompatibility. Expected 56 from C header, got 64 from PyObject\n"
     ]
    }
   ],
   "source": [
    "from pathlib import Path\n",
    "from definitions import ROOT_DIR\n",
    "import pandas as pd\n",
    "import numpy as np\n",
    "from itertools import product\n",
    "import seaborn as sns\n",
    "import matplotlib.pyplot as plt\n",
    "from matplotlib import rc\n",
    "from seriate import seriate\n",
    "from scipy.spatial.distance import pdist\n",
    "\n",
    "rc('font',**{'family':'sans-serif',\n",
    "             'sans-serif':['Arial'],\n",
    "             'size':16})"
   ]
  },
  {
   "cell_type": "code",
   "execution_count": 2,
   "id": "0aba2ab1",
   "metadata": {},
   "outputs": [],
   "source": [
    "def filter_neutral_losses(df, neutral_losses=['']):\n",
    "    '''\n",
    "    Filter out entries for ions with neutral losses that are not in the list provided\n",
    "    If neutral_loss value us \"only_nl\", than consider only ions that have neutral losses\n",
    "    '''\n",
    "    \n",
    "    if neutral_losses == \"only_nl\":\n",
    "        df = df[df.neutral_loss != \"\"]\n",
    "    elif neutral_losses != None:\n",
    "        df = df[df.neutral_loss.isin(neutral_losses)]\n",
    "    return df\n",
    "\n",
    "def filter_adducts(df, adducts=['']):\n",
    "    '''\n",
    "    Filter out entries for ions with adducts that are not in the list provided\n",
    "    '''\n",
    "    if adducts != None:\n",
    "        df = df[df.adduct.isin(adducts)]\n",
    "    return df\n",
    "\n",
    "def filter_polarity(df, polarity=None):\n",
    "    '''\n",
    "    Filter out entries based on polarity pol ['positive', 'negative']\n",
    "    '''\n",
    "    if polarity != None:\n",
    "        df = df[df.Polarity == polarity]\n",
    "    return df\n",
    "\n",
    "def filter_data(data, polarity=None, adducts=None, neutral_losses=None):\n",
    "    '''\n",
    "    Apply polarity, adduct and neutral_loss filters\n",
    "    '''\n",
    "    data = filter_polarity(data, polarity)\n",
    "    data = filter_adducts(data, adducts)\n",
    "    data = filter_neutral_losses(data, neutral_losses)\n",
    "     \n",
    "    return data\n",
    "\n",
    "def group_by_molecule(df, groupby_columns):\n",
    "    '''\n",
    "    Aggregate detection values per metabolite and dataset\n",
    "    '''\n",
    "    \n",
    "    data = df.pivot_table(index=groupby_columns,\n",
    "                 values='detectability',\n",
    "                 aggfunc='max').reset_index()\n",
    "    return data\n",
    "\n",
    "def get_class_size(metadata, class_column):\n",
    "    sizes = metadata[class_column].value_counts()\n",
    "    metadata['class_size'] = [sizes[k] for k in metadata[class_column]]\n",
    "    return metadata\n",
    "\n",
    "def summarise_per_class(df, groupby_columns):\n",
    "    \n",
    "    data = df.pivot_table(index=groupby_columns,\n",
    "                      values=['detectability', 'class_size'],\n",
    "                      aggfunc = {\n",
    "                                'class_size':'first',\n",
    "                                'detectability':'sum'\n",
    "                                }).reset_index()\n",
    "\n",
    "    data['fraction_detected'] = data.detectability / data.class_size \n",
    "    data.drop(columns=['detectability', 'class_size'], inplace=True)\n",
    "    \n",
    "    return data\n",
    "\n",
    "\n",
    "def zero_fill_data(df, classification, class_col_name):\n",
    "    \n",
    "    # Do zero-filling using a pre-made template\n",
    "    X = df['sample_name'].unique()\n",
    "    Y = classification[class_col_name].unique()\n",
    "    template = pd.DataFrame(product(X, Y), columns=['sample_name', class_col_name])\n",
    "    data = template.merge(df, on=['sample_name', class_col_name], how='left').fillna(0)\n",
    "    \n",
    "    return data\n",
    "\n",
    "def seriate_array(arr, direction='rows'):\n",
    "    'This function returns the order of rows or columns in a seriated array '\n",
    "    \n",
    "    if direction == 'cols':\n",
    "        arr = arr.T\n",
    "    distances = pdist(arr)\n",
    "    order = seriate(distances)\n",
    "    return order\n",
    "\n",
    "def plot_a_heatmap(data, title, figsize=(10,6)):\n",
    "    \n",
    "    fig,ax = plt.subplots(figsize=figsize)\n",
    "\n",
    "    g = sns.heatmap(data=plot_data,\n",
    "                    cmap='viridis',\n",
    "                    cbar_kws={'label': 'Fraction Detected'},\n",
    "                    ax=ax)\n",
    "\n",
    "    g.set(title=title, xlabel=\"\", ylabel=\"\")\n",
    "    plt.tight_layout()\n",
    "    return g"
   ]
  },
  {
   "cell_type": "markdown",
   "id": "6a0abf8a",
   "metadata": {},
   "source": [
    "- Inputs"
   ]
  },
  {
   "cell_type": "code",
   "execution_count": 3,
   "id": "5c7f089d",
   "metadata": {},
   "outputs": [],
   "source": [
    "p_root_dir = Path(ROOT_DIR)\n",
    "p_data = p_root_dir / \"data\"\n",
    "p_out = p_root_dir / \"test\"\n",
    "\n",
    "# Metrics and Catboost predictions for all ions in their target wells\n",
    "p_predictions = p_data / r\"2022-08-16_All_Interlab_Predictions.csv\"\n",
    "\n",
    "# Dataset info (lab, matrix, polarity, m/z range, ids, etc.)\n",
    "p_datasets = p_data / \"Datasets_18Jan2023.csv\"\n",
    "\n",
    "# Classification\n",
    "p_chem_class = p_data / \"custom_classification_v2.csv\""
   ]
  },
  {
   "cell_type": "markdown",
   "id": "7e52761a",
   "metadata": {},
   "source": [
    "- Load data"
   ]
  },
  {
   "cell_type": "code",
   "execution_count": 4,
   "id": "b59b3157",
   "metadata": {},
   "outputs": [],
   "source": [
    "# Load predictions, format neutral loss column\n",
    "predictions = pd.read_csv(p_predictions, index_col=0)\n",
    "predictions.neutral_loss.fillna('', inplace=True)\n",
    "\n",
    "# Get a subset of most relevant information from Datasets file\n",
    "datasets = pd.read_csv(p_datasets)\n",
    "datasets_info = datasets.groupby('Dataset ID').first()[['Polarity', 'Matrix short', 'Matrix long', 'Slide code', 'Participant lab', 'Technology', 'Interlab']] # 'Participant lab', 'Technology'\n",
    "datasets_info['sample_name'] = datasets_info['Slide code'] + ': ' + datasets_info['Technology']\n",
    "\n",
    "# Merge with predictions and classification\n",
    "df = pd.merge(predictions, datasets_info, left_on='dataset_id', right_on='Dataset ID', how='left')\n",
    "\n",
    "# Filter to keep only interlab datasets + EMBL datasets with 10ppm\n",
    "df=df[df['Interlab']]\n",
    "\n",
    "# Only consider data of detected ions\n",
    "threshold=0.8\n",
    "df['detectability'] = df.pred_val >= threshold\n",
    "data = df[df.detectability]"
   ]
  },
  {
   "cell_type": "code",
   "execution_count": 5,
   "id": "forty-patrick",
   "metadata": {},
   "outputs": [],
   "source": [
    "# #duplicated due to unmergable data sets\n",
    "# data = data[~data[['sample_name', 'name_short', 'adduct', 'neutral_loss']].duplicated()]"
   ]
  },
  {
   "cell_type": "code",
   "execution_count": 6,
   "id": "8bdaf72f",
   "metadata": {},
   "outputs": [],
   "source": [
    "# Load classification, add class size info\n",
    "\n",
    "classes = pd.read_csv(p_chem_class, index_col='internal_id')\n",
    "chem_class = get_class_size(classes[['name_short', 'main_coarse_class']].drop_duplicates(), \n",
    "                            'main_coarse_class')\n",
    "chem_subclass = get_class_size(classes[['name_short', 'coarse_class', 'fine_class']],  # coarse class here is to sort rows in the plot\n",
    "                              'fine_class')"
   ]
  },
  {
   "cell_type": "markdown",
   "id": "3b74ded8",
   "metadata": {},
   "source": [
    "### Heatmap of metabolite detectabiliy per coarse class and technology"
   ]
  },
  {
   "cell_type": "markdown",
   "id": "2f2fa81c",
   "metadata": {},
   "source": [
    "- Make a test plot"
   ]
  },
  {
   "cell_type": "code",
   "execution_count": 7,
   "id": "db23efed",
   "metadata": {},
   "outputs": [
    {
     "data": {
      "image/png": "[encoded data removed]",
      "text/plain": [
       "<Figure size 720x432 with 2 Axes>"
      ]
     },
     "metadata": {
      "needs_background": "light"
     },
     "output_type": "display_data"
    }
   ],
   "source": [
    "# Filter data\n",
    "filtered_data = filter_data(data,\n",
    "                            polarity='positive', \n",
    "                            neutral_losses=[''])\n",
    "\n",
    "# Group detections by metabolite\n",
    "molecule_data = group_by_molecule(filtered_data, \n",
    "                                 groupby_columns=['sample_name', 'name_short'])\n",
    "\n",
    "# Map chemical classes\n",
    "mapped_data = molecule_data.merge(chem_class, on='name_short', how='left')\n",
    "\n",
    "# Calculate detectability per class and technology\n",
    "class_data = summarise_per_class(mapped_data,\n",
    "                                 groupby_columns=['sample_name', 'main_coarse_class'])\n",
    "\n",
    "# Zero fill data\n",
    "zero_filled_data = zero_fill_data(class_data, chem_class, 'main_coarse_class')\n",
    "\n",
    "# Pivot data for heatmap\n",
    "plot_data = zero_filled_data.pivot_table(index = 'main_coarse_class',\n",
    "                                       columns='sample_name',\n",
    "                                       values='fraction_detected')\n",
    "\n",
    "# Seriate data along OX axis\n",
    "new_col_order = seriate_array(plot_data.to_numpy(), direction=\"cols\")\n",
    "plot_data = plot_data.reindex(columns=plot_data.columns[new_col_order])\n",
    "\n",
    "# Plot\n",
    "h = plot_a_heatmap(plot_data,\n",
    "                  title=\"Test plot\",\n",
    "                  figsize=[10,6])\n",
    "# h.figure.savefig(p_out / f\"test.png\")"
   ]
  },
  {
   "cell_type": "markdown",
   "id": "09ea7a47",
   "metadata": {},
   "source": [
    "- Batch-save plots in both ionisation modes"
   ]
  },
  {
   "cell_type": "code",
   "execution_count": null,
   "id": "c2fc0e63",
   "metadata": {},
   "outputs": [],
   "source": [
    "for pol in ['positive', 'negative']:\n",
    "    \n",
    "    # Filter data\n",
    "    filtered_data = filter_data(data,\n",
    "                            polarity=pol, \n",
    "                            neutral_losses=[''])\n",
    "    \n",
    "    # Group detections by metabolite\n",
    "    molecule_data = group_by_molecule(filtered_data, \n",
    "                                 groupby_columns=['sample_name', 'name_short'])\n",
    "    \n",
    "\n",
    "    # Map chemical classes\n",
    "    mapped_data = molecule_data.merge(chem_class, on='name_short', how='left')\n",
    "\n",
    "    # Calculate detectability per class and technology\n",
    "    class_data = summarise_per_class(mapped_data,\n",
    "                                     groupby_columns=['sample_name', 'main_coarse_class'])\n",
    "\n",
    "    # Zero fill data\n",
    "    zero_filled_data = zero_fill_data(class_data, chem_class, 'main_coarse_class')\n",
    "\n",
    "    # Pivot data for heatmap\n",
    "    plot_data = zero_filled_data.pivot_table(index = 'main_coarse_class',\n",
    "                                           columns='sample_name',\n",
    "                                           values='fraction_detected')\n",
    "\n",
    "    # Seriate data along OX axis\n",
    "    new_col_order = seriate_array(plot_data.to_numpy(), direction=\"cols\")\n",
    "    plot_data = plot_data.reindex(columns=plot_data.columns[new_col_order])\n",
    "\n",
    "\n",
    "    # Plot\n",
    "    title = f\"Metabolite detectability in {pol} ionisation mode\"\n",
    "    fname = f\"Interlab_heatmap_{pol}\"\n",
    "    h = plot_a_heatmap(plot_data,title=title)\n",
    "    h.figure.savefig(p_out / f\"{fname}.png\")\n",
    "    h.figure.savefig(p_out / f\"{fname}.pdf\")\n",
    "    plt.close()"
   ]
  },
  {
   "cell_type": "code",
   "execution_count": null,
   "id": "6e0759ff",
   "metadata": {},
   "outputs": [],
   "source": []
  }
 ],
 "metadata": {
  "kernelspec": {
   "display_name": "Python 3",
   "language": "python",
   "name": "python3"
  },
  "language_info": {
   "codemirror_mode": {
    "name": "ipython",
    "version": 3
   },
   "file_extension": ".py",
   "mimetype": "text/x-python",
   "name": "python",
   "nbconvert_exporter": "python",
   "pygments_lexer": "ipython3",
   "version": "3.8.5"
  }
 },
 "nbformat": 4,
 "nbformat_minor": 5
}
