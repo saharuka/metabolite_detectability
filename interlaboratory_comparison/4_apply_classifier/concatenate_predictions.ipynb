{
 "cells": [
  {
   "cell_type": "markdown",
   "id": "quarterly-pension",
   "metadata": {},
   "source": [
    "# Concatenate individual interlaboratory Catboost prediction result files"
   ]
  },
  {
   "cell_type": "code",
   "execution_count": 1,
   "id": "protecting-soldier",
   "metadata": {},
   "outputs": [],
   "source": [
    "from pathlib import Path\n",
    "import pandas as pd"
   ]
  },
  {
   "cell_type": "code",
   "execution_count": 2,
   "id": "requested-liquid",
   "metadata": {},
   "outputs": [],
   "source": [
    "p_root_dir = Path.cwd().parents[0]\n",
    "p_datasets = p_root_dir / r\"5_data/metadata/Datasets_18Apr2023.csv\"\n",
    "p_data = p_root_dir / r\"4_apply_classifier/individual_predictions\"\n",
    "p_out = p_root_dir / r\"4_apply_classifier/concatenated_predictions\""
   ]
  },
  {
   "cell_type": "code",
   "execution_count": 3,
   "id": "paperback-offset",
   "metadata": {},
   "outputs": [],
   "source": [
    "# Load metadata file and select only 10ppm metadata\n",
    "datasets = pd.read_csv(p_datasets, index_col=0)\n",
    "metadata = datasets[datasets.All]\n",
    "\n",
    "# Create an empty DataFrame to hold concatenated data\n",
    "concatenated_df = pd.DataFrame()\n",
    "\n",
    "# Loop through all csv files in directory\n",
    "for p_prediction in p_data.glob(\"*.csv\"):\n",
    "    \n",
    "    # Load csv file\n",
    "    prediction_df = pd.read_csv(p_prediction, index_col=0)\n",
    "    \n",
    "    # Extract dataset ID\n",
    "    dataset_id = prediction_df.dataset_id.unique()[0]\n",
    "    \n",
    "    # Append csv_df to concatenated_df\n",
    "    concatenated_df = pd.concat([concatenated_df, prediction_df])\n",
    "        \n",
    "# Merge metadata_df with concatenated_df on dataset_id\n",
    "final_df = pd.merge(metadata, concatenated_df, right_on=\"dataset_id\", left_on=\"Dataset ID\")"
   ]
  },
  {
   "cell_type": "code",
   "execution_count": 4,
   "id": "fitted-junction",
   "metadata": {},
   "outputs": [],
   "source": [
    "# Remove one adduct/neutral_loss combination that doesn\"t make sense (-H + HCL= +CL)\n",
    "final_df.score = final_df.score.fillna(\"\")\n",
    "final_df.neutral_loss = final_df.neutral_loss.fillna(\"\")\n",
    "final_df = final_df[~((final_df.neutral_loss == \"+HCl\")&(final_df.adduct == \"-H\"))]"
   ]
  },
  {
   "cell_type": "code",
   "execution_count": 5,
   "id": "competitive-tractor",
   "metadata": {},
   "outputs": [
    {
     "name": "stderr",
     "output_type": "stream",
     "text": [
      "<ipython-input-5-c6046f269f96>:3: SettingWithCopyWarning: \n",
      "A value is trying to be set on a copy of a slice from a DataFrame.\n",
      "Try using .loc[row_indexer,col_indexer] = value instead\n",
      "\n",
      "See the caveats in the documentation: https://pandas.pydata.org/pandas-docs/stable/user_guide/indexing.html#returning-a-view-versus-a-copy\n",
      "  metadata[\"ID for the app\"] = metadata.groupby(\"Sample name\")[\"Dataset ID\"].transform(lambda x: \"|\".join(set(x)))\n"
     ]
    },
    {
     "name": "stdout",
     "output_type": "stream",
     "text": [
      "70879 duplicated ion entries are removed in this step\n"
     ]
    }
   ],
   "source": [
    "# A handful Inerlaboratory survey participants recorded unmergable imzML files (e.g. 1 for lower mass range and one for higher mass range)\n",
    "# For such cases, we change \"dataset_id\" column to represent both IDs\n",
    "metadata[\"ID for the app\"] = metadata.groupby(\"Sample name\")[\"Dataset ID\"].transform(lambda x: \"|\".join(set(x)))\n",
    "final_df = final_df.merge(metadata[[\"Dataset ID\", \"ID for the app\"]].drop_duplicates(), on=\"Dataset ID\", how=\"left\")\n",
    "final_df.dataset_id = final_df[\"ID for the app\"]\n",
    "\n",
    "# Next, we make sure that the results in such cases are merged together so that there are no duplicate ions per \"Sample name\" \n",
    "# In particular, where two rows represent the same ion, we only keep the results for ions with best prediction score (\"pred_val\")\n",
    "rows_wo_duplicates = final_df.groupby([\"Sample name\",\"name_short\", \"adduct\", \"neutral_loss\"])[\"pred_val\"].idxmax()\n",
    "print(f\"{len(final_df) - len(rows_wo_duplicates)} duplicated ion entries are removed in this step\")\n",
    "final_df = final_df.loc[rows_wo_duplicates]"
   ]
  },
  {
   "cell_type": "code",
   "execution_count": 6,
   "id": "round-disclaimer",
   "metadata": {},
   "outputs": [],
   "source": [
    "# Save data files containing metadata for plotting and for the app\n",
    "cols_to_drop = ['m/z range', 'Pixel size', 'Original Dataset ID (3ppm)', 'Dataset ID', 'Original link',\n",
    "       'Dataset link', 'EMBL', 'Interlab', 'All', 'ID for the app']\n",
    "\n",
    "# Save input for Interlab data tab and plotting\n",
    "interlab_df = final_df[final_df.Interlab].drop(columns = cols_to_drop)\n",
    "interlab_df.to_csv(p_out / \"Interlab_data_19Apr2023.csv\", index=False)\n",
    "\n",
    "# Save input for All data tab\n",
    "final_df = final_df.drop(columns = cols_to_drop)\n",
    "final_df.to_csv(p_out / \"All_data_19Apr2023.csv\", index=False)"
   ]
  },
  {
   "cell_type": "code",
   "execution_count": 8,
   "id": "rational-grain",
   "metadata": {},
   "outputs": [],
   "source": [
    "# Save the meadata file that includes modified ids (just in case)\n",
    "metadata = metadata.drop(columns = ['Dataset name', 'Project', 'm/z range', 'Original Dataset ID (3ppm)', 'Dataset ID', 'Original link',\n",
    "       'Dataset link', 'EMBL', 'Pixel size']).rename(columns={\"ID for the app\":\"Dataset ID\"}).drop_duplicates()\n",
    "metadata.to_csv(p_out / \"Interlaboratory-All_metadata_19Apr2023.csv\", index=False)"
   ]
  }
 ],
 "metadata": {
  "kernelspec": {
   "display_name": "Python [conda env:.conda-zimmerman] *",
   "language": "python",
   "name": "conda-env-.conda-zimmerman-py"
  },
  "language_info": {
   "codemirror_mode": {
    "name": "ipython",
    "version": 3
   },
   "file_extension": ".py",
   "mimetype": "text/x-python",
   "name": "python",
   "nbconvert_exporter": "python",
   "pygments_lexer": "ipython3",
   "version": "3.8.5"
  }
 },
 "nbformat": 4,
 "nbformat_minor": 5
}
