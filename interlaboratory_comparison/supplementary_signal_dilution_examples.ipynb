{
 "cells": [
  {
   "cell_type": "code",
   "execution_count": 1,
   "id": "honest-guarantee",
   "metadata": {},
   "outputs": [
    {
     "name": "stderr",
     "output_type": "stream",
     "text": [
      "<frozen importlib._bootstrap>:219: RuntimeWarning: scipy._lib.messagestream.MessageStream size changed, may indicate binary incompatibility. Expected 56 from C header, got 64 from PyObject\n"
     ]
    }
   ],
   "source": [
    "import pandas as pd\n",
    "import numpy as np\n",
    "from pathlib import Path\n",
    "from definitions import ROOT_DIR\n",
    "import seaborn as sns\n",
    "from matplotlib.colors import to_rgba\n",
    "import matplotlib.pyplot as plt\n",
    "from matplotlib import rc\n",
    "\n",
    "rc('font',**{'family':'sans-serif',\n",
    "             'sans-serif':['Arial'],\n",
    "             'size':12})\n",
    "rc('pdf', fonttype=42)\n",
    "rc('ps', fonttype=42)"
   ]
  },
  {
   "cell_type": "code",
   "execution_count": 29,
   "id": "juvenile-vacation",
   "metadata": {},
   "outputs": [],
   "source": [
    "#Format series formulas to publication standard\n",
    "def pretty_ion_formulas(data, colname):\n",
    "       \n",
    "    new_series = data[colname].copy()\n",
    "    new_series = new_series.str.replace(r\"[M]-\", \"\", regex=False)\n",
    "    new_series = new_series.str.replace(r\"[M]+\", \"\", regex=False)\n",
    "    new_series = new_series.str.replace(\"([0-9])\",\"$_\\\\1$\", regex=True)\n",
    "    new_series = [f\"[M{s}]\" if s != \"Other\" else s for s in new_series]\n",
    "        \n",
    "    newdata = data.copy() \n",
    "    newdata[colname] = new_series\n",
    "    \n",
    "    # Add ion charge in superscript accordint to the polarity - $ LaTeX notation\n",
    "    newdata.loc[newdata.Polarity == \"positive\", colname].apply(lambda s: f\"{s}$^+$'\")\n",
    "    newdata.loc[newdata.Polarity == \"positive\", colname].apply(lambda s: f\"{s}$^-$'\")\n",
    "    \n",
    "    for i, r in newdata.iterrows():\n",
    "        polarity = r.Polarity\n",
    "        s = r[colname]\n",
    "        if s!=\"Other\":\n",
    "            if polarity == 'positive':\n",
    "                newdata.loc[i, colname] = f\"{s}$^+$\"\n",
    "            else:\n",
    "                newdata.loc[i, colname] = f\"{s}$^-$\"\n",
    "    return newdata"
   ]
  },
  {
   "cell_type": "code",
   "execution_count": 2,
   "id": "working-providence",
   "metadata": {},
   "outputs": [],
   "source": [
    "p_root_dir = Path(ROOT_DIR)\n",
    "p_data = p_root_dir / \"data\"\n",
    "\n",
    "# Predictions\n",
    "p_predictions = p_data / \"Interlab_data_19Apr2023.csv\"\n",
    "source = p_predictions.stem"
   ]
  },
  {
   "cell_type": "code",
   "execution_count": 3,
   "id": "modified-cleaners",
   "metadata": {},
   "outputs": [],
   "source": [
    "# Load predictions and format neutral loss column\n",
    "df = pd.read_csv(p_predictions)\n",
    "df.neutral_loss.fillna('', inplace=True)\n",
    "\n",
    "# Only consider data of detected ions\n",
    "threshold = 0.8\n",
    "df['detectability'] = df.pred_val >= threshold\n",
    "data = df[df.detectability]"
   ]
  },
  {
   "cell_type": "code",
   "execution_count": 4,
   "id": "latin-emphasis",
   "metadata": {},
   "outputs": [
    {
     "name": "stderr",
     "output_type": "stream",
     "text": [
      "<ipython-input-4-52d6c918a8ad>:2: SettingWithCopyWarning: \n",
      "A value is trying to be set on a copy of a slice from a DataFrame.\n",
      "Try using .loc[row_indexer,col_indexer] = value instead\n",
      "\n",
      "See the caveats in the documentation: https://pandas.pydata.org/pandas-docs/stable/user_guide/indexing.html#returning-a-view-versus-a-copy\n",
      "  data['sum_intensity_per_metabolite'] = data.groupby([\"Sample name\", \"name_short\"])[\"spot_intensity_bgr_corrected\"].transform('sum')\n",
      "<ipython-input-4-52d6c918a8ad>:5: SettingWithCopyWarning: \n",
      "A value is trying to be set on a copy of a slice from a DataFrame.\n",
      "Try using .loc[row_indexer,col_indexer] = value instead\n",
      "\n",
      "See the caveats in the documentation: https://pandas.pydata.org/pandas-docs/stable/user_guide/indexing.html#returning-a-view-versus-a-copy\n",
      "  data['fraction_per_ion'] = data.spot_intensity_bgr_corrected / data.sum_intensity_per_metabolite\n"
     ]
    }
   ],
   "source": [
    "# Sum intensities of detected ions per metabolite in each sample\n",
    "data['sum_intensity_per_metabolite'] = data.groupby([\"Sample name\", \"name_short\"])[\"spot_intensity_bgr_corrected\"].transform('sum')\n",
    "\n",
    "# Calculate the fractions of detected ion intensities per metabolite in each sample\n",
    "data['fraction_per_ion'] = data.spot_intensity_bgr_corrected / data.sum_intensity_per_metabolite"
   ]
  },
  {
   "cell_type": "markdown",
   "id": "local-judge",
   "metadata": {},
   "source": [
    "### Example signal dilution for one compound in one data set"
   ]
  },
  {
   "cell_type": "code",
   "execution_count": 97,
   "id": "enormous-sender",
   "metadata": {},
   "outputs": [],
   "source": [
    "p_out = p_root_dir / \"plots\" / \"signal_dilution\" / \"metabolite_examples\"\n",
    "p_out.mkdir(exist_ok=True, parents=True)"
   ]
  },
  {
   "cell_type": "code",
   "execution_count": 98,
   "id": "subject-protection",
   "metadata": {},
   "outputs": [
    {
     "name": "stderr",
     "output_type": "stream",
     "text": [
      "<ipython-input-98-e79015f38bca>:6: SettingWithCopyWarning: \n",
      "A value is trying to be set on a copy of a slice from a DataFrame.\n",
      "Try using .loc[row_indexer,col_indexer] = value instead\n",
      "\n",
      "See the caveats in the documentation: https://pandas.pydata.org/pandas-docs/stable/user_guide/indexing.html#returning-a-view-versus-a-copy\n",
      "  example_data['ion_type'] = example_data.adduct + example_data.neutral_loss\n"
     ]
    }
   ],
   "source": [
    "example_data = data[(data[\"Participant lab\"] == \"EMBL\")&\n",
    "                    ((data.Polarity == \"positive\")&(data.name_short.isin(['Cholesterol', 'Retinoic acid'])) |\n",
    "                    (data.Polarity == \"negative\")&(data.name_short=='Adenosine triphosphate'))]\n",
    "\n",
    "# Add new column\n",
    "example_data['ion_type'] = example_data.adduct + example_data.neutral_loss\n",
    "\n",
    "# Edit ion formulas\n",
    "example_data = pretty_ion_formulas(example_data, \"ion_type\")"
   ]
  },
  {
   "cell_type": "code",
   "execution_count": 101,
   "id": "warming-kentucky",
   "metadata": {
    "scrolled": false
   },
   "outputs": [
    {
     "data": {
      "image/png": "[encoded data removed]",
      "text/plain": [
       "<Figure size 396x252 with 3 Axes>"
      ]
     },
     "metadata": {
      "needs_background": "light"
     },
     "output_type": "display_data"
    }
   ],
   "source": [
    "title = \"metabolite_examples\"\n",
    "\n",
    "def change_width(ax, new_value):\n",
    "    for patch in ax.patches:\n",
    "        current_width = patch.get_width()\n",
    "        diff = current_width - new_value\n",
    "\n",
    "        # we change the bar width\n",
    "        patch.set_width(new_value)\n",
    "\n",
    "        # we recenter the bar\n",
    "        patch.set_x(patch.get_x() + diff * .5)\n",
    "\n",
    "fig, ax = plt.subplots(1, 3, figsize=(5.5, 3.5), sharey=True)\n",
    "for i, mol in enumerate(example_data.name_short.unique()):\n",
    "    sns.barplot(\n",
    "        ax=ax[i],\n",
    "        data=example_data[example_data.name_short==mol],\n",
    "        x=\"ion_type\", y=\"fraction_per_ion\",\n",
    "        color='k')\n",
    "    ax[i].set(xlabel=\"\", ylabel=\"\")\n",
    "    ax[i].set_title(mol, fontsize=12)\n",
    "    ax[i].set_xticklabels(labels=ax[i].get_xticklabels(), rotation=90)\n",
    "    ax[i].set_yticks([0.0, 0.2, 0.4, 0.6, 0.8, 1.0])\n",
    "\n",
    "ax[0].set(xlabel=\"\", ylabel=\"Relative ion abundance\")\n",
    "change_width(ax[1], 2.5/7)\n",
    "sns.despine()\n",
    "fig.tight_layout()\n",
    "\n",
    "fig.savefig(p_out / f\"{title}.png\")\n",
    "fig.savefig(p_out / f\"{title}.pdf\", transparent=True)"
   ]
  }
 ],
 "metadata": {
  "kernelspec": {
   "display_name": "Python 3 (ipykernel)",
   "language": "python",
   "name": "python3"
  },
  "language_info": {
   "codemirror_mode": {
    "name": "ipython",
    "version": 3
   },
   "file_extension": ".py",
   "mimetype": "text/x-python",
   "name": "python",
   "nbconvert_exporter": "python",
   "pygments_lexer": "ipython3",
   "version": "3.8.15"
  }
 },
 "nbformat": 4,
 "nbformat_minor": 5
}
