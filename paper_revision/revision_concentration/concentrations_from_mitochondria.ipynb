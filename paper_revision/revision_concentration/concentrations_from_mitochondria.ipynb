{
 "cells": [
  {
   "cell_type": "markdown",
   "id": "acceptable-census",
   "metadata": {},
   "source": [
    "## Get metabolite concentrations in whole HeLA cells and mitochondrial matrix\n",
    "\n",
    "Data is already available in Supplement 5 (Whole cell and Matrix sheet, bottom)\n",
    "Chen WW, Freinkman E, Wang T, Birsoy K, Sabatini DM. Absolute Quantification of Matrix Metabolites Reveals the Dynamics of Mitochondrial Metabolism. Cell. 2016 Aug 25;166(5):1324-1337.e11.\n",
    "\n",
    "Here, it is justed mapped by id"
   ]
  },
  {
   "cell_type": "code",
   "execution_count": 1,
   "id": "level-finish",
   "metadata": {},
   "outputs": [],
   "source": [
    "from pathlib import Path\n",
    "import pandas as pd\n",
    "import numpy as np"
   ]
  },
  {
   "cell_type": "code",
   "execution_count": 2,
   "id": "f1413a2d-8ee3-48a8-9303-62ca8c0a8c71",
   "metadata": {},
   "outputs": [],
   "source": [
    "p = Path.cwd() / 'concentrations_from_mitochondria'\n",
    "\n",
    "# Concentration data from publication with HMDB ids added\n",
    "p_mito = p / 'mitochondrial_metabolite_concentrations.csv' \n",
    "p_cell = p / 'hela_metabolite_concentrations.csv' \n",
    "p_compounds = p / 'compounds_with_hmdb_id.csv'\n",
    "out_path = p / 'revision_concentrations_in_mitochondria.csv'"
   ]
  },
  {
   "cell_type": "code",
   "execution_count": 3,
   "id": "95864dbb-e3ff-4684-a1da-2d5c249eed46",
   "metadata": {},
   "outputs": [],
   "source": [
    "# Calculate average concentration (uM)\n",
    "mito = pd.read_csv(p_mito)\n",
    "mito['Mitochondria (HeLa)'] = mito[['replicate 1', 'replicate 2', 'replicate 3']].mean(axis=1)\n",
    "\n",
    "cell = pd.read_csv(p_cell)\n",
    "cell['Human cell line (HeLa)'] = cell[['replicate 1', 'replicate 2', 'replicate 3']].mean(axis=1)"
   ]
  },
  {
   "cell_type": "code",
   "execution_count": 4,
   "id": "1ceb6365-4e22-43f4-b854-b032d5a9cc80",
   "metadata": {},
   "outputs": [],
   "source": [
    "# Subset for compounds of interest and save\n",
    "compounds = pd.read_csv(p_compounds)\n",
    "merged_df = compounds.merge(\n",
    "    cell, on='hmdb_primary', how='left').merge(\n",
    "    mito, on='hmdb_primary', how='left')\n",
    "\n",
    "merged_df[['name_short', 'hmdb_primary', 'Human cell line (HeLa)', 'Mitochondria (HeLa)']].to_csv(out_path)"
   ]
  }
 ],
 "metadata": {
  "kernelspec": {
   "display_name": "Python 3 (ipykernel)",
   "language": "python",
   "name": "python3"
  },
  "language_info": {
   "codemirror_mode": {
    "name": "ipython",
    "version": 3
   },
   "file_extension": ".py",
   "mimetype": "text/x-python",
   "name": "python",
   "nbconvert_exporter": "python",
   "pygments_lexer": "ipython3",
   "version": "3.11.0"
  }
 },
 "nbformat": 4,
 "nbformat_minor": 5
}
