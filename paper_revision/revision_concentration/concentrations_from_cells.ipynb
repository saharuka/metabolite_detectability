{
 "cells": [
  {
   "cell_type": "markdown",
   "id": "acceptable-census",
   "metadata": {},
   "source": [
    "## Get metabolite concentrations in murine, e.coli and yeast cells\n",
    "\n",
    "Data is already available in Supplementary Table 5 in\n",
    "Park JO, Rubin SA, Xu YF, Amador-Noguez D, Fan J, Shlomi T, Rabinowitz JD. Metabolite concentrations, fluxes and free energies imply efficient enzyme usage. Nat Chem Biol. 2016 Jul;12(7):482-9. doi: 10.1038/nchembio.2077      Add to Citavi project by DOI. Epub 2016 May 2. PMID: 27159581  \n",
    "\n",
    "Here, it is justed mapped by id"
   ]
  },
  {
   "cell_type": "code",
   "execution_count": 1,
   "id": "level-finish",
   "metadata": {},
   "outputs": [],
   "source": [
    "from pathlib import Path\n",
    "import pandas as pd\n",
    "import numpy as np"
   ]
  },
  {
   "cell_type": "code",
   "execution_count": 2,
   "id": "f1413a2d-8ee3-48a8-9303-62ca8c0a8c71",
   "metadata": {},
   "outputs": [],
   "source": [
    "p = Path.cwd() / 'concentrations_from_cells'\n",
    "\n",
    "# Concentration data from publication\n",
    "p_data = p / 'concentrations_from_cells_opark.csv' \n",
    "\n",
    "# KEGG ids for the reference metabolites were put together earlier in the study for iPATH visualisation\n",
    "# To match the data in the paper, id of 3-PG was changed to C00197 (previously C00597 was used)\n",
    "p_kegg = p / 'compound_kegg_mapping_3.csv'\n",
    "\n",
    "out_path = p / 'revision_concentrations_in_cells.csv'"
   ]
  },
  {
   "cell_type": "code",
   "execution_count": 3,
   "id": "21b9a3d7-a29c-4c8b-a99e-d58d55d5b2ba",
   "metadata": {},
   "outputs": [
    {
     "name": "stderr",
     "output_type": "stream",
     "text": [
      "C:\\Users\\saharuka\\AppData\\Local\\Temp\\ipykernel_23380\\2470938719.py:14: SettingWithCopyWarning: \n",
      "A value is trying to be set on a copy of a slice from a DataFrame.\n",
      "Try using .loc[row_indexer,col_indexer] = value instead\n",
      "\n",
      "See the caveats in the documentation: https://pandas.pydata.org/pandas-docs/stable/user_guide/indexing.html#returning-a-view-versus-a-copy\n",
      "  result[['Murine cell line (iBMK)', 'E.coli', 'S.cerevisiae']] *= 1000000\n"
     ]
    }
   ],
   "source": [
    "# Find concentration from paper data for reference metabolites\n",
    "compounds = pd.read_csv(p_kegg)\n",
    "concentration = pd.read_csv(p_data)[['Metabolite[compartment] \\ Concentration(M)', \n",
    "                                     'KEGG ID',\n",
    "                                     'Murine cell line (iBMK)',  \n",
    "                                     'E.coli',\n",
    "                                     'S.cerevisiae']]\n",
    "\n",
    "# Reference metabolites for which there is no data are dropped via 'inner' merge\n",
    "merged_df = compounds.merge(concentration, left_on='kegg_id', right_on='KEGG ID', how='inner')\n",
    "\n",
    "# Convert to micromolar and save\n",
    "result = merged_df[['name_short', 'hmdb_primary', 'Murine cell line (iBMK)', 'E.coli', 'S.cerevisiae']]\n",
    "result[['Murine cell line (iBMK)', 'E.coli', 'S.cerevisiae']] *= 1000000\n",
    "result.to_csv(out_path, index=False)"
   ]
  }
 ],
 "metadata": {
  "kernelspec": {
   "display_name": "Python 3 (ipykernel)",
   "language": "python",
   "name": "python3"
  },
  "language_info": {
   "codemirror_mode": {
    "name": "ipython",
    "version": 3
   },
   "file_extension": ".py",
   "mimetype": "text/x-python",
   "name": "python",
   "nbconvert_exporter": "python",
   "pygments_lexer": "ipython3",
   "version": "3.11.0"
  }
 },
 "nbformat": 4,
 "nbformat_minor": 5
}
