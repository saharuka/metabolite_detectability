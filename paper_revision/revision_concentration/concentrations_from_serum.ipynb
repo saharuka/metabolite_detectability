{
 "cells": [
  {
   "cell_type": "markdown",
   "id": "d27f4747-d3dc-449f-b492-bad2742b997b",
   "metadata": {},
   "source": [
    "# Parse SMDB for metabolite concentrations in blood for healthy adults\n",
    "\n",
    "Serum metabolome database was downloaded on 3 May 2024 from https://serummetabolome.ca/downloads (release date 2021-10-24)\n",
    "\n",
    "Database was parsed to retrieve normal metabolite concentration values in adult blood\n",
    "\n",
    "Database can be cited as follows\n",
    "\n",
    "Psychogios N, Hau DD, Peng J, Guo AC, Mandal R, Bouatra S, Sinelnikov I, Krishnamurthy R, Eisner R, Gautam B, Young N, Xia J, Knox C, Dong E, Huang P, Hollander Z, Pedersen TL, Smith SR, Bamforth F, Greiner R, McManus B, Newman JW, Goodfriend T, Wishart DS. The human serum metabolome. PLoS One. 2011 Feb 16;6(2):e16957.\n"
   ]
  },
  {
   "cell_type": "code",
   "execution_count": 1,
   "id": "5ef4ef3f-dae0-4f37-983a-72ef15d9f585",
   "metadata": {},
   "outputs": [],
   "source": [
    "from pathlib import Path\n",
    "from lxml import etree\n",
    "import pandas as pd\n",
    "import re\n",
    "import numpy as np"
   ]
  },
  {
   "cell_type": "code",
   "execution_count": 2,
   "id": "3c3b3a03-9697-4a78-995d-f10243a21dbe",
   "metadata": {},
   "outputs": [],
   "source": [
    "p = Path.cwd() / 'concentrations_from_serum'\n",
    "xml_path = p / 'serum_metabolites_may2024.xml' # file downloaded from smdb\n",
    "out_path = p / 'smdb_normal_blood_concentrations.csv'"
   ]
  },
  {
   "cell_type": "markdown",
   "id": "12f63c26-d0ba-4b5d-9768-265bcbb2f0de",
   "metadata": {},
   "source": [
    "## Run this only once to modify original xml file"
   ]
  },
  {
   "cell_type": "code",
   "execution_count": 3,
   "id": "66096599-319e-42af-b201-fcdff1b04e55",
   "metadata": {},
   "outputs": [],
   "source": [
    "# # Second line in downloaded xml is <hmdb xmlns=\"http://www.hmdb.ca\"> but should be changed to <hmdb> otherwise parsing does not work\n",
    "\n",
    "# with open(xml_path, 'r', encoding='utf-8') as xml_file:\n",
    "#     lines = xml_file.readlines()\n",
    "#     lines[1] = '<hmdb>\\n'  # Change the second line to <hmdb>\n",
    "\n",
    "# # Overwrite original file\n",
    "# with open(xml_path, 'w', encoding='utf-8') as new_file:\n",
    "#     new_file.writelines(lines)"
   ]
  },
  {
   "cell_type": "markdown",
   "id": "710c0c97-b10f-4d9c-aec6-5da265aecd61",
   "metadata": {},
   "source": [
    "## Get normal blood concentration values for all metabolites in the database\n"
   ]
  },
  {
   "cell_type": "code",
   "execution_count": 4,
   "id": "8fa153a1-41fb-4608-9754-3303f32f64c5",
   "metadata": {},
   "outputs": [],
   "source": [
    "# Initialize an incremental parser for the XML file\n",
    "context = etree.iterparse(xml_path, events=('end',), tag='metabolite')\n",
    "\n",
    "# Iterate over metabolite elements\n",
    "data = []\n",
    "for _, metabolite in context:\n",
    "\n",
    "    accession = metabolite.findtext('accession')\n",
    "    name = metabolite.findtext('name')\n",
    "    normal_concentrations = metabolite.find('normal_concentrations') #.find gives you access to the element\n",
    "    \n",
    "    # Process if normal_concentrations has entries\n",
    "    if normal_concentrations is not None:\n",
    "        \n",
    "        # Iterate through the concentration child elements\n",
    "        for concentration in normal_concentrations.findall('concentration'):\n",
    "            biospecimen = concentration.findtext('biospecimen')\n",
    "            subject_age = concentration.findtext('subject_age')\n",
    "            subject_condition = concentration.findtext('subject_condition')\n",
    "            pubmed_id = concentration.findtext('references/reference/pubmed_id')\n",
    "            \n",
    "            # Only process if the conditions match\n",
    "            if (biospecimen == 'Blood' and subject_age == 'Adult (>18 years old)' and\n",
    "                subject_condition == 'Normal'):\n",
    "                # Get the concentration value\n",
    "                concentration_value = concentration.findtext('concentration_value')\n",
    "                concentration_units = concentration.findtext('concentration_units')\n",
    "                \n",
    "                # Collect the data if concentration_value is not None\n",
    "                if concentration_value:\n",
    "                    data_dict = {\n",
    "                        'accession': accession,\n",
    "                        'name':name,\n",
    "                        'concentration_value': concentration_value,\n",
    "                        'concentration_units': concentration_units,\n",
    "                        'pubmed_id':pubmed_id\n",
    "                    }\n",
    "                    \n",
    "                    data.append(data_dict)\n",
    "    \n",
    "    # Release resources\n",
    "    metabolite.clear()\n",
    "context = None\n",
    "\n",
    "# Convert result to pandas dataframe\n",
    "df = pd.DataFrame(data)"
   ]
  },
  {
   "cell_type": "markdown",
   "id": "fb4d7046-5fef-4f81-9ffb-ced4565538f3",
   "metadata": {},
   "source": [
    "## Concentrations are entered in the database in different formats\n",
    "\n",
    "- Measured value with normal range in parentheses: 50.0 (0.0-100.0)\n",
    "- Measured value with standard deviation 46.5 +/- 1.1\n",
    "- Normal range only: 8.0-80.0\n",
    "- Measuread value 8.19\n",
    "- Measured value with a number in parentheses meaning of which is unknown: 0.02 (0.03 +/- 0.01)\n",
    "\n",
    "Here the values are extracted in three new columns to facilitate data sorting: measured_value, normal_range_min and normal_range_max"
   ]
  },
  {
   "cell_type": "code",
   "execution_count": 5,
   "id": "85cb7338-a1e1-4998-88dd-1f694ed4efa3",
   "metadata": {},
   "outputs": [],
   "source": [
    "def parse_concentration_value(value: str):\n",
    "    measured_value, normal_range_min, normal_range_max = None, None, None\n",
    "    \n",
    "    # Format: 50.0 (0.0-100.0)\n",
    "    match = re.match(r'([0-9.]+)\\s*\\(\\s*([0-9.]+)\\s*-\\s*([0-9.]+)\\s*\\)', value)\n",
    "    if match:\n",
    "        measured_value = float(match.group(1))\n",
    "        normal_range_min = float(match.group(2))\n",
    "        normal_range_max = float(match.group(3))\n",
    "        return measured_value, normal_range_min, normal_range_max\n",
    "    \n",
    "    # Format: 46.5 ± 10.1\n",
    "    if '+/-' in value and not ('(' in value or ')' in value):\n",
    "        measured_value = float(value.split('+/-')[0].strip())\n",
    "        return measured_value, None, None\n",
    "    \n",
    "    # Format: 8.00-80.0\n",
    "    if '-' in value and not ('(' in value or ')' in value):\n",
    "        normal_range_min, normal_range_max = map(float, value.split('-'))\n",
    "        return None, normal_range_min, normal_range_max\n",
    "    \n",
    "    # Format: <0.1\n",
    "    if value.startswith('<'):\n",
    "        measured_value = float(value[1:].strip())\n",
    "        return measured_value, None, None\n",
    "    \n",
    "    # Format: 43.57(9.97)\n",
    "    match = re.match(r'([0-9.]+)\\s*\\(\\s*([0-9.]+)\\s*\\)', value)\n",
    "    if match:\n",
    "        measured_value = float(match.group(1))\n",
    "        return measured_value, None, None\n",
    "    \n",
    "    # Format: 43.57\n",
    "    try:\n",
    "        measured_value = float(value)\n",
    "        return measured_value, None, None\n",
    "    except ValueError:\n",
    "        pass\n",
    "\n",
    "    # Format - 0.02 (0.03 +/- 0.01)\n",
    "    match = re.match(r'^([0-9.]+)\\s*\\([^)]*\\)$', value)\n",
    "    if match:\n",
    "        measured_value = float(match.group(1))\n",
    "        return measured_value, None, None\n",
    "\n",
    "    return None, None, None\n",
    "\n",
    "# Apply the parsing function and split results into three columns\n",
    "df[['measured_value', 'normal_range_min', 'normal_range_max']] = df['concentration_value'].apply(parse_concentration_value).apply(pd.Series)"
   ]
  },
  {
   "cell_type": "markdown",
   "id": "a1d57cb7-7131-4b7f-8c38-3da2eaf5d1cf",
   "metadata": {},
   "source": [
    "## Save result"
   ]
  },
  {
   "cell_type": "code",
   "execution_count": 6,
   "id": "8e61224c-b6b3-451e-9d57-44e86e2e9ccd",
   "metadata": {},
   "outputs": [],
   "source": [
    "df.to_csv(out_path, index=False)"
   ]
  },
  {
   "cell_type": "markdown",
   "id": "d4adcd31-9d28-42c2-9a03-de72a3d5e952",
   "metadata": {},
   "source": [
    "## Paper revision: find concentrations of reference metabolites of interest"
   ]
  },
  {
   "cell_type": "code",
   "execution_count": 7,
   "id": "8955f2e7-6a55-44c0-bacf-58849c72aa9a",
   "metadata": {},
   "outputs": [],
   "source": [
    "# Compunds used in the study\n",
    "p_compounds = p / 'compounds_with_hmdb_id.csv'\n",
    "\n",
    "# Subset for metabolites of interest\n",
    "compounds = pd.read_csv(p_compounds)[['name_short', 'hmdb_primary']]\n",
    "merged_df = pd.merge(compounds, df, how='inner', left_on='hmdb_primary', right_on='accession').drop(columns=['name','accession'])\n",
    "merged_df.to_csv(p / \"all_concentrations_in_blood_revision.csv\", index=False)"
   ]
  },
  {
   "cell_type": "code",
   "execution_count": 8,
   "id": "d27906bc-99af-47f9-a31e-00b0afad4de1",
   "metadata": {},
   "outputs": [],
   "source": [
    "# Calculate mean of reported values per metabolite (micromolar) and save\n",
    "result = (\n",
    "    merged_df\n",
    "    .groupby(['name_short', 'hmdb_primary'])\n",
    "    .agg(human_serum=('measured_value', 'mean'))\n",
    ").rename(columns={'human_serum':'Human serum'})\n",
    "\n",
    "result.to_csv(p / \"revision_mean_concentrations_in_blood.csv\")"
   ]
  }
 ],
 "metadata": {
  "kernelspec": {
   "display_name": "Python 3 (ipykernel)",
   "language": "python",
   "name": "python3"
  },
  "language_info": {
   "codemirror_mode": {
    "name": "ipython",
    "version": 3
   },
   "file_extension": ".py",
   "mimetype": "text/x-python",
   "name": "python",
   "nbconvert_exporter": "python",
   "pygments_lexer": "ipython3",
   "version": "3.11.0"
  }
 },
 "nbformat": 4,
 "nbformat_minor": 5
}
