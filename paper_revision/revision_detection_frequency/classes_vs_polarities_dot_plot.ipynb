{
 "cells": [
  {
   "cell_type": "code",
   "execution_count": 1,
   "metadata": {},
   "outputs": [
    {
     "name": "stderr",
     "output_type": "stream",
     "text": [
      "<frozen importlib._bootstrap>:219: RuntimeWarning: scipy._lib.messagestream.MessageStream size changed, may indicate binary incompatibility. Expected 56 from C header, got 64 from PyObject\n"
     ]
    }
   ],
   "source": [
    "from pathlib import Path\n",
    "import pandas as pd\n",
    "import numpy as np\n",
    "from itertools import product\n",
    "import seaborn as sns\n",
    "import matplotlib.pyplot as plt\n",
    "from matplotlib import rc\n",
    "\n",
    "rc('font',**{'family':'sans-serif',\n",
    "             'sans-serif':['Arial'],\n",
    "             'size':16})\n",
    "rc('pdf', fonttype=42)\n",
    "rc('ps', fonttype=42)"
   ]
  },
  {
   "cell_type": "code",
   "execution_count": 2,
   "metadata": {},
   "outputs": [],
   "source": [
    "def calculate_detected_intensities(df, threshold=0.8):\n",
    "    '''\n",
    "    Make a column with background corrected intensities for detected compounds, and 0s for not detected compounds\n",
    "    Change any negative values to zero\n",
    "    Also add detectability column, where compounds with prediction value above threshold=0.8 are labelled as detected (1)\n",
    "    '''\n",
    "\n",
    "    df['detectability'] = df.pred_val >= threshold\n",
    "    vals = df.spot_intensity_bgr_corrected * df.detectability\n",
    "    df['effective_intensity'] = np.clip(vals, 0, None)\n",
    "    return df\n",
    "\n",
    "def get_class_size(metadata, class_column):\n",
    "    sizes = metadata[class_column].value_counts()\n",
    "    metadata['class_size'] = [sizes[k] for k in metadata[class_column]]\n",
    "    return metadata\n",
    "\n",
    "def filter_neutral_losses(df, neutral_losses=['']):\n",
    "    '''\n",
    "    Filter out entries for ions with neutral losses that are not in the list provided\n",
    "    If neutral_loss value us \"only_nl\", than consider only ions that have neutral losses\n",
    "    '''\n",
    "    \n",
    "    if neutral_losses == \"only_nl\":\n",
    "        df = df[df.neutral_loss != \"\"]\n",
    "    elif neutral_losses != None:\n",
    "        df = df[df.neutral_loss.isin(neutral_losses)]\n",
    "    return df\n",
    "\n",
    "def filter_adducts(df, adducts=['']):\n",
    "    '''\n",
    "    Filter out entries for ions with adducts that are not in the list provided\n",
    "    '''\n",
    "    if adducts != None:\n",
    "        df = df[df.adduct.isin(adducts)]\n",
    "    return df\n",
    "\n",
    "\n",
    "def filter_data(data, adducts=None, neutral_losses=None):\n",
    "    '''\n",
    "    Apply adduct and neutral_loss filters\n",
    "    '''\n",
    "    data = filter_adducts(data, adducts)\n",
    "    data = filter_neutral_losses(data, neutral_losses)\n",
    "    \n",
    "    return data\n",
    "\n",
    "\n",
    "def group_by_molecule_and_polarity(df):\n",
    "    '''\n",
    "    Aggregate intensity and detection values per metabolite and dataset\n",
    "    '''\n",
    "    \n",
    "    data = df.pivot_table(index=['name_short', 'Matrix short', 'Polarity'],\n",
    "                 values=['effective_intensity', 'detectability'],\n",
    "                 aggfunc=\n",
    "                        {'effective_intensity':'sum',\n",
    "                        'detectability':'max'}).reset_index()\n",
    "    return data\n",
    "\n",
    "def summarise_per_class_and_polarity(df, class_col_name):\n",
    "    \n",
    "    data = df.pivot_table(index=['Polarity', 'Matrix short', class_col_name],\n",
    "                      values=['effective_intensity', 'detectability', 'class_size'],\n",
    "                      aggfunc = {\n",
    "                                'class_size':'first',\n",
    "                                'effective_intensity':'mean',\n",
    "                                'detectability':'sum'\n",
    "                                }).reset_index()\n",
    "\n",
    "    data['fraction_detected'] = data.detectability / data.class_size \n",
    "    data.drop(columns=['detectability', 'class_size'], inplace=True)\n",
    "    \n",
    "    data['log10_intensity'] = data.effective_intensity.apply(lambda x: np.log10(x+1))\n",
    "    \n",
    "    return data\n",
    "\n",
    "def average_per_polarity(df, class_col_name):\n",
    "    \n",
    "    data = df.pivot_table(index=['Polarity', class_col_name],\n",
    "                 values=['log10_intensity', 'fraction_detected'],\n",
    "                 aggfunc=\n",
    "                        {'log10_intensity':'mean',\n",
    "                        'fraction_detected':'mean'}).reset_index()\n",
    "    return data\n",
    "\n",
    "def plot_revision_plot(data, cmap, class_col_name, intensity_col_name, title=\"\", figsize=(12,4.5)):\n",
    "    \n",
    "    plt.figure(figsize=figsize)\n",
    "    g = sns.scatterplot(data=data, \n",
    "                        x='Polarity', \n",
    "                        y=class_col_name, \n",
    "                        size=\"fraction_detected\", \n",
    "                        sizes=(0, 400), #smallest and largest bubble size to use\n",
    "                        size_norm=(0, 1), #fraction range\n",
    "                        hue=intensity_col_name, \n",
    "                        hue_norm=(1, 5.5), #intensity range\n",
    "                        palette=cmap,\n",
    "                        linewidth = 0,\n",
    "                        edgecolor='k',\n",
    "                        legend='brief'\n",
    "            )\n",
    "    \n",
    "    # Get the current x-tick labels\n",
    "    xticks = g.get_xticks()\n",
    "    yticks = g.get_yticks()\n",
    "\n",
    "    # Add padding to the left by adjusting the limits\n",
    "    padding = 0.5\n",
    "    g.set(xlim = (-padding, len(xticks) - 1 + padding), \n",
    "           ylim=(-padding, len(yticks) - 1 + padding))\n",
    "    \n",
    "    sns.despine()\n",
    "\n",
    "    plt.legend(bbox_to_anchor=(1.05, 1), loc='upper left', borderaxespad=0, frameon=False)\n",
    "    plt.title(title)\n",
    "    plt.xlabel(\"\")\n",
    "    plt.ylabel(\"\")\n",
    "    plt.xticks(rotation=90)\n",
    "    plt.tight_layout()\n",
    "\n",
    "    return g\n",
    "\n",
    "# size_norm and hue_norm make sure the same dot size and colour limits apply to all plots, \n",
    "# but it is not evident from the way legend is shown. If you want to double check, set legend='full' in plot function call"
   ]
  },
  {
   "cell_type": "markdown",
   "metadata": {},
   "source": [
    "- Inputs"
   ]
  },
  {
   "cell_type": "code",
   "execution_count": 3,
   "metadata": {},
   "outputs": [],
   "source": [
    "p_root_dir = Path.cwd().parents[1]\n",
    "p_data = p_root_dir / \"5_data\"\n",
    "p_out = p_root_dir / r\"7_revisions/metaspace_revision\"\n",
    "\n",
    "# Metrics and Catboost predictions for all ions in their target wells\n",
    "p_predictions = p_data / \"all_predictions_curated_11-Dec-2021.csv\"\n",
    "\n",
    "# Dataset info (lab, matrix, polarity, m/z range, ids, etc.)\n",
    "p_datasets = p_data / r\"metadata/Datasets_14Jul2022.csv\"\n",
    "\n",
    "# Classification\n",
    "p_chem_class = p_data / r\"custom_classification/custom_classification_v2.csv\""
   ]
  },
  {
   "cell_type": "markdown",
   "metadata": {},
   "source": [
    "- Merge relevant info into one dataframe"
   ]
  },
  {
   "cell_type": "code",
   "execution_count": 4,
   "metadata": {},
   "outputs": [],
   "source": [
    "# Load predictions, format neutral loss column\n",
    "predictions = pd.read_csv(p_predictions, index_col=0)[['dataset_id', \n",
    "                                                       'name_short', \n",
    "                                                       'adduct', \n",
    "                                                       'neutral_loss', \n",
    "                                                       'pred_val',\n",
    "                                                       'spot_intensity_bgr_corrected']]\n",
    "predictions.neutral_loss.fillna('', inplace=True)\n",
    "\n",
    "# Add dataset metadata \n",
    "datasets = pd.read_csv(p_datasets)\n",
    "datasets_info = datasets.groupby('Dataset ID').first()[['Polarity', 'Matrix short', 'Matrix long', 'Slide code', 'EMBL']]\n",
    "\n",
    "# Merge with predictions\n",
    "df = pd.merge(predictions, datasets_info, left_on='dataset_id', right_on='Dataset ID', how='left')\n",
    "\n",
    "# Filter to keep only datasets chosen for plots about matrix comparison\n",
    "df = df[df.EMBL]\n",
    "\n",
    "# only consider data of detected ions\n",
    "df = calculate_detected_intensities(df, threshold=0.8)\n",
    "data = df[df.detectability]"
   ]
  },
  {
   "cell_type": "code",
   "execution_count": 5,
   "metadata": {},
   "outputs": [],
   "source": [
    "# Load classification, add class size info\n",
    "\n",
    "classes = pd.read_csv(p_chem_class, index_col='internal_id')\n",
    "chem_class = get_class_size(classes[['name_short', 'main_coarse_class']].drop_duplicates(), \n",
    "                            'main_coarse_class')"
   ]
  },
  {
   "cell_type": "code",
   "execution_count": 6,
   "metadata": {},
   "outputs": [
    {
     "data": {
      "application/vnd.jupyter.widget-view+json": {
       "model_id": "6caf2684a1d04e0982ddca9f54fa39fb",
       "version_major": 2,
       "version_minor": 0
      },
      "text/plain": [
       "interactive(children=(Dropdown(description='name', options=('Greys', 'Reds', 'Greens', 'Blues', 'Oranges', 'Pu…"
      ]
     },
     "metadata": {},
     "output_type": "display_data"
    }
   ],
   "source": [
    "# Choose colourmap\n",
    "cmap = sns.choose_colorbrewer_palette('s', as_cmap=True)"
   ]
  },
  {
   "cell_type": "code",
   "execution_count": 9,
   "metadata": {},
   "outputs": [],
   "source": [
    "# Filter adducts and neutral losses\n",
    "filtered_data = filter_data(data,\n",
    "                            adducts=None,\n",
    "                            neutral_losses=[''])\n",
    "\n",
    "# Summarise data per metabolite and dataset (intensities of detected ions are summed)\n",
    "molecule_data = group_by_molecule_and_polarity(filtered_data)\n",
    "\n",
    "# Map chemical class to the metabolite\n",
    "mapped_data = molecule_data.merge(chem_class, on='name_short', how='left')\n",
    "\n",
    "# Summarise data per class (mean of detected metabolites, and fraction of detected ions per class)\n",
    "class_data = summarise_per_class_and_polarity(mapped_data, class_col_name='main_coarse_class')\n",
    "\n",
    "# Up to this point class data is just a combination of two class datas that were processed with polarity filter individually\n",
    "# There is no need to zero-fill because each class in each polarity has a value\n",
    "\n",
    "# Average individual data set results per polarity\n",
    "plot_data = average_per_polarity(class_data, 'main_coarse_class')\n",
    "\n",
    "# Set the order for axes\n",
    "plot_data = plot_data.sort_values(by=['Polarity', 'main_coarse_class'], ascending=False)"
   ]
  },
  {
   "cell_type": "code",
   "execution_count": 10,
   "metadata": {},
   "outputs": [
    {
     "data": {
      "image/png": "[encoded data removed]",
      "text/plain": [
       "<Figure size 561.6x324 with 1 Axes>"
      ]
     },
     "metadata": {
      "needs_background": "light"
     },
     "output_type": "display_data"
    }
   ],
   "source": [
    "# Plot\n",
    "p_out = p_root_dir / r\"7_revisions/metaspace_revision\"\n",
    "\n",
    "title = f\"Fraction and avg.intensity two_polarities no_n.l. coarse_class revision\"\n",
    "ax = plot_revision_plot(plot_data, \n",
    "                   cmap, \n",
    "                   class_col_name='main_coarse_class', \n",
    "                   intensity_col_name = 'log10_intensity',\n",
    "                   title = title,\n",
    "                   figsize=(7.8, 4.5))\n",
    "\n",
    "plt.tight_layout()\n",
    "ax.figure.savefig(p_out / f\"{title}.png\")\n",
    "ax.figure.savefig(p_out / f\"{title}.pdf\", transparent=True)"
   ]
  }
 ],
 "metadata": {
  "kernelspec": {
   "display_name": "Python 3",
   "language": "python",
   "name": "python3"
  },
  "language_info": {
   "codemirror_mode": {
    "name": "ipython",
    "version": 3
   },
   "file_extension": ".py",
   "mimetype": "text/x-python",
   "name": "python",
   "nbconvert_exporter": "python",
   "pygments_lexer": "ipython3",
   "version": "3.8.3"
  }
 },
 "nbformat": 4,
 "nbformat_minor": 5
}
