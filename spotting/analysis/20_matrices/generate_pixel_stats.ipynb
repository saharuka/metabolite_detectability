{
 "cells": [
  {
   "cell_type": "markdown",
   "metadata": {},
   "source": [
    "# Notebook to generate pixel statistics from spotting datasets"
   ]
  },
  {
   "cell_type": "code",
   "execution_count": 1,
   "metadata": {},
   "outputs": [],
   "source": [
    "%matplotlib inline"
   ]
  },
  {
   "cell_type": "code",
   "execution_count": 2,
   "metadata": {},
   "outputs": [],
   "source": [
    "from pathlib import Path\n",
    "import numpy as np\n",
    "import pandas as pd\n",
    "from metaspace.sm_annotation_utils import SMInstance\n",
    "from getpass import getpass\n",
    "import matplotlib.pyplot as plt\n",
    "import itertools"
   ]
  },
  {
   "cell_type": "code",
   "execution_count": 3,
   "metadata": {},
   "outputs": [],
   "source": [
    "from definitions import ROOT_DIR"
   ]
  },
  {
   "cell_type": "code",
   "execution_count": 4,
   "metadata": {},
   "outputs": [],
   "source": [
    "def statcrunch(well, formula, adduct, neutral_loss, images, grid_mask):\n",
    "    \"\"\"\n",
    "    Statcrunch does measurements on a region of an ion image. \n",
    "    Ion image defined by formula nad adduct. Region defined by grid_mask and well.\n",
    "    :returns: sum intensity, mean intensity, % occupancy, standard deviation and msm\n",
    "    \"\"\"\n",
    "    \n",
    "    spot_inds = grid_mask == well\n",
    "    pixels = images[(formula, adduct, neutral_loss)][spot_inds]\n",
    "    \n",
    "    if pixels.size == 0:\n",
    "        out_sum = 0\n",
    "        out_ave = 0\n",
    "        out_std = 0\n",
    "        out_occ = 0\n",
    "    else:\n",
    "        out_sum = np.sum(pixels) \n",
    "        out_ave = np.average(pixels) \n",
    "        out_std = np.std(pixels)\n",
    "        out_occ = (np.count_nonzero(pixels) / pixels.size) * 100 # % of pixels that have non-zero values\n",
    "\n",
    "    statvector = [out_sum, out_ave, out_occ, out_std]\n",
    "    \n",
    "    return(statvector)"
   ]
  },
  {
   "cell_type": "markdown",
   "metadata": {},
   "source": [
    "- Provide inputs"
   ]
  },
  {
   "cell_type": "code",
   "execution_count": 9,
   "metadata": {},
   "outputs": [],
   "source": [
    "# METASPACE\n",
    "database = ('Spotting_project_compounds-v9', 'feb2021')\n",
    "fdr = 0.5\n",
    "\n",
    "# Paths\n",
    "p_root_dir = Path(ROOT_DIR)\n",
    "p_analysis = p_root_dir  / \"3_metric_extraction\"\n",
    "p_grids = p_root_dir / r\"2_grid_calibration\\grid_masks\"\n",
    "p_wellmap = p_analysis / \"Molecules.csv\" # this is well-to-molecule mapping\n",
    "\n",
    "# Grid specs\n",
    "sample_wells = ([2]+list(range(10,190)))"
   ]
  },
  {
   "cell_type": "markdown",
   "metadata": {},
   "source": [
    "- Load well to molecule mapping"
   ]
  },
  {
   "cell_type": "code",
   "execution_count": 10,
   "metadata": {
    "scrolled": false
   },
   "outputs": [
    {
     "data": {
      "text/html": [
       "<div>\n",
       "<style scoped>\n",
       "    .dataframe tbody tr th:only-of-type {\n",
       "        vertical-align: middle;\n",
       "    }\n",
       "\n",
       "    .dataframe tbody tr th {\n",
       "        vertical-align: top;\n",
       "    }\n",
       "\n",
       "    .dataframe thead th {\n",
       "        text-align: right;\n",
       "    }\n",
       "</style>\n",
       "<table border=\"1\" class=\"dataframe\">\n",
       "  <thead>\n",
       "    <tr style=\"text-align: right;\">\n",
       "      <th></th>\n",
       "      <th>well</th>\n",
       "      <th>name</th>\n",
       "      <th>formula</th>\n",
       "      <th>mass</th>\n",
       "    </tr>\n",
       "  </thead>\n",
       "  <tbody>\n",
       "    <tr>\n",
       "      <th>0</th>\n",
       "      <td>0</td>\n",
       "      <td>Off-sample region</td>\n",
       "      <td>NaN</td>\n",
       "      <td>NaN</td>\n",
       "    </tr>\n",
       "    <tr>\n",
       "      <th>1</th>\n",
       "      <td>2</td>\n",
       "      <td>1-palmitoyl-2-oleoyl-sn-glycero-3-phospho-(1'-...</td>\n",
       "      <td>C40H77O10P</td>\n",
       "      <td>748.525437</td>\n",
       "    </tr>\n",
       "    <tr>\n",
       "      <th>2</th>\n",
       "      <td>10</td>\n",
       "      <td>Indole</td>\n",
       "      <td>C8H7N</td>\n",
       "      <td>117.057849</td>\n",
       "    </tr>\n",
       "    <tr>\n",
       "      <th>3</th>\n",
       "      <td>11</td>\n",
       "      <td>Prostaglandin E1</td>\n",
       "      <td>C20H34O5</td>\n",
       "      <td>354.240625</td>\n",
       "    </tr>\n",
       "    <tr>\n",
       "      <th>4</th>\n",
       "      <td>12</td>\n",
       "      <td>1-palmitoyl-2-oleoyl-sn-glycero-3-phosphate (s...</td>\n",
       "      <td>C37H71O8P</td>\n",
       "      <td>674.488657</td>\n",
       "    </tr>\n",
       "  </tbody>\n",
       "</table>\n",
       "</div>"
      ],
      "text/plain": [
       "   well                                               name     formula  \\\n",
       "0     0                                  Off-sample region         NaN   \n",
       "1     2  1-palmitoyl-2-oleoyl-sn-glycero-3-phospho-(1'-...  C40H77O10P   \n",
       "2    10                                             Indole       C8H7N   \n",
       "3    11                                   Prostaglandin E1    C20H34O5   \n",
       "4    12  1-palmitoyl-2-oleoyl-sn-glycero-3-phosphate (s...   C37H71O8P   \n",
       "\n",
       "         mass  \n",
       "0         NaN  \n",
       "1  748.525437  \n",
       "2  117.057849  \n",
       "3  354.240625  \n",
       "4  674.488657  "
      ]
     },
     "execution_count": 10,
     "metadata": {},
     "output_type": "execute_result"
    }
   ],
   "source": [
    "wellmap = pd.read_csv(p_wellmap)\n",
    "\n",
    "# test\n",
    "wellmap.head()"
   ]
  },
  {
   "cell_type": "markdown",
   "metadata": {},
   "source": [
    "- Log in to METASPACE\n",
    "- Load dataset"
   ]
  },
  {
   "cell_type": "code",
   "execution_count": 11,
   "metadata": {},
   "outputs": [
    {
     "name": "stdout",
     "output_type": "stream",
     "text": [
      "Enter your API key from https://metaspace2020.eu/user/me\n",
      "········\n"
     ]
    }
   ],
   "source": [
    "sm = SMInstance(host='https://staging.metaspace2020.eu')\n",
    "if not sm.logged_in():\n",
    "    print('Enter your API key from https://metaspace2020.eu/user/me')\n",
    "    sm.login(api_key=getpass())\n",
    "else:\n",
    "    print('Already logged in')"
   ]
  },
  {
   "cell_type": "markdown",
   "metadata": {},
   "source": [
    "- Load full grid\n",
    "- Subset it to include only wells of interest"
   ]
  },
  {
   "cell_type": "markdown",
   "metadata": {},
   "source": [
    "- Make a dictionary, where (formula, adduct, neutral loss) is a key and first isotope image is a value\n",
    "- Get results for the whole dataset"
   ]
  },
  {
   "cell_type": "markdown",
   "metadata": {},
   "source": [
    "Generate a complete set of pixel-by-pixel info\n",
    "\n",
    "- For every image-formula-adduct triplet, calculate the following\n",
    "        - sum and average intensity of each target molecule in each well and off sample\n",
    "        - number of occupied pixels in each well and off sample\n",
    "        - standard deviation of intensities within each well\n",
    "        \n",
    "- Compile into a database indexed by image-well-formula-adduct\n",
    "          "
   ]
  },
  {
   "cell_type": "code",
   "execution_count": 13,
   "metadata": {},
   "outputs": [
    {
     "name": "stdout",
     "output_type": "stream",
     "text": [
      "1193.8513717651367\n",
      "1547.864743232727\n",
      "1166.015422821045\n",
      "1580.275161266327\n",
      "1187.8191714286804\n",
      "1717.570696592331\n",
      "1397.6427297592163\n",
      "1755.7991993427277\n",
      "1288.6113345623016\n",
      "1799.9397172927856\n",
      "1220.7362859249115\n",
      "1705.0644536018372\n",
      "1233.8087327480316\n",
      "1616.553698539734\n",
      "1475.3150708675385\n",
      "1941.393452167511\n",
      "1316.0111668109894\n",
      "1680.6537399291992\n",
      "1104.5182552337646\n",
      "1501.3794050216675\n"
     ]
    }
   ],
   "source": [
    "formulas = wellmap.formula.dropna().unique()\n",
    "\n",
    "for i in p_grids.rglob(\"*.npy\"):\n",
    "    \n",
    "    #load grid\n",
    "    grid = np.load(i) # from alignment tool\n",
    "    # Remove unused wells from gridmask\n",
    "    grid[~np.isin(grid, sample_wells)] = 0 \n",
    "    wells = np.unique(grid)\n",
    "   \n",
    "    fname = i.stem\n",
    "    dataset_id = fname[-20:]\n",
    "    p_out = p_analysis / f\"{fname}_bigreport.csv\"\n",
    "    \n",
    "    ds = sm.dataset(id = dataset_id)\n",
    "    \n",
    "    # make a dict out of all images\n",
    "    images = ds.all_annotation_images(fdr = fdr, \n",
    "                                      database = database,\n",
    "                                      only_first_isotope = False,\n",
    "                                      scale_intensity = True, \n",
    "                                      hotspot_clipping = False)\n",
    "    images = dict( ((img.formula, img.adduct, img.neutral_loss), img[0]) for img in images )\n",
    "    \n",
    "    # get results\n",
    "    results = ds.results(fdr = fdr,\n",
    "                     database = database,\n",
    "                     include_neutral_losses = True)\n",
    "    \n",
    "    # calculate stats\n",
    "    adductlist = ds.adducts \n",
    "    neutral_losses = [''] + ds.config['isotope_generation'].get('neutral_losses', [''])\n",
    "    addframes = []\n",
    "    for formula, adduct, neutral_loss in list(itertools.product(formulas, adductlist, neutral_losses)):\n",
    "        for well in wells:\n",
    "\n",
    "            # Is this formula expected in this well?\n",
    "            targetflag = wellmap.loc[wellmap.well == well, 'formula'] == formula\n",
    "\n",
    "            if (formula, adduct, neutral_loss) in results.index:\n",
    "                statvector = statcrunch(well, formula, adduct, neutral_loss, images, grid)\n",
    "                msm = results.loc[(formula, adduct, neutral_loss), 'msm']\n",
    "\n",
    "                addframes.append({\n",
    "                            'dataset_id': dataset_id,\n",
    "                            'well': well,\n",
    "                            'formula': formula,\n",
    "                            'adduct': adduct,\n",
    "                            'neutral_loss': neutral_loss,\n",
    "                            'sum': statvector[0],\n",
    "                            'average': statvector[1],\n",
    "                            'occupancy': statvector[2],\n",
    "                            'stdev': statvector[3],\n",
    "                            'msm': msm,\n",
    "                            'is_target': targetflag.item(),\n",
    "                })\n",
    "            else:\n",
    "                addframes.append({ \n",
    "                            'dataset_id': dataset_id,\n",
    "                            'well': well,\n",
    "                            'formula': formula,\n",
    "                            'adduct': adduct,\n",
    "                            'neutral_loss': neutral_loss,\n",
    "                            'sum': '0',\n",
    "                            'average': '0',\n",
    "                            'occupancy': '0',\n",
    "                            'stdev': '0',\n",
    "                            'msm': '0',\n",
    "                            'is_target': targetflag.item(),\n",
    "                        })\n",
    "\n",
    "    statframe = pd.DataFrame(addframes)\n",
    "    statframe.to_csv(p_out, index=False)"
   ]
  }
 ],
 "metadata": {
  "kernelspec": {
   "display_name": "Python 3",
   "language": "python",
   "name": "python3"
  },
  "language_info": {
   "codemirror_mode": {
    "name": "ipython",
    "version": 3
   },
   "file_extension": ".py",
   "mimetype": "text/x-python",
   "name": "python",
   "nbconvert_exporter": "python",
   "pygments_lexer": "ipython3",
   "version": "3.8.5"
  }
 },
 "nbformat": 4,
 "nbformat_minor": 2
}
