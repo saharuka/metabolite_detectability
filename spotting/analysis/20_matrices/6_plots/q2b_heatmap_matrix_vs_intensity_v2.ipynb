{
 "cells": [
  {
   "cell_type": "markdown",
   "id": "acceptable-census",
   "metadata": {},
   "source": [
    "## This notebook creates intensity-matrix heatmaps"
   ]
  },
  {
   "cell_type": "code",
   "execution_count": 17,
   "id": "level-finish",
   "metadata": {},
   "outputs": [],
   "source": [
    "from pathlib import Path\n",
    "from definitions import ROOT_DIR\n",
    "import pandas as pd\n",
    "import numpy as np\n",
    "from itertools import product\n",
    "import matplotlib.pyplot as plt\n",
    "import seaborn as sns\n",
    "from matplotlib.patches import Patch"
   ]
  },
  {
   "cell_type": "code",
   "execution_count": 18,
   "id": "maritime-apache",
   "metadata": {},
   "outputs": [],
   "source": [
    "def calculate_detected_intensities(df, threshold=0.8):\n",
    "    '''\n",
    "    Make a column with background corrected intensities for detected compounds, and 0s for not detected compounds\n",
    "    Change any negative values to zero\n",
    "    Also add detectability column, where compounds with prediction value above threshold=0.8 are labelled as detected (1)\n",
    "    '''\n",
    "\n",
    "    df['detectability'] = df.pred_val >= threshold\n",
    "    vals = df.spot_intensity_bgr_corrected * df.detectability\n",
    "    df['effective_intensity'] = np.clip(vals, 0, None)\n",
    "    return df\n",
    "\n",
    "\n",
    "def filter_neutral_losses(df, neutral_losses=['']):\n",
    "    '''\n",
    "    Filter out entries for ions with neutral losses that are not in the list provided\n",
    "    If neutral_loss value us \"only_nl\", than consider only ions that have neutral losses\n",
    "    '''\n",
    "    \n",
    "    if neutral_losses == \"only_nl\":\n",
    "        df = df[df.neutral_loss != \"\"]\n",
    "    elif neutral_losses != None:\n",
    "        df = df[df.neutral_loss.isin(neutral_losses)]\n",
    "    return df\n",
    "\n",
    "def filter_adducts(df, adducts=['']):\n",
    "    '''\n",
    "    Filter out entries for ions with adducts that are not in the list provided\n",
    "    '''\n",
    "    if adducts != None:\n",
    "        df = df[df.adduct.isin(adducts)]\n",
    "    return df\n",
    "\n",
    "def filter_polarity(df, polarity=None):\n",
    "    '''\n",
    "    Filter out entries based on polarity pol ['positive', 'negative']\n",
    "    '''\n",
    "    if polarity != None:\n",
    "        df = df[df.Polarity == polarity]\n",
    "    return df\n",
    "\n",
    "def filter_data(data, polarity=None, adducts=None, neutral_losses=None):\n",
    "    '''\n",
    "    Apply polarity, adduct and neutral_loss filters\n",
    "    '''\n",
    "    data = filter_polarity(data, polarity)\n",
    "    data = filter_adducts(data, adducts)\n",
    "    data = filter_neutral_losses(data, neutral_losses)\n",
    "     \n",
    "    return data\n",
    "\n",
    "def filter_class(df, classification, clas, clas_column):\n",
    "    '''\n",
    "    Filter out entries based on coarse class name\n",
    "    '''\n",
    "    data = df.merge(classification, on='name_short', how='left')\n",
    "    filtered_data = data[data[clas_column] == clas].drop(columns=clas_column)\n",
    "    return filtered_data\n",
    "\n",
    "def group_by_molecule(df):\n",
    "    '''\n",
    "    Aggregate intensity and detection values per metabolite and dataset\n",
    "    '''\n",
    "    \n",
    "    data = df.pivot_table(index=['name_short', 'Matrix short'],\n",
    "                 values='effective_intensity',\n",
    "                 aggfunc=lambda x: np.log10(sum(x)+1)).reset_index()\n",
    "    return data\n",
    "\n",
    "def zero_fill_data(df, compounds):\n",
    "    \n",
    "    # Do zero-filling using a pre-made template\n",
    "    X = df['Matrix short'].unique()\n",
    "    Y = compounds['name_short'].unique()\n",
    "    template = pd.DataFrame(product(X, Y), columns=['Matrix short', 'name_short'])\n",
    "    data = template.merge(df, on=['Matrix short', 'name_short'], how='left').fillna(0)\n",
    "    \n",
    "    return data\n",
    "\n",
    "def prep_class_data(df, polarity=None, neutral_losses=None, sort_rows_by_class=False, classification=None, class_col_name=None):\n",
    "    '''\n",
    "    Prepare data and make one heatmap for all classes\n",
    "    '''\n",
    "    # Aggregate intensities per metabolite and pivot into heatmap layout\n",
    "    molecule_data = group_by_molecule(df)\n",
    "    \n",
    "    # Zero-fill data and pivot\n",
    "    zero_filled_data = zero_fill_data(molecule_data, compounds)\n",
    "    plot_data = zero_filled_data.pivot(index='name_short',\n",
    "                                       columns='Matrix short',\n",
    "                                       values='effective_intensity') \n",
    "    \n",
    "    # Sort columns alphabetically\n",
    "    column_order = plot_data.columns.sort_values()\n",
    "    plot_data = plot_data.reindex(column_order, axis=1)\n",
    "    \n",
    "    # Sort rows by chemical class\n",
    "    if sort_rows_by_class:\n",
    "        plot_data = plot_data.merge(classification, on='name_short', how='left').set_index('name_short')\n",
    "        plot_data.sort_values(by = [class_col_name, 'name_short'], inplace=True)\n",
    "        plot_data.drop(columns=class_col_name, inplace=True)\n",
    "    \n",
    "    return plot_data\n",
    "\n",
    "def prep_colour_bar(plot_df, class_df, class_column):\n",
    "    '''\n",
    "    Make a colour bar representing classes of compounds in heatmap\n",
    "    '''    \n",
    "    name_to_class =  dict(zip( class_df.name_short,\n",
    "                               class_df[class_column] ))\n",
    "    unique_categories = plot_df.index.map(name_to_class).unique()\n",
    "#     unique_categories = class_df[class_column].unique() # this is basically all classes in cassification file\n",
    "    \n",
    "    class_to_color = dict(zip( unique_categories, \n",
    "                               sns.hls_palette( len(unique_categories), h=.5 )))\n",
    "    \n",
    "    row_colors = plot_df.index.map(name_to_class).map(class_to_color)\n",
    "    \n",
    "    return class_to_color, row_colors"
   ]
  },
  {
   "cell_type": "markdown",
   "id": "tracked-stopping",
   "metadata": {},
   "source": [
    "- Inputs"
   ]
  },
  {
   "cell_type": "code",
   "execution_count": 19,
   "id": "superb-arnold",
   "metadata": {},
   "outputs": [],
   "source": [
    "p_root_dir = Path(ROOT_DIR).parents[0]\n",
    "p_data = p_root_dir / \"5_data_analysis\"\n",
    "p_out = p_root_dir / \"6_plots/q2_plots/heatmaps\"\n",
    "\n",
    "# Metrics and Catboost predictions for all ions in their target wells\n",
    "p_predictions = p_data / \"all_predictions_curated_11-Dec-2021.csv\"\n",
    "\n",
    "# Dataset info (lab, matrix, polarity, m/z range, ids, etc.)\n",
    "p_datasets = p_data / \"Datasets_14Jul2022.csv\"\n",
    "\n",
    "# Classification\n",
    "p_chem_class = p_data / \"custom_classification_v2.csv\"\n",
    "p_pathways = p_data / \"pathways_v2.csv\"\n",
    "\n",
    "# Compounds name and ID information\n",
    "p_compounds = p_data / \"compounds_ids.csv\""
   ]
  },
  {
   "cell_type": "markdown",
   "id": "reverse-contrary",
   "metadata": {},
   "source": [
    "- Load files"
   ]
  },
  {
   "cell_type": "code",
   "execution_count": 20,
   "id": "cheap-accuracy",
   "metadata": {},
   "outputs": [],
   "source": [
    "# Load predictions, format neutral loss column\n",
    "predictions = pd.read_csv(p_predictions, index_col=0)[['dataset_id', \n",
    "                                                       'name_short', \n",
    "                                                       'adduct', \n",
    "                                                       'neutral_loss', \n",
    "                                                       'pred_val',\n",
    "                                                       'spot_intensity_bgr_corrected']]\n",
    "predictions.neutral_loss.fillna('', inplace=True)\n",
    "\n",
    "# Add dataset metadata \n",
    "datasets = pd.read_csv(p_datasets)\n",
    "datasets_info = datasets.groupby('Dataset ID').first()[['Polarity', 'Matrix short', 'Matrix long', 'Slide code', 'EMBL']]\n",
    "datasets_info['sample_name'] = datasets_info['Matrix short']\n",
    "\n",
    "# Merge with predictions\n",
    "df = pd.merge(predictions, datasets_info, left_on='dataset_id', right_on='Dataset ID', how='left')\n",
    "\n",
    "# Filter to keep only datasets chosen for plots about matrix comparison\n",
    "df = df[df.EMBL]\n",
    "\n",
    "# Only consider data of detected ions\n",
    "df = calculate_detected_intensities(df, threshold=0.8)\n",
    "data = df[df.detectability]"
   ]
  },
  {
   "cell_type": "code",
   "execution_count": 21,
   "id": "monthly-consultancy",
   "metadata": {},
   "outputs": [],
   "source": [
    "# Load compound metadata\n",
    "compounds = pd.read_csv(p_compounds, index_col='internal_id')\n",
    "compounds = compounds[compounds.hmdb_primary != 'custom'][['name_short']] # to exclude thermometer ions\n",
    "\n",
    "# Load classification\n",
    "chem_classification_file = pd.read_csv(p_chem_class, index_col='internal_id')\n",
    "chem_class = chem_classification_file[['name_short', 'main_coarse_class']].drop_duplicates()\n",
    "chem_subclass = chem_classification_file"
   ]
  },
  {
   "cell_type": "markdown",
   "id": "informative-vulnerability",
   "metadata": {},
   "source": [
    "### Part 1: One heatmap with all chemical classes"
   ]
  },
  {
   "cell_type": "code",
   "execution_count": 22,
   "id": "legal-music",
   "metadata": {},
   "outputs": [],
   "source": [
    "def plot_all_class_heatmap(plot_data, cmap, row_colors, lut, row_cluster, col_cluster, title):\n",
    "    '''Plot one heatmap for with classes'''\n",
    "    g = sns.clustermap(plot_data, metric=\"euclidean\", \n",
    "                       yticklabels=False, \n",
    "                       row_colors=row_colors,\n",
    "                       row_cluster=row_cluster,\n",
    "                       col_cluster=col_cluster,\n",
    "                       cmap=cmap,\n",
    "                       vmax=5.5) # set max value of the colour bar\n",
    "\n",
    "    # Beautify the plot\n",
    "    ax = g.ax_heatmap # define axes\n",
    "    ax.set(xlabel=None, ylabel=None) # hide axes labels\n",
    "    g.ax_row_dendrogram.set_visible(False) # hiderow dendrogram\n",
    "\n",
    "        # Set title and give it space above the plot\n",
    "    g.fig.subplots_adjust(top=0.9, right=0.95)\n",
    "    g.fig.suptitle(title)\n",
    "    \n",
    "        # Adjust colour bar size and location            \n",
    "    g.ax_cbar.set_position((0.96, 0.075, 0.03, 0.65)) #x, y, w, l\n",
    "\n",
    "        # Construct legend\n",
    "    handles = [Patch(facecolor=lut[name]) for name in lut]\n",
    "    plt.legend(handles, lut, title='Chemical class',\n",
    "               bbox_to_anchor=(0.17, 0.5), bbox_transform=plt.gcf().transFigure, loc='upper right')        \n",
    "    return g"
   ]
  },
  {
   "cell_type": "markdown",
   "id": "eligible-smell",
   "metadata": {},
   "source": [
    "- Make a test plot"
   ]
  },
  {
   "cell_type": "code",
   "execution_count": 23,
   "id": "unsigned-butterfly",
   "metadata": {},
   "outputs": [
    {
     "data": {
      "application/vnd.jupyter.widget-view+json": {
       "model_id": "8c44fcf70a76456493b5de61488295a2",
       "version_major": 2,
       "version_minor": 0
      },
      "text/plain": [
       "interactive(children=(Dropdown(description='name', options=('Greys', 'Reds', 'Greens', 'Blues', 'Oranges', 'Pu…"
      ]
     },
     "metadata": {},
     "output_type": "display_data"
    }
   ],
   "source": [
    "# Choose colourmap\n",
    "cmap = sns.choose_colorbrewer_palette('s') #, as_cmap=True)"
   ]
  },
  {
   "cell_type": "code",
   "execution_count": 24,
   "id": "comparable-helping",
   "metadata": {},
   "outputs": [
    {
     "data": {
      "image/png": "[encoded data removed]",
      "text/plain": [
       "<Figure size 720x720 with 5 Axes>"
      ]
     },
     "metadata": {
      "needs_background": "light"
     },
     "output_type": "display_data"
    }
   ],
   "source": [
    "# Filter data\n",
    "filtered_data = filter_data(data,\n",
    "                            polarity='positive', \n",
    "                            neutral_losses=[''])\n",
    "\n",
    "# Prepare data to plot\n",
    "plot_data = prep_class_data(filtered_data,\n",
    "                     sort_rows_by_class=True,\n",
    "                     classification=chem_class,\n",
    "                     class_col_name='main_coarse_class')\n",
    "\n",
    "# Prepare a colour bar\n",
    "lut, row_colors = prep_colour_bar(plot_data,\n",
    "                                  chem_class, \n",
    "                                  'main_coarse_class')\n",
    "\n",
    "\n",
    "# Make the plot\n",
    "g = plot_all_class_heatmap(plot_data,\n",
    "                           cmap,\n",
    "                           row_colors, \n",
    "                           lut, \n",
    "                           row_cluster=False, \n",
    "                           col_cluster=True,\n",
    "                           title = f\"Test\")\n",
    "\n",
    "# Save the plot\n",
    "# g.savefig(p_out / f\"log10 intensities.png\") "
   ]
  },
  {
   "cell_type": "markdown",
   "id": "physical-postage",
   "metadata": {},
   "source": [
    "- Batch-save many plots with changing filters:\n",
    "\n",
    "1. With and without neutral losses\n",
    "2. In both ionisation modes"
   ]
  },
  {
   "cell_type": "code",
   "execution_count": 25,
   "id": "posted-declaration",
   "metadata": {},
   "outputs": [],
   "source": [
    "for neutral_losses in [['']]: #[None, [''], 'only_nl']:\n",
    "    \n",
    "    nl_label = 'with n.l.'\n",
    "    if neutral_losses == ['']: \n",
    "        nl_label = 'no n.l.'  \n",
    "    elif neutral_losses == 'only_nl':\n",
    "        nl_label = 'only n.l.'  \n",
    "\n",
    "    for polarity in ['positive', 'negative', None]:\n",
    "        \n",
    "        # Filter data\n",
    "        filtered_data = filter_data(data,\n",
    "                                    polarity=polarity, \n",
    "                                    neutral_losses=neutral_losses)\n",
    "\n",
    "        # Prepare data to plot\n",
    "        plot_data = prep_class_data(filtered_data,\n",
    "                             sort_rows_by_class=True,\n",
    "                             classification=chem_class,\n",
    "                             class_col_name='main_coarse_class')\n",
    "\n",
    "        # Save data for seriation in R\n",
    "        plot_data.to_csv(p_out / f\"data_for_seriation_{polarity}_{nl_label}.csv\")\n",
    "\n",
    "        # Prepare a colour bar\n",
    "        lut, row_colors = prep_colour_bar(plot_data,\n",
    "                                          chem_class, \n",
    "                                          'main_coarse_class')\n",
    "        \n",
    "        # Make the plot\n",
    "        title = f\"log10 intensities {nl_label} {polarity}\"\n",
    "        g = plot_all_class_heatmap(plot_data, \n",
    "                                   cmap,\n",
    "                                   row_colors, \n",
    "                                   lut, \n",
    "                                   row_cluster=False, \n",
    "                                   col_cluster=False, # Change this to enable column clustering\n",
    "                                   title=title)\n",
    "\n",
    "        # Save the plot\n",
    "        g.savefig(p_out / f\"{title}.png\")\n",
    "        plt.close()"
   ]
  },
  {
   "cell_type": "markdown",
   "id": "minimal-morris",
   "metadata": {},
   "source": [
    "### Part 2: Seriation in R\n",
    "\n",
    "- Could be done on csvs saved in part 1\n",
    "- Describe how you do it if you do it"
   ]
  },
  {
   "cell_type": "markdown",
   "id": "fabulous-removal",
   "metadata": {},
   "source": [
    "### Part 3: Class-specific plots"
   ]
  },
  {
   "cell_type": "code",
   "execution_count": 26,
   "id": "substantial-plate",
   "metadata": {},
   "outputs": [],
   "source": [
    "def plot_one_class_heatmap(plot_data, cmap, row_colors, lut, row_cluster, col_cluster, title):\n",
    "    '''Plot one heatmap for with classes'''\n",
    "    g = sns.clustermap(plot_data, \n",
    "                       metric=\"euclidean\", \n",
    "                       yticklabels=True, \n",
    "                       row_colors=row_colors,\n",
    "                       row_cluster=row_cluster,\n",
    "                       col_cluster=col_cluster,\n",
    "                       cmap=cmap,\n",
    "                       vmax=5.5) # set max value of the colour bar\n",
    "\n",
    "    # Beautify the plot\n",
    "    ax = g.ax_heatmap # define axes\n",
    "    ax.set(xlabel=None, ylabel=None) # hide axes labels\n",
    "    g.ax_row_dendrogram.set_visible(False) # hiderow dendrogram\n",
    "\n",
    "        # Set title and give it space above the plot\n",
    "    g.fig.subplots_adjust(top=0.9, right=0.95)\n",
    "    g.fig.suptitle(title)\n",
    "    \n",
    "        # Adjust colour bar size and location            \n",
    "    g.ax_cbar.set_position((0.14, 0.075, 0.03, 0.65)) #x, y, w, l\n",
    "\n",
    "        # Construct legend\n",
    "    handles = [Patch(facecolor=lut[name]) for name in lut]\n",
    "    plt.legend(handles, lut, title='Chemical class',\n",
    "               bbox_to_anchor=(0.1, 0.5), bbox_transform=plt.gcf().transFigure, loc='upper right')        \n",
    "    return g"
   ]
  },
  {
   "cell_type": "markdown",
   "id": "genuine-motion",
   "metadata": {},
   "source": [
    "- Make a test plot"
   ]
  },
  {
   "cell_type": "code",
   "execution_count": 27,
   "id": "sporting-gravity",
   "metadata": {},
   "outputs": [
    {
     "data": {
      "application/vnd.jupyter.widget-view+json": {
       "model_id": "8790f63f1bdf45d38b5c45a14862acef",
       "version_major": 2,
       "version_minor": 0
      },
      "text/plain": [
       "interactive(children=(Dropdown(description='name', options=('Greys', 'Reds', 'Greens', 'Blues', 'Oranges', 'Pu…"
      ]
     },
     "metadata": {},
     "output_type": "display_data"
    }
   ],
   "source": [
    "# Choose colourmap\n",
    "cmap = sns.choose_colorbrewer_palette('s')#, as_cmap=True)"
   ]
  },
  {
   "cell_type": "code",
   "execution_count": 28,
   "id": "changing-thompson",
   "metadata": {},
   "outputs": [
    {
     "data": {
      "image/png": "[encoded data removed]",
      "text/plain": [
       "<Figure size 720x720 with 5 Axes>"
      ]
     },
     "metadata": {
      "needs_background": "light"
     },
     "output_type": "display_data"
    }
   ],
   "source": [
    "# Filter data\n",
    "filtered_data = filter_data(data,\n",
    "                            polarity='positive', \n",
    "                            neutral_losses=[''])\n",
    "\n",
    "# Prepare data to plot\n",
    "molecule_data = prep_class_data(filtered_data)\n",
    "\n",
    "# Filter by class\n",
    "plot_data = filter_class(molecule_data,\n",
    "                         classification=chem_subclass[['name_short', 'coarse_class']],\n",
    "                         clas='Carbohydrates',\n",
    "                         clas_column='coarse_class').set_index('name_short')\n",
    "\n",
    "# Prepare a colour bar\n",
    "lut, row_colors = prep_colour_bar(plot_data,\n",
    "                                  chem_subclass, \n",
    "                                  'fine_class')\n",
    "\n",
    "\n",
    "# Make the plot\n",
    "g = plot_one_class_heatmap(plot_data,\n",
    "                           cmap,\n",
    "                           row_colors, \n",
    "                           lut, \n",
    "                           row_cluster=True, \n",
    "                           col_cluster=True,\n",
    "                           title = f\"Test\")"
   ]
  },
  {
   "cell_type": "markdown",
   "id": "exterior-perception",
   "metadata": {},
   "source": [
    "- Batch-save separate plots for every coarse class with changing filters:\n",
    "\n",
    "1. With and without neutral losses\n",
    "2. In both ionisation modes"
   ]
  },
  {
   "cell_type": "code",
   "execution_count": 29,
   "id": "referenced-hunter",
   "metadata": {},
   "outputs": [],
   "source": [
    "for neutral_losses in [['']]: #[None, [''], 'only_nl']:\n",
    "\n",
    "    nl_label = 'with n.l.'\n",
    "    if neutral_losses == ['']: \n",
    "        nl_label = 'no n.l.'  \n",
    "    elif neutral_losses == 'only_nl':\n",
    "        nl_label = 'only n.l.'  \n",
    "\n",
    "    for polarity in ['positive', 'negative']:\n",
    "\n",
    "        # Filter polarity and neutral losses\n",
    "        filtered_data = filter_data(data,\n",
    "                                    polarity=polarity, \n",
    "                                    neutral_losses=neutral_losses)\n",
    "        # Aggregate by metabolite\n",
    "        molecule_data = prep_class_data(filtered_data)\n",
    "        \n",
    "        for clas in chem_class.main_coarse_class.unique():\n",
    "    \n",
    "            # Filter by class\n",
    "            plot_data = filter_class(molecule_data,\n",
    "                                     classification=chem_subclass[['name_short', 'coarse_class']],\n",
    "                                     clas=clas,\n",
    "                                     clas_column='coarse_class').set_index('name_short')\n",
    "\n",
    "            # Prepare a colour bar\n",
    "            lut, row_colors = prep_colour_bar(plot_data,\n",
    "                                              chem_subclass, \n",
    "                                              'fine_class')\n",
    "\n",
    "            # Make the plot\n",
    "            title = f\"log10 intensities {clas} {nl_label} {polarity}\"\n",
    "            g = plot_one_class_heatmap(plot_data,\n",
    "                                       cmap,\n",
    "                                       row_colors, \n",
    "                                       lut, \n",
    "                                       row_cluster=True, \n",
    "                                       col_cluster=True,\n",
    "                                       title=title)\n",
    "\n",
    "            # Save the plot\n",
    "            g.savefig(p_out / f\"{title}.png\")\n",
    "            plt.close()  "
   ]
  }
 ],
 "metadata": {
  "kernelspec": {
   "display_name": "Python [conda env:.conda-zimmerman] *",
   "language": "python",
   "name": "conda-env-.conda-zimmerman-py"
  },
  "language_info": {
   "codemirror_mode": {
    "name": "ipython",
    "version": 3
   },
   "file_extension": ".py",
   "mimetype": "text/x-python",
   "name": "python",
   "nbconvert_exporter": "python",
   "pygments_lexer": "ipython3",
   "version": "3.8.5"
  }
 },
 "nbformat": 4,
 "nbformat_minor": 5
}
