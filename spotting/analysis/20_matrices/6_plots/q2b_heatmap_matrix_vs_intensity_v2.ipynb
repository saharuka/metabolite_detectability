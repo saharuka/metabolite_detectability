{
 "cells": [
  {
   "cell_type": "markdown",
   "id": "acceptable-census",
   "metadata": {},
   "source": [
    "## This notebook creates intensity-matrix heatmaps"
   ]
  },
  {
   "cell_type": "code",
   "execution_count": 1,
   "id": "level-finish",
   "metadata": {},
   "outputs": [],
   "source": [
    "from pathlib import Path\n",
    "from definitions import ROOT_DIR\n",
    "import pandas as pd\n",
    "import numpy as np\n",
    "import matplotlib.pyplot as plt\n",
    "import seaborn as sns\n",
    "from matplotlib.patches import Patch"
   ]
  },
  {
   "cell_type": "code",
   "execution_count": 2,
   "id": "maritime-apache",
   "metadata": {},
   "outputs": [],
   "source": [
    "def filter_neutral_losses(df, filter_on=True, neutral_losses_to_keep=['']):\n",
    "    '''\n",
    "    Filter out entries for ions with neutral losses that are not in the list provided\n",
    "    '''\n",
    "    if filter_on:\n",
    "        df = df[df.neutral_loss.isin(neutral_losses_to_keep)]\n",
    "    return df\n",
    "\n",
    "def calculate_detected_intensities(df):\n",
    "    '''\n",
    "    Make a column with background corrected intensities for detected compounds, and 0s for not detected compounds\n",
    "    Change any negative values to zero\n",
    "    '''\n",
    "    intensities_for_twostate_spots = (df.pred_twostate == 1) * df.spot_intensity_bgr_corrected\n",
    "    df['val_twostate'] = np.clip(intensities_for_twostate_spots, 0, None)\n",
    "    intensities_for_threestate_spots = (df.pred_threestate == 2) * df.spot_intensity_bgr_corrected\n",
    "    df['val_threestate'] = np.clip(intensities_for_threestate_spots, 0, None)\n",
    "    return df\n",
    "\n",
    "def filter_polarity(df, polarity):\n",
    "    '''\n",
    "    Filter out entries based on polarity pol ['pos', 'neg']\n",
    "    '''\n",
    "    return df[df['Polarity'] == polarity]\n",
    "\n",
    "def filter_class(df, clas, clas_column):\n",
    "    '''\n",
    "    Filter out entries based on coarse class name\n",
    "    '''\n",
    "    return df[df[clas_column] == clas]\n",
    "\n",
    "def make_heatmap_input(df, intensity_col_name = 'val_threestate'):\n",
    "    '''\n",
    "    Pivot table so that it can be used for heatmap plotting\n",
    "    '''\n",
    "    return df.pivot_table(index=['name_short'],\n",
    "                          columns=['sample_name'],\n",
    "                          values=intensity_col_name,\n",
    "                          aggfunc=lambda x: np.log10(sum(x)+1),\n",
    "                          fill_value=0,\n",
    "                          sort=False)\n",
    "\n",
    "def prep_colour_bar(plot_df, class_df, class_column):\n",
    "    '''\n",
    "    Make a colour bar representing classes of compounds in heatmap\n",
    "    '''\n",
    "    class_to_color = dict(zip( class_df[class_column].unique(), \n",
    "                               sns.hls_palette( class_df[class_column].nunique(), h=.5 )))\n",
    "    name_to_class =  dict(zip( class_df.name_short,\n",
    "                               class_df[class_column] ))\n",
    "    \n",
    "    row_colors = plot_df.index.map(name_to_class).map(class_to_color)\n",
    "    return class_to_color, row_colors"
   ]
  },
  {
   "cell_type": "markdown",
   "id": "tracked-stopping",
   "metadata": {},
   "source": [
    "- Inputs"
   ]
  },
  {
   "cell_type": "code",
   "execution_count": 3,
   "id": "superb-arnold",
   "metadata": {},
   "outputs": [],
   "source": [
    "p_root_dir = Path(ROOT_DIR).parents[0]\n",
    "p_data = p_root_dir / \"5_data_analysis\"\n",
    "p_out = p_root_dir / \"6_plots/q2_plots/heatmaps\"\n",
    "\n",
    "# Metrics and Catboost predictions for all ions in their target wells\n",
    "p_predictions = p_data / \"all_predictions_curated_11-Dec-2021.csv\"\n",
    "\n",
    "# Dataset info (lab, matrix, polarity, m/z range, ids, etc.)\n",
    "p_datasets = p_data / \"datasets.csv\"\n",
    "\n",
    "# Classification\n",
    "p_chem_class = p_data / \"custom_classification_v2.csv\"\n",
    "# p_pathways = p_data / \"pathways_v2.csv\""
   ]
  },
  {
   "cell_type": "markdown",
   "id": "reverse-contrary",
   "metadata": {},
   "source": [
    "- Load files"
   ]
  },
  {
   "cell_type": "code",
   "execution_count": 5,
   "id": "cheap-accuracy",
   "metadata": {},
   "outputs": [],
   "source": [
    "# Load predictions, format neutral loss column\n",
    "predictions = pd.read_csv(p_predictions, index_col=0)\n",
    "predictions.neutral_loss.fillna('', inplace=True)\n",
    "\n",
    "# TODO: remove thermometer ions?\n",
    "\n",
    "chem_class = pd.read_csv(p_chem_class, index_col='internal_id')\n",
    "# pathways = pd.read_csv(p_pathways, index_col='internal_id')\n",
    "\n",
    "# Get a subset of most relevant information from Datasets file\n",
    "datasets = pd.read_csv(p_datasets)\n",
    "datasets_info = datasets.groupby('Clone ID').first()[['Polarity', 'Matrix short', 'Matrix long', 'Slide code']] # 'Participant lab', 'Technology'\n",
    "datasets_info['sample_name'] = datasets_info['Matrix short']\n",
    "# datasets_info['sample_name'] = datasets_info['Matrix short'] + '_' + datasets_info['Slide code']\n",
    "\n",
    "# Merge with predictions and classification\n",
    "df = pd.merge(predictions, datasets_info, left_on='dataset_id', right_on='Clone ID', how='left')"
   ]
  },
  {
   "cell_type": "markdown",
   "id": "informative-vulnerability",
   "metadata": {},
   "source": [
    "### Part 1: One heatmap with all chemical classes"
   ]
  },
  {
   "cell_type": "code",
   "execution_count": 6,
   "id": "legal-music",
   "metadata": {},
   "outputs": [],
   "source": [
    "def prep_all_class_data(data, polarity, nl_filter_on=None, neutral_losses_to_keep=None, intensity_col_name=None):\n",
    "    '''\n",
    "    Prepare data and make one heatmap for all classes\n",
    "    '''\n",
    "    data = filter_neutral_losses(data, nl_filter_on, neutral_losses_to_keep)\n",
    "    data = calculate_detected_intensities(data)\n",
    "    data = filter_polarity(data, polarity)\n",
    "    data = make_heatmap_input(data, intensity_col_name)\n",
    "    \n",
    "    # sort columns alphabetically\n",
    "    column_order = data.columns.sort_values()\n",
    "    data.reindex(column_order, axis=1)\n",
    "    return data\n",
    "\n",
    "def plot_all_class_heatmap(plot_data, cmap, row_colors, lut, row_cluster, col_cluster, title):\n",
    "    '''Plot one heatmap for with classes'''\n",
    "    g = sns.clustermap(plot_data, metric=\"euclidean\", \n",
    "                       yticklabels=False, \n",
    "                       row_colors=row_colors,\n",
    "                       row_cluster=row_cluster,\n",
    "                       col_cluster=col_cluster,\n",
    "                       cmap=cmap,\n",
    "                       vmax=5.5) # set max value of the colour bar\n",
    "\n",
    "    # Beautify the plot\n",
    "    ax = g.ax_heatmap # define axes\n",
    "    ax.set(xlabel=None, ylabel=None) # hide axes labels\n",
    "    g.ax_row_dendrogram.set_visible(False) # hiderow dendrogram\n",
    "\n",
    "        # Set title and give it space above the plot\n",
    "    g.fig.subplots_adjust(top=0.9, right=0.95)\n",
    "    g.fig.suptitle(title)\n",
    "    \n",
    "        # Adjust colour bar size and location            \n",
    "    g.ax_cbar.set_position((0.96, 0.075, 0.03, 0.65)) #x, y, w, l\n",
    "\n",
    "        # Construct legend\n",
    "    handles = [Patch(facecolor=lut[name]) for name in lut]\n",
    "    plt.legend(handles, lut, title='Chemical class',\n",
    "               bbox_to_anchor=(0.17, 0.5), bbox_transform=plt.gcf().transFigure, loc='upper right')        \n",
    "    return g"
   ]
  },
  {
   "cell_type": "markdown",
   "id": "atmospheric-dream",
   "metadata": {},
   "source": [
    "- Assign one chemical class to each compound\n",
    "- Sort data by class so that it looks nice in unclustered heatmap"
   ]
  },
  {
   "cell_type": "code",
   "execution_count": 7,
   "id": "seasonal-intermediate",
   "metadata": {},
   "outputs": [],
   "source": [
    "main_chem_class = chem_class[['name_short', 'main_coarse_class']].drop_duplicates()\n",
    "data = df.merge(main_chem_class, on='name_short', how='left')\n",
    "data.sort_values(by = ['main_coarse_class', 'name_short'], inplace=True)"
   ]
  },
  {
   "cell_type": "markdown",
   "id": "baking-employee",
   "metadata": {},
   "source": [
    "- Plot just one heatmap with filters of interest"
   ]
  },
  {
   "cell_type": "code",
   "execution_count": 8,
   "id": "unsigned-butterfly",
   "metadata": {},
   "outputs": [
    {
     "data": {
      "application/vnd.jupyter.widget-view+json": {
       "model_id": "2df813adaf0e4a1dad26cf6ff43a529f",
       "version_major": 2,
       "version_minor": 0
      },
      "text/plain": [
       "interactive(children=(Dropdown(description='name', options=('Greys', 'Reds', 'Greens', 'Blues', 'Oranges', 'Pu…"
      ]
     },
     "metadata": {},
     "output_type": "display_data"
    }
   ],
   "source": [
    "# Choose colourmap\n",
    "cmap = sns.choose_colorbrewer_palette('s') #, as_cmap=True)"
   ]
  },
  {
   "cell_type": "code",
   "execution_count": 9,
   "id": "surgical-artwork",
   "metadata": {},
   "outputs": [
    {
     "name": "stderr",
     "output_type": "stream",
     "text": [
      "<ipython-input-2-f340a801df33>:15: SettingWithCopyWarning: \n",
      "A value is trying to be set on a copy of a slice from a DataFrame.\n",
      "Try using .loc[row_indexer,col_indexer] = value instead\n",
      "\n",
      "See the caveats in the documentation: https://pandas.pydata.org/pandas-docs/stable/user_guide/indexing.html#returning-a-view-versus-a-copy\n",
      "  df['val_twostate'] = np.clip(intensities_for_twostate_spots, 0, None)\n",
      "<ipython-input-2-f340a801df33>:17: SettingWithCopyWarning: \n",
      "A value is trying to be set on a copy of a slice from a DataFrame.\n",
      "Try using .loc[row_indexer,col_indexer] = value instead\n",
      "\n",
      "See the caveats in the documentation: https://pandas.pydata.org/pandas-docs/stable/user_guide/indexing.html#returning-a-view-versus-a-copy\n",
      "  df['val_threestate'] = np.clip(intensities_for_threestate_spots, 0, None)\n"
     ]
    },
    {
     "data": {
      "image/png": "[encoded data removed]",
      "text/plain": [
       "<Figure size 720x720 with 5 Axes>"
      ]
     },
     "metadata": {
      "needs_background": "light"
     },
     "output_type": "display_data"
    }
   ],
   "source": [
    "# Prepare data to plot\n",
    "plot_data = prep_all_class_data(data,\n",
    "                                polarity='pos', \n",
    "                                nl_filter_on=True, \n",
    "                                neutral_losses_to_keep=[''], \n",
    "                                intensity_col_name='val_threestate')\n",
    "\n",
    "# plot_data.to_csv(p_out / f\"data_for_seriation.csv\")\n",
    "\n",
    "# Prepare a colour bar\n",
    "lut, row_colors = prep_colour_bar(plot_data, \n",
    "                                  main_chem_class, \n",
    "                                  'main_coarse_class')\n",
    "\n",
    "# Make the plot\n",
    "g = plot_all_class_heatmap(plot_data,\n",
    "                           cmap,\n",
    "                           row_colors, \n",
    "                           lut, \n",
    "                           row_cluster=True, \n",
    "                           col_cluster=True,\n",
    "                           title = f\"Test\")\n",
    "\n",
    "# Save the plot\n",
    "# g.savefig(p_out / f\"log10 intensities.png\") "
   ]
  },
  {
   "cell_type": "markdown",
   "id": "physical-postage",
   "metadata": {},
   "source": [
    "- Batch-save many plots with changing filters:\n",
    "\n",
    "1. With and without neutral losses\n",
    "2. In both ionisation modes\n",
    "3. With 50% (val_twostate) or 80% (val_threestate) ion detection confidence"
   ]
  },
  {
   "cell_type": "code",
   "execution_count": 11,
   "id": "posted-declaration",
   "metadata": {},
   "outputs": [
    {
     "name": "stderr",
     "output_type": "stream",
     "text": [
      "<ipython-input-2-f340a801df33>:15: SettingWithCopyWarning: \n",
      "A value is trying to be set on a copy of a slice from a DataFrame.\n",
      "Try using .loc[row_indexer,col_indexer] = value instead\n",
      "\n",
      "See the caveats in the documentation: https://pandas.pydata.org/pandas-docs/stable/user_guide/indexing.html#returning-a-view-versus-a-copy\n",
      "  df['val_twostate'] = np.clip(intensities_for_twostate_spots, 0, None)\n",
      "<ipython-input-2-f340a801df33>:17: SettingWithCopyWarning: \n",
      "A value is trying to be set on a copy of a slice from a DataFrame.\n",
      "Try using .loc[row_indexer,col_indexer] = value instead\n",
      "\n",
      "See the caveats in the documentation: https://pandas.pydata.org/pandas-docs/stable/user_guide/indexing.html#returning-a-view-versus-a-copy\n",
      "  df['val_threestate'] = np.clip(intensities_for_threestate_spots, 0, None)\n"
     ]
    }
   ],
   "source": [
    "for nl_filter_on in [True, False]:\n",
    "    \n",
    "    nl_label = 'with n.l.'\n",
    "    if nl_filter_on: \n",
    "        nl_label = 'no n.l.'       \n",
    "    \n",
    "    for polarity in ['pos', 'neg']:\n",
    "        \n",
    "        for catboost in ['val_twostate', 'val_threestate']:\n",
    "\n",
    "            # Prepare data to plot\n",
    "            plot_data = prep_all_class_data(data,\n",
    "                                 polarity=polarity, \n",
    "                                 nl_filter_on=nl_filter_on, \n",
    "                                 neutral_losses_to_keep=[''], \n",
    "                                 intensity_col_name=catboost)\n",
    "            \n",
    "            # Save data for seriation in R\n",
    "            plot_data.to_csv(p_out / f\"data_for_seriation_{polarity}_{catboost}_{nl_label}.csv\")\n",
    "\n",
    "            # Prepare a colour bar\n",
    "            lut, row_colors = prep_colour_bar(plot_data,\n",
    "                                                     main_chem_class, \n",
    "                                                     'main_coarse_class')\n",
    "            # Make the plot\n",
    "            title = f\"log10 intensities {nl_label} {polarity} {catboost}\"\n",
    "            g = plot_all_class_heatmap(plot_data, \n",
    "                                       cmap,\n",
    "                                       row_colors, \n",
    "                                       lut, \n",
    "                                       row_cluster=False, \n",
    "                                       col_cluster=True, # Change this to enable column clustering\n",
    "                                       title=title)\n",
    "\n",
    "            # Save the plot\n",
    "            g.savefig(p_out / f\"{title}.png\")\n",
    "            plt.close()  "
   ]
  },
  {
   "cell_type": "markdown",
   "id": "minimal-morris",
   "metadata": {},
   "source": [
    "### Part 2: Seriation in R\n",
    "\n",
    "- Could be done on csvs saved in part 1\n",
    "- Describe how you do it if you do it"
   ]
  },
  {
   "cell_type": "markdown",
   "id": "fabulous-removal",
   "metadata": {},
   "source": [
    "### Part 3: Class-specific plots"
   ]
  },
  {
   "cell_type": "code",
   "execution_count": 13,
   "id": "substantial-plate",
   "metadata": {},
   "outputs": [],
   "source": [
    "def prep_one_class_data(data, polarity, clas, nl_filter_on=None, neutral_losses_to_keep=None, intensity_col_name=None):\n",
    "    '''\n",
    "    Prepare data and make one heatmap for all classes\n",
    "    '''\n",
    "    data = filter_neutral_losses(data, nl_filter_on, neutral_losses_to_keep)\n",
    "    data = calculate_detected_intensities(data)\n",
    "    data = filter_class(data, clas, 'coarse_class')\n",
    "    data = filter_polarity(data, polarity)\n",
    "    data = make_heatmap_input(data, intensity_col_name)\n",
    "    \n",
    "    # sort columns alphabetically\n",
    "    column_order = data.columns.sort_values()\n",
    "    data.reindex(column_order, axis=1)\n",
    "    return data\n",
    "\n",
    "def plot_one_class_heatmap(plot_data, cmap, row_colors, lut, row_cluster, col_cluster, title):\n",
    "    '''Plot one heatmap for with classes'''\n",
    "    g = sns.clustermap(plot_data, metric=\"euclidean\", \n",
    "                       yticklabels=True, \n",
    "                       row_colors=row_colors,\n",
    "                       row_cluster=row_cluster,\n",
    "                       col_cluster=col_cluster,\n",
    "                       cmap=cmap,\n",
    "                       vmax=5.5) # set max value of the colour bar\n",
    "\n",
    "    # Beautify the plot\n",
    "    ax = g.ax_heatmap # define axes\n",
    "    ax.set(xlabel=None, ylabel=None) # hide axes labels\n",
    "    g.ax_row_dendrogram.set_visible(False) # hiderow dendrogram\n",
    "\n",
    "        # Set title and give it space above the plot\n",
    "    g.fig.subplots_adjust(top=0.9, right=0.95)\n",
    "    g.fig.suptitle(title)\n",
    "    \n",
    "        # Adjust colour bar size and location            \n",
    "    g.ax_cbar.set_position((0.14, 0.075, 0.03, 0.65)) #x, y, w, l\n",
    "\n",
    "        # Construct legend\n",
    "    handles = [Patch(facecolor=lut[name]) for name in lut]\n",
    "    plt.legend(handles, lut, title='Chemical class',\n",
    "               bbox_to_anchor=(0.1, 0.5), bbox_transform=plt.gcf().transFigure, loc='upper right')        \n",
    "    return g"
   ]
  },
  {
   "cell_type": "markdown",
   "id": "green-activation",
   "metadata": {},
   "source": [
    "- Map molecules and their chemical classes. Here one molecule can belong to several classes"
   ]
  },
  {
   "cell_type": "code",
   "execution_count": 14,
   "id": "aging-paradise",
   "metadata": {},
   "outputs": [],
   "source": [
    "data = df.merge(chem_class[['name_short', 'coarse_class', 'fine_class']], on='name_short', how='left')\n",
    "data.sort_values(by = ['fine_class', 'name_short'], inplace=True)"
   ]
  },
  {
   "cell_type": "markdown",
   "id": "genuine-motion",
   "metadata": {},
   "source": [
    "- Plot just one heatmap with filters of interest"
   ]
  },
  {
   "cell_type": "code",
   "execution_count": 15,
   "id": "sporting-gravity",
   "metadata": {},
   "outputs": [
    {
     "data": {
      "application/vnd.jupyter.widget-view+json": {
       "model_id": "a387540be6814ca7888217362929dc11",
       "version_major": 2,
       "version_minor": 0
      },
      "text/plain": [
       "interactive(children=(Dropdown(description='name', options=('Greys', 'Reds', 'Greens', 'Blues', 'Oranges', 'Pu…"
      ]
     },
     "metadata": {},
     "output_type": "display_data"
    }
   ],
   "source": [
    "# Choose colourmap\n",
    "cmap = sns.choose_colorbrewer_palette('s')#, as_cmap=True)"
   ]
  },
  {
   "cell_type": "code",
   "execution_count": 17,
   "id": "delayed-knife",
   "metadata": {},
   "outputs": [
    {
     "name": "stderr",
     "output_type": "stream",
     "text": [
      "<ipython-input-2-f340a801df33>:15: SettingWithCopyWarning: \n",
      "A value is trying to be set on a copy of a slice from a DataFrame.\n",
      "Try using .loc[row_indexer,col_indexer] = value instead\n",
      "\n",
      "See the caveats in the documentation: https://pandas.pydata.org/pandas-docs/stable/user_guide/indexing.html#returning-a-view-versus-a-copy\n",
      "  df['val_twostate'] = np.clip(intensities_for_twostate_spots, 0, None)\n",
      "<ipython-input-2-f340a801df33>:17: SettingWithCopyWarning: \n",
      "A value is trying to be set on a copy of a slice from a DataFrame.\n",
      "Try using .loc[row_indexer,col_indexer] = value instead\n",
      "\n",
      "See the caveats in the documentation: https://pandas.pydata.org/pandas-docs/stable/user_guide/indexing.html#returning-a-view-versus-a-copy\n",
      "  df['val_threestate'] = np.clip(intensities_for_threestate_spots, 0, None)\n"
     ]
    },
    {
     "data": {
      "image/png": "[encoded data removed]",
      "text/plain": [
       "<Figure size 720x720 with 5 Axes>"
      ]
     },
     "metadata": {
      "needs_background": "light"
     },
     "output_type": "display_data"
    }
   ],
   "source": [
    "# Prepare data to plot\n",
    "plot_data = prep_one_class_data(data,\n",
    "                     polarity='pos',\n",
    "                     clas='Amines',\n",
    "                     nl_filter_on=True, \n",
    "                     neutral_losses_to_keep=[''], \n",
    "                     intensity_col_name='val_threestate')\n",
    "\n",
    "# # plot_data.to_csv(p_out / f\"data_for_seriation.csv\")\n",
    "\n",
    "# Prepare a colour bar\n",
    "lut, row_colors = prep_colour_bar(plot_data, \n",
    "                                         chem_class[chem_class['coarse_class'] == 'Amines'], \n",
    "                                         'fine_class')\n",
    "\n",
    "# Make the plot\n",
    "g = plot_one_class_heatmap(plot_data, \n",
    "                           cmap,\n",
    "                           row_colors, \n",
    "                           lut, \n",
    "                           row_cluster=False, \n",
    "                           col_cluster=False,\n",
    "                           title = f\"Test\")\n",
    "\n",
    "# # # Save the plot\n",
    "# # g.savefig(p_out / f\"log10 intensities.png\") "
   ]
  },
  {
   "cell_type": "markdown",
   "id": "exterior-perception",
   "metadata": {},
   "source": [
    "- Batch-save separate plots for every coarse class with changing filters:\n",
    "\n",
    "1. With and without neutral losses\n",
    "2. In both ionisation modes\n",
    "3. With 50% (val_twostate) or 80% (val_threestate) ion detection confidence"
   ]
  },
  {
   "cell_type": "code",
   "execution_count": 20,
   "id": "referenced-hunter",
   "metadata": {},
   "outputs": [
    {
     "name": "stderr",
     "output_type": "stream",
     "text": [
      "<ipython-input-2-f340a801df33>:15: SettingWithCopyWarning: \n",
      "A value is trying to be set on a copy of a slice from a DataFrame.\n",
      "Try using .loc[row_indexer,col_indexer] = value instead\n",
      "\n",
      "See the caveats in the documentation: https://pandas.pydata.org/pandas-docs/stable/user_guide/indexing.html#returning-a-view-versus-a-copy\n",
      "  df['val_twostate'] = np.clip(intensities_for_twostate_spots, 0, None)\n",
      "<ipython-input-2-f340a801df33>:17: SettingWithCopyWarning: \n",
      "A value is trying to be set on a copy of a slice from a DataFrame.\n",
      "Try using .loc[row_indexer,col_indexer] = value instead\n",
      "\n",
      "See the caveats in the documentation: https://pandas.pydata.org/pandas-docs/stable/user_guide/indexing.html#returning-a-view-versus-a-copy\n",
      "  df['val_threestate'] = np.clip(intensities_for_threestate_spots, 0, None)\n"
     ]
    }
   ],
   "source": [
    "for clas in data.coarse_class.unique():\n",
    "    \n",
    "    for nl_filter_on in [True, False]:\n",
    "\n",
    "        nl_label = 'with n.l.'\n",
    "        if nl_filter_on: \n",
    "            nl_label = 'no n.l.'       \n",
    "\n",
    "        for polarity in ['pos', 'neg']:\n",
    "\n",
    "            for catboost in ['val_twostate', 'val_threestate']:\n",
    "\n",
    "                # Prepare data to plot\n",
    "                plot_data = prep_one_class_data(data,\n",
    "                                                polarity=polarity,\n",
    "                                                clas=clas,\n",
    "                                                nl_filter_on=nl_filter_on, \n",
    "                                                neutral_losses_to_keep=[''], \n",
    "                                                intensity_col_name=catboost)\n",
    "\n",
    "                # Prepare a colour bar\n",
    "                lut, row_colors = prep_colour_bar(plot_data, \n",
    "                                                  chem_class[chem_class['coarse_class'] == clas], \n",
    "                                                  'fine_class')\n",
    "                # Make the plot\n",
    "                title = f\"log10 intensities {clas} {nl_label} {polarity} {catboost}\"\n",
    "                g = plot_one_class_heatmap(plot_data,\n",
    "                                           cmap,\n",
    "                                           row_colors, \n",
    "                                           lut, \n",
    "                                           row_cluster=False, \n",
    "                                           col_cluster=False,\n",
    "                                           title=title)\n",
    "\n",
    "                # Save the plot\n",
    "                g.savefig(p_out / f\"{title}.png\")\n",
    "                plt.close()  "
   ]
  },
  {
   "cell_type": "code",
   "execution_count": null,
   "id": "received-midwest",
   "metadata": {},
   "outputs": [],
   "source": []
  }
 ],
 "metadata": {
  "kernelspec": {
   "display_name": "Python [conda env:.conda-zimmerman] *",
   "language": "python",
   "name": "conda-env-.conda-zimmerman-py"
  },
  "language_info": {
   "codemirror_mode": {
    "name": "ipython",
    "version": 3
   },
   "file_extension": ".py",
   "mimetype": "text/x-python",
   "name": "python",
   "nbconvert_exporter": "python",
   "pygments_lexer": "ipython3",
   "version": "3.8.5"
  }
 },
 "nbformat": 4,
 "nbformat_minor": 5
}
