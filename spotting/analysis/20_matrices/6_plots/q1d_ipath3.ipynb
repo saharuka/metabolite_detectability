{
 "cells": [
  {
   "cell_type": "markdown",
   "id": "acceptable-census",
   "metadata": {},
   "source": [
    "## This notebook prepares input for IPath3 visualisation"
   ]
  },
  {
   "cell_type": "code",
   "execution_count": 1,
   "id": "level-finish",
   "metadata": {},
   "outputs": [],
   "source": [
    "from pathlib import Path\n",
    "from definitions import ROOT_DIR\n",
    "import pandas as pd\n",
    "import numpy as np"
   ]
  },
  {
   "cell_type": "markdown",
   "id": "tracked-stopping",
   "metadata": {},
   "source": [
    "- Inputs"
   ]
  },
  {
   "cell_type": "code",
   "execution_count": 2,
   "id": "saved-softball",
   "metadata": {},
   "outputs": [],
   "source": [
    "p_root_dir = Path(ROOT_DIR).parent\n",
    "p_analysis = p_root_dir / \"6_plots\\q1_plots\"\n",
    "\n",
    "# Compunds used in the study\n",
    "p_compounds = p_root_dir / \"5_data_analysis/compounds_ids.csv\"\n",
    "\n",
    "# HMDB ID to KEGG ID mapping\n",
    "p_kegg = p_analysis / \"hmdb_kegg_2020-09-09.csv\""
   ]
  },
  {
   "cell_type": "markdown",
   "id": "bigger-tower",
   "metadata": {},
   "source": [
    "- Load data"
   ]
  },
  {
   "cell_type": "code",
   "execution_count": 3,
   "id": "changing-anniversary",
   "metadata": {},
   "outputs": [],
   "source": [
    "compounds = pd.read_csv(p_compounds, index_col='internal_id')\n",
    "# Remove entries for thermometer ions and fiducials\n",
    "compounds = compounds[compounds.hmdb_primary != 'custom'][['name_short', 'hmdb_primary']]\n",
    "\n",
    "kegg = pd.read_csv(p_kegg)"
   ]
  },
  {
   "cell_type": "markdown",
   "id": "sensitive-settle",
   "metadata": {},
   "source": [
    "- Map KEGG IDs to the compounds\n",
    "- Note which compounds have no mapping"
   ]
  },
  {
   "cell_type": "code",
   "execution_count": 4,
   "id": "civic-bibliography",
   "metadata": {},
   "outputs": [],
   "source": [
    "df = pd.merge(compounds, kegg, how='left', on='hmdb_primary')"
   ]
  },
  {
   "cell_type": "code",
   "execution_count": 5,
   "id": "entitled-benefit",
   "metadata": {},
   "outputs": [
    {
     "name": "stderr",
     "output_type": "stream",
     "text": [
      "<ipython-input-5-a30736fc61d5>:2: DeprecationWarning: The default dtype for empty Series will be 'object' instead of 'float64' in a future version. Specify a dtype explicitly to silence this warning.\n",
      "  pd.Series(pd.Series(),index=unmapped_compounds).to_dict()\n"
     ]
    },
    {
     "data": {
      "text/plain": [
       "{'N-Acetylgalactosamine 6-phosphate': nan,\n",
       " 'Cholesteryl acetate': nan,\n",
       " 'TG 15:0-18:1-15:0': nan,\n",
       " 'MG 18:1': nan,\n",
       " 'Cardiolipin 18:1': nan,\n",
       " 'DG 18:0-22:6': nan,\n",
       " 'PS (POPS) 16:0-18:1': nan,\n",
       " 'PG 16:0-18:1': nan,\n",
       " 'Lyso PI 17:1': nan,\n",
       " 'PI 16:0-18:1': nan,\n",
       " 'PE 18:0-20:4': nan,\n",
       " 'Lyso PE 18:0': nan,\n",
       " 'Lyso PA 18:1': nan,\n",
       " 'Lyso PG 16:0': nan,\n",
       " 'Lyso PS 17:1': nan,\n",
       " 'SM d18:1-16:0': nan,\n",
       " 'PC (O) C16-18:1': nan,\n",
       " 'Cholesteryl ester 17:0': nan}"
      ]
     },
     "execution_count": 5,
     "metadata": {},
     "output_type": "execute_result"
    }
   ],
   "source": [
    "unmapped_compounds = df.loc[df.kegg_id != df.kegg_id, 'name_short']\n",
    "pd.Series(pd.Series(),index=unmapped_compounds).to_dict()"
   ]
  },
  {
   "cell_type": "code",
   "execution_count": 6,
   "id": "annoying-quarter",
   "metadata": {},
   "outputs": [],
   "source": [
    "mapping = {'N-Acetylgalactosamine 6-phosphate': 'C06376',\n",
    " 'Cholesteryl acetate': 'C02530',\n",
    " 'TG 15:0-18:1-15:0': 'C00422',\n",
    " 'MG 18:1': 'C01885',\n",
    " 'Cardiolipin 18:1': 'C05980',\n",
    " 'DG 18:0-22:6': 'C00165',\n",
    " 'PS (POPS) 16:0-18:1': 'C02737',\n",
    " 'PG 16:0-18:1': 'C00344',\n",
    " 'Lyso PI 17:1': 'C03819',\n",
    " 'PI 16:0-18:1': 'C01194',\n",
    " 'PE 18:0-20:4': 'C00350',\n",
    " 'Lyso PE 18:0': 'C04438',\n",
    " 'Lyso PA 18:1': 'C00681',\n",
    " 'Lyso PG 16:0': 'C18126',\n",
    " 'Lyso PS 17:1': 'C18125',\n",
    " 'SM d18:1-16:0': 'C00550',\n",
    " 'PC (O) C16-18:1': 'C05212',\n",
    " 'Cholesteryl ester 17:0': 'C02530'}"
   ]
  },
  {
   "cell_type": "markdown",
   "id": "valuable-deployment",
   "metadata": {},
   "source": [
    "- Complete the mapping manually"
   ]
  },
  {
   "cell_type": "code",
   "execution_count": 7,
   "id": "bored-venezuela",
   "metadata": {},
   "outputs": [],
   "source": [
    "for x in mapping.keys():\n",
    "    df.loc[df.name_short == x, 'kegg_id'] = mapping[x]"
   ]
  },
  {
   "cell_type": "markdown",
   "id": "amazing-sheep",
   "metadata": {},
   "source": [
    "- Print and copy KEGG IDs to IPath3 website [https://pathways.embl.de/ipath3.cgi?map=metabolic](https://pathways.embl.de/ipath3.cgi?map=metabolic)"
   ]
  },
  {
   "cell_type": "code",
   "execution_count": 13,
   "id": "chubby-beatles",
   "metadata": {},
   "outputs": [
    {
     "name": "stdout",
     "output_type": "stream",
     "text": [
      "C00221 #000000 W16\n",
      "C00092 #000000 W16\n",
      "C05378 #000000 W16\n",
      "C00111 #000000 W16\n",
      "C00597 #000000 W16\n",
      "C00074 #000000 W16\n",
      "C00022 #000000 W16\n",
      "C00024 #000000 W16\n",
      "C00186 #000000 W16\n",
      "C00345 #000000 W16\n",
      "C00199 #000000 W16\n",
      "C03736 #000000 W16\n",
      "C00184 #000000 W16\n",
      "C00257 #000000 W16\n",
      "C00508 #000000 W16\n",
      "C00158 #000000 W16\n",
      "C00417 #000000 W16\n",
      "C00026 #000000 W16\n",
      "C00042 #000000 W16\n",
      "C00122 #000000 W16\n",
      "C00149 #000000 W16\n",
      "C00036 #000000 W16\n",
      "C00029 #000000 W16\n",
      "C00167 #000000 W16\n",
      "C00352 #000000 W16\n",
      "C06376 #000000 W16\n",
      "C00043 #000000 W16\n",
      "C00140 #000000 W16\n",
      "C00137 #000000 W16\n",
      "C01041 #000000 W16\n",
      "C01177 #000000 W16\n",
      "C00249 #000000 W16\n",
      "C00418 #000000 W16\n",
      "C00187 #000000 W16\n",
      "C04025 #000000 W16\n",
      "C03761 #000000 W16\n",
      "C00154 #000000 W16\n",
      "C00318 #000000 W16\n",
      "C00695 #000000 W16\n",
      "C00037 #000000 W16\n",
      "C05122 #000000 W16\n",
      "C00951 #000000 W16\n",
      "C00152 #000000 W16\n",
      "C00049 #000000 W16\n",
      "C01042 #000000 W16\n",
      "C00064 #000000 W16\n",
      "C00025 #000000 W16\n",
      "C12270 #000000 W16\n",
      "C00334 #000000 W16\n",
      "C00079 #000000 W16\n",
      "C00082 #000000 W16\n",
      "C00355 #000000 W16\n",
      "C03758 #000000 W16\n",
      "C00788 #000000 W16\n",
      "C00164 #000000 W16\n",
      "C00135 #000000 W16\n",
      "C00386 #000000 W16\n",
      "C00785 #000000 W16\n",
      "C00388 #000000 W16\n",
      "C00062 #000000 W16\n",
      "C00327 #000000 W16\n",
      "C03406 #000000 W16\n",
      "C00077 #000000 W16\n",
      "C00169 #000000 W16\n",
      "C00148 #000000 W16\n",
      "C01157 #000000 W16\n",
      "C00134 #000000 W16\n",
      "C00315 #000000 W16\n",
      "C00750 #000000 W16\n",
      "C00300 #000000 W16\n",
      "C00791 #000000 W16\n",
      "C00179 #000000 W16\n",
      "C00504 #000000 W16\n",
      "C00101 #000000 W16\n",
      "C00073 #000000 W16\n",
      "C00491 #000000 W16\n",
      "C00127 #000000 W16\n",
      "C00051 #000000 W16\n",
      "C00245 #000000 W16\n",
      "C00019 #000000 W16\n",
      "C00021 #000000 W16\n",
      "C00155 #000000 W16\n",
      "C00097 #000000 W16\n",
      "C03793 #000000 W16\n",
      "C00183 #000000 W16\n",
      "C00864 #000000 W16\n",
      "C00831 #000000 W16\n",
      "C00010 #000000 W16\n",
      "C00065 #000000 W16\n",
      "C00078 #000000 W16\n",
      "C00328 #000000 W16\n",
      "C01717 #000000 W16\n",
      "C00632 #000000 W16\n",
      "C03722 #000000 W16\n",
      "C00003 #000000 W16\n",
      "C00004 #000000 W16\n",
      "C00153 #000000 W16\n",
      "C00253 #000000 W16\n",
      "C00780 #000000 W16\n",
      "C05635 #000000 W16\n",
      "C01598 #000000 W16\n",
      "C03150 #000000 W16\n",
      "C00455 #000000 W16\n",
      "C00262 #000000 W16\n",
      "C00020 #000000 W16\n",
      "C00147 #000000 W16\n",
      "C00385 #000000 W16\n",
      "C00242 #000000 W16\n",
      "C00008 #000000 W16\n",
      "C00002 #000000 W16\n",
      "C00575 #000000 W16\n",
      "C00438 #000000 W16\n",
      "C00337 #000000 W16\n",
      "C00295 #000000 W16\n",
      "C00299 #000000 W16\n",
      "C00106 #000000 W16\n",
      "C00178 #000000 W16\n",
      "C00055 #000000 W16\n",
      "C00475 #000000 W16\n",
      "C00380 #000000 W16\n",
      "C00015 #000000 W16\n",
      "C00114 #000000 W16\n",
      "C01996 #000000 W16\n",
      "C00378 #000000 W16\n",
      "C00255 #000000 W16\n",
      "C00314 #000000 W16\n",
      "C00120 #000000 W16\n",
      "C05443 #000000 W16\n",
      "C02477 #000000 W16\n",
      "C05850 #000000 W16\n",
      "C00061 #000000 W16\n",
      "C00016 #000000 W16\n",
      "C02305 #000000 W16\n",
      "C00670 #000000 W16\n",
      "C03017 #000000 W16\n",
      "C02571 #000000 W16\n",
      "C01005 #000000 W16\n",
      "C00366 #000000 W16\n",
      "C02530 #000000 W16\n",
      "C00463 #000000 W16\n",
      "C00329 #000000 W16\n",
      "C00246 #000000 W16\n",
      "C00093 #000000 W16\n",
      "C00777 #000000 W16\n",
      "C00219 #000000 W16\n",
      "C00157 #000000 W16\n",
      "C00422 #000000 W16\n",
      "C01885 #000000 W16\n",
      "C03033 #000000 W16\n",
      "C05980 #000000 W16\n",
      "C00165 #000000 W16\n",
      "C02737 #000000 W16\n",
      "C00344 #000000 W16\n",
      "C00416 #000000 W16\n",
      "C03819 #000000 W16\n",
      "C01194 #000000 W16\n",
      "C00626 #000000 W16\n",
      "C00350 #000000 W16\n",
      "C04230 #000000 W16\n",
      "C04438 #000000 W16\n",
      "C00681 #000000 W16\n",
      "C18126 #000000 W16\n",
      "C18125 #000000 W16\n",
      "C04730 #000000 W16\n",
      "C00195 #000000 W16\n",
      "C01190 #000000 W16\n",
      "C00550 #000000 W16\n",
      "C06125 #000000 W16\n",
      "C02990 #000000 W16\n",
      "C05212 #000000 W16\n",
      "C04741 #000000 W16\n",
      "C02530 #000000 W16\n"
     ]
    }
   ],
   "source": [
    "ids = [print(f\"{x} #000000 W16\") for x in df.kegg_id]"
   ]
  },
  {
   "cell_type": "markdown",
   "id": "figured-smell",
   "metadata": {},
   "source": [
    "- Save results"
   ]
  },
  {
   "cell_type": "code",
   "execution_count": 9,
   "id": "republican-strategy",
   "metadata": {},
   "outputs": [],
   "source": [
    "df.to_csv(p_analysis / 'compound_kegg_mapping.csv')"
   ]
  }
 ],
 "metadata": {
  "kernelspec": {
   "display_name": "Python [conda env:.conda-zimmerman] *",
   "language": "python",
   "name": "conda-env-.conda-zimmerman-py"
  },
  "language_info": {
   "codemirror_mode": {
    "name": "ipython",
    "version": 3
   },
   "file_extension": ".py",
   "mimetype": "text/x-python",
   "name": "python",
   "nbconvert_exporter": "python",
   "pygments_lexer": "ipython3",
   "version": "3.8.5"
  }
 },
 "nbformat": 4,
 "nbformat_minor": 5
}
