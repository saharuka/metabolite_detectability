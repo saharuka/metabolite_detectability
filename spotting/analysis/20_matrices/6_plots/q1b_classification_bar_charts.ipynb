{
 "cells": [
  {
   "cell_type": "markdown",
   "id": "acceptable-census",
   "metadata": {},
   "source": [
    "## This notebook breaks down classification systems by number of molecules in each group"
   ]
  },
  {
   "cell_type": "code",
   "execution_count": 1,
   "id": "level-finish",
   "metadata": {},
   "outputs": [],
   "source": [
    "from pathlib import Path\n",
    "from definitions import ROOT_DIR\n",
    "import pandas as pd\n",
    "import numpy as np\n",
    "import matplotlib.pyplot as plt\n",
    "import seaborn as sns\n",
    "from plotnine import *"
   ]
  },
  {
   "cell_type": "markdown",
   "id": "tracked-stopping",
   "metadata": {},
   "source": [
    "- Inputs"
   ]
  },
  {
   "cell_type": "code",
   "execution_count": 7,
   "id": "saved-softball",
   "metadata": {},
   "outputs": [],
   "source": [
    "p_root_dir = Path(ROOT_DIR).parent\n",
    "p_analysis = p_root_dir / \"6_plots\\q1_plots\"\n",
    "\n",
    "# standards\n",
    "p_compounds = p_root_dir / \"5_data_analysis/compounds_ids.csv\"\n",
    "p_chem_class = p_root_dir / \"5_data_analysis/custom_classification.csv\"\n",
    "p_alt_class = p_root_dir / \"5_data_analysis/alternative_classification.csv\"\n",
    "p_pathways = p_root_dir / \"5_data_analysis/pathways.csv\""
   ]
  },
  {
   "cell_type": "markdown",
   "id": "bigger-tower",
   "metadata": {},
   "source": [
    "- Load and merge class data"
   ]
  },
  {
   "cell_type": "code",
   "execution_count": 9,
   "id": "civic-bibliography",
   "metadata": {},
   "outputs": [],
   "source": [
    "compounds = pd.read_csv(p_compounds, index_col='internal_id')\n",
    "compounds = compounds[compounds.hmdb_primary != 'custom'][['name_short']]\n",
    "\n",
    "chem_class = pd.read_csv(p_chem_class, index_col='internal_id')\n",
    "alt_class = pd.read_csv(p_alt_class, index_col='internal_id')\n",
    "pathways = pd.read_csv(p_pathways, index_col='internal_id')\n",
    "\n",
    "df = pd.merge(compounds, chem_class.drop('name_short', axis=1), how='left', left_index=True, right_index=True)\n",
    "df = pd.merge(df, alt_class.drop('name_short', axis=1), how='left',  left_index=True, right_index=True)\n",
    "df = pd.merge(df, pathways.drop('name_short', axis=1), how='left', left_index=True, right_index=True)"
   ]
  },
  {
   "cell_type": "markdown",
   "id": "olympic-theology",
   "metadata": {},
   "source": [
    "- Sort rows so that they organise correctly in the plot:\n",
    "\n",
    "Coarse classes alphabetically, fine classes by number of molecule they contain"
   ]
  },
  {
   "cell_type": "code",
   "execution_count": 10,
   "id": "educated-british",
   "metadata": {},
   "outputs": [],
   "source": [
    "df['n_molecules'] = 1\n",
    "\n",
    "grouped_df = df.groupby(['fine_class']).agg({\n",
    "    'coarse_class':'first',\n",
    "    'n_molecules':'count'\n",
    "})\n",
    "\n",
    "# Sort coarse classes in alphabetical order\n",
    "coarse_classes = np.sort(df.coarse_class.unique())\n",
    "\n",
    "# Fine classes by number of molecules\n",
    "custom_order = [grouped_df[grouped_df.coarse_class == x].sort_values('n_molecules', ascending=False).index.values for x in coarse_classes]\n",
    "custom_order = list(np.concatenate(custom_order)) #convert to list\n",
    "\n",
    "# Get the correct row order for ungrouped dataframe\n",
    "order_column = [custom_order.index(x) for x in df.fine_class]\n",
    "df['order'] = order_column\n",
    "\n",
    "# Reorder rows of dataframe\n",
    "df_sorted = df.sort_values('order', ascending = False)\n",
    "\n",
    "# Convert class column values to categorical\n",
    "# Without this step plotnine will ignore row order in the dataframe\n",
    "df_sorted['fine_class'] = pd.Categorical(df_sorted.fine_class, categories=pd.unique(df_sorted.fine_class))"
   ]
  },
  {
   "cell_type": "markdown",
   "id": "silent-kelly",
   "metadata": {},
   "source": [
    "- Plot "
   ]
  },
  {
   "cell_type": "code",
   "execution_count": 11,
   "id": "worst-advocate",
   "metadata": {},
   "outputs": [
    {
     "name": "stderr",
     "output_type": "stream",
     "text": [
      "C:\\Users\\saharuka\\.conda\\envs\\zimmerman\\lib\\site-packages\\plotnine\\ggplot.py:719: PlotnineWarning: Saving 6.4 x 4.8 in image.\n",
      "C:\\Users\\saharuka\\.conda\\envs\\zimmerman\\lib\\site-packages\\plotnine\\ggplot.py:722: PlotnineWarning: Filename: d:\\saharuka\\spotting\\20_matrices\\6_plots\\q1_plots\\molecules_per_chemical_class.png\n"
     ]
    }
   ],
   "source": [
    "p = (ggplot(df_sorted)         # defining what data to use\n",
    " + aes(x='fine_class')    # defining what variable to use\n",
    " + geom_bar(aes(fill = 'coarse_class')) # defining the type of plot to use\n",
    " + coord_flip()\n",
    " + labs(x = \"Chemical subclass\", y = \"Number of compounds\", fill = \"Chemical class\")\n",
    " + scale_fill_brewer(type=\"qual\", palette=\"Dark2\")\n",
    ")\n",
    "\n",
    "p.save(p_analysis / \"molecules_per_chemical_class.png\")"
   ]
  },
  {
   "cell_type": "markdown",
   "id": "failing-halloween",
   "metadata": {},
   "source": [
    "- Repeat for pathway plot"
   ]
  },
  {
   "cell_type": "code",
   "execution_count": 12,
   "id": "eligible-transmission",
   "metadata": {},
   "outputs": [
    {
     "name": "stderr",
     "output_type": "stream",
     "text": [
      "C:\\Users\\saharuka\\.conda\\envs\\zimmerman\\lib\\site-packages\\plotnine\\ggplot.py:719: PlotnineWarning: Saving 6.4 x 4.8 in image.\n",
      "C:\\Users\\saharuka\\.conda\\envs\\zimmerman\\lib\\site-packages\\plotnine\\ggplot.py:722: PlotnineWarning: Filename: d:\\saharuka\\spotting\\20_matrices\\6_plots\\q1_plots\\molecules_per_pathway.png\n"
     ]
    }
   ],
   "source": [
    "grouped_df = df.groupby(['fine_path']).agg({\n",
    "    'coarse_path':'first',\n",
    "    'n_molecules':'count'\n",
    "})\n",
    "\n",
    "# Sort coarse pathways in alphabetical order\n",
    "coarse_paths = np.sort(df.coarse_path.unique())\n",
    "\n",
    "# Fine pathways by number of molecules\n",
    "custom_order = [grouped_df[grouped_df.coarse_path == x].sort_values('n_molecules', ascending=False).index.values for x in coarse_paths]\n",
    "custom_order = list(np.concatenate(custom_order)) #convert to list\n",
    "\n",
    "# Get the correct row order for ungrouped dataframe\n",
    "order_column = [custom_order.index(x) for x in df.fine_path]\n",
    "df['order'] = order_column\n",
    "\n",
    "# Reorder rows of dataframe\n",
    "df_sorted = df.sort_values('order', ascending = False)\n",
    "\n",
    "# Convert path column values to categorical\n",
    "df_sorted['fine_path'] = pd.Categorical(df_sorted.fine_path, categories=pd.unique(df_sorted.fine_path))\n",
    "\n",
    "# Plot\n",
    "p = (ggplot(df_sorted)        \n",
    " + aes(x='fine_path')   \n",
    " + geom_bar(aes(fill = 'coarse_path')) \n",
    " + coord_flip()\n",
    " + labs(x = \"Metabolic pathway\", y = \"Number of compounds\", fill = \"Metabolic cluster\")\n",
    " + scale_fill_brewer(type=\"seq\", palette=\"YlGnBu\")\n",
    ")\n",
    "\n",
    "p.save(p_analysis / \"molecules_per_pathway.png\")"
   ]
  },
  {
   "cell_type": "markdown",
   "id": "informed-division",
   "metadata": {},
   "source": [
    "- Make simple bar charts for alternative classification systems"
   ]
  },
  {
   "cell_type": "code",
   "execution_count": 19,
   "id": "patent-compound",
   "metadata": {},
   "outputs": [
    {
     "name": "stderr",
     "output_type": "stream",
     "text": [
      "C:\\Users\\saharuka\\.conda\\envs\\zimmerman\\lib\\site-packages\\plotnine\\ggplot.py:719: PlotnineWarning: Saving 6.4 x 4.8 in image.\n",
      "C:\\Users\\saharuka\\.conda\\envs\\zimmerman\\lib\\site-packages\\plotnine\\ggplot.py:722: PlotnineWarning: Filename: d:\\saharuka\\spotting\\20_matrices\\6_plots\\q1_plots\\molecules_per_morgan_class.png\n",
      "C:\\Users\\saharuka\\.conda\\envs\\zimmerman\\lib\\site-packages\\plotnine\\ggplot.py:719: PlotnineWarning: Saving 6.4 x 4.8 in image.\n",
      "C:\\Users\\saharuka\\.conda\\envs\\zimmerman\\lib\\site-packages\\plotnine\\ggplot.py:722: PlotnineWarning: Filename: d:\\saharuka\\spotting\\20_matrices\\6_plots\\q1_plots\\molecules_per_hmdb_func_group_class.png\n",
      "C:\\Users\\saharuka\\.conda\\envs\\zimmerman\\lib\\site-packages\\plotnine\\ggplot.py:719: PlotnineWarning: Saving 6.4 x 4.8 in image.\n",
      "C:\\Users\\saharuka\\.conda\\envs\\zimmerman\\lib\\site-packages\\plotnine\\ggplot.py:722: PlotnineWarning: Filename: d:\\saharuka\\spotting\\20_matrices\\6_plots\\q1_plots\\molecules_per_property_class.png\n"
     ]
    }
   ],
   "source": [
    "for cat in ['morgan_class', 'hmdb_func_group_class', 'property_class']:\n",
    "\n",
    "    p= (ggplot(df)         \n",
    "         + aes(x=cat)    \n",
    "         + geom_bar() \n",
    "         + coord_flip()\n",
    "         + labs(x = cat, y = \"Number of compounds\")\n",
    "        )\n",
    "    p.save(p_analysis / f\"molecules_per_{cat}.png\")"
   ]
  }
 ],
 "metadata": {
  "kernelspec": {
   "display_name": "Python [conda env:.conda-zimmerman] *",
   "language": "python",
   "name": "conda-env-.conda-zimmerman-py"
  },
  "language_info": {
   "codemirror_mode": {
    "name": "ipython",
    "version": 3
   },
   "file_extension": ".py",
   "mimetype": "text/x-python",
   "name": "python",
   "nbconvert_exporter": "python",
   "pygments_lexer": "ipython3",
   "version": "3.8.5"
  }
 },
 "nbformat": 4,
 "nbformat_minor": 5
}
