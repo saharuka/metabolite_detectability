{
 "cells": [
  {
   "cell_type": "code",
   "execution_count": 1,
   "id": "blind-leone",
   "metadata": {},
   "outputs": [],
   "source": [
    "from pathlib import Path\n",
    "from definitions import ROOT_DIR\n",
    "import pandas as pd\n",
    "from ast import literal_eval\n",
    "import numpy as np\n",
    "import json\n",
    "import itertools"
   ]
  },
  {
   "cell_type": "markdown",
   "id": "suburban-kazakhstan",
   "metadata": {},
   "source": [
    "## 1. Get reference metabolic model from BiGG"
   ]
  },
  {
   "cell_type": "markdown",
   "id": "imposed-knowing",
   "metadata": {},
   "source": [
    "Download:\n",
    "\n",
    "1. current version of BiGG\n",
    "2. metabolites for model organism iMM1415 (the only mouse model at this point)\n",
    "\n",
    "In terminal using BiGG API\n",
    "```\n",
    "curl http://bigg.ucsd.edu/api/v2/models/iMM1415/metabolites > iMM1415_metabolites.json\n",
    "curl http://bigg.ucsd.edu/api/v2/database_version > bigg_version.txt\n",
    "```\n",
    "\n",
    "3. metadata for all metabolites in BiGG (for mapping to other databases)\n",
    "\n",
    "Got to http://bigg.ucsd.edu/data_access and download universal_model.json\n"
   ]
  },
  {
   "cell_type": "markdown",
   "id": "endangered-zoning",
   "metadata": {},
   "source": [
    "- Inputs"
   ]
  },
  {
   "cell_type": "code",
   "execution_count": null,
   "id": "continued-letter",
   "metadata": {},
   "outputs": [],
   "source": [
    "p_root_dir = Path(ROOT_DIR).parent\n",
    "p_analysis = p_root_dir / \"6_plots\\q1_plots\"\n",
    "\n",
    "# metabolites for model organism iMM1415\n",
    "p_mouse = p_analysis / \"iMM1415_metabolites.json\" \n",
    "# metadata for all metabolites in BiGG \n",
    "p_mapping = p_analysis / \"universal_model.json\"\n",
    "\n",
    "# mapping of current HMDB ids to: old HMDB ids, molecule names, KEGG ids\n",
    "p_hmdb_ids = p_analysis / \"hmdb_secondary_2020-09-09.csv\"\n",
    "p_hmdb_names = p_analysis / \"hmdb_name_2020-09-09.csv\"\n",
    "p_hmdb_kegg = p_analysis / \"hmdb_kegg_2020-09-09.csv\""
   ]
  },
  {
   "cell_type": "markdown",
   "id": "capable-behavior",
   "metadata": {},
   "source": [
    "### Get mouse model metabolites and their mapping to BiGG and other IDs using downloaded files"
   ]
  },
  {
   "cell_type": "markdown",
   "id": "quality-gender",
   "metadata": {},
   "source": [
    "- Get BiGG id to metadata mapping from universal_model.json"
   ]
  },
  {
   "cell_type": "code",
   "execution_count": null,
   "id": "numerous-comedy",
   "metadata": {},
   "outputs": [],
   "source": [
    "with open(str(p_mapping)) as json_file:\n",
    "    mapping = json.load(json_file)\n",
    "    \n",
    "primary = []\n",
    "secondary = []\n",
    "names = []\n",
    "hmdbs = []\n",
    "keggs = []\n",
    "lms = []\n",
    "inchi_keys = []\n",
    "\n",
    "for i in mapping['metabolites']:\n",
    "    \n",
    "    primary.append(i['id'])\n",
    "    secondary.append(i['notes']['original_bigg_ids'])\n",
    "    names.append(i['name'])\n",
    "    \n",
    "    hmdb = [x[1].split('/')[-1] for x in i['annotation'] if 'Human Metabolome Database' in x]\n",
    "    kegg = [x[1].split('/')[-1] for x in i['annotation'] if 'KEGG Compound' in x]\n",
    "    lm = [x[1].split('/')[-1] for x in i['annotation'] if 'LipidMaps' in x]\n",
    "    inchi_key = [x[1].split('/')[-1] for x in i['annotation'] if 'InChI Key' in x]\n",
    "    hmdbs.append(hmdb)\n",
    "    keggs.append(kegg)\n",
    "    lms.append(lm)\n",
    "    inchi_keys.append(inchi_key)\n",
    "\n",
    "universal = pd.DataFrame.from_dict({\n",
    "    'name' : names,\n",
    "    'bigg_id' : primary,\n",
    "    'bigg_accessions' : secondary,\n",
    "    'hmdb_secondary' : hmdbs,\n",
    "    'kegg_id' : keggs,\n",
    "    'lipidmaps_id' : lms,\n",
    "    'inchi_key' : inchi_keys\n",
    "})\n",
    "universal.head()"
   ]
  },
  {
   "cell_type": "markdown",
   "id": "overall-judges",
   "metadata": {},
   "source": [
    "- Get unique metabolite BiGG ids for mouse"
   ]
  },
  {
   "cell_type": "code",
   "execution_count": null,
   "id": "whole-generation",
   "metadata": {},
   "outputs": [],
   "source": [
    "with open(str(p_mouse)) as json_file:\n",
    "    mouse = json.load(json_file)\n",
    "\n",
    "mouse_metabs = list(set( [x['bigg_id'] for x in mouse['results']] ))\n",
    "print(f\"{len(mouse_metabs)} metabolites found\")"
   ]
  },
  {
   "cell_type": "markdown",
   "id": "interstate-somewhere",
   "metadata": {},
   "source": [
    "- Map metadata for mouse ids"
   ]
  },
  {
   "cell_type": "code",
   "execution_count": null,
   "id": "diverse-tunisia",
   "metadata": {},
   "outputs": [],
   "source": [
    "for molecule in mouse_metabs:\n",
    "    universal.loc[universal.bigg_accessions.apply(lambda x: molecule in x), 'mouse_model'] = molecule\n",
    "\n",
    "data_mouse = universal.dropna(subset=['mouse_model'])\n",
    "data_mouse.head()"
   ]
  },
  {
   "cell_type": "markdown",
   "id": "necessary-subscriber",
   "metadata": {},
   "source": [
    "Universal model sometimes has several identifiers for the same molecule. Here we make sure one row is one unique molecule."
   ]
  },
  {
   "cell_type": "code",
   "execution_count": null,
   "id": "outside-devil",
   "metadata": {},
   "outputs": [],
   "source": [
    "# Group duplicated metabolites\n",
    "f = lambda x: list(set(sum(list(x), [])))\n",
    "\n",
    "data_mouse = data_mouse.groupby('mouse_model').agg({\n",
    "    \n",
    "    'name':';'.join,\n",
    "    'bigg_accessions':f, \n",
    "    'hmdb_secondary':f,\n",
    "    'kegg_id':f,\n",
    "    'lipidmaps_id':f,\n",
    "    'inchi_key':f\n",
    "})\n",
    "\n",
    "data_mouse.name = data_mouse.name.apply(lambda x: list(set(x.split(';'))))\n",
    "\n",
    "# convert all missing values to nan \n",
    "for c in data_mouse.columns:\n",
    "    data_mouse[c] = data_mouse[c].apply(lambda x: x if x != [] else np.nan)\n",
    "    \n",
    "data_mouse.head()"
   ]
  },
  {
   "cell_type": "markdown",
   "id": "seventh-villa",
   "metadata": {},
   "source": [
    "- Remove metabolites for which no id and InChI key mapping is available"
   ]
  },
  {
   "cell_type": "code",
   "execution_count": null,
   "id": "sonic-medline",
   "metadata": {},
   "outputs": [],
   "source": [
    "mapping_missing = data_mouse[['hmdb_secondary', 'lipidmaps_id', 'kegg_id', 'inchi_key']].isna().all(axis=1)\n",
    "data_mouse = data_mouse[~mapping_missing]\n",
    "print(f\"{len(data_mouse)} metabolites left\")"
   ]
  },
  {
   "cell_type": "markdown",
   "id": "civilian-interpretation",
   "metadata": {},
   "source": [
    "### Map every metabolite to HMDB id if possible"
   ]
  },
  {
   "cell_type": "markdown",
   "id": "graduate-ethics",
   "metadata": {},
   "source": [
    "- Remove a duplicate entry for water"
   ]
  },
  {
   "cell_type": "code",
   "execution_count": null,
   "id": "decimal-invasion",
   "metadata": {},
   "outputs": [],
   "source": [
    "data_mouse.drop(['oh1'], axis=0, inplace=True)"
   ]
  },
  {
   "cell_type": "markdown",
   "id": "attended-diameter",
   "metadata": {},
   "source": [
    "- Update HMDB IDs to the newest currently available"
   ]
  },
  {
   "cell_type": "code",
   "execution_count": null,
   "id": "flexible-blogger",
   "metadata": {},
   "outputs": [],
   "source": [
    "hmdb_ids = pd.read_csv(p_hmdb_ids) \n",
    "\n",
    "for i, row in data_mouse.iterrows():\n",
    "\n",
    "    if row.hmdb_secondary == row.hmdb_secondary: # skip rows with no HMDB id\n",
    "        \n",
    "        primary_id = list()\n",
    "        for j in row.hmdb_secondary:\n",
    "            flag = 0\n",
    "            \n",
    "            for _, r in hmdb_ids.iterrows():\n",
    "                if j in literal_eval(r.hmdb_secondary):\n",
    "                    primary_id.append([r.hmdb_primary])\n",
    "                    # since one old id becomes only one new id, break out of the loop after one match has been found\n",
    "                    flag = 1\n",
    "                    break\n",
    "                    \n",
    "#             if flag == 0:\n",
    "#                 print(f\"Mapping for {j} ({i}) not found\")                  \n",
    "        data_mouse.at[i, 'hmdb_primary'] = list(set(sum(list(primary_id), [])))"
   ]
  },
  {
   "cell_type": "code",
   "execution_count": null,
   "id": "applied-depth",
   "metadata": {},
   "outputs": [],
   "source": [
    "# This code needs to be run to avoid a bug where first row of the dataframe has a wrong format\n",
    "\n",
    "for i, row in data_mouse.iterrows():\n",
    "\n",
    "    if row.hmdb_secondary == row.hmdb_secondary: # skip rows with no HMDB id\n",
    "        \n",
    "        primary_id = list()\n",
    "        for j in row.hmdb_secondary:\n",
    "            flag = 0\n",
    "            \n",
    "            for _, r in hmdb_ids.iterrows():\n",
    "                if j in literal_eval(r.hmdb_secondary):\n",
    "                    primary_id.append([r.hmdb_primary])\n",
    "                    # because one old id becomes only one new id, break out of the loop after one match has been found\n",
    "                    flag = 1\n",
    "                    break\n",
    "                    \n",
    "            if flag == 0:\n",
    "                print(f\"Mapping for {j} ({i}) not found\")                  \n",
    "        data_mouse.at[i, 'hmdb_primary'] = list(set(sum(list(primary_id), [])))\n",
    "        break"
   ]
  },
  {
   "cell_type": "markdown",
   "id": "controversial-manitoba",
   "metadata": {},
   "source": [
    "Some BiGG metabolite entries had no HMDB ID but did have KEGG ID\n",
    "- Do an  additional mapping through kegg to modern HMDB"
   ]
  },
  {
   "cell_type": "code",
   "execution_count": null,
   "id": "silver-render",
   "metadata": {},
   "outputs": [],
   "source": [
    "hmdb_kegg = pd.read_csv(p_hmdb_kegg)\n",
    "\n",
    "for i, row in data_mouse.loc[data_mouse.hmdb_primary.isna()].iterrows():\n",
    "\n",
    "    if row.kegg_id == row.kegg_id: # skip rows with no KeGG id\n",
    "        \n",
    "        primary_id = []\n",
    "        for j in row.kegg_id:\n",
    "            flag = 0\n",
    "            \n",
    "            for _, r in hmdb_kegg.iterrows():\n",
    "                if j == r.kegg_id:\n",
    "                    primary_id.append(r.hmdb_primary)\n",
    "                    # because one old id becomes only one new id, break out of the loop after one match has been found\n",
    "                    flag = 1\n",
    "                    break\n",
    "                                  \n",
    "        data_mouse.at[i, 'hmdb_primary'] = list(set(primary_id))"
   ]
  },
  {
   "cell_type": "markdown",
   "id": "statewide-transparency",
   "metadata": {},
   "source": [
    "After updating to new HMDB ids there are still some inconsistencies due:\n",
    "- duplicate entries in HMDB\n",
    "- erroneous entries in BiGG\n",
    "\n",
    "Manual curation was used to find single id that would match unresolved cases"
   ]
  },
  {
   "cell_type": "code",
   "execution_count": null,
   "id": "designing-front",
   "metadata": {},
   "outputs": [],
   "source": [
    "# # code to generate clickable links for HMDB ids\n",
    "\n",
    "# from IPython.core.display import display, HTML\n",
    "# test = ['HMDB0000301', 'HMDB0062562']\n",
    "# [display(HTML(f\"<a href=\\042https://hmdb.ca/metabolites/{x}\\042>{x}</a>\")) for x in test]"
   ]
  },
  {
   "cell_type": "code",
   "execution_count": null,
   "id": "shaped-chambers",
   "metadata": {},
   "outputs": [],
   "source": [
    "curated_ids = dict({\n",
    "     'HMDB0005971' : ['HMDB0005971', 'HMDB0062803', 'HMDB0006511'],\n",
    "     'HMDB0002054' : ['HMDB0062753', 'HMDB0002054'], \n",
    "     'HMDB0003391' : ['HMDB0000362', 'HMDB0003391'],\n",
    "     'HMDB0001480' : ['HMDB0001480', 'HMDB0062571'],\n",
    "     'HMDB0003937' : ['HMDB0062368', 'HMDB0003937'],\n",
    "     'HMDB0060241' : ['HMDB0060241', 'HMDB0062371'],\n",
    "     'HMDB0001268' : ['HMDB0062563', 'HMDB0001268'],\n",
    "     'HMDB0006467' : ['HMDB0060140', 'HMDB0006467'],\n",
    "     'HMDB0001014' : ['HMDB0062719', 'HMDB0001014'],\n",
    "     'HMDB0006273' : ['HMDB0062424', 'HMDB0006273'],\n",
    "     'HMDB0001299' : ['HMDB0062647', 'HMDB0001299'],\n",
    "     'HMDB0001316' : ['HMDB0001316', 'HMDB0062800'],\n",
    "     'HMDB0001127' : ['HMDB0062628', 'HMDB0001127'],\n",
    "     'HMDB0001200' : ['HMDB0060485', 'HMDB0001200'],\n",
    "     'HMDB0001550' : ['HMDB0062625', 'HMDB0001550'],\n",
    "     'HMDB0006480' : ['HMDB0059626', 'HMDB0006480'],\n",
    "     'HMDB0000215' : ['HMDB0000215', 'HMDB0062641'],\n",
    "     'HMDB0001062' : ['HMDB0002817', 'HMDB0001062'],\n",
    "     'HMDB0000161' : ['HMDB0062251', 'HMDB0000161'],\n",
    "     'HMDB0001211' : ['HMDB0006502', 'HMDB0001211'],\n",
    "     'HMDB0000517' : ['HMDB0062762', 'HMDB0000517'],\n",
    "     'HMDB0000191' : ['HMDB0062186', 'HMDB0000191', 'HMDB0062501'],\n",
    "     'HMDB0002009' : ['HMDB0062466', 'HMDB0002009'],\n",
    "     'HMDB0002306' : ['HMDB0000492', 'HMDB0002306'],\n",
    "     'HMDB0000062' : ['HMDB0000062', 'HMDB0002095'],\n",
    "     'HMDB0003712' : ['HMDB0003712', 'HMDB0011689'],\n",
    "     'HMDB0001264' : ['HMDB0062706', 'HMDB0001264'],\n",
    "     'HMDB0001439' : ['HMDB0062708', 'HMDB0001439'],\n",
    "     'HMDB0000148' : ['HMDB0060475', 'HMDB0000148'],\n",
    "     'HMDB0000139' : ['HMDB0000138', 'HMDB0000139'],\n",
    "     'HMDB0000125' : ['HMDB0062697', 'HMDB0000125'],\n",
    "     'HMDB0002111' : ['HMDB0001039', 'HMDB0002111'],\n",
    "     'HMDB0059634' : ['HMDB0012238', 'HMDB0059634'],\n",
    "     'HMDB0000211' : ['HMDB0000211', 'HMDB0034220'],\n",
    "     'HMDB0000687' : ['HMDB0000687', 'HMDB0010346'],\n",
    "     'HMDB0001066' : ['HMDB0062624', 'HMDB0001066'],\n",
    "     'HMDB0004321' : ['HMDB0003375', 'HMDB0004321', 'HMDB0032473'],\n",
    "     'HMDB0001451' : ['HMDB0014312', 'HMDB0001451'],\n",
    "     'HMDB0001064' : ['HMDB0062491', 'HMDB0001064'],\n",
    "     'HMDB0006290' : ['HMDB0062490', 'HMDB0006290'],\n",
    "     'HMDB0000182' : ['HMDB0000182', 'HMDB0003405'],\n",
    "     'HMDB0000696' : ['HMDB0000696', 'HMDB0033951'],\n",
    "     'HMDB0001354' : ['HMDB0062623', 'HMDB0001354'],\n",
    "     'HMDB0000898' : ['HMDB0061685', 'HMDB0000898', 'HMDB0001861', 'HMDB0062574'],\n",
    "     'HMDB0000213' : ['HMDB0000213', 'HMDB0006814'],\n",
    "     'HMDB0003502' : ['HMDB0003502', 'HMDB0006230'],\n",
    "     'HMDB0000051' : ['HMDB0000051', 'HMDB0041827'],\n",
    "     'HMDB0006529' : ['HMDB0006529', 'HMDB0062633'],\n",
    "     'HMDB0000209' : ['HMDB0000209', 'HMDB0040733'],\n",
    "     'HMDB0001134' : ['HMDB0062646', 'HMDB0001134'],\n",
    "     'HMDB0003555' : ['HMDB0004198', 'HMDB0003555'],\n",
    "     'HMDB0003484' : ['HMDB0003484', 'HMDB0062692'],\n",
    "     'HMDB0001338' : ['HMDB0059623', 'HMDB0001338'],\n",
    "     'HMDB0001128' : ['HMDB0062576', 'HMDB0001128'],\n",
    "     'HMDB0000280' : ['HMDB0062643', 'HMDB0000280'],\n",
    "     'HMDB0001431' : ['HMDB0062696', 'HMDB0001431'],\n",
    "     'HMDB0001372' : ['HMDB0062636', 'HMDB0001372'],\n",
    "     'HMDB0000929' : ['HMDB0000929', 'HMDB0030396'],\n",
    "     'HMDB0000257' : ['HMDB0060293', 'HMDB0000257'],\n",
    "     'HMDB0000290' : ['HMDB0000290', 'HMDB0000304'],\n",
    "     'HMDB0000301' : ['HMDB0062562', 'HMDB0000301'],\n",
    "     'HMDB0001554' : ['HMDB0062755', 'HMDB0001554'],\n",
    "     'HMDB0000163' : ['HMDB0037138', 'HMDB0000163']\n",
    "})"
   ]
  },
  {
   "cell_type": "code",
   "execution_count": null,
   "id": "answering-leone",
   "metadata": {},
   "outputs": [],
   "source": [
    "# replace primary hmdb_id according to the curated list\n",
    "for k, v in curated_ids.items():\n",
    "    for p in itertools.permutations(v):\n",
    "        for _, row in data_mouse.iterrows():\n",
    "            if list(p) == row.hmdb_primary:\n",
    "                row.hmdb_primary = [k]\n",
    "                break\n",
    "                \n",
    "data_mouse.hmdb_primary = data_mouse.hmdb_primary.apply(lambda x: x if x != [] else np.nan)\n",
    "data_mouse[data_mouse.hmdb_primary.isna()].to_csv(p_analysis / 'mouse_netabolites_for_inspection.csv')"
   ]
  },
  {
   "cell_type": "markdown",
   "id": "emerging-surgery",
   "metadata": {},
   "source": [
    "- Look at unannotated metabolites, find HMDB IDs for them manually, drop the rest (too generic or not metabolites)"
   ]
  },
  {
   "cell_type": "code",
   "execution_count": null,
   "id": "lucky-clark",
   "metadata": {},
   "outputs": [],
   "source": [
    "addition = dict({\n",
    "    '3mop':'HMDB0000491',\n",
    "    'acgal':'HMDB0000853',\n",
    "    'arab__L':'HMDB0000646',\n",
    "    'btamp':'HMDB0004220',\n",
    "    'cbl2':'HMDB0002174',\n",
    "    'dhbpt':'HMDB0002215',\n",
    "    'fdp':'HMDB0001058',\n",
    "    'glyald':'HMDB0001051',\n",
    "    'thm':'HMDB0000235',\n",
    "    'xu1p__D':'HMDB0006534',\n",
    "    'fru':'HMDB0001076',\n",
    "    \n",
    "    # correct misannotated metabolites (due to wrong HMDB ID in BiGG) that are causing duplicates in primary is column\n",
    "    'fuc__L':'HMDB0000174', \n",
    "    'mi3p__D':'HMDB0006814'\n",
    "})\n",
    "\n",
    "# add missing ids\n",
    "for k,v in addition.items():\n",
    "    data_mouse.at[k, 'hmdb_primary'] = [v]\n",
    "    \n",
    "# remove the rest (generic or not metabolites)\n",
    "data_mouse = data_mouse[~data_mouse.hmdb_primary.isna()]\n",
    "\n",
    "# clean up the format\n",
    "for _, row in data_mouse.iterrows():\n",
    "    if row.hmdb_primary == row.hmdb_primary:\n",
    "        row.hmdb_primary = row.hmdb_primary[0]\n",
    "\n",
    "#save\n",
    "data_mouse.to_csv(p_analysis / 'data_mouse.csv')"
   ]
  },
  {
   "cell_type": "markdown",
   "id": "waiting-coupon",
   "metadata": {},
   "source": [
    "## 2. Use BiGG mouse metabolites to create chemical space. Locate spotted standards in this chemical space"
   ]
  },
  {
   "cell_type": "code",
   "execution_count": 10,
   "id": "answering-point",
   "metadata": {},
   "outputs": [],
   "source": [
    "from rdkit import Chem, RDLogger, DataStructs\n",
    "from rdkit.Chem import AllChem, PandasTools, Draw\n",
    "from matplotlib import animation\n",
    "from sklearn.decomposition import PCA\n",
    "import matplotlib.pyplot as plt\n",
    "import matplotlib\n",
    "matplotlib.rc('font',**{'family':'sans-serif',\n",
    "             'sans-serif':['Helvetica'],\n",
    "             'size':16})"
   ]
  },
  {
   "cell_type": "markdown",
   "id": "integrated-gentleman",
   "metadata": {},
   "source": [
    "- Inputs"
   ]
  },
  {
   "cell_type": "markdown",
   "id": "historical-madrid",
   "metadata": {},
   "source": [
    "### Prepare data"
   ]
  },
  {
   "cell_type": "code",
   "execution_count": 3,
   "id": "conventional-agreement",
   "metadata": {},
   "outputs": [],
   "source": [
    "p_root_dir = Path(ROOT_DIR).parent\n",
    "p_analysis = p_root_dir / \"6_plots\\q1_plots\"\n",
    "\n",
    "# mouse metabolites from BiGG\n",
    "p_data_mouse = p_analysis / 'data_mouse.csv'\n",
    "\n",
    "# mapping of HMDB ids to SMILES\n",
    "p_hmdb_smiles = p_analysis / \"hmdb_smiles_2020-09-09.csv\"\n",
    "\n",
    "# standards\n",
    "p_compounds = p_root_dir / \"5_data_analysis/compounds_ids.csv\"\n",
    "p_chem_class = p_root_dir / \"5_data_analysis/custom_classification.csv\"\n",
    "p_alt_class = p_root_dir / \"5_data_analysis/alternative_classification.csv\""
   ]
  },
  {
   "cell_type": "markdown",
   "id": "cubic-bubble",
   "metadata": {},
   "source": [
    "- Map chemical classes to standards"
   ]
  },
  {
   "cell_type": "code",
   "execution_count": 4,
   "id": "scenic-pasta",
   "metadata": {},
   "outputs": [],
   "source": [
    "compounds = pd.read_csv(p_compounds, index_col='internal_id')\n",
    "chem_class = pd.read_csv(p_chem_class)\n",
    "\n",
    "compound_class = pd.merge(compounds, chem_class, how='left', on='name_short')\n",
    "\n",
    "# drop thermometer ions, blank, fiducials, off-sample entries and some columns\n",
    "compound_class = compound_class[compound_class.hmdb_primary != 'custom']\n",
    "compound_class = compound_class[['internal_id', 'name_short', 'hmdb_primary', 'coarse_class', 'fine_class']]"
   ]
  },
  {
   "cell_type": "markdown",
   "id": "indian-pepper",
   "metadata": {},
   "source": [
    "- Map smiles to standards and mouse metabolites"
   ]
  },
  {
   "cell_type": "code",
   "execution_count": 5,
   "id": "polish-ambassador",
   "metadata": {},
   "outputs": [
    {
     "data": {
      "text/html": [
       "<div>\n",
       "<style scoped>\n",
       "    .dataframe tbody tr th:only-of-type {\n",
       "        vertical-align: middle;\n",
       "    }\n",
       "\n",
       "    .dataframe tbody tr th {\n",
       "        vertical-align: top;\n",
       "    }\n",
       "\n",
       "    .dataframe thead th {\n",
       "        text-align: right;\n",
       "    }\n",
       "</style>\n",
       "<table border=\"1\" class=\"dataframe\">\n",
       "  <thead>\n",
       "    <tr style=\"text-align: right;\">\n",
       "      <th></th>\n",
       "      <th>internal_id</th>\n",
       "      <th>hmdb_primary</th>\n",
       "      <th>coarse_class</th>\n",
       "      <th>fine_class</th>\n",
       "      <th>type</th>\n",
       "      <th>mol_name</th>\n",
       "      <th>smiles</th>\n",
       "    </tr>\n",
       "  </thead>\n",
       "  <tbody>\n",
       "    <tr>\n",
       "      <th>0</th>\n",
       "      <td>0.0</td>\n",
       "      <td>HMDB0000122</td>\n",
       "      <td>Carbohydrates</td>\n",
       "      <td>Carbohydrates</td>\n",
       "      <td>standards</td>\n",
       "      <td>Glucose</td>\n",
       "      <td>OC[C@H]1O[C@@H](O)[C@H](O)[C@@H](O)[C@@H]1O</td>\n",
       "    </tr>\n",
       "    <tr>\n",
       "      <th>1</th>\n",
       "      <td>1.0</td>\n",
       "      <td>HMDB0001401</td>\n",
       "      <td>Carbohydrates</td>\n",
       "      <td>Carbohydrate phosphates</td>\n",
       "      <td>standards</td>\n",
       "      <td>Glucose 6-phosphate</td>\n",
       "      <td>OC1O[C@H](COP(O)(O)=O)[C@@H](O)[C@H](O)[C@H]1O</td>\n",
       "    </tr>\n",
       "    <tr>\n",
       "      <th>2</th>\n",
       "      <td>3.0</td>\n",
       "      <td>HMDB0001058</td>\n",
       "      <td>Carbohydrates</td>\n",
       "      <td>Carbohydrate phosphates</td>\n",
       "      <td>standards</td>\n",
       "      <td>Fructose 1,6-bisphosphate</td>\n",
       "      <td>O[C@H]1[C@H](O)[C@@](O)(COP(O)(O)=O)O[C@@H]1CO...</td>\n",
       "    </tr>\n",
       "    <tr>\n",
       "      <th>3</th>\n",
       "      <td>4.0</td>\n",
       "      <td>HMDB0001473</td>\n",
       "      <td>Carbohydrates</td>\n",
       "      <td>Carbohydrate phosphates</td>\n",
       "      <td>standards</td>\n",
       "      <td>Dihydroxyacetone phosphate</td>\n",
       "      <td>OCC(=O)COP(O)(O)=O</td>\n",
       "    </tr>\n",
       "    <tr>\n",
       "      <th>4</th>\n",
       "      <td>7.0</td>\n",
       "      <td>HMDB0000807</td>\n",
       "      <td>Carboxylic acids</td>\n",
       "      <td>Carboxylic acid phosphate</td>\n",
       "      <td>standards</td>\n",
       "      <td>3-Phosphoglyceric acid</td>\n",
       "      <td>OC(COP(O)(O)=O)C(O)=O</td>\n",
       "    </tr>\n",
       "  </tbody>\n",
       "</table>\n",
       "</div>"
      ],
      "text/plain": [
       "   internal_id hmdb_primary      coarse_class                 fine_class  \\\n",
       "0          0.0  HMDB0000122     Carbohydrates              Carbohydrates   \n",
       "1          1.0  HMDB0001401     Carbohydrates    Carbohydrate phosphates   \n",
       "2          3.0  HMDB0001058     Carbohydrates    Carbohydrate phosphates   \n",
       "3          4.0  HMDB0001473     Carbohydrates    Carbohydrate phosphates   \n",
       "4          7.0  HMDB0000807  Carboxylic acids  Carboxylic acid phosphate   \n",
       "\n",
       "        type                    mol_name  \\\n",
       "0  standards                     Glucose   \n",
       "1  standards         Glucose 6-phosphate   \n",
       "2  standards   Fructose 1,6-bisphosphate   \n",
       "3  standards  Dihydroxyacetone phosphate   \n",
       "4  standards      3-Phosphoglyceric acid   \n",
       "\n",
       "                                              smiles  \n",
       "0        OC[C@H]1O[C@@H](O)[C@H](O)[C@@H](O)[C@@H]1O  \n",
       "1     OC1O[C@H](COP(O)(O)=O)[C@@H](O)[C@H](O)[C@H]1O  \n",
       "2  O[C@H]1[C@H](O)[C@@](O)(COP(O)(O)=O)O[C@@H]1CO...  \n",
       "3                                 OCC(=O)COP(O)(O)=O  \n",
       "4                              OC(COP(O)(O)=O)C(O)=O  "
      ]
     },
     "execution_count": 5,
     "metadata": {},
     "output_type": "execute_result"
    }
   ],
   "source": [
    "smiles = pd.read_csv(p_hmdb_smiles)\n",
    "\n",
    "# Map standards to smiles\n",
    "compound_smiles = pd.merge(compound_class, smiles, on='hmdb_primary', how='left')\n",
    "compound_smiles['type'] = 'standards'\n",
    "\n",
    "# Map mouse metabolites to smiles\n",
    "data_mouse = pd.read_csv(p_data_mouse)\n",
    "mouse_smiles = pd.merge(data_mouse, smiles, on='hmdb_primary', how='left')\n",
    "mouse_smiles = mouse_smiles[['name', 'hmdb_primary', 'smiles']]\n",
    "\n",
    "# Merge into one data frame\n",
    "df = pd.merge(compound_smiles, mouse_smiles, how='outer', on='hmdb_primary')\n",
    "df.loc[~(df.type == 'standards'), 'type'] = 'reference'\n",
    "# clean up columns\n",
    "df['mol_name'] = df.name_short.combine_first(df.name_short)\n",
    "df.mol_name = df.mol_name.apply(lambda x: x[0] if type(x) == list else x)\n",
    "df['smiles'] = df.smiles_x.combine_first(df.smiles_y)\n",
    "df.drop(['smiles_x', 'smiles_y', 'name', 'name_short'], axis=1, inplace=True)\n",
    "df.drop_duplicates(inplace=True)\n",
    "df.head()"
   ]
  },
  {
   "cell_type": "code",
   "execution_count": 6,
   "id": "compound-convertible",
   "metadata": {},
   "outputs": [],
   "source": [
    "# Check for invalid smiles\n",
    "\n",
    "c_smiles = []\n",
    "\n",
    "# test\n",
    "# for ds in ['COH', 'C=O', 'C(O)']:\n",
    "\n",
    "for ds in df.smiles:\n",
    "    try:\n",
    "        cs = Chem.CanonSmiles(ds)\n",
    "        c_smiles.append(cs)\n",
    "    except:\n",
    "        print('Invalid SMILES:', ds)"
   ]
  },
  {
   "cell_type": "markdown",
   "id": "acceptable-baghdad",
   "metadata": {},
   "source": [
    "- Convert smiles to mol and calculate Morgan fingerprints"
   ]
  },
  {
   "cell_type": "code",
   "execution_count": 7,
   "id": "curious-finger",
   "metadata": {},
   "outputs": [],
   "source": [
    "PandasTools.AddMoleculeColumnToFrame(df,'smiles','mol', includeFingerprints=True)\n",
    "\n",
    "fps = []\n",
    "bis = []\n",
    "\n",
    "for i, mol in enumerate(df.mol):\n",
    "    \n",
    "    bi = {}\n",
    "    fp = AllChem.GetMorganFingerprintAsBitVect(mol, 1, 2048, bitInfo = bi) # radius=2 is another resaonable option\n",
    "    \n",
    "    fps.append(fp)\n",
    "    bis.append(bi)\n",
    "    \n",
    "    bi=None\n",
    "    \n",
    "df['fp'] = fps # what you write into df is not the same\n",
    "df['bi'] = bis"
   ]
  },
  {
   "cell_type": "markdown",
   "id": "ranking-defendant",
   "metadata": {},
   "source": [
    "### Make plots"
   ]
  },
  {
   "cell_type": "markdown",
   "id": "successful-swaziland",
   "metadata": {},
   "source": [
    "Define colour schemes:\n",
    "\n",
    "Two-colour for standards vs mouse metabolite reference\n",
    "8-colour for chemical classes of standards, and mouse metabolite reference"
   ]
  },
  {
   "cell_type": "code",
   "execution_count": 8,
   "id": "ignored-anthropology",
   "metadata": {},
   "outputs": [],
   "source": [
    "c2 = ['#d8b365' if x=='standards' else '#5ab4ac' for x in df.type]\n",
    "df['colour2'] = c2\n",
    "\n",
    "colours = dict({\n",
    "     \"Amines\":'#1b9e77', #green dark\n",
    "     \"Amino acids, peptides, and analogues\":'#d95f02', #red\n",
    "     \"Carbohydrates\":'#7570b3', #purple\n",
    "     \"Carboxylic acids\":'#e7298a', #magenta\n",
    "     \"Lipids and lipid-like molecules\":'#66a61e', #green light\n",
    "     \"Nucleosides, nucleotides, and analogues\":'#e6ab02', #yellow\n",
    "     \"Vitamins and cofactors\":'#a6761d' #brown\n",
    "    })\n",
    "\n",
    "c7 = [colours[t] if t==t else '#bdbdbd' for t in df.coarse_class]\n",
    "df['colour7'] = c7"
   ]
  },
  {
   "cell_type": "markdown",
   "id": "optimum-bracelet",
   "metadata": {},
   "source": [
    "- Plot PCA"
   ]
  },
  {
   "cell_type": "code",
   "execution_count": null,
   "id": "pointed-joining",
   "metadata": {},
   "outputs": [],
   "source": [
    "# # We make the 2D PCA plot\n",
    "# print(\"Drawing the 2D PCA plot\")\n",
    "# pca = PCA(n_components=2)\n",
    "# fp_pca = pca.fit_transform(list(df.fp.values))\n",
    "\n",
    "# fig, ax = plt.subplots()\n",
    "# ax.scatter(*fp_pca.transpose(), c=c2, alpha = 0.7)\n",
    "# ax.set_xlabel(\"PC1\")\n",
    "# ax.set_ylabel(\"PC2\")\n",
    "# ax.set_title('2D PCA plot')\n",
    "# plt.show()\n",
    "# fig.savefig(p_analysis / \"pca_2d.png\")"
   ]
  },
  {
   "cell_type": "code",
   "execution_count": null,
   "id": "choice-filename",
   "metadata": {},
   "outputs": [],
   "source": [
    "# We make the 2D PCA plot\n",
    "print(\"Drawing the 2D PCA plot\")\n",
    "pca = PCA(n_components=3)\n",
    "fp_pca = pca.fit_transform(list(df.fp.values))\n",
    "\n",
    "# PC1 vs PC2\n",
    "fig, ax = plt.subplots(nrows=1, ncols=2, figsize=(11,5))\n",
    "\n",
    "ax[0].scatter(*fp_pca[:, 0:2].transpose(), c=c2, alpha = 0.7)\n",
    "ax[0].set_xlabel(\"PC1\")\n",
    "ax[0].set_ylabel(\"PC2\")\n",
    "\n",
    "# PC2 vs PC3\n",
    "ax[1].scatter(*fp_pca[:, 1:3].transpose(), c=c2, alpha = 0.7)\n",
    "ax[1].set_xlabel(\"PC2\")\n",
    "ax[1].set_ylabel(\"PC3\")\n",
    "\n",
    "fig.suptitle('2D PCA plot')\n",
    "plt.show()\n",
    "fig.savefig(p_analysis / \"pca_2d.png\")"
   ]
  },
  {
   "cell_type": "code",
   "execution_count": null,
   "id": "conventional-poster",
   "metadata": {},
   "outputs": [],
   "source": [
    "# # We make the 2D PCA plot\n",
    "# print(\"Drawing the 2D PCA plot\")\n",
    "# pca = PCA(n_components=2)\n",
    "# fp_pca = pca.fit_transform(list(df.fp.values))\n",
    "\n",
    "# fig, ax = plt.subplots()\n",
    "# ax.scatter(*fp_pca.transpose(), c=c7, alpha = 0.7)\n",
    "# ax.set_xlabel(\"PC1\")\n",
    "# ax.set_ylabel(\"PC2\")\n",
    "# ax.set_title('2D PCA plot')\n",
    "# plt.show()\n",
    "# fig.savefig(p_analysis / \"pca_2d_classes.png\")"
   ]
  },
  {
   "cell_type": "code",
   "execution_count": null,
   "id": "amended-controversy",
   "metadata": {},
   "outputs": [],
   "source": [
    "# We make the 2D PCA plot\n",
    "print(\"Drawing the 2D PCA plot\")\n",
    "pca = PCA(n_components=3)\n",
    "fp_pca = pca.fit_transform(list(df.fp.values))\n",
    "\n",
    "# PC1 vs PC2\n",
    "fig, ax = plt.subplots(nrows=1, ncols=2, figsize=(9, 4))\n",
    "\n",
    "ax[0].scatter(*fp_pca[:, 0:2].transpose(), c=c7, alpha = 0.7)\n",
    "ax[0].set_xlabel(\"PC1\")\n",
    "ax[0].set_ylabel(\"PC2\")\n",
    "\n",
    "# PC2 vs PC3\n",
    "ax[1].scatter(*fp_pca[:, 1:3].transpose(), c=c7, alpha = 0.7)\n",
    "ax[1].set_xlabel(\"PC2\")\n",
    "ax[1].set_ylabel(\"PC3\")\n",
    "\n",
    "fig.suptitle('2D PCA plot')\n",
    "plt.show()\n",
    "fig.savefig(p_analysis / \"pca_2d_classes.pdf\")"
   ]
  },
  {
   "cell_type": "code",
   "execution_count": null,
   "id": "valid-threat",
   "metadata": {},
   "outputs": [],
   "source": [
    "# We make the 3D PCA plot\n",
    "print(\"Drawing the 3D PCA plot\")\n",
    "pca = PCA(n_components=3)\n",
    "fp_pca = pca.fit_transform(fps)\n",
    "fig, ax = plt.subplots(subplot_kw={\"projection\": \"3d\"})\n",
    "ax.scatter(*fp_pca.transpose(), c=c2)\n",
    "ax.set_xlabel(\"PC1\")\n",
    "ax.set_ylabel(\"PC2\")\n",
    "ax.set_zlabel(\"PC3\")\n",
    "ax.set_title('3D PCA plot')\n",
    "plt.show()\n",
    "fig.savefig(p_analysis / \"pca_3d.png\")"
   ]
  },
  {
   "cell_type": "code",
   "execution_count": null,
   "id": "automatic-popularity",
   "metadata": {},
   "outputs": [],
   "source": [
    "def animate(i):\n",
    "    ax.view_init(elev=10., azim=i)\n",
    "    return fig,\n",
    "\n",
    "# Animate\n",
    "anim = animation.FuncAnimation(fig, animate, frames=360, interval=20, blit=True)\n",
    "writergif = animation.PillowWriter(fps=30)\n",
    "anim.save(p_analysis / \"pca_3d.gif\",writer=writergif)"
   ]
  },
  {
   "cell_type": "code",
   "execution_count": null,
   "id": "czech-lesbian",
   "metadata": {},
   "outputs": [],
   "source": [
    "# We make the 3D PCA plot\n",
    "print(\"Drawing the 3D PCA plot\")\n",
    "pca = PCA(n_components=3)\n",
    "fp_pca = pca.fit_transform(fps)\n",
    "fig, ax = plt.subplots(subplot_kw={\"projection\": \"3d\"}, figsize=(5,5))\n",
    "ax.scatter(*fp_pca.transpose(), c=c7, s=25)\n",
    "ax.set_xlabel(\"PC1\", labelpad=10)\n",
    "ax.set_ylabel(\"PC2\", labelpad=10)\n",
    "ax.set_zlabel(\"PC3\", labelpad=10)\n",
    "ax.set_title('3D PCA plot')\n",
    "# ax.set_xlim(-1,3.5)\n",
    "# ax.azim = 210\n",
    "# ax.elev = 30\n",
    "plt.show()\n",
    "fig.savefig(p_analysis / \"pca_3d_classes.pdf\")"
   ]
  },
  {
   "cell_type": "code",
   "execution_count": 14,
   "id": "signed-wright",
   "metadata": {},
   "outputs": [
    {
     "data": {
      "image/png": "[encoded data removed]",
      "text/plain": [
       "<Figure size 864x252 with 3 Axes>"
      ]
     },
     "metadata": {
      "needs_background": "light"
     },
     "output_type": "display_data"
    }
   ],
   "source": [
    "# Make a panel for thesis\n",
    "pca = PCA(n_components=3)\n",
    "fp_pca = pca.fit_transform(list(df.fp.values))\n",
    "\n",
    "pca_3d = PCA(n_components=3)\n",
    "fp_pca_3d = pca_3d.fit_transform(fps)\n",
    "\n",
    "fig = plt.figure(figsize=(12, 3.5))\n",
    "\n",
    "# 3D PCA\n",
    "ax = fig.add_subplot(1, 3, 1, projection='3d')\n",
    "ax.scatter(*fp_pca_3d.transpose(), c=c7, s=25)\n",
    "ax.set_xlabel(\"PC1\", labelpad=-5)\n",
    "ax.set_ylabel(\"PC2\", labelpad=-5)\n",
    "ax.set_zlabel(\"PC3\", labelpad=-5)\n",
    "ax.set_xlim(-1,3.5)\n",
    "ax.azim = 45\n",
    "ax.elev = 30\n",
    "ax.grid(True)\n",
    "ax.set_xticklabels([])\n",
    "ax.set_yticklabels([])\n",
    "ax.set_zticklabels([])\n",
    "\n",
    "# PC1 vs PC2\n",
    "ax = fig.add_subplot(1, 3, 2)\n",
    "ax.scatter(*fp_pca[:, 0:2].transpose(), c=c7, alpha = 0.7)\n",
    "ax.set_xlabel(\"PC1\")\n",
    "ax.set_ylabel(\"PC2\")\n",
    "ax.xaxis.set_ticks([])\n",
    "ax.yaxis.set_ticks([])\n",
    "\n",
    "# PC2 vs PC3\n",
    "ax = fig.add_subplot(1, 3, 3)\n",
    "ax.scatter(*fp_pca[:, 1:3].transpose(), c=c7, alpha = 0.7)\n",
    "ax.set_xlabel(\"PC2\")\n",
    "ax.set_ylabel(\"PC3\")\n",
    "ax.xaxis.set_ticks([])\n",
    "ax.yaxis.set_ticks([])\n",
    "\n",
    "plt.show()\n",
    "fig.savefig(p_analysis / \"pca_panel.pdf\")"
   ]
  },
  {
   "cell_type": "code",
   "execution_count": null,
   "id": "rocky-temple",
   "metadata": {},
   "outputs": [],
   "source": [
    "def animate(i):\n",
    "    ax.view_init(elev=10., azim=i)\n",
    "    return fig,\n",
    "\n",
    "# Animate\n",
    "anim = animation.FuncAnimation(fig, animate, frames=360, interval=20, blit=True)\n",
    "writergif = animation.PillowWriter(fps=30)\n",
    "anim.save(p_analysis / \"pca_3d_classes.gif\",writer=writergif)"
   ]
  }
 ],
 "metadata": {
  "kernelspec": {
   "display_name": "Python [conda env:.conda-zimmerman] *",
   "language": "python",
   "name": "conda-env-.conda-zimmerman-py"
  },
  "language_info": {
   "codemirror_mode": {
    "name": "ipython",
    "version": 3
   },
   "file_extension": ".py",
   "mimetype": "text/x-python",
   "name": "python",
   "nbconvert_exporter": "python",
   "pygments_lexer": "ipython3",
   "version": "3.8.5"
  }
 },
 "nbformat": 4,
 "nbformat_minor": 5
}
