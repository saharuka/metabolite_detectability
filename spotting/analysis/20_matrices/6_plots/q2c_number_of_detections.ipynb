{
 "cells": [
  {
   "cell_type": "markdown",
   "id": "acceptable-census",
   "metadata": {},
   "source": [
    "## This notebook creates a barplot showing how many methods detect each compound"
   ]
  },
  {
   "cell_type": "code",
   "execution_count": 1,
   "id": "level-finish",
   "metadata": {},
   "outputs": [],
   "source": [
    "from pathlib import Path\n",
    "from definitions import ROOT_DIR\n",
    "import pandas as pd\n",
    "import numpy as np\n",
    "import matplotlib.pyplot as plt\n",
    "import seaborn as sns\n",
    "from matplotlib.patches import Patch"
   ]
  },
  {
   "cell_type": "markdown",
   "id": "tracked-stopping",
   "metadata": {},
   "source": [
    "- Inputs"
   ]
  },
  {
   "cell_type": "code",
   "execution_count": 2,
   "id": "superb-arnold",
   "metadata": {},
   "outputs": [],
   "source": [
    "p_root_dir = Path(ROOT_DIR).parents[0]\n",
    "p_data = p_root_dir / \"5_data_analysis\"\n",
    "p_out = p_root_dir / \"6_plots/q2_plots/barplots\"\n",
    "\n",
    "# Compounds name and ID information\n",
    "p_compounds = p_data / \"compounds_ids.csv\"\n",
    "\n",
    "# Metrics and Catboost predictions for all ions in their target wells\n",
    "p_predictions = p_data / \"all_predictions_12-Jul-2021.csv\"\n",
    "\n",
    "# Dataset info (lab, matrix, polarity, m/z range, ids, etc.)\n",
    "p_datasets = p_data / \"datasets.csv\"\n",
    "\n",
    "# Classification\n",
    "# p_chem_class = p_data / \"custom_classification.csv\"\n",
    "# p_alt_class = p_data / \"alternative_classification.csv\"\n",
    "# p_pathways = p_data / \"pathways.csv\""
   ]
  },
  {
   "cell_type": "markdown",
   "id": "bigger-tower",
   "metadata": {},
   "source": [
    "- Load and merge predictions with dataset metadata and compound classification"
   ]
  },
  {
   "cell_type": "code",
   "execution_count": 5,
   "id": "formed-warner",
   "metadata": {},
   "outputs": [],
   "source": [
    "predictions = pd.read_csv(p_predictions, index_col=0)\n",
    "predictions.neutral_loss.fillna('', inplace=True)\n",
    "\n",
    "compounds = pd.read_csv(p_compounds, index_col='internal_id')\n",
    "# chem_class = pd.read_csv(p_chem_class, index_col='internal_id')\n",
    "# alt_class = pd.read_csv(p_alt_class, index_col='internal_id')\n",
    "# pathways = pd.read_csv(p_pathways, index_col='internal_id')\n",
    "\n",
    "# Get a subset of most relevant information from Datasets file\n",
    "datasets = pd.read_csv(p_datasets)\n",
    "datasets_info = datasets.groupby('Clone ID').first()[['Polarity', 'Matrix short', 'Matrix long']] # 'Participant lab', 'Technology'\n",
    "\n",
    "# Merge with predictions and classification\n",
    "df = pd.merge(predictions, datasets_info, left_on='dataset_id', right_on='Clone ID', how='left')\n",
    "# df = pd.merge(df, chem_class, how='left', on='name_short')\n",
    "# df = pd.merge(df, alt_class, how='left', on='name_short')\n",
    "# df = pd.merge(df, pathways, how='left', on='name_short')"
   ]
  },
  {
   "cell_type": "markdown",
   "id": "adjustable-creator",
   "metadata": {},
   "source": [
    "- Prepare data in two ways:\n",
    "    1. Sum intensities of all ion forms (adducts and neutral losses)\n",
    "    2. Sum intensities only of common adducts, but do not include any neutral losses"
   ]
  },
  {
   "cell_type": "code",
   "execution_count": 6,
   "id": "cleared-excuse",
   "metadata": {},
   "outputs": [],
   "source": [
    "# Make columns with intensities for only ion images classified as 'good'\n",
    "# For the plots below we are going to use background-corrected intensity, ie. (mean_on_spot - mean_bgr)\n",
    "df['val_twostate'] = (df.pred_twostate == 1) * df.spot_intensity_bgr_corrected\n",
    "df['val_threestate'] = (df.pred_threestate == 2) * df.spot_intensity_bgr_corrected"
   ]
  },
  {
   "cell_type": "code",
   "execution_count": 7,
   "id": "spectacular-toronto",
   "metadata": {},
   "outputs": [],
   "source": [
    "# Group full data by compound\n",
    "grouped_data = df.groupby(['Matrix short', 'Polarity', 'name_short'])\n",
    "\n",
    "agg_data = grouped_data.agg({\n",
    "#             'coarse_class' : 'first',\n",
    "#             'fine_class' : 'first',\n",
    "#             'morgan_class':'first', \n",
    "#             'hmdb_func_group_class':'first', \n",
    "#             'property_class':'first',\n",
    "#             'coarse_path' : 'first',\n",
    "#             'fine_path' : 'first',\n",
    "            'pred_twostate' : max,\n",
    "            'pred_threestate' : lambda x: 1 if max(x)==2 else 0,\n",
    "})\n",
    "# agg_data.pred\n",
    "agg_data.reset_index(inplace=True)"
   ]
  },
  {
   "cell_type": "code",
   "execution_count": 8,
   "id": "aware-spine",
   "metadata": {},
   "outputs": [],
   "source": [
    "# Group filtered data\n",
    "nl_list = ['']\n",
    "df_slim = df[df.neutral_loss.isin(nl_list)]\n",
    "\n",
    "grouped_data_slim = df_slim.groupby(['Matrix short', 'Polarity', 'name_short'])\n",
    "\n",
    "agg_data_slim = grouped_data_slim.agg({\n",
    "#             'coarse_class' : 'first',\n",
    "#             'fine_class' : 'first',\n",
    "#             'morgan_class':'first', \n",
    "#             'hmdb_func_group_class':'first', \n",
    "#             'property_class':'first',\n",
    "#             'coarse_path' : 'first',\n",
    "#             'fine_path' : 'first',\n",
    "            'pred_twostate' : max,\n",
    "            'pred_threestate' : lambda x: 1 if max(x)==2 else 0,\n",
    "})\n",
    "agg_data_slim.reset_index(inplace=True)"
   ]
  },
  {
   "cell_type": "code",
   "execution_count": 17,
   "id": "institutional-wales",
   "metadata": {},
   "outputs": [
    {
     "data": {
      "text/html": [
       "<div>\n",
       "<style scoped>\n",
       "    .dataframe tbody tr th:only-of-type {\n",
       "        vertical-align: middle;\n",
       "    }\n",
       "\n",
       "    .dataframe tbody tr th {\n",
       "        vertical-align: top;\n",
       "    }\n",
       "\n",
       "    .dataframe thead th {\n",
       "        text-align: right;\n",
       "    }\n",
       "</style>\n",
       "<table border=\"1\" class=\"dataframe\">\n",
       "  <thead>\n",
       "    <tr style=\"text-align: right;\">\n",
       "      <th></th>\n",
       "      <th>name_short</th>\n",
       "      <th>pred_twostate</th>\n",
       "      <th>pred_threestate</th>\n",
       "    </tr>\n",
       "  </thead>\n",
       "  <tbody>\n",
       "    <tr>\n",
       "      <th>0</th>\n",
       "      <td>2-Oxoglutaric acid</td>\n",
       "      <td>12</td>\n",
       "      <td>6</td>\n",
       "    </tr>\n",
       "    <tr>\n",
       "      <th>1</th>\n",
       "      <td>3-Hydroxyanthranilic acid</td>\n",
       "      <td>9</td>\n",
       "      <td>8</td>\n",
       "    </tr>\n",
       "    <tr>\n",
       "      <th>2</th>\n",
       "      <td>3-Hydroxymethylglutaric acid</td>\n",
       "      <td>7</td>\n",
       "      <td>6</td>\n",
       "    </tr>\n",
       "    <tr>\n",
       "      <th>3</th>\n",
       "      <td>3-Phosphoglyceric acid</td>\n",
       "      <td>10</td>\n",
       "      <td>10</td>\n",
       "    </tr>\n",
       "    <tr>\n",
       "      <th>4</th>\n",
       "      <td>4,5-Dihydroorotic acid</td>\n",
       "      <td>12</td>\n",
       "      <td>10</td>\n",
       "    </tr>\n",
       "    <tr>\n",
       "      <th>...</th>\n",
       "      <td>...</td>\n",
       "      <td>...</td>\n",
       "      <td>...</td>\n",
       "    </tr>\n",
       "    <tr>\n",
       "      <th>167</th>\n",
       "      <td>Xanthine</td>\n",
       "      <td>12</td>\n",
       "      <td>10</td>\n",
       "    </tr>\n",
       "    <tr>\n",
       "      <th>168</th>\n",
       "      <td>alpha-tocopherol</td>\n",
       "      <td>2</td>\n",
       "      <td>0</td>\n",
       "    </tr>\n",
       "    <tr>\n",
       "      <th>169</th>\n",
       "      <td>cis-Aconitic acid</td>\n",
       "      <td>12</td>\n",
       "      <td>5</td>\n",
       "    </tr>\n",
       "    <tr>\n",
       "      <th>170</th>\n",
       "      <td>gamma-Aminobutyric acid</td>\n",
       "      <td>9</td>\n",
       "      <td>9</td>\n",
       "    </tr>\n",
       "    <tr>\n",
       "      <th>171</th>\n",
       "      <td>myo-Inositol</td>\n",
       "      <td>9</td>\n",
       "      <td>9</td>\n",
       "    </tr>\n",
       "  </tbody>\n",
       "</table>\n",
       "<p>172 rows × 3 columns</p>\n",
       "</div>"
      ],
      "text/plain": [
       "                       name_short  pred_twostate  pred_threestate\n",
       "0              2-Oxoglutaric acid             12                6\n",
       "1       3-Hydroxyanthranilic acid              9                8\n",
       "2    3-Hydroxymethylglutaric acid              7                6\n",
       "3          3-Phosphoglyceric acid             10               10\n",
       "4          4,5-Dihydroorotic acid             12               10\n",
       "..                            ...            ...              ...\n",
       "167                      Xanthine             12               10\n",
       "168              alpha-tocopherol              2                0\n",
       "169             cis-Aconitic acid             12                5\n",
       "170       gamma-Aminobutyric acid              9                9\n",
       "171                  myo-Inositol              9                9\n",
       "\n",
       "[172 rows x 3 columns]"
      ]
     },
     "execution_count": 17,
     "metadata": {},
     "output_type": "execute_result"
    }
   ],
   "source": [
    "result"
   ]
  },
  {
   "cell_type": "code",
   "execution_count": 20,
   "id": "thousand-begin",
   "metadata": {},
   "outputs": [],
   "source": [
    "# Choose full or filtered data\n",
    "for data, data_label in zip([agg_data, agg_data_slim], ['with n.l.', 'no n.l']):\n",
    "    \n",
    "    # choose ionisation mode\n",
    "    for mode in ['pos', 'neg']:\n",
    "        data_filtered = data[data['Polarity'] == mode]\n",
    "               \n",
    "        # Choose catboost classification confidence level\n",
    "        for catboost in ['twostate', 'threestate']:\n",
    "            \n",
    "            # Assemble data\n",
    "            result = data_filtered.groupby('name_short').agg(sum).reset_index()\n",
    "            result.sort_values(f'pred_{catboost}', ascending=False, inplace=True)\n",
    "            \n",
    "            fig, ax = plt.subplots(figsize=(40,15))\n",
    "            sns.barplot(x='name_short', y=f'pred_{catboost}', data=result, ax=ax, color='k')\n",
    "            ax.set_xticklabels(ax.get_xticklabels(),rotation=90)\n",
    "            ax.set(xlabel=None, ylabel='Number of methods detecting copmpound') # hide axes labels\n",
    "            ax.set_title(f'How many methods detect each compound {data} {mode} {catboost}')\n",
    "            fig.savefig(p_out / f\"How many methods detect each compound {data_label} {mode} {catboost}.png\")\n",
    "            plt.close()"
   ]
  },
  {
   "cell_type": "code",
   "execution_count": 14,
   "id": "outdoor-round",
   "metadata": {},
   "outputs": [
    {
     "data": {
      "text/plain": [
       "WindowsPath('d:/saharuka/spotting/20_matrices_git/spotting/analysis/20_matrices/6_plots/q2_plots/barplots/barplots/How many methods detect each compound with n.l. pos twostate.png')"
      ]
     },
     "execution_count": 14,
     "metadata": {},
     "output_type": "execute_result"
    }
   ],
   "source": [
    "p_out / f\"barplots/How many methods detect each compound {data_label} {mode} {catboost}.png\""
   ]
  },
  {
   "cell_type": "code",
   "execution_count": null,
   "id": "intermediate-heading",
   "metadata": {},
   "outputs": [],
   "source": [
    "agg_data_filtered = agg_data[agg_data['Polarity'] == 'pos']\n",
    "result = agg_data_filtered.groupby('name_short').agg(sum).reset_index()\n",
    "\n",
    "result = result.sort_values('pred_threestate', ascending = False)"
   ]
  },
  {
   "cell_type": "code",
   "execution_count": null,
   "id": "terminal-technique",
   "metadata": {},
   "outputs": [],
   "source": [
    "# Choose full or filtered data\n",
    "for data, data_label in zip([agg_data, agg_data_slim], ['with n.l.', 'no n.l']):\n",
    "    \n",
    "    # Define a colour palette for chemical classes\n",
    "    lut = dict(zip(data.coarse_class.unique(), sns.hls_palette(data.coarse_class.nunique(), h=.5)))\n",
    "    my_classes = pd.Series(data.coarse_class.values, index=data.name_short).to_dict()\n",
    "       \n",
    "    # choose ionisation mode\n",
    "    for mode in ['pos', 'neg']:\n",
    "        data_filtered = data[data['Polarity'] == mode]\n",
    "               \n",
    "        # Choose catboost classification confidence level\n",
    "        for catboost in ['twostate', 'threestate']:\n",
    "            \n",
    "            # Assemble data\n",
    "            result = data_filtered.pivot(index='name_short',\n",
    "                              columns=['Matrix short'],\n",
    "                              values=f\"val_{catboost}\")\n",
    "            result = result.reindex(data_filtered.name_short.drop_duplicates())\n",
    "            result = result.fillna(0)\n",
    "            result.to_csv(p_out / \"hierarchical clustering modes separate\" / f\"data_for_seriation_{data_label}_{mode}_{catboost}.csv\")\n",
    "            \n",
    "            # Make a colour bar corresponding to compound classes\n",
    "            row_colors = result.index.map(my_classes).map(lut)\n",
    "                        \n",
    "            # Make a plot\n",
    "            g = sns.clustermap(result, metric=\"euclidean\", \n",
    "                               yticklabels=False, \n",
    "                               row_colors=row_colors,\n",
    "                               row_cluster=True, \n",
    "                               cmap=\"Blues\",\n",
    "                               vmax=5.5) # set max value of the colour bar\n",
    "                     \n",
    "            # Beautify the plot\n",
    "            ax = g.ax_heatmap # define axes\n",
    "            ax.set(xlabel=None, ylabel=None) # hide axes labels\n",
    "            g.ax_row_dendrogram.set_visible(False) # hiderow dendrogram\n",
    "            \n",
    "                # set title and give it space above the plot\n",
    "            g.fig.subplots_adjust(top=0.9, right=0.95)\n",
    "            g.fig.suptitle(f\"log10 intensities {data_label} {mode} {catboost}\") # set title\n",
    "            \n",
    "                # adjust colour bar size and location            \n",
    "            g.ax_cbar.set_position((0.96, 0.075, 0.03, 0.65)) #x, y, w, l\n",
    "            \n",
    "                # construct legend\n",
    "            handles = [Patch(facecolor=lut[name]) for name in lut]\n",
    "            plt.legend(handles, lut, title='Chemical class',\n",
    "                        bbox_to_anchor=(0.17, 0.5), bbox_transform=plt.gcf().transFigure, loc='upper right')\n",
    "\n",
    "            # Save the lot\n",
    "            g.savefig(p_out / \"hierarchical clustering modes separate\" / f\"log10 intensities {data_label} {mode} {catboost}.png\")\n",
    "            plt.close()            "
   ]
  }
 ],
 "metadata": {
  "kernelspec": {
   "display_name": "Python [conda env:.conda-zimmerman] *",
   "language": "python",
   "name": "conda-env-.conda-zimmerman-py"
  },
  "language_info": {
   "codemirror_mode": {
    "name": "ipython",
    "version": 3
   },
   "file_extension": ".py",
   "mimetype": "text/x-python",
   "name": "python",
   "nbconvert_exporter": "python",
   "pygments_lexer": "ipython3",
   "version": "3.8.5"
  }
 },
 "nbformat": 4,
 "nbformat_minor": 5
}
