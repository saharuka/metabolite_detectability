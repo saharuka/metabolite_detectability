{
 "cells": [
  {
   "cell_type": "markdown",
   "id": "acceptable-census",
   "metadata": {},
   "source": [
    "## This notebook creates intensity-matrix heatmaps"
   ]
  },
  {
   "cell_type": "code",
   "execution_count": 1,
   "id": "level-finish",
   "metadata": {},
   "outputs": [],
   "source": [
    "from pathlib import Path\n",
    "from definitions import ROOT_DIR\n",
    "import pandas as pd\n",
    "import numpy as np\n",
    "import matplotlib.pyplot as plt\n",
    "import seaborn as sns\n",
    "from matplotlib.patches import Patch"
   ]
  },
  {
   "cell_type": "markdown",
   "id": "tracked-stopping",
   "metadata": {},
   "source": [
    "- Inputs"
   ]
  },
  {
   "cell_type": "code",
   "execution_count": 2,
   "id": "superb-arnold",
   "metadata": {},
   "outputs": [],
   "source": [
    "p_root_dir = Path(ROOT_DIR).parents[0]\n",
    "p_data = p_root_dir / \"5_data_analysis\"\n",
    "p_out = p_root_dir / \"6_plots/q2_plots/heatmaps\"\n",
    "\n",
    "# Compounds name and ID information\n",
    "p_compounds = p_data / \"compounds_ids.csv\"\n",
    "\n",
    "# Metrics and Catboost predictions for all ions in their target wells\n",
    "p_predictions = p_data / \"all_predictions_12-Jul-2021.csv\"\n",
    "\n",
    "# Dataset info (lab, matrix, polarity, m/z range, ids, etc.)\n",
    "p_datasets = p_data / \"datasets.csv\"\n",
    "\n",
    "# Classification\n",
    "p_chem_class = p_data / \"custom_classification.csv\"\n",
    "p_alt_class = p_data / \"alternative_classification.csv\"\n",
    "p_pathways = p_data / \"pathways.csv\""
   ]
  },
  {
   "cell_type": "markdown",
   "id": "bigger-tower",
   "metadata": {},
   "source": [
    "- Load and merge predictions with dataset metadata and compound classification"
   ]
  },
  {
   "cell_type": "code",
   "execution_count": 3,
   "id": "formed-warner",
   "metadata": {},
   "outputs": [],
   "source": [
    "predictions = pd.read_csv(p_predictions, index_col=0)\n",
    "predictions.neutral_loss.fillna('', inplace=True)\n",
    "\n",
    "compounds = pd.read_csv(p_compounds, index_col='internal_id')\n",
    "chem_class = pd.read_csv(p_chem_class, index_col='internal_id')\n",
    "alt_class = pd.read_csv(p_alt_class, index_col='internal_id')\n",
    "pathways = pd.read_csv(p_pathways, index_col='internal_id')\n",
    "\n",
    "# Get a subset of most relevant information from Datasets file\n",
    "datasets = pd.read_csv(p_datasets)\n",
    "datasets_info = datasets.groupby('Clone ID').first()[['Polarity', 'Matrix short', 'Matrix long']] # 'Participant lab', 'Technology'\n",
    "\n",
    "# Merge with predictions and classification\n",
    "df = pd.merge(predictions, datasets_info, left_on='dataset_id', right_on='Clone ID', how='left')\n",
    "df = pd.merge(df, chem_class, how='left', on='name_short')\n",
    "df = pd.merge(df, alt_class, how='left', on='name_short')\n",
    "df = pd.merge(df, pathways, how='left', on='name_short')"
   ]
  },
  {
   "cell_type": "markdown",
   "id": "adjustable-creator",
   "metadata": {},
   "source": [
    "- Prepare data in two ways:\n",
    "    1. Sum intensities of all ion forms (adducts and neutral losses)\n",
    "    2. Sum intensities only of common adducts, but do not include any neutral losses"
   ]
  },
  {
   "cell_type": "code",
   "execution_count": 4,
   "id": "cleared-excuse",
   "metadata": {},
   "outputs": [],
   "source": [
    "# Make columns with intensities for only ion images classified as 'good'\n",
    "# For the plots below we are going to use background-corrected intensity, ie. (mean_on_spot - mean_bgr)\n",
    "df['val_twostate'] = (df.pred_twostate == 1) * df.spot_intensity_bgr_corrected\n",
    "df['val_threestate'] = (df.pred_threestate == 2) * df.spot_intensity_bgr_corrected"
   ]
  },
  {
   "cell_type": "code",
   "execution_count": 5,
   "id": "spectacular-toronto",
   "metadata": {},
   "outputs": [],
   "source": [
    "# Group full data by compound\n",
    "grouped_data = df.groupby(['Matrix short', 'Polarity', 'name_short'])\n",
    "\n",
    "agg_data = grouped_data.agg({\n",
    "            'coarse_class' : 'first',\n",
    "            'fine_class' : 'first',\n",
    "            'morgan_class':'first', \n",
    "            'hmdb_func_group_class':'first', \n",
    "            'property_class':'first',\n",
    "            'coarse_path' : 'first',\n",
    "            'fine_path' : 'first',\n",
    "            'val_twostate' : lambda x: np.log10(sum(x)+1),\n",
    "            'val_threestate' : lambda x: np.log10(sum(x)+1),\n",
    "})\n",
    "agg_data.reset_index(inplace=True)"
   ]
  },
  {
   "cell_type": "code",
   "execution_count": 6,
   "id": "aware-spine",
   "metadata": {},
   "outputs": [],
   "source": [
    "# Group filtered data\n",
    "nl_list = ['']\n",
    "df_slim = df[df.neutral_loss.isin(nl_list)]\n",
    "\n",
    "grouped_data_slim = df_slim.groupby(['Matrix short', 'Polarity', 'name_short'])\n",
    "\n",
    "agg_data_slim = grouped_data_slim.agg({\n",
    "            'coarse_class' : 'first',\n",
    "            'fine_class' : 'first',\n",
    "            'morgan_class':'first', \n",
    "            'hmdb_func_group_class':'first', \n",
    "            'property_class':'first',\n",
    "            'coarse_path' : 'first',\n",
    "            'fine_path' : 'first',\n",
    "            'val_twostate' : lambda x: np.log10(sum(x)+1),\n",
    "            'val_threestate' : lambda x: np.log10(sum(x)+1),\n",
    "})\n",
    "agg_data_slim.reset_index(inplace=True)"
   ]
  },
  {
   "cell_type": "markdown",
   "id": "amino-pillow",
   "metadata": {},
   "source": [
    "- Safety check if any compounds are missing"
   ]
  },
  {
   "cell_type": "code",
   "execution_count": 7,
   "id": "lesbian-netherlands",
   "metadata": {},
   "outputs": [],
   "source": [
    "# all_compounds = compounds[compounds.hmdb_primary != 'custom'].name_short\n",
    "# missing = all_compounds[~all_compounds.isin(agg_data_slim.name_short)]\n",
    "# if len(missing > 0):\n",
    "#     print(f\"{missing} compounds are missing results\")"
   ]
  },
  {
   "cell_type": "markdown",
   "id": "personal-thermal",
   "metadata": {},
   "source": [
    "### Part 1: Hierarchical culstering in Seaborn"
   ]
  },
  {
   "cell_type": "markdown",
   "id": "higher-posting",
   "metadata": {},
   "source": [
    "**Option 1**\n",
    "\n",
    "Make separate plots for:\n",
    "1. Full or filtered data    \n",
    "2. Ionisation mode\n",
    "3. Catboost prediction confidence level"
   ]
  },
  {
   "cell_type": "code",
   "execution_count": null,
   "id": "terminal-technique",
   "metadata": {},
   "outputs": [],
   "source": [
    "# Choose full or filtered data\n",
    "for data, data_label in zip([agg_data, agg_data_slim], ['with n.l.', 'no n.l']):\n",
    "    \n",
    "    # Define a colour palette for chemical classes\n",
    "    lut = dict(zip(data.coarse_class.unique(), sns.hls_palette(data.coarse_class.nunique(), h=.5)))\n",
    "    my_classes = pd.Series(data.coarse_class.values, index=data.name_short).to_dict()\n",
    "       \n",
    "    # choose ionisation mode\n",
    "    for mode in ['pos', 'neg']:\n",
    "        data_filtered = data[data['Polarity'] == mode]\n",
    "               \n",
    "        # Choose catboost classification confidence level\n",
    "        for catboost in ['twostate', 'threestate']:\n",
    "            \n",
    "            # Assemble data\n",
    "            result = data_filtered.pivot(index='name_short',\n",
    "                              columns=['Matrix short'],\n",
    "                              values=f\"val_{catboost}\")\n",
    "            result = result.reindex(data_filtered.name_short.drop_duplicates())\n",
    "            result = result.fillna(0)\n",
    "            result.to_csv(p_out / \"hierarchical clustering modes separate\" / f\"data_for_seriation_{data_label}_{mode}_{catboost}.csv\")\n",
    "            \n",
    "            # Make a colour bar corresponding to compound classes\n",
    "            row_colors = result.index.map(my_classes).map(lut)\n",
    "                        \n",
    "            # Make a plot\n",
    "            g = sns.clustermap(result, metric=\"euclidean\", \n",
    "                               yticklabels=False, \n",
    "                               row_colors=row_colors,\n",
    "                               row_cluster=True, \n",
    "                               cmap=\"Blues\",\n",
    "                               vmax=5.5) # set max value of the colour bar\n",
    "                     \n",
    "            # Beautify the plot\n",
    "            ax = g.ax_heatmap # define axes\n",
    "            ax.set(xlabel=None, ylabel=None) # hide axes labels\n",
    "            g.ax_row_dendrogram.set_visible(False) # hiderow dendrogram\n",
    "            \n",
    "                # set title and give it space above the plot\n",
    "            g.fig.subplots_adjust(top=0.9, right=0.95)\n",
    "            g.fig.suptitle(f\"log10 intensities {data_label} {mode} {catboost}\") # set title\n",
    "            \n",
    "                # adjust colour bar size and location            \n",
    "            g.ax_cbar.set_position((0.96, 0.075, 0.03, 0.65)) #x, y, w, l\n",
    "            \n",
    "                # construct legend\n",
    "            handles = [Patch(facecolor=lut[name]) for name in lut]\n",
    "            plt.legend(handles, lut, title='Chemical class',\n",
    "                        bbox_to_anchor=(0.17, 0.5), bbox_transform=plt.gcf().transFigure, loc='upper right')\n",
    "\n",
    "            # Save the lot\n",
    "            g.savefig(p_out / \"hierarchical clustering modes separate\" / f\"log10 intensities {data_label} {mode} {catboost}.png\")\n",
    "            plt.close()            "
   ]
  },
  {
   "cell_type": "markdown",
   "id": "crucial-briefs",
   "metadata": {},
   "source": [
    "**Option 2**\n",
    "\n",
    "Make separate plots for:\n",
    "1. Full or filtered data\n",
    "2. Catboost prediction confidence level"
   ]
  },
  {
   "cell_type": "code",
   "execution_count": null,
   "id": "nasty-investor",
   "metadata": {},
   "outputs": [],
   "source": [
    "# Choose full or filtered data\n",
    "for data, data_label in zip([agg_data, agg_data_slim], ['with n.l.', 'no n.l']):\n",
    "    \n",
    "    # Define a colour palette for chemical classes\n",
    "    lut = dict(zip(data.coarse_class.unique(), sns.hls_palette(data.coarse_class.nunique(), h=.5)))\n",
    "    lut_mode = dict(zip(['pos', 'neg'], sns.hls_palette(2, h=.5)))\n",
    "    my_classes = pd.Series(data.coarse_class.values, index=data.name_short).to_dict()\n",
    "               \n",
    "    # Choose catboost classification confidence level\n",
    "    for catboost in ['twostate', 'threestate']:\n",
    "            \n",
    "        # Assemble data\n",
    "        result = data.pivot(index='name_short',\n",
    "                              columns=['Matrix short', 'Polarity'],\n",
    "                              values=f\"val_{catboost}\")\n",
    "        result = result.reindex(data.name_short.drop_duplicates())\n",
    "        result = result.fillna(0)\n",
    "        result.to_csv(p_out / \"hierarchical clustering modes together\" / f\"data_for_seriation_{data_label}_{catboost}.csv\")\n",
    "            \n",
    "        # Make a colour bar corresponding to compound classes\n",
    "        row_colors = result.index.map(my_classes).map(lut)\n",
    "        # Make a colour bar corresponding to ionisation mode\n",
    "        col_colors = pd.Series([x[1] for x in result.columns], index=result.columns).map(lut_mode)\n",
    "                        \n",
    "        # Make a plot\n",
    "        g = sns.clustermap(result, metric=\"euclidean\", \n",
    "                               yticklabels=False, \n",
    "                               row_colors=row_colors,\n",
    "                               col_colors=col_colors,\n",
    "                               row_cluster=True, \n",
    "                               cmap=\"Blues\",\n",
    "                               vmax=5.5) # set max value of the colour bar\n",
    "                     \n",
    "        # Beautify the plot\n",
    "        ax = g.ax_heatmap # define axes\n",
    "        ax.set(xlabel=None, ylabel=None) # hide axes labels\n",
    "        g.ax_row_dendrogram.set_visible(False) # hiderow dendrogram\n",
    "            \n",
    "            # set title and give it space above the plot\n",
    "        g.fig.subplots_adjust(top=0.9, right=0.95)\n",
    "        g.fig.suptitle(f\"log10 intensities {data_label} {catboost}\") # set title\n",
    "            \n",
    "            # adjust colour bar size and location            \n",
    "        g.ax_cbar.set_position((0.96, 0.075, 0.03, 0.65)) #x, y, w, l\n",
    "            \n",
    "            # construct legend\n",
    "        handles = [Patch(facecolor=lut[name]) for name in lut]\n",
    "        plt.legend(handles, lut, title='Chemical class',\n",
    "                        bbox_to_anchor=(0.17, 0.5), bbox_transform=plt.gcf().transFigure, loc='upper right')\n",
    "        # Save the plot\n",
    "        g.savefig(p_out / \"hierarchical clustering modes together\" / f\"log10 intensities {data_label} {catboost}.png\")\n",
    "        plt.close()            "
   ]
  },
  {
   "cell_type": "markdown",
   "id": "gothic-cassette",
   "metadata": {},
   "source": [
    "### Part 2: Seriation in R"
   ]
  },
  {
   "cell_type": "markdown",
   "id": "ranging-spoke",
   "metadata": {},
   "source": [
    "- Describe the process"
   ]
  },
  {
   "cell_type": "markdown",
   "id": "fabulous-removal",
   "metadata": {},
   "source": [
    "### Part 3: Class-specific plots"
   ]
  },
  {
   "cell_type": "markdown",
   "id": "vocal-flash",
   "metadata": {},
   "source": [
    "**Option 1**\n",
    "\n",
    "Make separate plots for:\n",
    "1. Full or filtered data\n",
    "2. Chemical class\n",
    "3. Ionisation mode\n",
    "4. Catboost prediction confidence level"
   ]
  },
  {
   "cell_type": "code",
   "execution_count": 13,
   "id": "metric-monster",
   "metadata": {},
   "outputs": [],
   "source": [
    "# Choose full or filtered data\n",
    "for data, data_label in zip([agg_data, agg_data_slim], ['with n.l.', 'no n.l']):\n",
    "    \n",
    "    # sort rows\n",
    "    data.sort_values(['coarse_class', 'fine_class'], inplace=True)\n",
    "\n",
    "    for clas in data.coarse_class.unique():\n",
    "\n",
    "        data_filtered = data[data.coarse_class == clas]\n",
    "        row_order = data_filtered.name_short.drop_duplicates()\n",
    "\n",
    "        # Define colour look-up table for fine classes\n",
    "        fine_class = data_filtered.fine_class\n",
    "        lut = dict(zip(fine_class.unique(), sns.hls_palette(fine_class.nunique(), h=.5)))\n",
    "        my_classes = pd.Series(data_filtered.fine_class.values, index=data_filtered.name_short).to_dict()\n",
    "\n",
    "        for mode in ['pos', 'neg']:\n",
    "\n",
    "            data_filtered2 = data_filtered[data_filtered['Polarity'] == mode]\n",
    "\n",
    "            for catboost in ['twostate', 'threestate']:\n",
    "                result = data_filtered2.pivot(index='name_short', columns='Matrix short', values=f\"val_{catboost}\")\n",
    "                # Pivot can create pairs of compound-matrix with no data (no ion image), set these to 0\n",
    "                result = result.fillna(0)\n",
    "                # maintain sorted row order\n",
    "                result = result.reindex(row_order)\n",
    "                # Prepare vector for side colour bar\n",
    "                row_colors = result.index.map(my_classes).map(lut)\n",
    "\n",
    "                # Plot the plot\n",
    "                g = sns.clustermap(result, metric=\"euclidean\", \n",
    "                                   yticklabels=True, \n",
    "                                   row_colors=row_colors, \n",
    "                                   row_cluster=False,\n",
    "                                   col_cluster=False,\n",
    "                                   cmap=\"Blues\",\n",
    "                                   vmax=5.5)\n",
    "                \n",
    "                # Beautify the plot\n",
    "                ax = g.ax_heatmap # define axes\n",
    "                ax.set(xlabel=None, ylabel=None) # hide axes labels\n",
    "                g.ax_row_dendrogram.set_visible(False) # hiderow dendrogram\n",
    "\n",
    "                    # set title and give it space above the plot\n",
    "                g.fig.subplots_adjust(top=0.9, right=0.95)\n",
    "                g.fig.suptitle(f\"{clas} log10 intensities {mode} {data_label} {catboost}\") # set title\n",
    "\n",
    "                    # adjust colour bar size and location            \n",
    "                g.ax_cbar.set_position((0.14, 0.075, 0.03, 0.65)) #x, y, w, l\n",
    "\n",
    "                    # construct legend\n",
    "                handles = [Patch(facecolor=lut[name]) for name in lut]\n",
    "                plt.legend(handles, lut, title='Chemical class',\n",
    "                                bbox_to_anchor=(0.1, 0.5), bbox_transform=plt.gcf().transFigure, loc='upper right')\n",
    "                # Save the plot\n",
    "                g.savefig(p_out / \"heatmaps no cluster\" / f\"Heatmap class {clas} {mode} {catboost} {data_label}.png\")\n",
    "                plt.close()"
   ]
  }
 ],
 "metadata": {
  "kernelspec": {
   "display_name": "Python [conda env:.conda-zimmerman] *",
   "language": "python",
   "name": "conda-env-.conda-zimmerman-py"
  },
  "language_info": {
   "codemirror_mode": {
    "name": "ipython",
    "version": 3
   },
   "file_extension": ".py",
   "mimetype": "text/x-python",
   "name": "python",
   "nbconvert_exporter": "python",
   "pygments_lexer": "ipython3",
   "version": "3.8.5"
  }
 },
 "nbformat": 4,
 "nbformat_minor": 5
}
