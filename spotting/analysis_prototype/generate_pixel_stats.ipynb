{
 "cells": [
  {
   "cell_type": "markdown",
   "metadata": {},
   "source": [
    "# Notebook to generate pixel statistics from spotting datasets"
   ]
  },
  {
   "cell_type": "code",
   "execution_count": 1,
   "metadata": {},
   "outputs": [],
   "source": [
    "%matplotlib inline"
   ]
  },
  {
   "cell_type": "code",
   "execution_count": 2,
   "metadata": {},
   "outputs": [],
   "source": [
    "from pathlib import Path\n",
    "import numpy as np\n",
    "import pandas as pd\n",
    "from metaspace.sm_annotation_utils import SMInstance\n",
    "from getpass import getpass\n",
    "import matplotlib.pyplot as plt\n",
    "import itertools"
   ]
  },
  {
   "cell_type": "code",
   "execution_count": 14,
   "metadata": {},
   "outputs": [],
   "source": [
    "from definitions import ROOT_DIR"
   ]
  },
  {
   "cell_type": "code",
   "execution_count": 15,
   "metadata": {},
   "outputs": [
    {
     "data": {
      "text/plain": [
       "'d:\\\\saharuka\\\\spotting\\\\analysis_prototype'"
      ]
     },
     "execution_count": 15,
     "metadata": {},
     "output_type": "execute_result"
    }
   ],
   "source": [
    "ROOT_DIR"
   ]
  },
  {
   "cell_type": "markdown",
   "metadata": {},
   "source": [
    "- Provide inputs"
   ]
  },
  {
   "cell_type": "code",
   "execution_count": 17,
   "metadata": {},
   "outputs": [],
   "source": [
    "# METASPACE\n",
    "dataset_id = '2021-02-17_18h14m40s'\n",
    "database = ('Spotting_project_compounds-v9', 'feb2021')\n",
    "fdr = 0.5\n",
    "\n",
    "# Paths\n",
    "p_root_dir = Path(ROOT_DIR)\n",
    "p_test = p_root_dir  / \"testing_generate_pixel_stats\"\n",
    "p_grid = p_test / f\"Masks\\grid_masks\\\\{dataset_id}.npy\"\n",
    "p_wellmap = p_test / \"Molecules.csv\" # this is well-to-molecule mapping\n",
    "p_out = p_test / f\"{dataset_id}_bigreport.csv\"\n",
    "\n",
    "# Grid specs\n",
    "sample_wells = ([2]+list(range(10,190)))"
   ]
  },
  {
   "cell_type": "markdown",
   "metadata": {},
   "source": [
    "- Load full grid\n",
    "- Subset it to include only wells of interest"
   ]
  },
  {
   "cell_type": "code",
   "execution_count": 4,
   "metadata": {
    "scrolled": false
   },
   "outputs": [],
   "source": [
    "grid = np.load(p_grid) # from alignment tool\n",
    "\n",
    "# Remove unused wells from gridmask\n",
    "grid[~np.isin(grid, sample_wells)] = 0 \n",
    "wells = np.unique(grid)\n",
    "\n",
    "# test\n",
    "# plt.imshow(grid,vmax=1) \n",
    "# plt.show()\n",
    "# print(wells)"
   ]
  },
  {
   "cell_type": "markdown",
   "metadata": {},
   "source": [
    "- Load well to molecule mapping"
   ]
  },
  {
   "cell_type": "code",
   "execution_count": 5,
   "metadata": {
    "scrolled": false
   },
   "outputs": [],
   "source": [
    "wellmap = pd.read_csv(p_wellmap)\n",
    "\n",
    "# test\n",
    "# wellmap.head()"
   ]
  },
  {
   "cell_type": "markdown",
   "metadata": {},
   "source": [
    "- Log in to METASPACE\n",
    "- Load dataset"
   ]
  },
  {
   "cell_type": "code",
   "execution_count": 6,
   "metadata": {},
   "outputs": [
    {
     "name": "stdout",
     "output_type": "stream",
     "text": [
      "Enter your API key from https://metaspace2020.eu/user/me\n",
      "········\n"
     ]
    }
   ],
   "source": [
    "sm = SMInstance()\n",
    "if not sm.logged_in():\n",
    "    print('Enter your API key from https://metaspace2020.eu/user/me')\n",
    "    sm.login(api_key=getpass())\n",
    "else:\n",
    "    print('Already logged in')"
   ]
  },
  {
   "cell_type": "code",
   "execution_count": 7,
   "metadata": {},
   "outputs": [],
   "source": [
    "ds = sm.dataset(id = dataset_id)"
   ]
  },
  {
   "cell_type": "markdown",
   "metadata": {},
   "source": [
    "- Make a dictionary, where (formula, adduct, neutral loss) is a key and first isotope image is a value"
   ]
  },
  {
   "cell_type": "code",
   "execution_count": 8,
   "metadata": {},
   "outputs": [],
   "source": [
    "# TODO:find out what scale intensity does: https://metaspace2020.readthedocs.io/en/latest/content/apireference/sm_annotation_utils.html?highlight=.all_annotation_images#metaspace.sm_annotation_utils.SMDataset.all_annotation_images\n",
    "images = ds.all_annotation_images(fdr = fdr, \n",
    "                                  database = database, \n",
    "                                  only_first_isotope = False, # True doesn't work as expected\n",
    "                                  scale_intensity = True, \n",
    "                                  hotspot_clipping = False)\n",
    "\n",
    "images = dict( ((img.formula, img.adduct, img.neutral_loss), img[0]) for img in images )"
   ]
  },
  {
   "cell_type": "markdown",
   "metadata": {},
   "source": [
    "- Get results for the whole dataset"
   ]
  },
  {
   "cell_type": "code",
   "execution_count": 9,
   "metadata": {},
   "outputs": [],
   "source": [
    "results = ds.results(fdr = fdr,\n",
    "                     database = database,\n",
    "                     include_neutral_losses = True)\n",
    "\n",
    "# test\n",
    "# results.loc[('C5H14N4',  '+H', ''), 'msm']"
   ]
  },
  {
   "cell_type": "code",
   "execution_count": 10,
   "metadata": {},
   "outputs": [
    {
     "data": {
      "text/plain": [
       "[2800.6604, 75.69353, 54.054054054054056, 82.43422]"
      ]
     },
     "execution_count": 10,
     "metadata": {},
     "output_type": "execute_result"
    }
   ],
   "source": [
    "def statcrunch(well, formula, adduct, neutral_loss, images, grid_mask):\n",
    "    \"\"\"\n",
    "    Statcrunch does measurements on a region of an ion image. \n",
    "    Ion image defined by formula nad adduct. Region defined by grid_mask and well.\n",
    "    :returns: sum intensity, mean intensity, % occupancy, standard deviation and msm\n",
    "    \"\"\"\n",
    "    \n",
    "    spot_inds = grid_mask == well\n",
    "    pixels = images[(formula, adduct, neutral_loss)][spot_inds]\n",
    "    \n",
    "    if pixels.size == 0:\n",
    "        out_sum = 0\n",
    "        out_ave = 0\n",
    "        out_std = 0\n",
    "        out_occ = 0\n",
    "    else:\n",
    "        out_sum = np.sum(pixels) \n",
    "        out_ave = np.average(pixels) \n",
    "        out_std = np.std(pixels)\n",
    "        out_occ = (np.count_nonzero(pixels) / pixels.size) * 100 # % of pixels that have non-zero values\n",
    "\n",
    "    statvector = [out_sum, out_ave, out_occ, out_std]\n",
    "    \n",
    "    return(statvector)\n",
    "\n",
    "# test\n",
    "# statcrunch(120, 'C9H14N3O8P', \"+H\", '', images, grid)"
   ]
  },
  {
   "cell_type": "markdown",
   "metadata": {},
   "source": [
    "Generate a complete set of pixel-by-pixel info\n",
    "\n",
    "- For every image-formula-adduct triplet, calculate the following\n",
    "        - sum and average intensity of each target molecule in each well and off sample\n",
    "        - number of occupied pixels in each well and off sample\n",
    "        - standard deviation of intensities within each well\n",
    "        \n",
    "- Compile into a database indexed by image-well-formula-adduct\n",
    "          "
   ]
  },
  {
   "cell_type": "code",
   "execution_count": 11,
   "metadata": {},
   "outputs": [
    {
     "name": "stdout",
     "output_type": "stream",
     "text": [
      "80.26296019554138\n"
     ]
    }
   ],
   "source": [
    "# test\n",
    "# import time\n",
    "# start = time.time()\n",
    "\n",
    "formulas = wellmap.formula.dropna().unique()\n",
    "adductlist = ds.adducts \n",
    "neutral_losses = [''] + ds.config['isotope_generation'].get('neutral_losses', [''])\n",
    "\n",
    "addframes = []\n",
    "\n",
    "for formula, adduct, neutral_loss in list(itertools.product(formulas, adductlist, neutral_losses)):\n",
    "\n",
    "    for well in wells:\n",
    "\n",
    "        # Is this formula expected in this well?\n",
    "        targetflag = wellmap.loc[wellmap.well == well, 'formula'] == formula\n",
    "        \n",
    "        if (formula, adduct, neutral_loss) in results.index:\n",
    "            statvector = statcrunch(well, formula, adduct, neutral_loss, images, grid)\n",
    "            msm = results.loc[(formula, adduct, neutral_loss), 'msm']\n",
    "\n",
    "            addframes.append({\n",
    "                        'dataset_id': dataset_id,\n",
    "                        'well': well,\n",
    "                        'formula': formula,\n",
    "                        'adduct': adduct,\n",
    "                        'neutral_loss': neutral_loss,\n",
    "                        'sum': statvector[0],\n",
    "                        'average': statvector[1],\n",
    "                        'occupancy': statvector[2],\n",
    "                        'stdev': statvector[3],\n",
    "                        'msm': msm,\n",
    "                        'is_target': targetflag.item(),\n",
    "            })\n",
    "        else:\n",
    "            addframes.append({ \n",
    "                        'dataset_id': dataset_id,\n",
    "                        'well': well,\n",
    "                        'formula': formula,\n",
    "                        'adduct': adduct,\n",
    "                        'neutral_loss': neutral_loss,\n",
    "                        'sum': '0',\n",
    "                        'average': '0',\n",
    "                        'occupancy': '0',\n",
    "                        'stdev': '0',\n",
    "                        'msm': '0',\n",
    "                        'is_target': targetflag.item(),\n",
    "                    })\n",
    "        \n",
    "statframe = pd.DataFrame(addframes)\n",
    "\n",
    "# test\n",
    "# end = time.time()\n",
    "# print(end - start)"
   ]
  },
  {
   "cell_type": "code",
   "execution_count": 12,
   "metadata": {},
   "outputs": [],
   "source": [
    "statframe.to_csv(p_out)"
   ]
  }
 ],
 "metadata": {
  "kernelspec": {
   "display_name": "Python 3",
   "language": "python",
   "name": "python3"
  },
  "language_info": {
   "codemirror_mode": {
    "name": "ipython",
    "version": 3
   },
   "file_extension": ".py",
   "mimetype": "text/x-python",
   "name": "python",
   "nbconvert_exporter": "python",
   "pygments_lexer": "ipython3",
   "version": "3.8.5"
  }
 },
 "nbformat": 4,
 "nbformat_minor": 2
}
