{
 "cells": [
  {
   "cell_type": "markdown",
   "metadata": {},
   "source": [
    "0. [X] (For 'interlab' datasets only) Clone the datasets using clone_and_resubmit_datasets.ipynb\n",
    "1. [X] Dataset quality control with quick_dataset_qc.ipynb\n",
    "2. [ ] Recalibration\n",
    "3. [ ] Mass range stitching using concatenate_imzml_files.py\n",
    "4. [ ] Stitched dataset upload to METASPACE with adducts and neutral losses\n",
    "5. [ ] Grid fitting unig ./grid_calibration/calibration_tool.ipynb\n",
    "6. [ ] Well number to standard mapping\n",
    "7. [ ] Calculation of features per ion-standard pair, including: intensity, occupancy, ratios\n",
    "8. [ ] Ion image filtering\n",
    "9. [ ] Mapping standards and chemical classes\n",
    "10. [ ] Matrix vs chemical class analysis\n",
    "11. [ ] Selecting main peak (or theoretical peak) and computing colocalisations to other adducts/neutral losses\n",
    "12. [ ] Visualisation of colocalisation analysis"
   ]
  },
  {
   "cell_type": "markdown",
   "metadata": {},
   "source": [
    "### Step 0 - Jupyter\n",
    "- [Download Datasets.csv](https://docs.google.com/spreadsheets/d/1zR_zNkHStHy-G-nx2OwYXEe-tA-339hbSoOlr9II60Y/edit?usp=sharing)\n",
    "- Define data_of_interest filter to match datasets you want to be cloned\n",
    "- If necessary, modify databases to be annotated against, adducts and neutral losses\n",
    "- Datasets_modified.csv will be saved with added IDs for cloned datasets\n",
    "- Add this informaion back to the online version of the spreadsheet"
   ]
  },
  {
   "cell_type": "markdown",
   "metadata": {},
   "source": [
    "### Step 1 - Jupyter\n",
    "- [Download Datasets.csv](https://docs.google.com/spreadsheets/d/1zR_zNkHStHy-G-nx2OwYXEe-tA-339hbSoOlr9II60Y/edit?usp=sharing)\n",
    "- Specify path to Datasets.csv in `quick_dataset_qc.ipynb`\n",
    "- Generate plots and inspect\n",
    "    - In MSM plots, the lower the graph line, the better the matrix performance"
   ]
  },
  {
   "cell_type": "markdown",
   "metadata": {},
   "source": [
    "### Step 2 - command line (recalibration is being fixed by Lachlan atm)\n",
    "- install recalibration package \n",
    "- navigate to a folder with original imzMLs \n",
    "- recalibrate all files in the folder  \n",
    "```\n",
    "pip install msi_recal\n",
    "cd /d D:\\saharuka\\2021_04\\analysis_prototype_test_april21\\DHB\n",
    "for /f \"tokens=*\" %G in ('dir /a /b \"*.imzML\"') do python -m msi_recal %G --polarity positive\n",
    "```"
   ]
  },
  {
   "cell_type": "markdown",
   "metadata": {},
   "source": [
    "### Step 3 - command line\n",
    "- Download [concatenate_imzml_files.py](https://github.com/LachlanStuart/imzml-tools/blob/master/concatenate_imzml_files.py)\n",
    "- Concatenate pairs of files <br>`python concatenate_imzml_files.py 'file1.imzML:0-325.5' 'file2.imzML:325.5-9999' --output concatenated.imzML`"
   ]
  },
  {
   "cell_type": "code",
   "execution_count": 1,
   "metadata": {},
   "outputs": [],
   "source": [
    "# import concatenate_imzml_files\n",
    "# %run concatenate_imzml_files  '2021-02-17_15h44m30s_DHB_neg_mz70-350.imzML' '2021-02-17_18h29m11s_DHB_Neg_mz300-1510.imzML' --output concatenated.imzML"
   ]
  }
 ],
 "metadata": {
  "kernelspec": {
   "display_name": "Python [conda env:metabolite_analysis]",
   "language": "python",
   "name": "conda-env-metabolite_analysis-py"
  },
  "language_info": {
   "codemirror_mode": {
    "name": "ipython",
    "version": 3
   },
   "file_extension": ".py",
   "mimetype": "text/x-python",
   "name": "python",
   "nbconvert_exporter": "python",
   "pygments_lexer": "ipython3",
   "version": "3.7.7"
  }
 },
 "nbformat": 4,
 "nbformat_minor": 4
}
